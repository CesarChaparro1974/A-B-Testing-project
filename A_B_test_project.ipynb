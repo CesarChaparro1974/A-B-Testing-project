{
 "cells": [
  {
   "cell_type": "markdown",
   "metadata": {},
   "source": [
    "# PROJECT SPRINT 10: A/B TESTING"
   ]
  },
  {
   "cell_type": "markdown",
   "metadata": {},
   "source": [
    "### DESCRIPTION OF THE PROJECT: This is a test and analysis done for a big online store. Together with the marketing department, I received a list of hypotheses that may help boost revenue.<br>\n",
    "\n",
    "### PURPOSE OF THE TEST: **Prioritize these hypotheses, launch A/B test and analyze the results.** "
   ]
  },
  {
   "cell_type": "markdown",
   "metadata": {},
   "source": [
    "***"
   ]
  },
  {
   "cell_type": "markdown",
   "metadata": {},
   "source": [
    "### The project is divided into several parts. Each part has its own purpose and is outlined in a sequencial order so you can follow the progress to the end.<br>\n",
    "\n",
    ">### Part One: Pre-processing of the data.<br>\n",
    ">### Part Two: Check Compliances.<br>\n",
    ">### Part Three: Main KPIs (without statistical analysis).<br>\n",
    ">### Part Four: Prioritizing Hypotheses.<br>\n",
    ">### Part Five: A/B Test Analysis.<br>\n",
    ">### Part Six: Conlusions based on the A/B test results."
   ]
  },
  {
   "cell_type": "markdown",
   "metadata": {},
   "source": [
    "***"
   ]
  },
  {
   "cell_type": "markdown",
   "metadata": {},
   "source": [
    "### Description of the data:<br>\n",
    "> Hypotheses dataset:<br>\n",
    "> Hypotheses — brief descriptions of the hypotheses<br>\n",
    "> Reach — user reach, on a scale of one to ten<br>\n",
    "> Impact — impact on users, on a scale of one to ten<br>\n",
    "> Confidence — confidence in the hypothesis, on a scale of one to ten<br>\n",
    "> Effort — the resources required to test a hypothesis, on a scale of one to ten.<br>\n",
    "\n",
    "> Orders dataset:<br>\n",
    "> transactionId — order identifier<br>\n",
    "> visitorId — identifier of the user who placed the order<br>\n",
    "> date — of the order<br>\n",
    "> revenue — from the order<br>\n",
    "> group — the A/B test group that the user belongs to<br>\n",
    "\n",
    "> Visits dataset:<br>\n",
    "> date — date<br>\n",
    "> group — A/B test group<br>\n",
    "> visits — the number of visits on the date specified in the A/B test group specified"
   ]
  },
  {
   "cell_type": "markdown",
   "metadata": {},
   "source": [
    "***"
   ]
  },
  {
   "cell_type": "markdown",
   "metadata": {},
   "source": [
    "### Part One: Pre-processing the data"
   ]
  },
  {
   "cell_type": "markdown",
   "metadata": {},
   "source": [
    "#### In this part I will import libraries, check and clean the data from both datasets, and check any inconsistencies of the data that may prevent to do further actions and analysis."
   ]
  },
  {
   "cell_type": "markdown",
   "metadata": {},
   "source": [
    "**1. Libraries**"
   ]
  },
  {
   "cell_type": "code",
   "execution_count": 157,
   "metadata": {},
   "outputs": [],
   "source": [
    "# import all the necessary libraries for the whole project\n",
    "import pandas as pd\n",
    "import scipy.stats as stats # type: ignore\n",
    "import datetime as dt\n",
    "import numpy as np\n",
    "import sidetable\n",
    "import plotly.express as px"
   ]
  },
  {
   "cell_type": "markdown",
   "metadata": {},
   "source": [
    "**2. Reading the datasets and checking for missing values**"
   ]
  },
  {
   "cell_type": "code",
   "execution_count": 158,
   "metadata": {},
   "outputs": [
    {
     "data": {
      "text/html": [
       "<div>\n",
       "<style scoped>\n",
       "    .dataframe tbody tr th:only-of-type {\n",
       "        vertical-align: middle;\n",
       "    }\n",
       "\n",
       "    .dataframe tbody tr th {\n",
       "        vertical-align: top;\n",
       "    }\n",
       "\n",
       "    .dataframe thead th {\n",
       "        text-align: right;\n",
       "    }\n",
       "</style>\n",
       "<table border=\"1\" class=\"dataframe\">\n",
       "  <thead>\n",
       "    <tr style=\"text-align: right;\">\n",
       "      <th></th>\n",
       "      <th>transactionId</th>\n",
       "      <th>visitorId</th>\n",
       "      <th>date</th>\n",
       "      <th>revenue</th>\n",
       "      <th>group</th>\n",
       "    </tr>\n",
       "  </thead>\n",
       "  <tbody>\n",
       "    <tr>\n",
       "      <th>0</th>\n",
       "      <td>3667963787</td>\n",
       "      <td>3312258926</td>\n",
       "      <td>2019-08-15</td>\n",
       "      <td>30.4</td>\n",
       "      <td>B</td>\n",
       "    </tr>\n",
       "    <tr>\n",
       "      <th>1</th>\n",
       "      <td>2804400009</td>\n",
       "      <td>3642806036</td>\n",
       "      <td>2019-08-15</td>\n",
       "      <td>15.2</td>\n",
       "      <td>B</td>\n",
       "    </tr>\n",
       "    <tr>\n",
       "      <th>2</th>\n",
       "      <td>2961555356</td>\n",
       "      <td>4069496402</td>\n",
       "      <td>2019-08-15</td>\n",
       "      <td>10.2</td>\n",
       "      <td>A</td>\n",
       "    </tr>\n",
       "    <tr>\n",
       "      <th>3</th>\n",
       "      <td>3797467345</td>\n",
       "      <td>1196621759</td>\n",
       "      <td>2019-08-15</td>\n",
       "      <td>155.1</td>\n",
       "      <td>B</td>\n",
       "    </tr>\n",
       "    <tr>\n",
       "      <th>4</th>\n",
       "      <td>2282983706</td>\n",
       "      <td>2322279887</td>\n",
       "      <td>2019-08-15</td>\n",
       "      <td>40.5</td>\n",
       "      <td>B</td>\n",
       "    </tr>\n",
       "  </tbody>\n",
       "</table>\n",
       "</div>"
      ],
      "text/plain": [
       "   transactionId   visitorId       date  revenue group\n",
       "0     3667963787  3312258926 2019-08-15     30.4     B\n",
       "1     2804400009  3642806036 2019-08-15     15.2     B\n",
       "2     2961555356  4069496402 2019-08-15     10.2     A\n",
       "3     3797467345  1196621759 2019-08-15    155.1     B\n",
       "4     2282983706  2322279887 2019-08-15     40.5     B"
      ]
     },
     "execution_count": 158,
     "metadata": {},
     "output_type": "execute_result"
    }
   ],
   "source": [
    "# reading the orders csv file\n",
    "orders = pd.read_csv('/Users/cesarchaparro/Desktop/TripleTen/Sprint_10/project/orders_us.csv', parse_dates=['date'])\n",
    "orders.head()"
   ]
  },
  {
   "cell_type": "code",
   "execution_count": 159,
   "metadata": {},
   "outputs": [
    {
     "data": {
      "text/html": [
       "<style type=\"text/css\">\n",
       "</style>\n",
       "<table id=\"T_3da2c\">\n",
       "  <thead>\n",
       "    <tr>\n",
       "      <th class=\"blank level0\" >&nbsp;</th>\n",
       "      <th id=\"T_3da2c_level0_col0\" class=\"col_heading level0 col0\" >missing</th>\n",
       "      <th id=\"T_3da2c_level0_col1\" class=\"col_heading level0 col1\" >total</th>\n",
       "      <th id=\"T_3da2c_level0_col2\" class=\"col_heading level0 col2\" >percent</th>\n",
       "    </tr>\n",
       "  </thead>\n",
       "  <tbody>\n",
       "    <tr>\n",
       "      <th id=\"T_3da2c_level0_row0\" class=\"row_heading level0 row0\" >transactionId</th>\n",
       "      <td id=\"T_3da2c_row0_col0\" class=\"data row0 col0\" >0</td>\n",
       "      <td id=\"T_3da2c_row0_col1\" class=\"data row0 col1\" >1,197</td>\n",
       "      <td id=\"T_3da2c_row0_col2\" class=\"data row0 col2\" >0.00%</td>\n",
       "    </tr>\n",
       "    <tr>\n",
       "      <th id=\"T_3da2c_level0_row1\" class=\"row_heading level0 row1\" >visitorId</th>\n",
       "      <td id=\"T_3da2c_row1_col0\" class=\"data row1 col0\" >0</td>\n",
       "      <td id=\"T_3da2c_row1_col1\" class=\"data row1 col1\" >1,197</td>\n",
       "      <td id=\"T_3da2c_row1_col2\" class=\"data row1 col2\" >0.00%</td>\n",
       "    </tr>\n",
       "    <tr>\n",
       "      <th id=\"T_3da2c_level0_row2\" class=\"row_heading level0 row2\" >date</th>\n",
       "      <td id=\"T_3da2c_row2_col0\" class=\"data row2 col0\" >0</td>\n",
       "      <td id=\"T_3da2c_row2_col1\" class=\"data row2 col1\" >1,197</td>\n",
       "      <td id=\"T_3da2c_row2_col2\" class=\"data row2 col2\" >0.00%</td>\n",
       "    </tr>\n",
       "    <tr>\n",
       "      <th id=\"T_3da2c_level0_row3\" class=\"row_heading level0 row3\" >revenue</th>\n",
       "      <td id=\"T_3da2c_row3_col0\" class=\"data row3 col0\" >0</td>\n",
       "      <td id=\"T_3da2c_row3_col1\" class=\"data row3 col1\" >1,197</td>\n",
       "      <td id=\"T_3da2c_row3_col2\" class=\"data row3 col2\" >0.00%</td>\n",
       "    </tr>\n",
       "    <tr>\n",
       "      <th id=\"T_3da2c_level0_row4\" class=\"row_heading level0 row4\" >group</th>\n",
       "      <td id=\"T_3da2c_row4_col0\" class=\"data row4 col0\" >0</td>\n",
       "      <td id=\"T_3da2c_row4_col1\" class=\"data row4 col1\" >1,197</td>\n",
       "      <td id=\"T_3da2c_row4_col2\" class=\"data row4 col2\" >0.00%</td>\n",
       "    </tr>\n",
       "  </tbody>\n",
       "</table>\n"
      ],
      "text/plain": [
       "<pandas.io.formats.style.Styler at 0x13dc2ba90>"
      ]
     },
     "execution_count": 159,
     "metadata": {},
     "output_type": "execute_result"
    }
   ],
   "source": [
    "# info about the dataframe\n",
    "orders.stb.missing(style=True)"
   ]
  },
  {
   "cell_type": "markdown",
   "metadata": {},
   "source": [
    "* We can see that there are 1197 rows and no missing vallues."
   ]
  },
  {
   "cell_type": "code",
   "execution_count": 160,
   "metadata": {},
   "outputs": [
    {
     "data": {
      "text/html": [
       "<div>\n",
       "<style scoped>\n",
       "    .dataframe tbody tr th:only-of-type {\n",
       "        vertical-align: middle;\n",
       "    }\n",
       "\n",
       "    .dataframe tbody tr th {\n",
       "        vertical-align: top;\n",
       "    }\n",
       "\n",
       "    .dataframe thead th {\n",
       "        text-align: right;\n",
       "    }\n",
       "</style>\n",
       "<table border=\"1\" class=\"dataframe\">\n",
       "  <thead>\n",
       "    <tr style=\"text-align: right;\">\n",
       "      <th></th>\n",
       "      <th>date</th>\n",
       "      <th>group</th>\n",
       "      <th>visits</th>\n",
       "    </tr>\n",
       "  </thead>\n",
       "  <tbody>\n",
       "    <tr>\n",
       "      <th>0</th>\n",
       "      <td>2019-08-01</td>\n",
       "      <td>A</td>\n",
       "      <td>719</td>\n",
       "    </tr>\n",
       "    <tr>\n",
       "      <th>1</th>\n",
       "      <td>2019-08-02</td>\n",
       "      <td>A</td>\n",
       "      <td>619</td>\n",
       "    </tr>\n",
       "    <tr>\n",
       "      <th>2</th>\n",
       "      <td>2019-08-03</td>\n",
       "      <td>A</td>\n",
       "      <td>507</td>\n",
       "    </tr>\n",
       "    <tr>\n",
       "      <th>3</th>\n",
       "      <td>2019-08-04</td>\n",
       "      <td>A</td>\n",
       "      <td>717</td>\n",
       "    </tr>\n",
       "    <tr>\n",
       "      <th>4</th>\n",
       "      <td>2019-08-05</td>\n",
       "      <td>A</td>\n",
       "      <td>756</td>\n",
       "    </tr>\n",
       "  </tbody>\n",
       "</table>\n",
       "</div>"
      ],
      "text/plain": [
       "        date group  visits\n",
       "0 2019-08-01     A     719\n",
       "1 2019-08-02     A     619\n",
       "2 2019-08-03     A     507\n",
       "3 2019-08-04     A     717\n",
       "4 2019-08-05     A     756"
      ]
     },
     "execution_count": 160,
     "metadata": {},
     "output_type": "execute_result"
    }
   ],
   "source": [
    "# reading the visits csv file\n",
    "visits = pd.read_csv('/Users/cesarchaparro/Desktop/TripleTen/Sprint_10/project/visits_us.csv', parse_dates=['date'])\n",
    "visits.head()"
   ]
  },
  {
   "cell_type": "code",
   "execution_count": 161,
   "metadata": {},
   "outputs": [
    {
     "data": {
      "text/html": [
       "<style type=\"text/css\">\n",
       "</style>\n",
       "<table id=\"T_d274c\">\n",
       "  <thead>\n",
       "    <tr>\n",
       "      <th class=\"blank level0\" >&nbsp;</th>\n",
       "      <th id=\"T_d274c_level0_col0\" class=\"col_heading level0 col0\" >missing</th>\n",
       "      <th id=\"T_d274c_level0_col1\" class=\"col_heading level0 col1\" >total</th>\n",
       "      <th id=\"T_d274c_level0_col2\" class=\"col_heading level0 col2\" >percent</th>\n",
       "    </tr>\n",
       "  </thead>\n",
       "  <tbody>\n",
       "    <tr>\n",
       "      <th id=\"T_d274c_level0_row0\" class=\"row_heading level0 row0\" >date</th>\n",
       "      <td id=\"T_d274c_row0_col0\" class=\"data row0 col0\" >0</td>\n",
       "      <td id=\"T_d274c_row0_col1\" class=\"data row0 col1\" >62</td>\n",
       "      <td id=\"T_d274c_row0_col2\" class=\"data row0 col2\" >0.00%</td>\n",
       "    </tr>\n",
       "    <tr>\n",
       "      <th id=\"T_d274c_level0_row1\" class=\"row_heading level0 row1\" >group</th>\n",
       "      <td id=\"T_d274c_row1_col0\" class=\"data row1 col0\" >0</td>\n",
       "      <td id=\"T_d274c_row1_col1\" class=\"data row1 col1\" >62</td>\n",
       "      <td id=\"T_d274c_row1_col2\" class=\"data row1 col2\" >0.00%</td>\n",
       "    </tr>\n",
       "    <tr>\n",
       "      <th id=\"T_d274c_level0_row2\" class=\"row_heading level0 row2\" >visits</th>\n",
       "      <td id=\"T_d274c_row2_col0\" class=\"data row2 col0\" >0</td>\n",
       "      <td id=\"T_d274c_row2_col1\" class=\"data row2 col1\" >62</td>\n",
       "      <td id=\"T_d274c_row2_col2\" class=\"data row2 col2\" >0.00%</td>\n",
       "    </tr>\n",
       "  </tbody>\n",
       "</table>\n"
      ],
      "text/plain": [
       "<pandas.io.formats.style.Styler at 0x13db92650>"
      ]
     },
     "execution_count": 161,
     "metadata": {},
     "output_type": "execute_result"
    }
   ],
   "source": [
    "# info about the visits dataframe\n",
    "visits.stb.missing(style=True)"
   ]
  },
  {
   "cell_type": "markdown",
   "metadata": {},
   "source": [
    "* We can see that there are 62 rows and no missing values."
   ]
  },
  {
   "cell_type": "markdown",
   "metadata": {},
   "source": [
    "**3. Optimization of memory of the datasets**"
   ]
  },
  {
   "cell_type": "code",
   "execution_count": 162,
   "metadata": {},
   "outputs": [
    {
     "name": "stdout",
     "output_type": "stream",
     "text": [
      "<class 'pandas.core.frame.DataFrame'>\n",
      "RangeIndex: 1197 entries, 0 to 1196\n",
      "Data columns (total 5 columns):\n",
      " #   Column         Non-Null Count  Dtype         \n",
      "---  ------         --------------  -----         \n",
      " 0   transactionId  1197 non-null   int64         \n",
      " 1   visitorId      1197 non-null   int64         \n",
      " 2   date           1197 non-null   datetime64[ns]\n",
      " 3   revenue        1197 non-null   float64       \n",
      " 4   group          1197 non-null   object        \n",
      "dtypes: datetime64[ns](1), float64(1), int64(2), object(1)\n",
      "memory usage: 105.3 KB\n"
     ]
    }
   ],
   "source": [
    "# info about the orders dataset\n",
    "orders.info(memory_usage = 'deep')"
   ]
  },
  {
   "cell_type": "code",
   "execution_count": 163,
   "metadata": {},
   "outputs": [],
   "source": [
    "# use category method to change the type of data on the column.\n",
    "orders['group'] = orders['group'].astype('category')"
   ]
  },
  {
   "cell_type": "code",
   "execution_count": 164,
   "metadata": {},
   "outputs": [
    {
     "name": "stdout",
     "output_type": "stream",
     "text": [
      "<class 'pandas.core.frame.DataFrame'>\n",
      "RangeIndex: 1197 entries, 0 to 1196\n",
      "Data columns (total 5 columns):\n",
      " #   Column         Non-Null Count  Dtype         \n",
      "---  ------         --------------  -----         \n",
      " 0   transactionId  1197 non-null   int64         \n",
      " 1   visitorId      1197 non-null   int64         \n",
      " 2   date           1197 non-null   datetime64[ns]\n",
      " 3   revenue        1197 non-null   float64       \n",
      " 4   group          1197 non-null   category      \n",
      "dtypes: category(1), datetime64[ns](1), float64(1), int64(2)\n",
      "memory usage: 38.9 KB\n"
     ]
    }
   ],
   "source": [
    "# check how optimized became the dataframe of visits.\n",
    "orders.info(memory_usage='deep')"
   ]
  },
  {
   "cell_type": "markdown",
   "metadata": {},
   "source": [
    "* We can see that we optimized the size of the file from 105.3 KB to 38.9 KB."
   ]
  },
  {
   "cell_type": "code",
   "execution_count": 165,
   "metadata": {},
   "outputs": [
    {
     "name": "stdout",
     "output_type": "stream",
     "text": [
      "<class 'pandas.core.frame.DataFrame'>\n",
      "RangeIndex: 62 entries, 0 to 61\n",
      "Data columns (total 3 columns):\n",
      " #   Column  Non-Null Count  Dtype         \n",
      "---  ------  --------------  -----         \n",
      " 0   date    62 non-null     datetime64[ns]\n",
      " 1   group   62 non-null     object        \n",
      " 2   visits  62 non-null     int64         \n",
      "dtypes: datetime64[ns](1), int64(1), object(1)\n",
      "memory usage: 4.6 KB\n"
     ]
    }
   ],
   "source": [
    "# info about the visits dataset\n",
    "visits.info(memory_usage = 'deep')"
   ]
  },
  {
   "cell_type": "code",
   "execution_count": 166,
   "metadata": {},
   "outputs": [],
   "source": [
    "# use category method to change the type of data on the column.\n",
    "visits['group'] = visits['group'].astype('category')"
   ]
  },
  {
   "cell_type": "code",
   "execution_count": 167,
   "metadata": {},
   "outputs": [
    {
     "name": "stdout",
     "output_type": "stream",
     "text": [
      "<class 'pandas.core.frame.DataFrame'>\n",
      "RangeIndex: 62 entries, 0 to 61\n",
      "Data columns (total 3 columns):\n",
      " #   Column  Non-Null Count  Dtype         \n",
      "---  ------  --------------  -----         \n",
      " 0   date    62 non-null     datetime64[ns]\n",
      " 1   group   62 non-null     category      \n",
      " 2   visits  62 non-null     int64         \n",
      "dtypes: category(1), datetime64[ns](1), int64(1)\n",
      "memory usage: 1.4 KB\n"
     ]
    }
   ],
   "source": [
    "# check how optimized became the dataframe of visits.\n",
    "visits.info(memory_usage='deep')"
   ]
  },
  {
   "cell_type": "markdown",
   "metadata": {},
   "source": [
    "* We can see that we optimized the size of the file from 4.6 KB to 1.4 KB."
   ]
  },
  {
   "cell_type": "code",
   "execution_count": 168,
   "metadata": {},
   "outputs": [
    {
     "name": "stdout",
     "output_type": "stream",
     "text": [
      "No duplicate rows found.\n"
     ]
    }
   ],
   "source": [
    "# checking for duplicates on column of transactions\n",
    "duplicates = orders['transactionId'].duplicated().sum()\n",
    "if duplicates > 0:\n",
    "  print(f'There are {duplicates} duplicate rows in the DataFrame.')\n",
    "else:\n",
    "  print('No duplicate rows found.')"
   ]
  },
  {
   "cell_type": "markdown",
   "metadata": {},
   "source": [
    "* We can see that there are no duplicated transactions on the dataframe."
   ]
  },
  {
   "cell_type": "code",
   "execution_count": 169,
   "metadata": {},
   "outputs": [
    {
     "name": "stderr",
     "output_type": "stream",
     "text": [
      "/var/folders/qk/q0fv26q13m760q3ch0fljs240000gn/T/ipykernel_23851/2116287157.py:2: FutureWarning:\n",
      "\n",
      "The default of observed=False is deprecated and will be changed to True in a future version of pandas. Pass observed=False to retain current behavior or observed=True to adopt the future default and silence this warning.\n",
      "\n"
     ]
    },
    {
     "data": {
      "text/html": [
       "<div>\n",
       "<style scoped>\n",
       "    .dataframe tbody tr th:only-of-type {\n",
       "        vertical-align: middle;\n",
       "    }\n",
       "\n",
       "    .dataframe tbody tr th {\n",
       "        vertical-align: top;\n",
       "    }\n",
       "\n",
       "    .dataframe thead th {\n",
       "        text-align: right;\n",
       "    }\n",
       "</style>\n",
       "<table border=\"1\" class=\"dataframe\">\n",
       "  <thead>\n",
       "    <tr style=\"text-align: right;\">\n",
       "      <th></th>\n",
       "      <th>min</th>\n",
       "      <th>max</th>\n",
       "    </tr>\n",
       "    <tr>\n",
       "      <th>group</th>\n",
       "      <th></th>\n",
       "      <th></th>\n",
       "    </tr>\n",
       "  </thead>\n",
       "  <tbody>\n",
       "    <tr>\n",
       "      <th>A</th>\n",
       "      <td>2019-08-01</td>\n",
       "      <td>2019-08-31</td>\n",
       "    </tr>\n",
       "    <tr>\n",
       "      <th>B</th>\n",
       "      <td>2019-08-01</td>\n",
       "      <td>2019-08-31</td>\n",
       "    </tr>\n",
       "  </tbody>\n",
       "</table>\n",
       "</div>"
      ],
      "text/plain": [
       "             min        max\n",
       "group                      \n",
       "A     2019-08-01 2019-08-31\n",
       "B     2019-08-01 2019-08-31"
      ]
     },
     "execution_count": 169,
     "metadata": {},
     "output_type": "execute_result"
    }
   ],
   "source": [
    "# group by test group and see when start and when ends the test\n",
    "orders.groupby(['group'])['date'].agg(['min','max'])"
   ]
  },
  {
   "cell_type": "markdown",
   "metadata": {},
   "source": [
    "* We can see that both orders and visits dataframes have same start and end dates."
   ]
  },
  {
   "cell_type": "markdown",
   "metadata": {},
   "source": [
    "***"
   ]
  },
  {
   "cell_type": "markdown",
   "metadata": {},
   "source": [
    "### Part Two: Check compliances"
   ]
  },
  {
   "cell_type": "markdown",
   "metadata": {},
   "source": [
    "#### In this part I will go through all the technical requirements that need to be fulfilled in order to perform a correct test."
   ]
  },
  {
   "cell_type": "code",
   "execution_count": 170,
   "metadata": {},
   "outputs": [
    {
     "name": "stderr",
     "output_type": "stream",
     "text": [
      "/var/folders/qk/q0fv26q13m760q3ch0fljs240000gn/T/ipykernel_23851/438316085.py:2: FutureWarning:\n",
      "\n",
      "The default of observed=False is deprecated and will be changed to True in a future version of pandas. Pass observed=False to retain current behavior or observed=True to adopt the future default and silence this warning.\n",
      "\n"
     ]
    },
    {
     "data": {
      "text/plain": [
       "group\n",
       "A    503\n",
       "B    586\n",
       "Name: visitorId, dtype: int64"
      ]
     },
     "execution_count": 170,
     "metadata": {},
     "output_type": "execute_result"
    }
   ],
   "source": [
    "# group by group to see how many users on each group\n",
    "orders.groupby(['group'])['visitorId'].nunique()"
   ]
  },
  {
   "cell_type": "markdown",
   "metadata": {},
   "source": [
    "* We can see there is not an even split of the groups, I will check if there are users that are included on both groups by error on the next step."
   ]
  },
  {
   "cell_type": "code",
   "execution_count": 171,
   "metadata": {},
   "outputs": [
    {
     "data": {
      "text/plain": [
       "[8300375,\n",
       " 199603092,\n",
       " 232979603,\n",
       " 237748145,\n",
       " 276558944,\n",
       " 351125977,\n",
       " 393266494,\n",
       " 457167155,\n",
       " 471551937,\n",
       " 477780734,\n",
       " 818047933,\n",
       " 963407295,\n",
       " 1230306981,\n",
       " 1294878855,\n",
       " 1316129916,\n",
       " 1333886533,\n",
       " 1404934699,\n",
       " 1602967004,\n",
       " 1614305549,\n",
       " 1648269707,\n",
       " 1668030113,\n",
       " 1738359350,\n",
       " 1801183820,\n",
       " 1959144690,\n",
       " 2038680547,\n",
       " 2044997962,\n",
       " 2378935119,\n",
       " 2458001652,\n",
       " 2579882178,\n",
       " 2587333274,\n",
       " 2600415354,\n",
       " 2654030115,\n",
       " 2686716486,\n",
       " 2712142231,\n",
       " 2716752286,\n",
       " 2780786433,\n",
       " 2927087541,\n",
       " 2949041841,\n",
       " 2954449915,\n",
       " 3062433592,\n",
       " 3202540741,\n",
       " 3234906277,\n",
       " 3656415546,\n",
       " 3717692402,\n",
       " 3766097110,\n",
       " 3803269165,\n",
       " 3891541246,\n",
       " 3941795274,\n",
       " 3951559397,\n",
       " 3957174400,\n",
       " 3963646447,\n",
       " 3972127743,\n",
       " 3984495233,\n",
       " 4069496402,\n",
       " 4120364173,\n",
       " 4186807279,\n",
       " 4256040402,\n",
       " 4266935830]"
      ]
     },
     "execution_count": 171,
     "metadata": {},
     "output_type": "execute_result"
    }
   ],
   "source": [
    "# pylint: disable=missing-final-newline\n",
    "# users in both groups\n",
    "both_groups = list(orders.groupby(['visitorId'])['group'].nunique().reset_index().query('group > 1')['visitorId'])\n",
    "both_groups"
   ]
  },
  {
   "cell_type": "code",
   "execution_count": 172,
   "metadata": {},
   "outputs": [
    {
     "data": {
      "text/html": [
       "<div>\n",
       "<style scoped>\n",
       "    .dataframe tbody tr th:only-of-type {\n",
       "        vertical-align: middle;\n",
       "    }\n",
       "\n",
       "    .dataframe tbody tr th {\n",
       "        vertical-align: top;\n",
       "    }\n",
       "\n",
       "    .dataframe thead th {\n",
       "        text-align: right;\n",
       "    }\n",
       "</style>\n",
       "<table border=\"1\" class=\"dataframe\">\n",
       "  <thead>\n",
       "    <tr style=\"text-align: right;\">\n",
       "      <th></th>\n",
       "      <th>transactionId</th>\n",
       "      <th>visitorId</th>\n",
       "      <th>date</th>\n",
       "      <th>revenue</th>\n",
       "      <th>group</th>\n",
       "    </tr>\n",
       "  </thead>\n",
       "  <tbody>\n",
       "    <tr>\n",
       "      <th>0</th>\n",
       "      <td>3667963787</td>\n",
       "      <td>3312258926</td>\n",
       "      <td>2019-08-15</td>\n",
       "      <td>30.4</td>\n",
       "      <td>B</td>\n",
       "    </tr>\n",
       "    <tr>\n",
       "      <th>1</th>\n",
       "      <td>2804400009</td>\n",
       "      <td>3642806036</td>\n",
       "      <td>2019-08-15</td>\n",
       "      <td>15.2</td>\n",
       "      <td>B</td>\n",
       "    </tr>\n",
       "    <tr>\n",
       "      <th>3</th>\n",
       "      <td>3797467345</td>\n",
       "      <td>1196621759</td>\n",
       "      <td>2019-08-15</td>\n",
       "      <td>155.1</td>\n",
       "      <td>B</td>\n",
       "    </tr>\n",
       "    <tr>\n",
       "      <th>4</th>\n",
       "      <td>2282983706</td>\n",
       "      <td>2322279887</td>\n",
       "      <td>2019-08-15</td>\n",
       "      <td>40.5</td>\n",
       "      <td>B</td>\n",
       "    </tr>\n",
       "    <tr>\n",
       "      <th>5</th>\n",
       "      <td>182168103</td>\n",
       "      <td>935554773</td>\n",
       "      <td>2019-08-15</td>\n",
       "      <td>35.0</td>\n",
       "      <td>B</td>\n",
       "    </tr>\n",
       "    <tr>\n",
       "      <th>...</th>\n",
       "      <td>...</td>\n",
       "      <td>...</td>\n",
       "      <td>...</td>\n",
       "      <td>...</td>\n",
       "      <td>...</td>\n",
       "    </tr>\n",
       "    <tr>\n",
       "      <th>1191</th>\n",
       "      <td>3592955527</td>\n",
       "      <td>608641596</td>\n",
       "      <td>2019-08-14</td>\n",
       "      <td>255.7</td>\n",
       "      <td>B</td>\n",
       "    </tr>\n",
       "    <tr>\n",
       "      <th>1192</th>\n",
       "      <td>2662137336</td>\n",
       "      <td>3733762160</td>\n",
       "      <td>2019-08-14</td>\n",
       "      <td>100.8</td>\n",
       "      <td>B</td>\n",
       "    </tr>\n",
       "    <tr>\n",
       "      <th>1193</th>\n",
       "      <td>2203539145</td>\n",
       "      <td>370388673</td>\n",
       "      <td>2019-08-14</td>\n",
       "      <td>50.1</td>\n",
       "      <td>A</td>\n",
       "    </tr>\n",
       "    <tr>\n",
       "      <th>1194</th>\n",
       "      <td>1807773912</td>\n",
       "      <td>573423106</td>\n",
       "      <td>2019-08-14</td>\n",
       "      <td>165.3</td>\n",
       "      <td>A</td>\n",
       "    </tr>\n",
       "    <tr>\n",
       "      <th>1196</th>\n",
       "      <td>3936777065</td>\n",
       "      <td>2108080724</td>\n",
       "      <td>2019-08-15</td>\n",
       "      <td>3120.1</td>\n",
       "      <td>B</td>\n",
       "    </tr>\n",
       "  </tbody>\n",
       "</table>\n",
       "<p>1016 rows × 5 columns</p>\n",
       "</div>"
      ],
      "text/plain": [
       "      transactionId   visitorId       date  revenue group\n",
       "0        3667963787  3312258926 2019-08-15     30.4     B\n",
       "1        2804400009  3642806036 2019-08-15     15.2     B\n",
       "3        3797467345  1196621759 2019-08-15    155.1     B\n",
       "4        2282983706  2322279887 2019-08-15     40.5     B\n",
       "5         182168103   935554773 2019-08-15     35.0     B\n",
       "...             ...         ...        ...      ...   ...\n",
       "1191     3592955527   608641596 2019-08-14    255.7     B\n",
       "1192     2662137336  3733762160 2019-08-14    100.8     B\n",
       "1193     2203539145   370388673 2019-08-14     50.1     A\n",
       "1194     1807773912   573423106 2019-08-14    165.3     A\n",
       "1196     3936777065  2108080724 2019-08-15   3120.1     B\n",
       "\n",
       "[1016 rows x 5 columns]"
      ]
     },
     "execution_count": 172,
     "metadata": {},
     "output_type": "execute_result"
    }
   ],
   "source": [
    "# not in both groups\n",
    "clean_orders = orders[(orders.visitorId.apply(lambda x: x not in both_groups))]\n",
    "clean_orders"
   ]
  },
  {
   "cell_type": "markdown",
   "metadata": {},
   "source": [
    "* We can see now that the clean list of users which is valid for the test is the users that are only participating in one version of the test."
   ]
  },
  {
   "cell_type": "code",
   "execution_count": 173,
   "metadata": {},
   "outputs": [
    {
     "name": "stderr",
     "output_type": "stream",
     "text": [
      "/var/folders/qk/q0fv26q13m760q3ch0fljs240000gn/T/ipykernel_23851/235635674.py:2: FutureWarning:\n",
      "\n",
      "The default of observed=False is deprecated and will be changed to True in a future version of pandas. Pass observed=False to retain current behavior or observed=True to adopt the future default and silence this warning.\n",
      "\n"
     ]
    },
    {
     "data": {
      "text/plain": [
       "group\n",
       "A    445\n",
       "B    528\n",
       "Name: visitorId, dtype: int64"
      ]
     },
     "execution_count": 173,
     "metadata": {},
     "output_type": "execute_result"
    }
   ],
   "source": [
    "# group by group to see how many users on each group\n",
    "clean_orders.groupby(['group'])['visitorId'].nunique()"
   ]
  },
  {
   "cell_type": "markdown",
   "metadata": {},
   "source": [
    "* We can see that there is an uneven number of users that take part of group A and B to do the test. The difference is quite significant to continue correctly the test."
   ]
  },
  {
   "cell_type": "code",
   "execution_count": 174,
   "metadata": {},
   "outputs": [
    {
     "data": {
      "text/plain": [
       "0"
      ]
     },
     "execution_count": 174,
     "metadata": {},
     "output_type": "execute_result"
    }
   ],
   "source": [
    "# double checking if there are still users on both groups\n",
    "(clean_orders.groupby(['visitorId'])['group'].nunique()>1).sum()"
   ]
  },
  {
   "cell_type": "markdown",
   "metadata": {},
   "source": [
    "* We can see that now each user if participiating only in one only version of the test. The rest of users were dropped from the test."
   ]
  },
  {
   "cell_type": "markdown",
   "metadata": {},
   "source": [
    "#### Note: We don't have data on this data sets about the existence of any marketing events during this period of August, neither the existence of special promotions or holidays. Therefore, we infer that the planned dates for the test are normal dates that retrieve a usual user behavior."
   ]
  },
  {
   "cell_type": "markdown",
   "metadata": {},
   "source": [
    "* We can also infer that there is not existence of ghosts users on the data set, users that are registered but don't take part on any of the versions of the test. I can see that from the missing values and the columns earlier on the datasets information."
   ]
  },
  {
   "cell_type": "markdown",
   "metadata": {},
   "source": [
    "***"
   ]
  },
  {
   "cell_type": "markdown",
   "metadata": {},
   "source": [
    "### Part Three: KPIs"
   ]
  },
  {
   "cell_type": "code",
   "execution_count": 175,
   "metadata": {},
   "outputs": [
    {
     "data": {
      "text/html": [
       "<div>\n",
       "<style scoped>\n",
       "    .dataframe tbody tr th:only-of-type {\n",
       "        vertical-align: middle;\n",
       "    }\n",
       "\n",
       "    .dataframe tbody tr th {\n",
       "        vertical-align: top;\n",
       "    }\n",
       "\n",
       "    .dataframe thead th {\n",
       "        text-align: right;\n",
       "    }\n",
       "</style>\n",
       "<table border=\"1\" class=\"dataframe\">\n",
       "  <thead>\n",
       "    <tr style=\"text-align: right;\">\n",
       "      <th></th>\n",
       "      <th>visitorId</th>\n",
       "      <th>revenue</th>\n",
       "    </tr>\n",
       "  </thead>\n",
       "  <tbody>\n",
       "    <tr>\n",
       "      <th>0</th>\n",
       "      <td>5114589</td>\n",
       "      <td>10.8</td>\n",
       "    </tr>\n",
       "    <tr>\n",
       "      <th>1</th>\n",
       "      <td>6958315</td>\n",
       "      <td>25.9</td>\n",
       "    </tr>\n",
       "    <tr>\n",
       "      <th>2</th>\n",
       "      <td>11685486</td>\n",
       "      <td>100.4</td>\n",
       "    </tr>\n",
       "    <tr>\n",
       "      <th>3</th>\n",
       "      <td>39475350</td>\n",
       "      <td>65.4</td>\n",
       "    </tr>\n",
       "    <tr>\n",
       "      <th>4</th>\n",
       "      <td>47206413</td>\n",
       "      <td>15.2</td>\n",
       "    </tr>\n",
       "    <tr>\n",
       "      <th>...</th>\n",
       "      <td>...</td>\n",
       "      <td>...</td>\n",
       "    </tr>\n",
       "    <tr>\n",
       "      <th>968</th>\n",
       "      <td>4259830713</td>\n",
       "      <td>50.1</td>\n",
       "    </tr>\n",
       "    <tr>\n",
       "      <th>969</th>\n",
       "      <td>4278982564</td>\n",
       "      <td>385.7</td>\n",
       "    </tr>\n",
       "    <tr>\n",
       "      <th>970</th>\n",
       "      <td>4279090005</td>\n",
       "      <td>105.3</td>\n",
       "    </tr>\n",
       "    <tr>\n",
       "      <th>971</th>\n",
       "      <td>4281247801</td>\n",
       "      <td>45.6</td>\n",
       "    </tr>\n",
       "    <tr>\n",
       "      <th>972</th>\n",
       "      <td>4283872382</td>\n",
       "      <td>60.6</td>\n",
       "    </tr>\n",
       "  </tbody>\n",
       "</table>\n",
       "<p>973 rows × 2 columns</p>\n",
       "</div>"
      ],
      "text/plain": [
       "      visitorId  revenue\n",
       "0       5114589     10.8\n",
       "1       6958315     25.9\n",
       "2      11685486    100.4\n",
       "3      39475350     65.4\n",
       "4      47206413     15.2\n",
       "..          ...      ...\n",
       "968  4259830713     50.1\n",
       "969  4278982564    385.7\n",
       "970  4279090005    105.3\n",
       "971  4281247801     45.6\n",
       "972  4283872382     60.6\n",
       "\n",
       "[973 rows x 2 columns]"
      ]
     },
     "execution_count": 175,
     "metadata": {},
     "output_type": "execute_result"
    }
   ],
   "source": [
    "# revenue per user\n",
    "revenue_per_user = clean_orders.groupby(['visitorId'])['revenue'].sum().reset_index()\n",
    "revenue_per_user.columns = ['visitorId', 'revenue']\n",
    "revenue_per_user"
   ]
  },
  {
   "cell_type": "code",
   "execution_count": 176,
   "metadata": {},
   "outputs": [
    {
     "data": {
      "text/plain": [
       "count      973.000000\n",
       "mean       136.550051\n",
       "std        663.321828\n",
       "min          5.000000\n",
       "25%         20.800000\n",
       "50%         50.400000\n",
       "75%        135.200000\n",
       "max      19920.400000\n",
       "Name: revenue, dtype: float64"
      ]
     },
     "execution_count": 176,
     "metadata": {},
     "output_type": "execute_result"
    }
   ],
   "source": [
    "# see distribution of revenue per user\n",
    "revenue_per_user['revenue'].describe()"
   ]
  },
  {
   "cell_type": "code",
   "execution_count": 179,
   "metadata": {},
   "outputs": [
    {
     "data": {
      "application/vnd.plotly.v1+json": {
       "config": {
        "plotlyServerURL": "https://plot.ly"
       },
       "data": [
        {
         "alignmentgroup": "True",
         "bingroup": "x",
         "hovertemplate": "revenue=%{x}<br>count=%{y}<extra></extra>",
         "legendgroup": "",
         "marker": {
          "color": "#636efa",
          "pattern": {
           "shape": ""
          }
         },
         "name": "",
         "nbinsx": 100,
         "offsetgroup": "",
         "orientation": "v",
         "showlegend": false,
         "type": "histogram",
         "x": [
          10.8,
          25.9,
          100.4,
          65.4,
          15.2,
          20.8,
          5,
          25.9,
          125.9,
          240.2,
          25.2,
          20.1,
          20.8,
          5.6,
          15.6,
          225.9,
          45.9,
          35.7,
          425.6,
          10.4,
          20.8,
          25.5,
          15.5,
          50,
          75.5,
          1015.9,
          10.4,
          10.5,
          410.5,
          65.8,
          40.8,
          145.6,
          90.5,
          25.2,
          265.8,
          25.3,
          75.5,
          5.6,
          20.3,
          280,
          20.8,
          35.7,
          265,
          5.7,
          30.5,
          510.5,
          55.7,
          20.2,
          190.8,
          105.6,
          15,
          90.8,
          15.6,
          10.3,
          155,
          115.6,
          40.1,
          40.2,
          30.5,
          15.1,
          45.9,
          55.7,
          310.5,
          15.1,
          40.2,
          20.2,
          20.8,
          280.8,
          255.5,
          215.9,
          10,
          20.5,
          110.5,
          20.3,
          20.2,
          20.9,
          195.2,
          65.4,
          25.8,
          10,
          660.5,
          5.6,
          31.2,
          60.5,
          5.9,
          45.6,
          50.1,
          50.1,
          675.2,
          195.3,
          50.5,
          30.2,
          180.8,
          40.6,
          100.9,
          30.6,
          30.7,
          90.5,
          100.7,
          10.7,
          125.9,
          10.5,
          85.5,
          200.8,
          30.7,
          5.8,
          30.5,
          15.2,
          20.9,
          5.5,
          120.2,
          30.7,
          90.9,
          15.5,
          30.5,
          300.3,
          10,
          85.6,
          95.1,
          300.3,
          55.1,
          215.8,
          40.2,
          25.9,
          155.8,
          10.2,
          45.4,
          60.8,
          165.3,
          165.3,
          90.8,
          40.2,
          30.5,
          10,
          45.5,
          225.9,
          15.9,
          255.7,
          461.5,
          20.2,
          15.4,
          300.3,
          35.7,
          165.6,
          150.4,
          110.5,
          10.8,
          175.1,
          200.1,
          10,
          280.8,
          10.6,
          300.6,
          45.7,
          70.2,
          20.8,
          185.5,
          115.9,
          10.6,
          60.5,
          100.2,
          575.5,
          15.4,
          20.7,
          275.5,
          155.7,
          15.4,
          5.8,
          5.9,
          50.9,
          185.4,
          10.2,
          245.8,
          70.9,
          235.3,
          20.3,
          1115.7,
          500.7,
          40.8,
          280.1,
          185.4,
          535.5,
          30.1,
          355.5,
          640.7,
          10.7,
          400.8,
          35.8,
          25.7,
          60.2,
          40.2,
          25.5,
          10.2,
          20.2,
          65.7,
          280.8,
          10.5,
          55.4,
          65.7,
          5.6,
          930,
          240.2,
          1335.6,
          10.8,
          50.1,
          60.2,
          35.2,
          15.6,
          90.3,
          100.1,
          5.6,
          70.2,
          110.5,
          105.7,
          55.2,
          550.9,
          35,
          175.3,
          410.5,
          85.2,
          10.1,
          710.8,
          155.8,
          295.2,
          25.7,
          20.3,
          195.8,
          110.4,
          10.5,
          5.5,
          55.6,
          175.1,
          30.5,
          25.5,
          90.8,
          40.1,
          145.1,
          15.8,
          180,
          425.9,
          50.1,
          280.8,
          5.7,
          5.5,
          25.9,
          235.9,
          165.3,
          15.7,
          20.9,
          20.3,
          60.9,
          50.4,
          10,
          45.4,
          5.5,
          300.3,
          35,
          50.2,
          10.2,
          10.2,
          30.3,
          45.3,
          20.2,
          35.2,
          65.7,
          20.8,
          130.9,
          1025.8,
          20.2,
          10,
          55.6,
          115.7,
          155.1,
          135.3,
          25.5,
          40.8,
          440.3,
          30.4,
          20.2,
          40.2,
          80.5,
          25.2,
          10.1,
          5.1,
          5.6,
          110.5,
          30.8,
          20.8,
          10,
          5.9,
          145.9,
          50.8,
          75,
          70.2,
          55.6,
          25.4,
          85.7,
          50.2,
          55.2,
          25,
          1425.8,
          10.9,
          50.6,
          10.7,
          20.2,
          40.3,
          75.8,
          120.3,
          490.4,
          550.9,
          155.5,
          5.6,
          20.3,
          20.2,
          45.3,
          10.5,
          115.3,
          290.5,
          150.1,
          270.2,
          20.8,
          10,
          90.5,
          431.5,
          105.7,
          80.7,
          95.3,
          100.1,
          15.8,
          180.8,
          20.5,
          55.6,
          510.5,
          20.8,
          200.1,
          85.5,
          15.7,
          5.7,
          35.9,
          110.6,
          25.5,
          240.2,
          65.4,
          50.5,
          145.9,
          60.5,
          45.7,
          65.4,
          25.6,
          15.6,
          225.5,
          40.2,
          20,
          60.5,
          30.2,
          30,
          25.8,
          50.5,
          170.9,
          60.6,
          55.5,
          240.7,
          65.5,
          20.9,
          30.4,
          90.1,
          35.8,
          10.6,
          55.8,
          80.9,
          435.7,
          435.5,
          580.7,
          35.6,
          15.1,
          155.4,
          255.4,
          10,
          10.9,
          15.8,
          75.8,
          10.7,
          40.2,
          20.8,
          65.3,
          5.9,
          160.5,
          10.5,
          10.7,
          385.7,
          50.7,
          25.2,
          155.8,
          110.5,
          125.1,
          220.2,
          130.1,
          10.5,
          150,
          15.7,
          30.8,
          50.8,
          90.3,
          50.3,
          80.5,
          15.7,
          70.2,
          125.8,
          25.5,
          300.2,
          25.4,
          25.5,
          5.8,
          135.2,
          15.4,
          5.2,
          180.9,
          20,
          185.5,
          140.7,
          40.2,
          15.3,
          410.5,
          30,
          35.4,
          5.4,
          220.2,
          30.7,
          10,
          35.6,
          105.2,
          70.2,
          30.4,
          30.5,
          170,
          140.2,
          5.5,
          55.8,
          140.7,
          100.3,
          19920.4,
          20.4,
          150.4,
          200.3,
          50.9,
          260,
          5.5,
          25.9,
          50.1,
          155.5,
          75.7,
          100.2,
          21,
          5.1,
          40.2,
          240.2,
          10.5,
          80.2,
          40.2,
          200.7,
          390.8,
          30.8,
          70.9,
          125.6,
          280.8,
          25.3,
          20.3,
          85.8,
          10.4,
          25.2,
          20.8,
          55.2,
          45.2,
          20.3,
          235.6,
          5.8,
          165.8,
          3120.1,
          37.4,
          65.4,
          125.9,
          120.4,
          15.7,
          20.3,
          295.7,
          20.2,
          5.5,
          185.2,
          240.6,
          35,
          55.4,
          40.3,
          45.7,
          70.9,
          305.5,
          265.4,
          50.7,
          50.5,
          90,
          50.5,
          10.2,
          10.2,
          40.2,
          15.2,
          95.2,
          30.7,
          15.2,
          100.2,
          10.3,
          510.2,
          185.5,
          485.3,
          25.1,
          30.5,
          830.3,
          830.3,
          15.7,
          30,
          815.8,
          70.9,
          10.8,
          525.6,
          705.3,
          35.5,
          10,
          10.9,
          10.2,
          10.7,
          290.5,
          240.8,
          85.1,
          220.6,
          40.7,
          40.5,
          140.4,
          35.8,
          380.1,
          40.9,
          15.7,
          265.5,
          40.3,
          220.2,
          15.7,
          40.8,
          80.8,
          30.4,
          15.6,
          15,
          71,
          50.8,
          285.3,
          10.2,
          20.3,
          75,
          30.1,
          10.5,
          20.2,
          40.2,
          35.6,
          95.8,
          15.7,
          10.6,
          5.6,
          50.5,
          80.8,
          10.4,
          60.8,
          35.6,
          40.2,
          55.5,
          10,
          40.7,
          50.1,
          40.1,
          175,
          40.2,
          5.2,
          80.8,
          310.1,
          30.8,
          50.9,
          50.5,
          10.2,
          85.3,
          40.5,
          40.1,
          285.1,
          55.2,
          20.3,
          20,
          70.7,
          5.5,
          15.7,
          25.4,
          225.9,
          70.1,
          815.8,
          30,
          55.4,
          85.3,
          400.3,
          45.4,
          80.4,
          265.4,
          5.5,
          80.4,
          205.1,
          10.4,
          100.8,
          80.4,
          45.5,
          60.2,
          145,
          55.2,
          280.8,
          40.7,
          10.1,
          155.7,
          15.6,
          15.8,
          35.5,
          30.6,
          25.4,
          5.8,
          251.5,
          15.2,
          165.3,
          25.5,
          160.7,
          60.2,
          25.9,
          5.8,
          661.3,
          100.8,
          110.9,
          85.9,
          20.4,
          25.4,
          25.5,
          20.5,
          35.8,
          105.4,
          55.8,
          75.6,
          20.2,
          20.2,
          40,
          20.7,
          25.5,
          5.5,
          515.9,
          540.3,
          40,
          20.2,
          40.2,
          475.5,
          30.3,
          25.7,
          110.8,
          10.2,
          100.8,
          30,
          105.3,
          215.8,
          45.6,
          25.9,
          30.6,
          15.1,
          65.2,
          30.2,
          680.8,
          25.9,
          280.5,
          20.2,
          10.4,
          5.6,
          95.5,
          455.8,
          50.8,
          590.1,
          35.8,
          10.8,
          20.3,
          30.5,
          10.2,
          20.2,
          150.4,
          1040.8,
          190.9,
          445.3,
          215.2,
          100,
          45.9,
          20.2,
          50.1,
          85.5,
          10.9,
          5.7,
          15.7,
          70.1,
          35.6,
          10.1,
          10.5,
          300.3,
          35.7,
          10.1,
          170.9,
          375.6,
          25.5,
          180.9,
          55.6,
          65.7,
          45.7,
          20.2,
          65.2,
          20.2,
          25.7,
          80.6,
          120.3,
          285.3,
          5.9,
          70.2,
          300.3,
          475.5,
          20.8,
          50.8,
          325.9,
          125.5,
          140.6,
          280.8,
          100.1,
          80.2,
          10.2,
          25.2,
          90.2,
          15.8,
          75.7,
          20.3,
          120.2,
          45.7,
          475.5,
          20.8,
          80.4,
          45.6,
          20.3,
          30.4,
          115.4,
          190.8,
          390.5,
          385.5,
          125.9,
          195.1,
          10.8,
          300.6,
          55.7,
          10.2,
          20.3,
          15.6,
          20.3,
          20.2,
          5.3,
          35.6,
          35.6,
          185.4,
          65.8,
          630.8,
          15.6,
          15.7,
          220.8,
          90.5,
          370.4,
          10.5,
          15.7,
          110,
          140.1,
          30.4,
          75.5,
          80.4,
          765.5,
          225.9,
          90.69999999999999,
          140.2,
          140.3,
          25.3,
          455.8,
          30.1,
          15.7,
          250.60000000000002,
          140.7,
          80.6,
          5.9,
          555.2,
          45.8,
          95.3,
          130.8,
          40.7,
          10.8,
          45.3,
          125.5,
          5.8,
          225.8,
          30.8,
          260.6,
          25.7,
          35.6,
          40.3,
          50.4,
          465.9,
          35.7,
          85.1,
          135.1,
          50.2,
          30.2,
          125,
          40.2,
          150,
          55.8,
          90.5,
          110.1,
          80.8,
          30,
          5.9,
          150,
          75.5,
          610.7,
          85.2,
          30.8,
          105.3,
          30.6,
          40.3,
          55.7,
          205.1,
          35.6,
          55.2,
          40.2,
          135.2,
          45.4,
          220.2,
          55.2,
          15.2,
          35.2,
          35.6,
          40.8,
          5.5,
          30.1,
          40.2,
          25.9,
          60.8,
          10.7,
          60.2,
          140.2,
          35,
          10.1,
          40.2,
          300.3,
          55.5,
          25.3,
          20.2,
          310.2,
          100.8,
          15.1,
          20.8,
          25.5,
          15,
          15.9,
          5.6,
          15.2,
          40.2,
          45.2,
          55.1,
          50.7,
          60.5,
          15.2,
          145.1,
          145,
          135,
          105.1,
          75.1,
          20.3,
          65.4,
          40.8,
          50.1,
          110.5,
          270.4,
          325.9,
          95.3,
          75.2,
          5.2,
          30.8,
          20.3,
          71.4,
          285.1,
          300.8,
          65.8,
          165.8,
          90.1,
          830.3,
          105.30000000000001,
          160.8,
          155.5,
          30.3,
          161.6,
          285,
          105.2,
          40,
          10.7,
          35.5,
          45.1,
          55.8,
          30,
          50,
          10.5,
          195.5,
          25.2,
          30.5,
          905.8,
          50.3,
          440.2,
          295.8,
          160.7,
          210,
          25.9,
          5.9,
          40.8,
          145.2,
          20.4,
          280.8,
          65.4,
          90.5,
          110.5,
          30.1,
          270.4,
          80.8,
          10.5,
          75.1,
          40.3,
          20.2,
          91,
          1050,
          95.6,
          70.6,
          100.7,
          70.2,
          10.5,
          30.2,
          140.7,
          5.4,
          10.5,
          155.7,
          30.5,
          30.8,
          50.8,
          260,
          10.8,
          75.3,
          45.1,
          5.3,
          70.5,
          45.5,
          170.6,
          255.7,
          40.1,
          160.3,
          10.1,
          130.5,
          80.1,
          40.5,
          95.5,
          50.1,
          385.7,
          105.3,
          45.6,
          60.6
         ],
         "xaxis": "x",
         "yaxis": "y"
        }
       ],
       "layout": {
        "barmode": "relative",
        "legend": {
         "tracegroupgap": 0
        },
        "template": {
         "data": {
          "bar": [
           {
            "error_x": {
             "color": "#2a3f5f"
            },
            "error_y": {
             "color": "#2a3f5f"
            },
            "marker": {
             "line": {
              "color": "#E5ECF6",
              "width": 0.5
             },
             "pattern": {
              "fillmode": "overlay",
              "size": 10,
              "solidity": 0.2
             }
            },
            "type": "bar"
           }
          ],
          "barpolar": [
           {
            "marker": {
             "line": {
              "color": "#E5ECF6",
              "width": 0.5
             },
             "pattern": {
              "fillmode": "overlay",
              "size": 10,
              "solidity": 0.2
             }
            },
            "type": "barpolar"
           }
          ],
          "carpet": [
           {
            "aaxis": {
             "endlinecolor": "#2a3f5f",
             "gridcolor": "white",
             "linecolor": "white",
             "minorgridcolor": "white",
             "startlinecolor": "#2a3f5f"
            },
            "baxis": {
             "endlinecolor": "#2a3f5f",
             "gridcolor": "white",
             "linecolor": "white",
             "minorgridcolor": "white",
             "startlinecolor": "#2a3f5f"
            },
            "type": "carpet"
           }
          ],
          "choropleth": [
           {
            "colorbar": {
             "outlinewidth": 0,
             "ticks": ""
            },
            "type": "choropleth"
           }
          ],
          "contour": [
           {
            "colorbar": {
             "outlinewidth": 0,
             "ticks": ""
            },
            "colorscale": [
             [
              0,
              "#0d0887"
             ],
             [
              0.1111111111111111,
              "#46039f"
             ],
             [
              0.2222222222222222,
              "#7201a8"
             ],
             [
              0.3333333333333333,
              "#9c179e"
             ],
             [
              0.4444444444444444,
              "#bd3786"
             ],
             [
              0.5555555555555556,
              "#d8576b"
             ],
             [
              0.6666666666666666,
              "#ed7953"
             ],
             [
              0.7777777777777778,
              "#fb9f3a"
             ],
             [
              0.8888888888888888,
              "#fdca26"
             ],
             [
              1,
              "#f0f921"
             ]
            ],
            "type": "contour"
           }
          ],
          "contourcarpet": [
           {
            "colorbar": {
             "outlinewidth": 0,
             "ticks": ""
            },
            "type": "contourcarpet"
           }
          ],
          "heatmap": [
           {
            "colorbar": {
             "outlinewidth": 0,
             "ticks": ""
            },
            "colorscale": [
             [
              0,
              "#0d0887"
             ],
             [
              0.1111111111111111,
              "#46039f"
             ],
             [
              0.2222222222222222,
              "#7201a8"
             ],
             [
              0.3333333333333333,
              "#9c179e"
             ],
             [
              0.4444444444444444,
              "#bd3786"
             ],
             [
              0.5555555555555556,
              "#d8576b"
             ],
             [
              0.6666666666666666,
              "#ed7953"
             ],
             [
              0.7777777777777778,
              "#fb9f3a"
             ],
             [
              0.8888888888888888,
              "#fdca26"
             ],
             [
              1,
              "#f0f921"
             ]
            ],
            "type": "heatmap"
           }
          ],
          "heatmapgl": [
           {
            "colorbar": {
             "outlinewidth": 0,
             "ticks": ""
            },
            "colorscale": [
             [
              0,
              "#0d0887"
             ],
             [
              0.1111111111111111,
              "#46039f"
             ],
             [
              0.2222222222222222,
              "#7201a8"
             ],
             [
              0.3333333333333333,
              "#9c179e"
             ],
             [
              0.4444444444444444,
              "#bd3786"
             ],
             [
              0.5555555555555556,
              "#d8576b"
             ],
             [
              0.6666666666666666,
              "#ed7953"
             ],
             [
              0.7777777777777778,
              "#fb9f3a"
             ],
             [
              0.8888888888888888,
              "#fdca26"
             ],
             [
              1,
              "#f0f921"
             ]
            ],
            "type": "heatmapgl"
           }
          ],
          "histogram": [
           {
            "marker": {
             "pattern": {
              "fillmode": "overlay",
              "size": 10,
              "solidity": 0.2
             }
            },
            "type": "histogram"
           }
          ],
          "histogram2d": [
           {
            "colorbar": {
             "outlinewidth": 0,
             "ticks": ""
            },
            "colorscale": [
             [
              0,
              "#0d0887"
             ],
             [
              0.1111111111111111,
              "#46039f"
             ],
             [
              0.2222222222222222,
              "#7201a8"
             ],
             [
              0.3333333333333333,
              "#9c179e"
             ],
             [
              0.4444444444444444,
              "#bd3786"
             ],
             [
              0.5555555555555556,
              "#d8576b"
             ],
             [
              0.6666666666666666,
              "#ed7953"
             ],
             [
              0.7777777777777778,
              "#fb9f3a"
             ],
             [
              0.8888888888888888,
              "#fdca26"
             ],
             [
              1,
              "#f0f921"
             ]
            ],
            "type": "histogram2d"
           }
          ],
          "histogram2dcontour": [
           {
            "colorbar": {
             "outlinewidth": 0,
             "ticks": ""
            },
            "colorscale": [
             [
              0,
              "#0d0887"
             ],
             [
              0.1111111111111111,
              "#46039f"
             ],
             [
              0.2222222222222222,
              "#7201a8"
             ],
             [
              0.3333333333333333,
              "#9c179e"
             ],
             [
              0.4444444444444444,
              "#bd3786"
             ],
             [
              0.5555555555555556,
              "#d8576b"
             ],
             [
              0.6666666666666666,
              "#ed7953"
             ],
             [
              0.7777777777777778,
              "#fb9f3a"
             ],
             [
              0.8888888888888888,
              "#fdca26"
             ],
             [
              1,
              "#f0f921"
             ]
            ],
            "type": "histogram2dcontour"
           }
          ],
          "mesh3d": [
           {
            "colorbar": {
             "outlinewidth": 0,
             "ticks": ""
            },
            "type": "mesh3d"
           }
          ],
          "parcoords": [
           {
            "line": {
             "colorbar": {
              "outlinewidth": 0,
              "ticks": ""
             }
            },
            "type": "parcoords"
           }
          ],
          "pie": [
           {
            "automargin": true,
            "type": "pie"
           }
          ],
          "scatter": [
           {
            "fillpattern": {
             "fillmode": "overlay",
             "size": 10,
             "solidity": 0.2
            },
            "type": "scatter"
           }
          ],
          "scatter3d": [
           {
            "line": {
             "colorbar": {
              "outlinewidth": 0,
              "ticks": ""
             }
            },
            "marker": {
             "colorbar": {
              "outlinewidth": 0,
              "ticks": ""
             }
            },
            "type": "scatter3d"
           }
          ],
          "scattercarpet": [
           {
            "marker": {
             "colorbar": {
              "outlinewidth": 0,
              "ticks": ""
             }
            },
            "type": "scattercarpet"
           }
          ],
          "scattergeo": [
           {
            "marker": {
             "colorbar": {
              "outlinewidth": 0,
              "ticks": ""
             }
            },
            "type": "scattergeo"
           }
          ],
          "scattergl": [
           {
            "marker": {
             "colorbar": {
              "outlinewidth": 0,
              "ticks": ""
             }
            },
            "type": "scattergl"
           }
          ],
          "scattermapbox": [
           {
            "marker": {
             "colorbar": {
              "outlinewidth": 0,
              "ticks": ""
             }
            },
            "type": "scattermapbox"
           }
          ],
          "scatterpolar": [
           {
            "marker": {
             "colorbar": {
              "outlinewidth": 0,
              "ticks": ""
             }
            },
            "type": "scatterpolar"
           }
          ],
          "scatterpolargl": [
           {
            "marker": {
             "colorbar": {
              "outlinewidth": 0,
              "ticks": ""
             }
            },
            "type": "scatterpolargl"
           }
          ],
          "scatterternary": [
           {
            "marker": {
             "colorbar": {
              "outlinewidth": 0,
              "ticks": ""
             }
            },
            "type": "scatterternary"
           }
          ],
          "surface": [
           {
            "colorbar": {
             "outlinewidth": 0,
             "ticks": ""
            },
            "colorscale": [
             [
              0,
              "#0d0887"
             ],
             [
              0.1111111111111111,
              "#46039f"
             ],
             [
              0.2222222222222222,
              "#7201a8"
             ],
             [
              0.3333333333333333,
              "#9c179e"
             ],
             [
              0.4444444444444444,
              "#bd3786"
             ],
             [
              0.5555555555555556,
              "#d8576b"
             ],
             [
              0.6666666666666666,
              "#ed7953"
             ],
             [
              0.7777777777777778,
              "#fb9f3a"
             ],
             [
              0.8888888888888888,
              "#fdca26"
             ],
             [
              1,
              "#f0f921"
             ]
            ],
            "type": "surface"
           }
          ],
          "table": [
           {
            "cells": {
             "fill": {
              "color": "#EBF0F8"
             },
             "line": {
              "color": "white"
             }
            },
            "header": {
             "fill": {
              "color": "#C8D4E3"
             },
             "line": {
              "color": "white"
             }
            },
            "type": "table"
           }
          ]
         },
         "layout": {
          "annotationdefaults": {
           "arrowcolor": "#2a3f5f",
           "arrowhead": 0,
           "arrowwidth": 1
          },
          "autotypenumbers": "strict",
          "coloraxis": {
           "colorbar": {
            "outlinewidth": 0,
            "ticks": ""
           }
          },
          "colorscale": {
           "diverging": [
            [
             0,
             "#8e0152"
            ],
            [
             0.1,
             "#c51b7d"
            ],
            [
             0.2,
             "#de77ae"
            ],
            [
             0.3,
             "#f1b6da"
            ],
            [
             0.4,
             "#fde0ef"
            ],
            [
             0.5,
             "#f7f7f7"
            ],
            [
             0.6,
             "#e6f5d0"
            ],
            [
             0.7,
             "#b8e186"
            ],
            [
             0.8,
             "#7fbc41"
            ],
            [
             0.9,
             "#4d9221"
            ],
            [
             1,
             "#276419"
            ]
           ],
           "sequential": [
            [
             0,
             "#0d0887"
            ],
            [
             0.1111111111111111,
             "#46039f"
            ],
            [
             0.2222222222222222,
             "#7201a8"
            ],
            [
             0.3333333333333333,
             "#9c179e"
            ],
            [
             0.4444444444444444,
             "#bd3786"
            ],
            [
             0.5555555555555556,
             "#d8576b"
            ],
            [
             0.6666666666666666,
             "#ed7953"
            ],
            [
             0.7777777777777778,
             "#fb9f3a"
            ],
            [
             0.8888888888888888,
             "#fdca26"
            ],
            [
             1,
             "#f0f921"
            ]
           ],
           "sequentialminus": [
            [
             0,
             "#0d0887"
            ],
            [
             0.1111111111111111,
             "#46039f"
            ],
            [
             0.2222222222222222,
             "#7201a8"
            ],
            [
             0.3333333333333333,
             "#9c179e"
            ],
            [
             0.4444444444444444,
             "#bd3786"
            ],
            [
             0.5555555555555556,
             "#d8576b"
            ],
            [
             0.6666666666666666,
             "#ed7953"
            ],
            [
             0.7777777777777778,
             "#fb9f3a"
            ],
            [
             0.8888888888888888,
             "#fdca26"
            ],
            [
             1,
             "#f0f921"
            ]
           ]
          },
          "colorway": [
           "#636efa",
           "#EF553B",
           "#00cc96",
           "#ab63fa",
           "#FFA15A",
           "#19d3f3",
           "#FF6692",
           "#B6E880",
           "#FF97FF",
           "#FECB52"
          ],
          "font": {
           "color": "#2a3f5f"
          },
          "geo": {
           "bgcolor": "white",
           "lakecolor": "white",
           "landcolor": "#E5ECF6",
           "showlakes": true,
           "showland": true,
           "subunitcolor": "white"
          },
          "hoverlabel": {
           "align": "left"
          },
          "hovermode": "closest",
          "mapbox": {
           "style": "light"
          },
          "paper_bgcolor": "white",
          "plot_bgcolor": "#E5ECF6",
          "polar": {
           "angularaxis": {
            "gridcolor": "white",
            "linecolor": "white",
            "ticks": ""
           },
           "bgcolor": "#E5ECF6",
           "radialaxis": {
            "gridcolor": "white",
            "linecolor": "white",
            "ticks": ""
           }
          },
          "scene": {
           "xaxis": {
            "backgroundcolor": "#E5ECF6",
            "gridcolor": "white",
            "gridwidth": 2,
            "linecolor": "white",
            "showbackground": true,
            "ticks": "",
            "zerolinecolor": "white"
           },
           "yaxis": {
            "backgroundcolor": "#E5ECF6",
            "gridcolor": "white",
            "gridwidth": 2,
            "linecolor": "white",
            "showbackground": true,
            "ticks": "",
            "zerolinecolor": "white"
           },
           "zaxis": {
            "backgroundcolor": "#E5ECF6",
            "gridcolor": "white",
            "gridwidth": 2,
            "linecolor": "white",
            "showbackground": true,
            "ticks": "",
            "zerolinecolor": "white"
           }
          },
          "shapedefaults": {
           "line": {
            "color": "#2a3f5f"
           }
          },
          "ternary": {
           "aaxis": {
            "gridcolor": "white",
            "linecolor": "white",
            "ticks": ""
           },
           "baxis": {
            "gridcolor": "white",
            "linecolor": "white",
            "ticks": ""
           },
           "bgcolor": "#E5ECF6",
           "caxis": {
            "gridcolor": "white",
            "linecolor": "white",
            "ticks": ""
           }
          },
          "title": {
           "x": 0.05
          },
          "xaxis": {
           "automargin": true,
           "gridcolor": "white",
           "linecolor": "white",
           "ticks": "",
           "title": {
            "standoff": 15
           },
           "zerolinecolor": "white",
           "zerolinewidth": 2
          },
          "yaxis": {
           "automargin": true,
           "gridcolor": "white",
           "linecolor": "white",
           "ticks": "",
           "title": {
            "standoff": 15
           },
           "zerolinecolor": "white",
           "zerolinewidth": 2
          }
         }
        },
        "title": {
         "text": "Revenue per User Distribution"
        },
        "xaxis": {
         "anchor": "y",
         "domain": [
          0,
          1
         ],
         "title": {
          "text": "revenue"
         }
        },
        "yaxis": {
         "anchor": "x",
         "domain": [
          0,
          1
         ],
         "title": {
          "text": "users"
         }
        }
       }
      }
     },
     "metadata": {},
     "output_type": "display_data"
    }
   ],
   "source": [
    "# Plot the distribution of revenue per user\n",
    "fig = px.histogram(revenue_per_user['revenue'],\n",
    "                   x = 'revenue',\n",
    "                   title = 'Revenue per User Distribution',\n",
    "                   nbins = 100)\n",
    "# Update the y-axis label\n",
    "fig.update_yaxes(title_text= 'users')\n",
    "fig.show()"
   ]
  }
 ],
 "metadata": {
  "kernelspec": {
   "display_name": "base",
   "language": "python",
   "name": "python3"
  },
  "language_info": {
   "codemirror_mode": {
    "name": "ipython",
    "version": 3
   },
   "file_extension": ".py",
   "mimetype": "text/x-python",
   "name": "python",
   "nbconvert_exporter": "python",
   "pygments_lexer": "ipython3",
   "version": "3.11.7"
  }
 },
 "nbformat": 4,
 "nbformat_minor": 2
}
