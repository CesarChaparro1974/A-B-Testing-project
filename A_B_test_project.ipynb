{
 "cells": [
  {
   "cell_type": "markdown",
   "metadata": {},
   "source": [
    "# PROJECT SPRINT 10: A/B TESTING"
   ]
  },
  {
   "cell_type": "markdown",
   "metadata": {},
   "source": [
    "### DESCRIPTION OF THE PROJECT: This is a test and analysis done for a big online store. Together with the marketing department, I received a list of hypotheses that may help boost revenue.<br>\n",
    "\n",
    "### PURPOSE OF THE TEST: **Prioritize these hypotheses, launch A/B test and analyze the results.** "
   ]
  },
  {
   "cell_type": "markdown",
   "metadata": {},
   "source": [
    "***"
   ]
  },
  {
   "cell_type": "markdown",
   "metadata": {},
   "source": [
    "### The project is divided into several parts. Each part has its own purpose and is outlined in a sequencial order so you can follow the progress to the end.<br>\n",
    "\n",
    ">### Part One: Pre-processing of the data.<br>\n",
    ">### Part Two: Check Compliances.<br>\n",
    ">### Part Three: Prioritizing Hypotheses.<br>\n",
    ">### Part Four: Main KPIs (without statistical analysis).<br>\n",
    ">### Part Five: A/B Test Analysis.<br>\n",
    ">### Part Six: Conlusions based on the A/B test results."
   ]
  },
  {
   "cell_type": "markdown",
   "metadata": {},
   "source": [
    "***"
   ]
  },
  {
   "cell_type": "markdown",
   "metadata": {},
   "source": [
    "### Description of the data:<br>\n",
    "> Hypotheses dataset:<br>\n",
    "> Hypotheses — brief descriptions of the hypotheses<br>\n",
    "> Reach — user reach, on a scale of one to ten<br>\n",
    "> Impact — impact on users, on a scale of one to ten<br>\n",
    "> Confidence — confidence in the hypothesis, on a scale of one to ten<br>\n",
    "> Effort — the resources required to test a hypothesis, on a scale of one to ten.<br>\n",
    "\n",
    "> Orders dataset:<br>\n",
    "> transactionId — order identifier<br>\n",
    "> visitorId — identifier of the user who placed the order<br>\n",
    "> date — of the order<br>\n",
    "> revenue — from the order<br>\n",
    "> group — the A/B test group that the user belongs to<br>\n",
    "\n",
    "> Visits dataset:<br>\n",
    "> date — date<br>\n",
    "> group — A/B test group<br>\n",
    "> visits — the number of visits on the date specified in the A/B test group specified"
   ]
  },
  {
   "cell_type": "markdown",
   "metadata": {},
   "source": [
    "***"
   ]
  },
  {
   "cell_type": "markdown",
   "metadata": {},
   "source": [
    "### Part One: Pre-processing the data"
   ]
  },
  {
   "cell_type": "markdown",
   "metadata": {},
   "source": [
    "#### In this part I will import libraries, check and clean the data from both datasets, and check any inconsistencies of the data that may prevent to do further actions and analysis."
   ]
  },
  {
   "cell_type": "markdown",
   "metadata": {},
   "source": [
    "**1. Libraries**"
   ]
  },
  {
   "cell_type": "code",
   "execution_count": 640,
   "metadata": {},
   "outputs": [],
   "source": [
    "# import all the necessary libraries for the whole project\n",
    "import pandas as pd\n",
    "import scipy.stats as stats\n",
    "import datetime as dt\n",
    "import numpy as np\n",
    "import sidetable\n",
    "import plotly.express as px \n",
    "import matplotlib.pyplot as plt \n",
    "import plotly.graph_objects as go "
   ]
  },
  {
   "cell_type": "markdown",
   "metadata": {},
   "source": [
    "**2. Reading the datasets and checking for missing values**"
   ]
  },
  {
   "cell_type": "code",
   "execution_count": 641,
   "metadata": {},
   "outputs": [
    {
     "data": {
      "text/html": [
       "<div>\n",
       "<style scoped>\n",
       "    .dataframe tbody tr th:only-of-type {\n",
       "        vertical-align: middle;\n",
       "    }\n",
       "\n",
       "    .dataframe tbody tr th {\n",
       "        vertical-align: top;\n",
       "    }\n",
       "\n",
       "    .dataframe thead th {\n",
       "        text-align: right;\n",
       "    }\n",
       "</style>\n",
       "<table border=\"1\" class=\"dataframe\">\n",
       "  <thead>\n",
       "    <tr style=\"text-align: right;\">\n",
       "      <th></th>\n",
       "      <th>transactionId</th>\n",
       "      <th>visitorId</th>\n",
       "      <th>date</th>\n",
       "      <th>revenue</th>\n",
       "      <th>group</th>\n",
       "    </tr>\n",
       "  </thead>\n",
       "  <tbody>\n",
       "    <tr>\n",
       "      <th>0</th>\n",
       "      <td>3667963787</td>\n",
       "      <td>3312258926</td>\n",
       "      <td>2019-08-15</td>\n",
       "      <td>30.4</td>\n",
       "      <td>B</td>\n",
       "    </tr>\n",
       "    <tr>\n",
       "      <th>1</th>\n",
       "      <td>2804400009</td>\n",
       "      <td>3642806036</td>\n",
       "      <td>2019-08-15</td>\n",
       "      <td>15.2</td>\n",
       "      <td>B</td>\n",
       "    </tr>\n",
       "    <tr>\n",
       "      <th>2</th>\n",
       "      <td>2961555356</td>\n",
       "      <td>4069496402</td>\n",
       "      <td>2019-08-15</td>\n",
       "      <td>10.2</td>\n",
       "      <td>A</td>\n",
       "    </tr>\n",
       "    <tr>\n",
       "      <th>3</th>\n",
       "      <td>3797467345</td>\n",
       "      <td>1196621759</td>\n",
       "      <td>2019-08-15</td>\n",
       "      <td>155.1</td>\n",
       "      <td>B</td>\n",
       "    </tr>\n",
       "    <tr>\n",
       "      <th>4</th>\n",
       "      <td>2282983706</td>\n",
       "      <td>2322279887</td>\n",
       "      <td>2019-08-15</td>\n",
       "      <td>40.5</td>\n",
       "      <td>B</td>\n",
       "    </tr>\n",
       "  </tbody>\n",
       "</table>\n",
       "</div>"
      ],
      "text/plain": [
       "   transactionId   visitorId       date  revenue group\n",
       "0     3667963787  3312258926 2019-08-15     30.4     B\n",
       "1     2804400009  3642806036 2019-08-15     15.2     B\n",
       "2     2961555356  4069496402 2019-08-15     10.2     A\n",
       "3     3797467345  1196621759 2019-08-15    155.1     B\n",
       "4     2282983706  2322279887 2019-08-15     40.5     B"
      ]
     },
     "execution_count": 641,
     "metadata": {},
     "output_type": "execute_result"
    }
   ],
   "source": [
    "# reading the orders csv file\n",
    "orders = pd.read_csv('/Users/cesarchaparro/Desktop/TripleTen/Sprint_10/project/orders_us.csv', parse_dates=['date'])\n",
    "orders.head()"
   ]
  },
  {
   "cell_type": "code",
   "execution_count": 642,
   "metadata": {},
   "outputs": [
    {
     "data": {
      "text/html": [
       "<style type=\"text/css\">\n",
       "</style>\n",
       "<table id=\"T_c2c44\">\n",
       "  <thead>\n",
       "    <tr>\n",
       "      <th class=\"blank level0\" >&nbsp;</th>\n",
       "      <th id=\"T_c2c44_level0_col0\" class=\"col_heading level0 col0\" >missing</th>\n",
       "      <th id=\"T_c2c44_level0_col1\" class=\"col_heading level0 col1\" >total</th>\n",
       "      <th id=\"T_c2c44_level0_col2\" class=\"col_heading level0 col2\" >percent</th>\n",
       "    </tr>\n",
       "  </thead>\n",
       "  <tbody>\n",
       "    <tr>\n",
       "      <th id=\"T_c2c44_level0_row0\" class=\"row_heading level0 row0\" >transactionId</th>\n",
       "      <td id=\"T_c2c44_row0_col0\" class=\"data row0 col0\" >0</td>\n",
       "      <td id=\"T_c2c44_row0_col1\" class=\"data row0 col1\" >1,197</td>\n",
       "      <td id=\"T_c2c44_row0_col2\" class=\"data row0 col2\" >0.00%</td>\n",
       "    </tr>\n",
       "    <tr>\n",
       "      <th id=\"T_c2c44_level0_row1\" class=\"row_heading level0 row1\" >visitorId</th>\n",
       "      <td id=\"T_c2c44_row1_col0\" class=\"data row1 col0\" >0</td>\n",
       "      <td id=\"T_c2c44_row1_col1\" class=\"data row1 col1\" >1,197</td>\n",
       "      <td id=\"T_c2c44_row1_col2\" class=\"data row1 col2\" >0.00%</td>\n",
       "    </tr>\n",
       "    <tr>\n",
       "      <th id=\"T_c2c44_level0_row2\" class=\"row_heading level0 row2\" >date</th>\n",
       "      <td id=\"T_c2c44_row2_col0\" class=\"data row2 col0\" >0</td>\n",
       "      <td id=\"T_c2c44_row2_col1\" class=\"data row2 col1\" >1,197</td>\n",
       "      <td id=\"T_c2c44_row2_col2\" class=\"data row2 col2\" >0.00%</td>\n",
       "    </tr>\n",
       "    <tr>\n",
       "      <th id=\"T_c2c44_level0_row3\" class=\"row_heading level0 row3\" >revenue</th>\n",
       "      <td id=\"T_c2c44_row3_col0\" class=\"data row3 col0\" >0</td>\n",
       "      <td id=\"T_c2c44_row3_col1\" class=\"data row3 col1\" >1,197</td>\n",
       "      <td id=\"T_c2c44_row3_col2\" class=\"data row3 col2\" >0.00%</td>\n",
       "    </tr>\n",
       "    <tr>\n",
       "      <th id=\"T_c2c44_level0_row4\" class=\"row_heading level0 row4\" >group</th>\n",
       "      <td id=\"T_c2c44_row4_col0\" class=\"data row4 col0\" >0</td>\n",
       "      <td id=\"T_c2c44_row4_col1\" class=\"data row4 col1\" >1,197</td>\n",
       "      <td id=\"T_c2c44_row4_col2\" class=\"data row4 col2\" >0.00%</td>\n",
       "    </tr>\n",
       "  </tbody>\n",
       "</table>\n"
      ],
      "text/plain": [
       "<pandas.io.formats.style.Styler at 0x148bad310>"
      ]
     },
     "execution_count": 642,
     "metadata": {},
     "output_type": "execute_result"
    }
   ],
   "source": [
    "# info about the dataframe\n",
    "orders.stb.missing(style=True)"
   ]
  },
  {
   "cell_type": "markdown",
   "metadata": {},
   "source": [
    "* We can see that there are 1197 rows and no missing vallues."
   ]
  },
  {
   "cell_type": "code",
   "execution_count": 643,
   "metadata": {},
   "outputs": [
    {
     "data": {
      "text/html": [
       "<div>\n",
       "<style scoped>\n",
       "    .dataframe tbody tr th:only-of-type {\n",
       "        vertical-align: middle;\n",
       "    }\n",
       "\n",
       "    .dataframe tbody tr th {\n",
       "        vertical-align: top;\n",
       "    }\n",
       "\n",
       "    .dataframe thead th {\n",
       "        text-align: right;\n",
       "    }\n",
       "</style>\n",
       "<table border=\"1\" class=\"dataframe\">\n",
       "  <thead>\n",
       "    <tr style=\"text-align: right;\">\n",
       "      <th></th>\n",
       "      <th>date</th>\n",
       "      <th>group</th>\n",
       "      <th>visits</th>\n",
       "    </tr>\n",
       "  </thead>\n",
       "  <tbody>\n",
       "    <tr>\n",
       "      <th>0</th>\n",
       "      <td>2019-08-01</td>\n",
       "      <td>A</td>\n",
       "      <td>719</td>\n",
       "    </tr>\n",
       "    <tr>\n",
       "      <th>1</th>\n",
       "      <td>2019-08-02</td>\n",
       "      <td>A</td>\n",
       "      <td>619</td>\n",
       "    </tr>\n",
       "    <tr>\n",
       "      <th>2</th>\n",
       "      <td>2019-08-03</td>\n",
       "      <td>A</td>\n",
       "      <td>507</td>\n",
       "    </tr>\n",
       "    <tr>\n",
       "      <th>3</th>\n",
       "      <td>2019-08-04</td>\n",
       "      <td>A</td>\n",
       "      <td>717</td>\n",
       "    </tr>\n",
       "    <tr>\n",
       "      <th>4</th>\n",
       "      <td>2019-08-05</td>\n",
       "      <td>A</td>\n",
       "      <td>756</td>\n",
       "    </tr>\n",
       "  </tbody>\n",
       "</table>\n",
       "</div>"
      ],
      "text/plain": [
       "        date group  visits\n",
       "0 2019-08-01     A     719\n",
       "1 2019-08-02     A     619\n",
       "2 2019-08-03     A     507\n",
       "3 2019-08-04     A     717\n",
       "4 2019-08-05     A     756"
      ]
     },
     "execution_count": 643,
     "metadata": {},
     "output_type": "execute_result"
    }
   ],
   "source": [
    "# reading the visits csv file\n",
    "visits = pd.read_csv('/Users/cesarchaparro/Desktop/TripleTen/Sprint_10/project/visits_us.csv', parse_dates=['date'])\n",
    "visits.head()"
   ]
  },
  {
   "cell_type": "code",
   "execution_count": 644,
   "metadata": {},
   "outputs": [
    {
     "data": {
      "text/html": [
       "<style type=\"text/css\">\n",
       "</style>\n",
       "<table id=\"T_4dd08\">\n",
       "  <thead>\n",
       "    <tr>\n",
       "      <th class=\"blank level0\" >&nbsp;</th>\n",
       "      <th id=\"T_4dd08_level0_col0\" class=\"col_heading level0 col0\" >missing</th>\n",
       "      <th id=\"T_4dd08_level0_col1\" class=\"col_heading level0 col1\" >total</th>\n",
       "      <th id=\"T_4dd08_level0_col2\" class=\"col_heading level0 col2\" >percent</th>\n",
       "    </tr>\n",
       "  </thead>\n",
       "  <tbody>\n",
       "    <tr>\n",
       "      <th id=\"T_4dd08_level0_row0\" class=\"row_heading level0 row0\" >date</th>\n",
       "      <td id=\"T_4dd08_row0_col0\" class=\"data row0 col0\" >0</td>\n",
       "      <td id=\"T_4dd08_row0_col1\" class=\"data row0 col1\" >62</td>\n",
       "      <td id=\"T_4dd08_row0_col2\" class=\"data row0 col2\" >0.00%</td>\n",
       "    </tr>\n",
       "    <tr>\n",
       "      <th id=\"T_4dd08_level0_row1\" class=\"row_heading level0 row1\" >group</th>\n",
       "      <td id=\"T_4dd08_row1_col0\" class=\"data row1 col0\" >0</td>\n",
       "      <td id=\"T_4dd08_row1_col1\" class=\"data row1 col1\" >62</td>\n",
       "      <td id=\"T_4dd08_row1_col2\" class=\"data row1 col2\" >0.00%</td>\n",
       "    </tr>\n",
       "    <tr>\n",
       "      <th id=\"T_4dd08_level0_row2\" class=\"row_heading level0 row2\" >visits</th>\n",
       "      <td id=\"T_4dd08_row2_col0\" class=\"data row2 col0\" >0</td>\n",
       "      <td id=\"T_4dd08_row2_col1\" class=\"data row2 col1\" >62</td>\n",
       "      <td id=\"T_4dd08_row2_col2\" class=\"data row2 col2\" >0.00%</td>\n",
       "    </tr>\n",
       "  </tbody>\n",
       "</table>\n"
      ],
      "text/plain": [
       "<pandas.io.formats.style.Styler at 0x148d94790>"
      ]
     },
     "execution_count": 644,
     "metadata": {},
     "output_type": "execute_result"
    }
   ],
   "source": [
    "# info about the visits dataframe\n",
    "visits.stb.missing(style=True)"
   ]
  },
  {
   "cell_type": "markdown",
   "metadata": {},
   "source": [
    "* We can see that there are 62 rows and no missing values."
   ]
  },
  {
   "cell_type": "code",
   "execution_count": 645,
   "metadata": {},
   "outputs": [
    {
     "data": {
      "text/html": [
       "<div>\n",
       "<style scoped>\n",
       "    .dataframe tbody tr th:only-of-type {\n",
       "        vertical-align: middle;\n",
       "    }\n",
       "\n",
       "    .dataframe tbody tr th {\n",
       "        vertical-align: top;\n",
       "    }\n",
       "\n",
       "    .dataframe thead th {\n",
       "        text-align: right;\n",
       "    }\n",
       "</style>\n",
       "<table border=\"1\" class=\"dataframe\">\n",
       "  <thead>\n",
       "    <tr style=\"text-align: right;\">\n",
       "      <th></th>\n",
       "      <th>Hypothesis;Reach;Impact;Confidence;Effort</th>\n",
       "    </tr>\n",
       "  </thead>\n",
       "  <tbody>\n",
       "    <tr>\n",
       "      <th>0</th>\n",
       "      <td>Add two new channels for attracting traffic. This will bring 30% more users;3;10;8;6</td>\n",
       "    </tr>\n",
       "    <tr>\n",
       "      <th>1</th>\n",
       "      <td>Launch your own delivery service. This will shorten delivery time;2;5;4;10</td>\n",
       "    </tr>\n",
       "    <tr>\n",
       "      <th>2</th>\n",
       "      <td>Add product recommendation blocks to the store's site. This will increase conversion and average purchase size;8;3;7;3</td>\n",
       "    </tr>\n",
       "    <tr>\n",
       "      <th>3</th>\n",
       "      <td>Change the category structure. This will increase conversion since users will find the products they want more quickly;8;3;3;8</td>\n",
       "    </tr>\n",
       "    <tr>\n",
       "      <th>4</th>\n",
       "      <td>Change the background color on the main page. This will increase user engagement;3;1;1;1</td>\n",
       "    </tr>\n",
       "    <tr>\n",
       "      <th>5</th>\n",
       "      <td>Add a customer review page. This will increase the number of orders;3;2;2;3</td>\n",
       "    </tr>\n",
       "    <tr>\n",
       "      <th>6</th>\n",
       "      <td>Show banners with current offers and sales on the main page. This will boost conversion;5;3;8;3</td>\n",
       "    </tr>\n",
       "    <tr>\n",
       "      <th>7</th>\n",
       "      <td>Add a subscription form to all the main pages. This will help you compile a mailing list;10;7;8;5</td>\n",
       "    </tr>\n",
       "    <tr>\n",
       "      <th>8</th>\n",
       "      <td>Launch a promotion that gives users discounts on their birthdays;1;9;9;5</td>\n",
       "    </tr>\n",
       "  </tbody>\n",
       "</table>\n",
       "</div>"
      ],
      "text/plain": [
       "                                                                                        Hypothesis;Reach;Impact;Confidence;Effort\n",
       "0                                            Add two new channels for attracting traffic. This will bring 30% more users;3;10;8;6\n",
       "1                                                      Launch your own delivery service. This will shorten delivery time;2;5;4;10\n",
       "2          Add product recommendation blocks to the store's site. This will increase conversion and average purchase size;8;3;7;3\n",
       "3  Change the category structure. This will increase conversion since users will find the products they want more quickly;8;3;3;8\n",
       "4                                        Change the background color on the main page. This will increase user engagement;3;1;1;1\n",
       "5                                                     Add a customer review page. This will increase the number of orders;3;2;2;3\n",
       "6                                 Show banners with current offers and sales on the main page. This will boost conversion;5;3;8;3\n",
       "7                               Add a subscription form to all the main pages. This will help you compile a mailing list;10;7;8;5\n",
       "8                                                        Launch a promotion that gives users discounts on their birthdays;1;9;9;5"
      ]
     },
     "execution_count": 645,
     "metadata": {},
     "output_type": "execute_result"
    }
   ],
   "source": [
    "# reading the hypotheses csv file\n",
    "pd.set_option('display.max_colwidth', None)\n",
    "hypotheses = pd.read_csv('/Users/cesarchaparro/Desktop/TripleTen/Sprint_10/project/hypotheses_us.csv')\n",
    "hypotheses"
   ]
  },
  {
   "cell_type": "markdown",
   "metadata": {},
   "source": [
    "* We can see that the format is not the correct one to manipulate the data on the dataframe so I will modify the format to make columns."
   ]
  },
  {
   "cell_type": "code",
   "execution_count": 646,
   "metadata": {},
   "outputs": [
    {
     "data": {
      "text/html": [
       "<div>\n",
       "<style scoped>\n",
       "    .dataframe tbody tr th:only-of-type {\n",
       "        vertical-align: middle;\n",
       "    }\n",
       "\n",
       "    .dataframe tbody tr th {\n",
       "        vertical-align: top;\n",
       "    }\n",
       "\n",
       "    .dataframe thead th {\n",
       "        text-align: right;\n",
       "    }\n",
       "</style>\n",
       "<table border=\"1\" class=\"dataframe\">\n",
       "  <thead>\n",
       "    <tr style=\"text-align: right;\">\n",
       "      <th></th>\n",
       "      <th>hypothesis</th>\n",
       "      <th>reach</th>\n",
       "      <th>impact</th>\n",
       "      <th>confidence</th>\n",
       "      <th>effort</th>\n",
       "    </tr>\n",
       "  </thead>\n",
       "  <tbody>\n",
       "    <tr>\n",
       "      <th>0</th>\n",
       "      <td>Add two new channels for attracting traffic. This will bring 30% more users</td>\n",
       "      <td>3</td>\n",
       "      <td>10</td>\n",
       "      <td>8</td>\n",
       "      <td>6</td>\n",
       "    </tr>\n",
       "    <tr>\n",
       "      <th>1</th>\n",
       "      <td>Launch your own delivery service. This will shorten delivery time</td>\n",
       "      <td>2</td>\n",
       "      <td>5</td>\n",
       "      <td>4</td>\n",
       "      <td>10</td>\n",
       "    </tr>\n",
       "    <tr>\n",
       "      <th>2</th>\n",
       "      <td>Add product recommendation blocks to the store's site. This will increase conversion and average purchase size</td>\n",
       "      <td>8</td>\n",
       "      <td>3</td>\n",
       "      <td>7</td>\n",
       "      <td>3</td>\n",
       "    </tr>\n",
       "    <tr>\n",
       "      <th>3</th>\n",
       "      <td>Change the category structure. This will increase conversion since users will find the products they want more quickly</td>\n",
       "      <td>8</td>\n",
       "      <td>3</td>\n",
       "      <td>3</td>\n",
       "      <td>8</td>\n",
       "    </tr>\n",
       "    <tr>\n",
       "      <th>4</th>\n",
       "      <td>Change the background color on the main page. This will increase user engagement</td>\n",
       "      <td>3</td>\n",
       "      <td>1</td>\n",
       "      <td>1</td>\n",
       "      <td>1</td>\n",
       "    </tr>\n",
       "    <tr>\n",
       "      <th>5</th>\n",
       "      <td>Add a customer review page. This will increase the number of orders</td>\n",
       "      <td>3</td>\n",
       "      <td>2</td>\n",
       "      <td>2</td>\n",
       "      <td>3</td>\n",
       "    </tr>\n",
       "    <tr>\n",
       "      <th>6</th>\n",
       "      <td>Show banners with current offers and sales on the main page. This will boost conversion</td>\n",
       "      <td>5</td>\n",
       "      <td>3</td>\n",
       "      <td>8</td>\n",
       "      <td>3</td>\n",
       "    </tr>\n",
       "    <tr>\n",
       "      <th>7</th>\n",
       "      <td>Add a subscription form to all the main pages. This will help you compile a mailing list</td>\n",
       "      <td>10</td>\n",
       "      <td>7</td>\n",
       "      <td>8</td>\n",
       "      <td>5</td>\n",
       "    </tr>\n",
       "    <tr>\n",
       "      <th>8</th>\n",
       "      <td>Launch a promotion that gives users discounts on their birthdays; This will increase customer retention</td>\n",
       "      <td>1</td>\n",
       "      <td>9</td>\n",
       "      <td>9</td>\n",
       "      <td>5</td>\n",
       "    </tr>\n",
       "  </tbody>\n",
       "</table>\n",
       "</div>"
      ],
      "text/plain": [
       "                                                                                                               hypothesis  \\\n",
       "0                                             Add two new channels for attracting traffic. This will bring 30% more users   \n",
       "1                                                       Launch your own delivery service. This will shorten delivery time   \n",
       "2          Add product recommendation blocks to the store's site. This will increase conversion and average purchase size   \n",
       "3  Change the category structure. This will increase conversion since users will find the products they want more quickly   \n",
       "4                                        Change the background color on the main page. This will increase user engagement   \n",
       "5                                                     Add a customer review page. This will increase the number of orders   \n",
       "6                                 Show banners with current offers and sales on the main page. This will boost conversion   \n",
       "7                                Add a subscription form to all the main pages. This will help you compile a mailing list   \n",
       "8                 Launch a promotion that gives users discounts on their birthdays; This will increase customer retention   \n",
       "\n",
       "   reach  impact  confidence  effort  \n",
       "0      3      10           8       6  \n",
       "1      2       5           4      10  \n",
       "2      8       3           7       3  \n",
       "3      8       3           3       8  \n",
       "4      3       1           1       1  \n",
       "5      3       2           2       3  \n",
       "6      5       3           8       3  \n",
       "7     10       7           8       5  \n",
       "8      1       9           9       5  "
      ]
     },
     "execution_count": 646,
     "metadata": {},
     "output_type": "execute_result"
    }
   ],
   "source": [
    "# define the data as a list of dictionaries\n",
    "hypotheses = [\n",
    "    {\"Hypothesis\": \"Add two new channels for attracting traffic. This will bring 30% more users\", \"Reach\": 3, \"Impact\": 10, \"Confidence\": 8, \"Effort\": 6},\n",
    "    {\"Hypothesis\": \"Launch your own delivery service. This will shorten delivery time\", \"Reach\": 2, \"Impact\": 5, \"Confidence\": 4, \"Effort\": 10},\n",
    "    {\"Hypothesis\": \"Add product recommendation blocks to the store's site. This will increase conversion and average purchase size\", \"Reach\": 8, \"Impact\": 3, \"Confidence\": 7, \"Effort\": 3},\n",
    "    {\"Hypothesis\": \"Change the category structure. This will increase conversion since users will find the products they want more quickly\", \"Reach\": 8, \"Impact\": 3, \"Confidence\": 3, \"Effort\": 8},\n",
    "    {\"Hypothesis\": \"Change the background color on the main page. This will increase user engagement\", \"Reach\": 3, \"Impact\": 1, \"Confidence\": 1, \"Effort\": 1},\n",
    "    {\"Hypothesis\": \"Add a customer review page. This will increase the number of orders\", \"Reach\": 3, \"Impact\": 2, \"Confidence\": 2, \"Effort\": 3},\n",
    "    {\"Hypothesis\": \"Show banners with current offers and sales on the main page. This will boost conversion\", \"Reach\": 5, \"Impact\": 3, \"Confidence\": 8, \"Effort\": 3},\n",
    "    {\"Hypothesis\": \"Add a subscription form to all the main pages. This will help you compile a mailing list\", \"Reach\": 10, \"Impact\": 7, \"Confidence\": 8, \"Effort\": 5},\n",
    "    {\"Hypothesis\": \"Launch a promotion that gives users discounts on their birthdays; This will increase customer retention\", \"Reach\": 1, \"Impact\": 9, \"Confidence\": 9, \"Effort\": 5},\n",
    "]\n",
    "# create the DataFrame\n",
    "hypotheses = pd.DataFrame(hypotheses)\n",
    "# Convert column names to lowercase\n",
    "hypotheses.columns = hypotheses.columns.str.lower()\n",
    "hypotheses\n"
   ]
  },
  {
   "cell_type": "code",
   "execution_count": 647,
   "metadata": {},
   "outputs": [
    {
     "name": "stdout",
     "output_type": "stream",
     "text": [
      "No duplicate rows found.\n"
     ]
    }
   ],
   "source": [
    "# checking for duplicates on column of transactions\n",
    "duplicates = orders['transactionId'].duplicated().sum()\n",
    "if duplicates > 0:\n",
    "  print(f'There are {duplicates} duplicate rows in the DataFrame.')\n",
    "else:\n",
    "  print('No duplicate rows found.')"
   ]
  },
  {
   "cell_type": "markdown",
   "metadata": {},
   "source": [
    "* We can see that there are no duplicated transactions on the dataframe."
   ]
  },
  {
   "cell_type": "code",
   "execution_count": 648,
   "metadata": {},
   "outputs": [
    {
     "data": {
      "text/html": [
       "<div>\n",
       "<style scoped>\n",
       "    .dataframe tbody tr th:only-of-type {\n",
       "        vertical-align: middle;\n",
       "    }\n",
       "\n",
       "    .dataframe tbody tr th {\n",
       "        vertical-align: top;\n",
       "    }\n",
       "\n",
       "    .dataframe thead th {\n",
       "        text-align: right;\n",
       "    }\n",
       "</style>\n",
       "<table border=\"1\" class=\"dataframe\">\n",
       "  <thead>\n",
       "    <tr style=\"text-align: right;\">\n",
       "      <th></th>\n",
       "      <th>min</th>\n",
       "      <th>max</th>\n",
       "    </tr>\n",
       "    <tr>\n",
       "      <th>group</th>\n",
       "      <th></th>\n",
       "      <th></th>\n",
       "    </tr>\n",
       "  </thead>\n",
       "  <tbody>\n",
       "    <tr>\n",
       "      <th>A</th>\n",
       "      <td>2019-08-01</td>\n",
       "      <td>2019-08-31</td>\n",
       "    </tr>\n",
       "    <tr>\n",
       "      <th>B</th>\n",
       "      <td>2019-08-01</td>\n",
       "      <td>2019-08-31</td>\n",
       "    </tr>\n",
       "  </tbody>\n",
       "</table>\n",
       "</div>"
      ],
      "text/plain": [
       "             min        max\n",
       "group                      \n",
       "A     2019-08-01 2019-08-31\n",
       "B     2019-08-01 2019-08-31"
      ]
     },
     "execution_count": 648,
     "metadata": {},
     "output_type": "execute_result"
    }
   ],
   "source": [
    "# group by test group and see when start and when ends the test\n",
    "orders.groupby(['group'])['date'].agg(['min','max'])"
   ]
  },
  {
   "cell_type": "markdown",
   "metadata": {},
   "source": [
    "* We can see that both orders and visits dataframes have same start and end dates."
   ]
  },
  {
   "cell_type": "markdown",
   "metadata": {},
   "source": [
    "***"
   ]
  },
  {
   "cell_type": "markdown",
   "metadata": {},
   "source": [
    "### Part Two: Check compliances"
   ]
  },
  {
   "cell_type": "markdown",
   "metadata": {},
   "source": [
    "#### In this part I will go through all the technical requirements that need to be fulfilled in order to perform a correct test."
   ]
  },
  {
   "cell_type": "code",
   "execution_count": 649,
   "metadata": {},
   "outputs": [
    {
     "data": {
      "text/html": [
       "<div>\n",
       "<style scoped>\n",
       "    .dataframe tbody tr th:only-of-type {\n",
       "        vertical-align: middle;\n",
       "    }\n",
       "\n",
       "    .dataframe tbody tr th {\n",
       "        vertical-align: top;\n",
       "    }\n",
       "\n",
       "    .dataframe thead th {\n",
       "        text-align: right;\n",
       "    }\n",
       "</style>\n",
       "<table border=\"1\" class=\"dataframe\">\n",
       "  <thead>\n",
       "    <tr style=\"text-align: right;\">\n",
       "      <th></th>\n",
       "      <th>group</th>\n",
       "      <th>visitorId</th>\n",
       "    </tr>\n",
       "  </thead>\n",
       "  <tbody>\n",
       "    <tr>\n",
       "      <th>0</th>\n",
       "      <td>A</td>\n",
       "      <td>503</td>\n",
       "    </tr>\n",
       "    <tr>\n",
       "      <th>1</th>\n",
       "      <td>B</td>\n",
       "      <td>586</td>\n",
       "    </tr>\n",
       "  </tbody>\n",
       "</table>\n",
       "</div>"
      ],
      "text/plain": [
       "  group  visitorId\n",
       "0     A        503\n",
       "1     B        586"
      ]
     },
     "execution_count": 649,
     "metadata": {},
     "output_type": "execute_result"
    }
   ],
   "source": [
    "# group by group to see how many users on each group\n",
    "users_per_group = orders.groupby(['group'])['visitorId'].nunique().reset_index()\n",
    "users_per_group"
   ]
  },
  {
   "cell_type": "code",
   "execution_count": 650,
   "metadata": {},
   "outputs": [
    {
     "name": "stdout",
     "output_type": "stream",
     "text": [
      "There is a difference of 83 users between group A and B\n"
     ]
    }
   ],
   "source": [
    "# filter entries for groups A and B\n",
    "groupA = users_per_group[users_per_group['group'] == 'A']['visitorId'].iloc[0]\n",
    "groupB = users_per_group[users_per_group['group'] == 'B']['visitorId'].iloc[0]\n",
    "# calculate the difference\n",
    "difference = groupB - groupA\n",
    "print(f'There is a difference of {difference} users between group A and B')"
   ]
  },
  {
   "cell_type": "markdown",
   "metadata": {},
   "source": [
    "* We can see there is not an even split of the groups, there is a difference of 83 users. I will check if there are users that are included on both groups by error on the next step."
   ]
  },
  {
   "cell_type": "code",
   "execution_count": 651,
   "metadata": {},
   "outputs": [
    {
     "data": {
      "text/plain": [
       "[8300375,\n",
       " 199603092,\n",
       " 232979603,\n",
       " 237748145,\n",
       " 276558944,\n",
       " 351125977,\n",
       " 393266494,\n",
       " 457167155,\n",
       " 471551937,\n",
       " 477780734,\n",
       " 818047933,\n",
       " 963407295,\n",
       " 1230306981,\n",
       " 1294878855,\n",
       " 1316129916,\n",
       " 1333886533,\n",
       " 1404934699,\n",
       " 1602967004,\n",
       " 1614305549,\n",
       " 1648269707,\n",
       " 1668030113,\n",
       " 1738359350,\n",
       " 1801183820,\n",
       " 1959144690,\n",
       " 2038680547,\n",
       " 2044997962,\n",
       " 2378935119,\n",
       " 2458001652,\n",
       " 2579882178,\n",
       " 2587333274,\n",
       " 2600415354,\n",
       " 2654030115,\n",
       " 2686716486,\n",
       " 2712142231,\n",
       " 2716752286,\n",
       " 2780786433,\n",
       " 2927087541,\n",
       " 2949041841,\n",
       " 2954449915,\n",
       " 3062433592,\n",
       " 3202540741,\n",
       " 3234906277,\n",
       " 3656415546,\n",
       " 3717692402,\n",
       " 3766097110,\n",
       " 3803269165,\n",
       " 3891541246,\n",
       " 3941795274,\n",
       " 3951559397,\n",
       " 3957174400,\n",
       " 3963646447,\n",
       " 3972127743,\n",
       " 3984495233,\n",
       " 4069496402,\n",
       " 4120364173,\n",
       " 4186807279,\n",
       " 4256040402,\n",
       " 4266935830]"
      ]
     },
     "execution_count": 651,
     "metadata": {},
     "output_type": "execute_result"
    }
   ],
   "source": [
    "# pylint: disable=missing-final-newline\n",
    "# users in both groups\n",
    "both_groups = list(orders.groupby(['visitorId'])['group'].nunique().reset_index().query('group > 1')['visitorId'])\n",
    "both_groups"
   ]
  },
  {
   "cell_type": "code",
   "execution_count": 652,
   "metadata": {},
   "outputs": [
    {
     "data": {
      "text/html": [
       "<div>\n",
       "<style scoped>\n",
       "    .dataframe tbody tr th:only-of-type {\n",
       "        vertical-align: middle;\n",
       "    }\n",
       "\n",
       "    .dataframe tbody tr th {\n",
       "        vertical-align: top;\n",
       "    }\n",
       "\n",
       "    .dataframe thead th {\n",
       "        text-align: right;\n",
       "    }\n",
       "</style>\n",
       "<table border=\"1\" class=\"dataframe\">\n",
       "  <thead>\n",
       "    <tr style=\"text-align: right;\">\n",
       "      <th></th>\n",
       "      <th>transactionId</th>\n",
       "      <th>visitorId</th>\n",
       "      <th>date</th>\n",
       "      <th>revenue</th>\n",
       "      <th>group</th>\n",
       "    </tr>\n",
       "  </thead>\n",
       "  <tbody>\n",
       "    <tr>\n",
       "      <th>0</th>\n",
       "      <td>3667963787</td>\n",
       "      <td>3312258926</td>\n",
       "      <td>2019-08-15</td>\n",
       "      <td>30.4</td>\n",
       "      <td>B</td>\n",
       "    </tr>\n",
       "    <tr>\n",
       "      <th>1</th>\n",
       "      <td>2804400009</td>\n",
       "      <td>3642806036</td>\n",
       "      <td>2019-08-15</td>\n",
       "      <td>15.2</td>\n",
       "      <td>B</td>\n",
       "    </tr>\n",
       "    <tr>\n",
       "      <th>3</th>\n",
       "      <td>3797467345</td>\n",
       "      <td>1196621759</td>\n",
       "      <td>2019-08-15</td>\n",
       "      <td>155.1</td>\n",
       "      <td>B</td>\n",
       "    </tr>\n",
       "    <tr>\n",
       "      <th>4</th>\n",
       "      <td>2282983706</td>\n",
       "      <td>2322279887</td>\n",
       "      <td>2019-08-15</td>\n",
       "      <td>40.5</td>\n",
       "      <td>B</td>\n",
       "    </tr>\n",
       "    <tr>\n",
       "      <th>5</th>\n",
       "      <td>182168103</td>\n",
       "      <td>935554773</td>\n",
       "      <td>2019-08-15</td>\n",
       "      <td>35.0</td>\n",
       "      <td>B</td>\n",
       "    </tr>\n",
       "    <tr>\n",
       "      <th>...</th>\n",
       "      <td>...</td>\n",
       "      <td>...</td>\n",
       "      <td>...</td>\n",
       "      <td>...</td>\n",
       "      <td>...</td>\n",
       "    </tr>\n",
       "    <tr>\n",
       "      <th>1191</th>\n",
       "      <td>3592955527</td>\n",
       "      <td>608641596</td>\n",
       "      <td>2019-08-14</td>\n",
       "      <td>255.7</td>\n",
       "      <td>B</td>\n",
       "    </tr>\n",
       "    <tr>\n",
       "      <th>1192</th>\n",
       "      <td>2662137336</td>\n",
       "      <td>3733762160</td>\n",
       "      <td>2019-08-14</td>\n",
       "      <td>100.8</td>\n",
       "      <td>B</td>\n",
       "    </tr>\n",
       "    <tr>\n",
       "      <th>1193</th>\n",
       "      <td>2203539145</td>\n",
       "      <td>370388673</td>\n",
       "      <td>2019-08-14</td>\n",
       "      <td>50.1</td>\n",
       "      <td>A</td>\n",
       "    </tr>\n",
       "    <tr>\n",
       "      <th>1194</th>\n",
       "      <td>1807773912</td>\n",
       "      <td>573423106</td>\n",
       "      <td>2019-08-14</td>\n",
       "      <td>165.3</td>\n",
       "      <td>A</td>\n",
       "    </tr>\n",
       "    <tr>\n",
       "      <th>1196</th>\n",
       "      <td>3936777065</td>\n",
       "      <td>2108080724</td>\n",
       "      <td>2019-08-15</td>\n",
       "      <td>3120.1</td>\n",
       "      <td>B</td>\n",
       "    </tr>\n",
       "  </tbody>\n",
       "</table>\n",
       "<p>1016 rows × 5 columns</p>\n",
       "</div>"
      ],
      "text/plain": [
       "      transactionId   visitorId       date  revenue group\n",
       "0        3667963787  3312258926 2019-08-15     30.4     B\n",
       "1        2804400009  3642806036 2019-08-15     15.2     B\n",
       "3        3797467345  1196621759 2019-08-15    155.1     B\n",
       "4        2282983706  2322279887 2019-08-15     40.5     B\n",
       "5         182168103   935554773 2019-08-15     35.0     B\n",
       "...             ...         ...        ...      ...   ...\n",
       "1191     3592955527   608641596 2019-08-14    255.7     B\n",
       "1192     2662137336  3733762160 2019-08-14    100.8     B\n",
       "1193     2203539145   370388673 2019-08-14     50.1     A\n",
       "1194     1807773912   573423106 2019-08-14    165.3     A\n",
       "1196     3936777065  2108080724 2019-08-15   3120.1     B\n",
       "\n",
       "[1016 rows x 5 columns]"
      ]
     },
     "execution_count": 652,
     "metadata": {},
     "output_type": "execute_result"
    }
   ],
   "source": [
    "# not in both groups\n",
    "clean_orders = orders[(orders.visitorId.apply(lambda x: x not in both_groups))]\n",
    "clean_orders"
   ]
  },
  {
   "cell_type": "markdown",
   "metadata": {},
   "source": [
    "* We can see now that the clean list of users which is valid for the test is the users that are only participating in one version of the test."
   ]
  },
  {
   "cell_type": "code",
   "execution_count": 653,
   "metadata": {},
   "outputs": [
    {
     "data": {
      "text/html": [
       "<div>\n",
       "<style scoped>\n",
       "    .dataframe tbody tr th:only-of-type {\n",
       "        vertical-align: middle;\n",
       "    }\n",
       "\n",
       "    .dataframe tbody tr th {\n",
       "        vertical-align: top;\n",
       "    }\n",
       "\n",
       "    .dataframe thead th {\n",
       "        text-align: right;\n",
       "    }\n",
       "</style>\n",
       "<table border=\"1\" class=\"dataframe\">\n",
       "  <thead>\n",
       "    <tr style=\"text-align: right;\">\n",
       "      <th></th>\n",
       "      <th>group</th>\n",
       "      <th>visitorId</th>\n",
       "    </tr>\n",
       "  </thead>\n",
       "  <tbody>\n",
       "    <tr>\n",
       "      <th>0</th>\n",
       "      <td>A</td>\n",
       "      <td>445</td>\n",
       "    </tr>\n",
       "    <tr>\n",
       "      <th>1</th>\n",
       "      <td>B</td>\n",
       "      <td>528</td>\n",
       "    </tr>\n",
       "  </tbody>\n",
       "</table>\n",
       "</div>"
      ],
      "text/plain": [
       "  group  visitorId\n",
       "0     A        445\n",
       "1     B        528"
      ]
     },
     "execution_count": 653,
     "metadata": {},
     "output_type": "execute_result"
    }
   ],
   "source": [
    "# group by group to see how many users on each group\n",
    "users_by_group = clean_orders.groupby(['group'])['visitorId'].nunique().reset_index()\n",
    "users_by_group"
   ]
  },
  {
   "cell_type": "code",
   "execution_count": 654,
   "metadata": {},
   "outputs": [
    {
     "name": "stdout",
     "output_type": "stream",
     "text": [
      "There is a difference of 83 users between group A and B\n"
     ]
    }
   ],
   "source": [
    "# filter entries for groups A and B\n",
    "groupA = users_by_group[users_by_group['group'] == 'A']['visitorId'].iloc[0]\n",
    "groupB = users_by_group[users_by_group['group'] == 'B']['visitorId'].iloc[0]\n",
    "# calculate the difference\n",
    "difference = groupB - groupA\n",
    "print(f'There is a difference of {difference} users between group A and B')"
   ]
  },
  {
   "cell_type": "markdown",
   "metadata": {},
   "source": [
    "* We can see that there is a difference of 83 users that take part of group A and B to do the test. The difference is quite significant to continue correctly the test."
   ]
  },
  {
   "cell_type": "code",
   "execution_count": 655,
   "metadata": {},
   "outputs": [
    {
     "data": {
      "text/plain": [
       "0"
      ]
     },
     "execution_count": 655,
     "metadata": {},
     "output_type": "execute_result"
    }
   ],
   "source": [
    "# double checking if there are still users on both groups\n",
    "(clean_orders.groupby(['visitorId'])['group'].nunique()>1).sum()"
   ]
  },
  {
   "cell_type": "markdown",
   "metadata": {},
   "source": [
    "* We can see that now each user if participiating only in one only version of the test. The rest of users were dropped from the test."
   ]
  },
  {
   "cell_type": "markdown",
   "metadata": {},
   "source": [
    "#### Note: We don't have data on this data sets about the existence of any marketing events during this period of August, neither the existence of special promotions or holidays. Therefore, we infer that the planned dates for the test are normal dates that retrieve a usual user behavior."
   ]
  },
  {
   "cell_type": "markdown",
   "metadata": {},
   "source": [
    "* We can also infer that there is not existence of ghosts users on the data set, users that are registered but don't take part on any of the versions of the test. I can see that from the missing values and the columns earlier on the datasets information."
   ]
  },
  {
   "cell_type": "markdown",
   "metadata": {},
   "source": [
    "***"
   ]
  },
  {
   "cell_type": "markdown",
   "metadata": {},
   "source": [
    "### Part Three: Prioritizing hypotheses"
   ]
  },
  {
   "cell_type": "code",
   "execution_count": 656,
   "metadata": {},
   "outputs": [
    {
     "data": {
      "text/html": [
       "<div>\n",
       "<style scoped>\n",
       "    .dataframe tbody tr th:only-of-type {\n",
       "        vertical-align: middle;\n",
       "    }\n",
       "\n",
       "    .dataframe tbody tr th {\n",
       "        vertical-align: top;\n",
       "    }\n",
       "\n",
       "    .dataframe thead th {\n",
       "        text-align: right;\n",
       "    }\n",
       "</style>\n",
       "<table border=\"1\" class=\"dataframe\">\n",
       "  <thead>\n",
       "    <tr style=\"text-align: right;\">\n",
       "      <th></th>\n",
       "      <th>hypothesis</th>\n",
       "      <th>reach</th>\n",
       "      <th>impact</th>\n",
       "      <th>confidence</th>\n",
       "      <th>effort</th>\n",
       "    </tr>\n",
       "  </thead>\n",
       "  <tbody>\n",
       "    <tr>\n",
       "      <th>0</th>\n",
       "      <td>Add two new channels for attracting traffic. This will bring 30% more users</td>\n",
       "      <td>3</td>\n",
       "      <td>10</td>\n",
       "      <td>8</td>\n",
       "      <td>6</td>\n",
       "    </tr>\n",
       "    <tr>\n",
       "      <th>1</th>\n",
       "      <td>Launch your own delivery service. This will shorten delivery time</td>\n",
       "      <td>2</td>\n",
       "      <td>5</td>\n",
       "      <td>4</td>\n",
       "      <td>10</td>\n",
       "    </tr>\n",
       "    <tr>\n",
       "      <th>2</th>\n",
       "      <td>Add product recommendation blocks to the store's site. This will increase conversion and average purchase size</td>\n",
       "      <td>8</td>\n",
       "      <td>3</td>\n",
       "      <td>7</td>\n",
       "      <td>3</td>\n",
       "    </tr>\n",
       "    <tr>\n",
       "      <th>3</th>\n",
       "      <td>Change the category structure. This will increase conversion since users will find the products they want more quickly</td>\n",
       "      <td>8</td>\n",
       "      <td>3</td>\n",
       "      <td>3</td>\n",
       "      <td>8</td>\n",
       "    </tr>\n",
       "    <tr>\n",
       "      <th>4</th>\n",
       "      <td>Change the background color on the main page. This will increase user engagement</td>\n",
       "      <td>3</td>\n",
       "      <td>1</td>\n",
       "      <td>1</td>\n",
       "      <td>1</td>\n",
       "    </tr>\n",
       "    <tr>\n",
       "      <th>5</th>\n",
       "      <td>Add a customer review page. This will increase the number of orders</td>\n",
       "      <td>3</td>\n",
       "      <td>2</td>\n",
       "      <td>2</td>\n",
       "      <td>3</td>\n",
       "    </tr>\n",
       "    <tr>\n",
       "      <th>6</th>\n",
       "      <td>Show banners with current offers and sales on the main page. This will boost conversion</td>\n",
       "      <td>5</td>\n",
       "      <td>3</td>\n",
       "      <td>8</td>\n",
       "      <td>3</td>\n",
       "    </tr>\n",
       "    <tr>\n",
       "      <th>7</th>\n",
       "      <td>Add a subscription form to all the main pages. This will help you compile a mailing list</td>\n",
       "      <td>10</td>\n",
       "      <td>7</td>\n",
       "      <td>8</td>\n",
       "      <td>5</td>\n",
       "    </tr>\n",
       "    <tr>\n",
       "      <th>8</th>\n",
       "      <td>Launch a promotion that gives users discounts on their birthdays; This will increase customer retention</td>\n",
       "      <td>1</td>\n",
       "      <td>9</td>\n",
       "      <td>9</td>\n",
       "      <td>5</td>\n",
       "    </tr>\n",
       "  </tbody>\n",
       "</table>\n",
       "</div>"
      ],
      "text/plain": [
       "                                                                                                               hypothesis  \\\n",
       "0                                             Add two new channels for attracting traffic. This will bring 30% more users   \n",
       "1                                                       Launch your own delivery service. This will shorten delivery time   \n",
       "2          Add product recommendation blocks to the store's site. This will increase conversion and average purchase size   \n",
       "3  Change the category structure. This will increase conversion since users will find the products they want more quickly   \n",
       "4                                        Change the background color on the main page. This will increase user engagement   \n",
       "5                                                     Add a customer review page. This will increase the number of orders   \n",
       "6                                 Show banners with current offers and sales on the main page. This will boost conversion   \n",
       "7                                Add a subscription form to all the main pages. This will help you compile a mailing list   \n",
       "8                 Launch a promotion that gives users discounts on their birthdays; This will increase customer retention   \n",
       "\n",
       "   reach  impact  confidence  effort  \n",
       "0      3      10           8       6  \n",
       "1      2       5           4      10  \n",
       "2      8       3           7       3  \n",
       "3      8       3           3       8  \n",
       "4      3       1           1       1  \n",
       "5      3       2           2       3  \n",
       "6      5       3           8       3  \n",
       "7     10       7           8       5  \n",
       "8      1       9           9       5  "
      ]
     },
     "execution_count": 656,
     "metadata": {},
     "output_type": "execute_result"
    }
   ],
   "source": [
    "hypotheses"
   ]
  },
  {
   "cell_type": "code",
   "execution_count": 657,
   "metadata": {},
   "outputs": [
    {
     "data": {
      "text/html": [
       "<div>\n",
       "<style scoped>\n",
       "    .dataframe tbody tr th:only-of-type {\n",
       "        vertical-align: middle;\n",
       "    }\n",
       "\n",
       "    .dataframe tbody tr th {\n",
       "        vertical-align: top;\n",
       "    }\n",
       "\n",
       "    .dataframe thead th {\n",
       "        text-align: right;\n",
       "    }\n",
       "</style>\n",
       "<table border=\"1\" class=\"dataframe\">\n",
       "  <thead>\n",
       "    <tr style=\"text-align: right;\">\n",
       "      <th></th>\n",
       "      <th>hypothesis</th>\n",
       "      <th>ICE</th>\n",
       "    </tr>\n",
       "  </thead>\n",
       "  <tbody>\n",
       "    <tr>\n",
       "      <th>8</th>\n",
       "      <td>Launch a promotion that gives users discounts on their birthdays; This will increase customer retention</td>\n",
       "      <td>16.200000</td>\n",
       "    </tr>\n",
       "    <tr>\n",
       "      <th>0</th>\n",
       "      <td>Add two new channels for attracting traffic. This will bring 30% more users</td>\n",
       "      <td>13.333333</td>\n",
       "    </tr>\n",
       "    <tr>\n",
       "      <th>7</th>\n",
       "      <td>Add a subscription form to all the main pages. This will help you compile a mailing list</td>\n",
       "      <td>11.200000</td>\n",
       "    </tr>\n",
       "    <tr>\n",
       "      <th>6</th>\n",
       "      <td>Show banners with current offers and sales on the main page. This will boost conversion</td>\n",
       "      <td>8.000000</td>\n",
       "    </tr>\n",
       "    <tr>\n",
       "      <th>2</th>\n",
       "      <td>Add product recommendation blocks to the store's site. This will increase conversion and average purchase size</td>\n",
       "      <td>7.000000</td>\n",
       "    </tr>\n",
       "    <tr>\n",
       "      <th>1</th>\n",
       "      <td>Launch your own delivery service. This will shorten delivery time</td>\n",
       "      <td>2.000000</td>\n",
       "    </tr>\n",
       "    <tr>\n",
       "      <th>5</th>\n",
       "      <td>Add a customer review page. This will increase the number of orders</td>\n",
       "      <td>1.333333</td>\n",
       "    </tr>\n",
       "    <tr>\n",
       "      <th>3</th>\n",
       "      <td>Change the category structure. This will increase conversion since users will find the products they want more quickly</td>\n",
       "      <td>1.125000</td>\n",
       "    </tr>\n",
       "    <tr>\n",
       "      <th>4</th>\n",
       "      <td>Change the background color on the main page. This will increase user engagement</td>\n",
       "      <td>1.000000</td>\n",
       "    </tr>\n",
       "  </tbody>\n",
       "</table>\n",
       "</div>"
      ],
      "text/plain": [
       "                                                                                                               hypothesis  \\\n",
       "8                 Launch a promotion that gives users discounts on their birthdays; This will increase customer retention   \n",
       "0                                             Add two new channels for attracting traffic. This will bring 30% more users   \n",
       "7                                Add a subscription form to all the main pages. This will help you compile a mailing list   \n",
       "6                                 Show banners with current offers and sales on the main page. This will boost conversion   \n",
       "2          Add product recommendation blocks to the store's site. This will increase conversion and average purchase size   \n",
       "1                                                       Launch your own delivery service. This will shorten delivery time   \n",
       "5                                                     Add a customer review page. This will increase the number of orders   \n",
       "3  Change the category structure. This will increase conversion since users will find the products they want more quickly   \n",
       "4                                        Change the background color on the main page. This will increase user engagement   \n",
       "\n",
       "         ICE  \n",
       "8  16.200000  \n",
       "0  13.333333  \n",
       "7  11.200000  \n",
       "6   8.000000  \n",
       "2   7.000000  \n",
       "1   2.000000  \n",
       "5   1.333333  \n",
       "3   1.125000  \n",
       "4   1.000000  "
      ]
     },
     "execution_count": 657,
     "metadata": {},
     "output_type": "execute_result"
    }
   ],
   "source": [
    "# apply the ICE framework to prioritize hypotheses. Sort them in descending order of priority\n",
    "hypotheses['ICE'] = (hypotheses['impact'] * hypotheses['confidence']) / hypotheses['effort']\n",
    "hypotheses[['hypothesis', 'ICE']].sort_values(by='ICE', ascending = False)"
   ]
  },
  {
   "cell_type": "code",
   "execution_count": 658,
   "metadata": {},
   "outputs": [
    {
     "data": {
      "text/html": [
       "<div>\n",
       "<style scoped>\n",
       "    .dataframe tbody tr th:only-of-type {\n",
       "        vertical-align: middle;\n",
       "    }\n",
       "\n",
       "    .dataframe tbody tr th {\n",
       "        vertical-align: top;\n",
       "    }\n",
       "\n",
       "    .dataframe thead th {\n",
       "        text-align: right;\n",
       "    }\n",
       "</style>\n",
       "<table border=\"1\" class=\"dataframe\">\n",
       "  <thead>\n",
       "    <tr style=\"text-align: right;\">\n",
       "      <th></th>\n",
       "      <th>hypothesis</th>\n",
       "      <th>RICE</th>\n",
       "    </tr>\n",
       "  </thead>\n",
       "  <tbody>\n",
       "    <tr>\n",
       "      <th>7</th>\n",
       "      <td>Add a subscription form to all the main pages. This will help you compile a mailing list</td>\n",
       "      <td>112.0</td>\n",
       "    </tr>\n",
       "    <tr>\n",
       "      <th>2</th>\n",
       "      <td>Add product recommendation blocks to the store's site. This will increase conversion and average purchase size</td>\n",
       "      <td>56.0</td>\n",
       "    </tr>\n",
       "    <tr>\n",
       "      <th>0</th>\n",
       "      <td>Add two new channels for attracting traffic. This will bring 30% more users</td>\n",
       "      <td>40.0</td>\n",
       "    </tr>\n",
       "    <tr>\n",
       "      <th>6</th>\n",
       "      <td>Show banners with current offers and sales on the main page. This will boost conversion</td>\n",
       "      <td>40.0</td>\n",
       "    </tr>\n",
       "    <tr>\n",
       "      <th>8</th>\n",
       "      <td>Launch a promotion that gives users discounts on their birthdays; This will increase customer retention</td>\n",
       "      <td>16.2</td>\n",
       "    </tr>\n",
       "    <tr>\n",
       "      <th>3</th>\n",
       "      <td>Change the category structure. This will increase conversion since users will find the products they want more quickly</td>\n",
       "      <td>9.0</td>\n",
       "    </tr>\n",
       "    <tr>\n",
       "      <th>1</th>\n",
       "      <td>Launch your own delivery service. This will shorten delivery time</td>\n",
       "      <td>4.0</td>\n",
       "    </tr>\n",
       "    <tr>\n",
       "      <th>5</th>\n",
       "      <td>Add a customer review page. This will increase the number of orders</td>\n",
       "      <td>4.0</td>\n",
       "    </tr>\n",
       "    <tr>\n",
       "      <th>4</th>\n",
       "      <td>Change the background color on the main page. This will increase user engagement</td>\n",
       "      <td>3.0</td>\n",
       "    </tr>\n",
       "  </tbody>\n",
       "</table>\n",
       "</div>"
      ],
      "text/plain": [
       "                                                                                                               hypothesis  \\\n",
       "7                                Add a subscription form to all the main pages. This will help you compile a mailing list   \n",
       "2          Add product recommendation blocks to the store's site. This will increase conversion and average purchase size   \n",
       "0                                             Add two new channels for attracting traffic. This will bring 30% more users   \n",
       "6                                 Show banners with current offers and sales on the main page. This will boost conversion   \n",
       "8                 Launch a promotion that gives users discounts on their birthdays; This will increase customer retention   \n",
       "3  Change the category structure. This will increase conversion since users will find the products they want more quickly   \n",
       "1                                                       Launch your own delivery service. This will shorten delivery time   \n",
       "5                                                     Add a customer review page. This will increase the number of orders   \n",
       "4                                        Change the background color on the main page. This will increase user engagement   \n",
       "\n",
       "    RICE  \n",
       "7  112.0  \n",
       "2   56.0  \n",
       "0   40.0  \n",
       "6   40.0  \n",
       "8   16.2  \n",
       "3    9.0  \n",
       "1    4.0  \n",
       "5    4.0  \n",
       "4    3.0  "
      ]
     },
     "execution_count": 658,
     "metadata": {},
     "output_type": "execute_result"
    }
   ],
   "source": [
    "# apply the RICE framework to prioritize hypotheses. Sort them in descending order of priority\n",
    "hypotheses['RICE'] = (hypotheses['reach'] * hypotheses['impact'] * hypotheses['confidence']) / hypotheses['effort']\n",
    "hypotheses[['hypothesis', 'RICE']].sort_values(by='RICE', ascending=False)"
   ]
  },
  {
   "cell_type": "markdown",
   "metadata": {},
   "source": [
    "#### From the two prioritization of hypotheses using ICE and RICE I can infer:<br>\n",
    "\n",
    "* ICE prioritizes based on the following factors:<br>\n",
    "\n",
    "> Reach (R): The number of users potentially affected by the hypothesis.<br>\n",
    "> Impact (I): The expected impact of the hypothesis on a relevant metric (e.g., conversion rate, revenue).<br>\n",
    "> Confidence (C): The level of certainty in your estimates for Reach and Impact.<br>\n",
    "\n",
    "* RICE prioritizes based on the following factors:<br>\n",
    "\n",
    "> Reach (R): Same as ICE.<br>\n",
    "> Impact (I): Similar to ICE, but can consider effort required to implement the hypothesis.<br>\n",
    "> Confidence (C): Similar to ICE.<br>\n",
    "> Effort (E): The amount of time and resources needed to implement the hypothesis.<br>\n",
    "\n",
    "* Changes in Prioritization:<br>\n",
    "\n",
    "> Subscription form: With RICE, the \"subscription form\" hypothesis jumps to the top due to its high Reach and potentially high Impact on acquiring leads (assuming a good conversion rate).<br>\n",
    "> Product recommendations: This hypothesis also moves up significantly in RICE due to a balance between Reach, Impact, and lower Effort compared to some ideas in ICE.<br>\n",
    "> Discounts and new channels: While still considered valuable, these drop in priority with RICE because the Effort to implement them might be higher.<br>\n",
    "\n",
    "* Key Takeaways:<br>\n",
    "\n",
    "> RICE incorporates effort into the prioritization, potentially favoring ideas with high potential impact but lower implementation complexity.<br>\n",
    "> If user base growth and immediate impact are critical, ICE might be suitable.<br>\n",
    "> If resource allocation and long-term value are essential, RICE might be a better choice."
   ]
  },
  {
   "cell_type": "markdown",
   "metadata": {},
   "source": [
    "***"
   ]
  },
  {
   "cell_type": "markdown",
   "metadata": {},
   "source": [
    "### Part Four: KPIs"
   ]
  },
  {
   "cell_type": "markdown",
   "metadata": {},
   "source": [
    "#### Following are KPIs used for further analysis, all the KPIs in this part are calculated with raw data."
   ]
  },
  {
   "cell_type": "markdown",
   "metadata": {},
   "source": [
    "##### 1. Revenue per group and Cumulative Revenue per group."
   ]
  },
  {
   "cell_type": "code",
   "execution_count": 659,
   "metadata": {},
   "outputs": [
    {
     "data": {
      "text/html": [
       "<div>\n",
       "<style scoped>\n",
       "    .dataframe tbody tr th:only-of-type {\n",
       "        vertical-align: middle;\n",
       "    }\n",
       "\n",
       "    .dataframe tbody tr th {\n",
       "        vertical-align: top;\n",
       "    }\n",
       "\n",
       "    .dataframe thead th {\n",
       "        text-align: right;\n",
       "    }\n",
       "</style>\n",
       "<table border=\"1\" class=\"dataframe\">\n",
       "  <thead>\n",
       "    <tr style=\"text-align: right;\">\n",
       "      <th></th>\n",
       "      <th>date</th>\n",
       "      <th>group</th>\n",
       "      <th>revenue_per_day</th>\n",
       "    </tr>\n",
       "  </thead>\n",
       "  <tbody>\n",
       "    <tr>\n",
       "      <th>0</th>\n",
       "      <td>2019-08-01</td>\n",
       "      <td>A</td>\n",
       "      <td>2266.6</td>\n",
       "    </tr>\n",
       "    <tr>\n",
       "      <th>1</th>\n",
       "      <td>2019-08-01</td>\n",
       "      <td>B</td>\n",
       "      <td>967.2</td>\n",
       "    </tr>\n",
       "    <tr>\n",
       "      <th>2</th>\n",
       "      <td>2019-08-02</td>\n",
       "      <td>A</td>\n",
       "      <td>1468.3</td>\n",
       "    </tr>\n",
       "    <tr>\n",
       "      <th>3</th>\n",
       "      <td>2019-08-02</td>\n",
       "      <td>B</td>\n",
       "      <td>2568.1</td>\n",
       "    </tr>\n",
       "    <tr>\n",
       "      <th>4</th>\n",
       "      <td>2019-08-03</td>\n",
       "      <td>A</td>\n",
       "      <td>1815.2</td>\n",
       "    </tr>\n",
       "  </tbody>\n",
       "</table>\n",
       "</div>"
      ],
      "text/plain": [
       "        date group  revenue_per_day\n",
       "0 2019-08-01     A           2266.6\n",
       "1 2019-08-01     B            967.2\n",
       "2 2019-08-02     A           1468.3\n",
       "3 2019-08-02     B           2568.1\n",
       "4 2019-08-03     A           1815.2"
      ]
     },
     "execution_count": 659,
     "metadata": {},
     "output_type": "execute_result"
    }
   ],
   "source": [
    "# create general revenue per day\n",
    "revenue_per_day = clean_orders.groupby(['date', 'group'])['revenue'].sum().reset_index()\n",
    "revenue_per_day.columns = ['date', 'group', 'revenue_per_day']\n",
    "revenue_per_day.head()\n"
   ]
  },
  {
   "cell_type": "code",
   "execution_count": 660,
   "metadata": {},
   "outputs": [],
   "source": [
    "# dataFrame with orders and revenue by day, group A\n",
    "RevenueA = revenue_per_day[revenue_per_day['group'] == 'A'][['date', 'revenue_per_day']]\n",
    "# dataFrame with orders and revenue by day, group B\n",
    "RevenueB = revenue_per_day[revenue_per_day['group'] == 'B'][['date', 'revenue_per_day']]"
   ]
  },
  {
   "cell_type": "code",
   "execution_count": 661,
   "metadata": {},
   "outputs": [
    {
     "data": {
      "text/html": [
       "<div>\n",
       "<style scoped>\n",
       "    .dataframe tbody tr th:only-of-type {\n",
       "        vertical-align: middle;\n",
       "    }\n",
       "\n",
       "    .dataframe tbody tr th {\n",
       "        vertical-align: top;\n",
       "    }\n",
       "\n",
       "    .dataframe thead th {\n",
       "        text-align: right;\n",
       "    }\n",
       "</style>\n",
       "<table border=\"1\" class=\"dataframe\">\n",
       "  <thead>\n",
       "    <tr style=\"text-align: right;\">\n",
       "      <th></th>\n",
       "      <th>date</th>\n",
       "      <th>revenue_per_day</th>\n",
       "    </tr>\n",
       "  </thead>\n",
       "  <tbody>\n",
       "    <tr>\n",
       "      <th>0</th>\n",
       "      <td>2019-08-01</td>\n",
       "      <td>2266.6</td>\n",
       "    </tr>\n",
       "    <tr>\n",
       "      <th>2</th>\n",
       "      <td>2019-08-02</td>\n",
       "      <td>1468.3</td>\n",
       "    </tr>\n",
       "    <tr>\n",
       "      <th>4</th>\n",
       "      <td>2019-08-03</td>\n",
       "      <td>1815.2</td>\n",
       "    </tr>\n",
       "    <tr>\n",
       "      <th>6</th>\n",
       "      <td>2019-08-04</td>\n",
       "      <td>675.5</td>\n",
       "    </tr>\n",
       "    <tr>\n",
       "      <th>8</th>\n",
       "      <td>2019-08-05</td>\n",
       "      <td>1398.0</td>\n",
       "    </tr>\n",
       "    <tr>\n",
       "      <th>10</th>\n",
       "      <td>2019-08-06</td>\n",
       "      <td>668.4</td>\n",
       "    </tr>\n",
       "    <tr>\n",
       "      <th>12</th>\n",
       "      <td>2019-08-07</td>\n",
       "      <td>1942.0</td>\n",
       "    </tr>\n",
       "    <tr>\n",
       "      <th>14</th>\n",
       "      <td>2019-08-08</td>\n",
       "      <td>1404.8</td>\n",
       "    </tr>\n",
       "    <tr>\n",
       "      <th>16</th>\n",
       "      <td>2019-08-09</td>\n",
       "      <td>2095.2</td>\n",
       "    </tr>\n",
       "    <tr>\n",
       "      <th>18</th>\n",
       "      <td>2019-08-10</td>\n",
       "      <td>2387.5</td>\n",
       "    </tr>\n",
       "  </tbody>\n",
       "</table>\n",
       "</div>"
      ],
      "text/plain": [
       "         date  revenue_per_day\n",
       "0  2019-08-01           2266.6\n",
       "2  2019-08-02           1468.3\n",
       "4  2019-08-03           1815.2\n",
       "6  2019-08-04            675.5\n",
       "8  2019-08-05           1398.0\n",
       "10 2019-08-06            668.4\n",
       "12 2019-08-07           1942.0\n",
       "14 2019-08-08           1404.8\n",
       "16 2019-08-09           2095.2\n",
       "18 2019-08-10           2387.5"
      ]
     },
     "execution_count": 661,
     "metadata": {},
     "output_type": "execute_result"
    }
   ],
   "source": [
    "RevenueA.head(10)"
   ]
  },
  {
   "cell_type": "code",
   "execution_count": 662,
   "metadata": {},
   "outputs": [
    {
     "data": {
      "text/html": [
       "<div>\n",
       "<style scoped>\n",
       "    .dataframe tbody tr th:only-of-type {\n",
       "        vertical-align: middle;\n",
       "    }\n",
       "\n",
       "    .dataframe tbody tr th {\n",
       "        vertical-align: top;\n",
       "    }\n",
       "\n",
       "    .dataframe thead th {\n",
       "        text-align: right;\n",
       "    }\n",
       "</style>\n",
       "<table border=\"1\" class=\"dataframe\">\n",
       "  <thead>\n",
       "    <tr style=\"text-align: right;\">\n",
       "      <th></th>\n",
       "      <th>date</th>\n",
       "      <th>revenue_per_day</th>\n",
       "      <th>cum_RevenueA</th>\n",
       "    </tr>\n",
       "  </thead>\n",
       "  <tbody>\n",
       "    <tr>\n",
       "      <th>0</th>\n",
       "      <td>2019-08-01</td>\n",
       "      <td>2266.6</td>\n",
       "      <td>2266.6</td>\n",
       "    </tr>\n",
       "    <tr>\n",
       "      <th>2</th>\n",
       "      <td>2019-08-02</td>\n",
       "      <td>1468.3</td>\n",
       "      <td>3734.9</td>\n",
       "    </tr>\n",
       "    <tr>\n",
       "      <th>4</th>\n",
       "      <td>2019-08-03</td>\n",
       "      <td>1815.2</td>\n",
       "      <td>5550.1</td>\n",
       "    </tr>\n",
       "    <tr>\n",
       "      <th>6</th>\n",
       "      <td>2019-08-04</td>\n",
       "      <td>675.5</td>\n",
       "      <td>6225.6</td>\n",
       "    </tr>\n",
       "    <tr>\n",
       "      <th>8</th>\n",
       "      <td>2019-08-05</td>\n",
       "      <td>1398.0</td>\n",
       "      <td>7623.6</td>\n",
       "    </tr>\n",
       "    <tr>\n",
       "      <th>10</th>\n",
       "      <td>2019-08-06</td>\n",
       "      <td>668.4</td>\n",
       "      <td>8292.0</td>\n",
       "    </tr>\n",
       "    <tr>\n",
       "      <th>12</th>\n",
       "      <td>2019-08-07</td>\n",
       "      <td>1942.0</td>\n",
       "      <td>10234.0</td>\n",
       "    </tr>\n",
       "    <tr>\n",
       "      <th>14</th>\n",
       "      <td>2019-08-08</td>\n",
       "      <td>1404.8</td>\n",
       "      <td>11638.8</td>\n",
       "    </tr>\n",
       "    <tr>\n",
       "      <th>16</th>\n",
       "      <td>2019-08-09</td>\n",
       "      <td>2095.2</td>\n",
       "      <td>13734.0</td>\n",
       "    </tr>\n",
       "    <tr>\n",
       "      <th>18</th>\n",
       "      <td>2019-08-10</td>\n",
       "      <td>2387.5</td>\n",
       "      <td>16121.5</td>\n",
       "    </tr>\n",
       "  </tbody>\n",
       "</table>\n",
       "</div>"
      ],
      "text/plain": [
       "         date  revenue_per_day  cum_RevenueA\n",
       "0  2019-08-01           2266.6        2266.6\n",
       "2  2019-08-02           1468.3        3734.9\n",
       "4  2019-08-03           1815.2        5550.1\n",
       "6  2019-08-04            675.5        6225.6\n",
       "8  2019-08-05           1398.0        7623.6\n",
       "10 2019-08-06            668.4        8292.0\n",
       "12 2019-08-07           1942.0       10234.0\n",
       "14 2019-08-08           1404.8       11638.8\n",
       "16 2019-08-09           2095.2       13734.0\n",
       "18 2019-08-10           2387.5       16121.5"
      ]
     },
     "execution_count": 662,
     "metadata": {},
     "output_type": "execute_result"
    }
   ],
   "source": [
    "# add column with cumulative revenue for group A\n",
    "RevenueA['cum_RevenueA'] = RevenueA['revenue_per_day'].cumsum()\n",
    "RevenueA.head(10)"
   ]
  },
  {
   "cell_type": "code",
   "execution_count": 663,
   "metadata": {},
   "outputs": [
    {
     "data": {
      "text/html": [
       "<div>\n",
       "<style scoped>\n",
       "    .dataframe tbody tr th:only-of-type {\n",
       "        vertical-align: middle;\n",
       "    }\n",
       "\n",
       "    .dataframe tbody tr th {\n",
       "        vertical-align: top;\n",
       "    }\n",
       "\n",
       "    .dataframe thead th {\n",
       "        text-align: right;\n",
       "    }\n",
       "</style>\n",
       "<table border=\"1\" class=\"dataframe\">\n",
       "  <thead>\n",
       "    <tr style=\"text-align: right;\">\n",
       "      <th></th>\n",
       "      <th>date</th>\n",
       "      <th>revenue_per_day</th>\n",
       "    </tr>\n",
       "  </thead>\n",
       "  <tbody>\n",
       "    <tr>\n",
       "      <th>1</th>\n",
       "      <td>2019-08-01</td>\n",
       "      <td>967.2</td>\n",
       "    </tr>\n",
       "    <tr>\n",
       "      <th>3</th>\n",
       "      <td>2019-08-02</td>\n",
       "      <td>2568.1</td>\n",
       "    </tr>\n",
       "    <tr>\n",
       "      <th>5</th>\n",
       "      <td>2019-08-03</td>\n",
       "      <td>1071.6</td>\n",
       "    </tr>\n",
       "    <tr>\n",
       "      <th>7</th>\n",
       "      <td>2019-08-04</td>\n",
       "      <td>1531.6</td>\n",
       "    </tr>\n",
       "    <tr>\n",
       "      <th>9</th>\n",
       "      <td>2019-08-05</td>\n",
       "      <td>1449.3</td>\n",
       "    </tr>\n",
       "    <tr>\n",
       "      <th>11</th>\n",
       "      <td>2019-08-06</td>\n",
       "      <td>3369.3</td>\n",
       "    </tr>\n",
       "    <tr>\n",
       "      <th>13</th>\n",
       "      <td>2019-08-07</td>\n",
       "      <td>3435.6</td>\n",
       "    </tr>\n",
       "    <tr>\n",
       "      <th>15</th>\n",
       "      <td>2019-08-08</td>\n",
       "      <td>2379.9</td>\n",
       "    </tr>\n",
       "    <tr>\n",
       "      <th>17</th>\n",
       "      <td>2019-08-09</td>\n",
       "      <td>1656.2</td>\n",
       "    </tr>\n",
       "    <tr>\n",
       "      <th>19</th>\n",
       "      <td>2019-08-10</td>\n",
       "      <td>1674.8</td>\n",
       "    </tr>\n",
       "  </tbody>\n",
       "</table>\n",
       "</div>"
      ],
      "text/plain": [
       "         date  revenue_per_day\n",
       "1  2019-08-01            967.2\n",
       "3  2019-08-02           2568.1\n",
       "5  2019-08-03           1071.6\n",
       "7  2019-08-04           1531.6\n",
       "9  2019-08-05           1449.3\n",
       "11 2019-08-06           3369.3\n",
       "13 2019-08-07           3435.6\n",
       "15 2019-08-08           2379.9\n",
       "17 2019-08-09           1656.2\n",
       "19 2019-08-10           1674.8"
      ]
     },
     "execution_count": 663,
     "metadata": {},
     "output_type": "execute_result"
    }
   ],
   "source": [
    "RevenueB.head(10)"
   ]
  },
  {
   "cell_type": "code",
   "execution_count": 664,
   "metadata": {},
   "outputs": [
    {
     "data": {
      "text/html": [
       "<div>\n",
       "<style scoped>\n",
       "    .dataframe tbody tr th:only-of-type {\n",
       "        vertical-align: middle;\n",
       "    }\n",
       "\n",
       "    .dataframe tbody tr th {\n",
       "        vertical-align: top;\n",
       "    }\n",
       "\n",
       "    .dataframe thead th {\n",
       "        text-align: right;\n",
       "    }\n",
       "</style>\n",
       "<table border=\"1\" class=\"dataframe\">\n",
       "  <thead>\n",
       "    <tr style=\"text-align: right;\">\n",
       "      <th></th>\n",
       "      <th>date</th>\n",
       "      <th>revenue_per_day</th>\n",
       "      <th>cum_RevenueB</th>\n",
       "    </tr>\n",
       "  </thead>\n",
       "  <tbody>\n",
       "    <tr>\n",
       "      <th>1</th>\n",
       "      <td>2019-08-01</td>\n",
       "      <td>967.2</td>\n",
       "      <td>967.2</td>\n",
       "    </tr>\n",
       "    <tr>\n",
       "      <th>3</th>\n",
       "      <td>2019-08-02</td>\n",
       "      <td>2568.1</td>\n",
       "      <td>3535.3</td>\n",
       "    </tr>\n",
       "    <tr>\n",
       "      <th>5</th>\n",
       "      <td>2019-08-03</td>\n",
       "      <td>1071.6</td>\n",
       "      <td>4606.9</td>\n",
       "    </tr>\n",
       "    <tr>\n",
       "      <th>7</th>\n",
       "      <td>2019-08-04</td>\n",
       "      <td>1531.6</td>\n",
       "      <td>6138.5</td>\n",
       "    </tr>\n",
       "    <tr>\n",
       "      <th>9</th>\n",
       "      <td>2019-08-05</td>\n",
       "      <td>1449.3</td>\n",
       "      <td>7587.8</td>\n",
       "    </tr>\n",
       "    <tr>\n",
       "      <th>11</th>\n",
       "      <td>2019-08-06</td>\n",
       "      <td>3369.3</td>\n",
       "      <td>10957.1</td>\n",
       "    </tr>\n",
       "    <tr>\n",
       "      <th>13</th>\n",
       "      <td>2019-08-07</td>\n",
       "      <td>3435.6</td>\n",
       "      <td>14392.7</td>\n",
       "    </tr>\n",
       "    <tr>\n",
       "      <th>15</th>\n",
       "      <td>2019-08-08</td>\n",
       "      <td>2379.9</td>\n",
       "      <td>16772.6</td>\n",
       "    </tr>\n",
       "    <tr>\n",
       "      <th>17</th>\n",
       "      <td>2019-08-09</td>\n",
       "      <td>1656.2</td>\n",
       "      <td>18428.8</td>\n",
       "    </tr>\n",
       "    <tr>\n",
       "      <th>19</th>\n",
       "      <td>2019-08-10</td>\n",
       "      <td>1674.8</td>\n",
       "      <td>20103.6</td>\n",
       "    </tr>\n",
       "  </tbody>\n",
       "</table>\n",
       "</div>"
      ],
      "text/plain": [
       "         date  revenue_per_day  cum_RevenueB\n",
       "1  2019-08-01            967.2         967.2\n",
       "3  2019-08-02           2568.1        3535.3\n",
       "5  2019-08-03           1071.6        4606.9\n",
       "7  2019-08-04           1531.6        6138.5\n",
       "9  2019-08-05           1449.3        7587.8\n",
       "11 2019-08-06           3369.3       10957.1\n",
       "13 2019-08-07           3435.6       14392.7\n",
       "15 2019-08-08           2379.9       16772.6\n",
       "17 2019-08-09           1656.2       18428.8\n",
       "19 2019-08-10           1674.8       20103.6"
      ]
     },
     "execution_count": 664,
     "metadata": {},
     "output_type": "execute_result"
    }
   ],
   "source": [
    "# add column with cumulative revenue for group B\n",
    "RevenueB['cum_RevenueB'] = RevenueB['revenue_per_day'].cumsum()\n",
    "RevenueB.head(10)"
   ]
  },
  {
   "cell_type": "markdown",
   "metadata": {},
   "source": [
    "***"
   ]
  },
  {
   "cell_type": "markdown",
   "metadata": {},
   "source": [
    "##### 2. Average Purchase Size for groups and Cumulative Average Purchase Size for groups."
   ]
  },
  {
   "cell_type": "markdown",
   "metadata": {},
   "source": [
    "* Orders per day."
   ]
  },
  {
   "cell_type": "code",
   "execution_count": 665,
   "metadata": {},
   "outputs": [
    {
     "data": {
      "text/html": [
       "<div>\n",
       "<style scoped>\n",
       "    .dataframe tbody tr th:only-of-type {\n",
       "        vertical-align: middle;\n",
       "    }\n",
       "\n",
       "    .dataframe tbody tr th {\n",
       "        vertical-align: top;\n",
       "    }\n",
       "\n",
       "    .dataframe thead th {\n",
       "        text-align: right;\n",
       "    }\n",
       "</style>\n",
       "<table border=\"1\" class=\"dataframe\">\n",
       "  <thead>\n",
       "    <tr style=\"text-align: right;\">\n",
       "      <th></th>\n",
       "      <th>date</th>\n",
       "      <th>group</th>\n",
       "      <th>orders_per_day</th>\n",
       "    </tr>\n",
       "  </thead>\n",
       "  <tbody>\n",
       "    <tr>\n",
       "      <th>0</th>\n",
       "      <td>2019-08-01</td>\n",
       "      <td>A</td>\n",
       "      <td>23</td>\n",
       "    </tr>\n",
       "    <tr>\n",
       "      <th>1</th>\n",
       "      <td>2019-08-01</td>\n",
       "      <td>B</td>\n",
       "      <td>17</td>\n",
       "    </tr>\n",
       "    <tr>\n",
       "      <th>2</th>\n",
       "      <td>2019-08-02</td>\n",
       "      <td>A</td>\n",
       "      <td>19</td>\n",
       "    </tr>\n",
       "    <tr>\n",
       "      <th>3</th>\n",
       "      <td>2019-08-02</td>\n",
       "      <td>B</td>\n",
       "      <td>23</td>\n",
       "    </tr>\n",
       "    <tr>\n",
       "      <th>4</th>\n",
       "      <td>2019-08-03</td>\n",
       "      <td>A</td>\n",
       "      <td>24</td>\n",
       "    </tr>\n",
       "  </tbody>\n",
       "</table>\n",
       "</div>"
      ],
      "text/plain": [
       "        date group  orders_per_day\n",
       "0 2019-08-01     A              23\n",
       "1 2019-08-01     B              17\n",
       "2 2019-08-02     A              19\n",
       "3 2019-08-02     B              23\n",
       "4 2019-08-03     A              24"
      ]
     },
     "execution_count": 665,
     "metadata": {},
     "output_type": "execute_result"
    }
   ],
   "source": [
    "# group by date and group and calculate number of unique transactions\n",
    "orders_per_day = clean_orders.groupby(['date', 'group'])['transactionId'].nunique().reset_index()\n",
    "orders_per_day.columns = ['date', 'group', 'orders_per_day']\n",
    "orders_per_day.head()"
   ]
  },
  {
   "cell_type": "code",
   "execution_count": 666,
   "metadata": {},
   "outputs": [],
   "source": [
    "# dataFrame with orders per day, group A\n",
    "OrdersA = orders_per_day[orders_per_day['group'] == 'A'][['date', 'orders_per_day']]\n",
    "# dataFrame with orders per day, group B\n",
    "OrdersB = orders_per_day[orders_per_day['group'] == 'B'][['date', 'orders_per_day']]"
   ]
  },
  {
   "cell_type": "code",
   "execution_count": 667,
   "metadata": {},
   "outputs": [
    {
     "data": {
      "text/html": [
       "<div>\n",
       "<style scoped>\n",
       "    .dataframe tbody tr th:only-of-type {\n",
       "        vertical-align: middle;\n",
       "    }\n",
       "\n",
       "    .dataframe tbody tr th {\n",
       "        vertical-align: top;\n",
       "    }\n",
       "\n",
       "    .dataframe thead th {\n",
       "        text-align: right;\n",
       "    }\n",
       "</style>\n",
       "<table border=\"1\" class=\"dataframe\">\n",
       "  <thead>\n",
       "    <tr style=\"text-align: right;\">\n",
       "      <th></th>\n",
       "      <th>date</th>\n",
       "      <th>orders_per_day</th>\n",
       "    </tr>\n",
       "  </thead>\n",
       "  <tbody>\n",
       "    <tr>\n",
       "      <th>0</th>\n",
       "      <td>2019-08-01</td>\n",
       "      <td>23</td>\n",
       "    </tr>\n",
       "    <tr>\n",
       "      <th>2</th>\n",
       "      <td>2019-08-02</td>\n",
       "      <td>19</td>\n",
       "    </tr>\n",
       "    <tr>\n",
       "      <th>4</th>\n",
       "      <td>2019-08-03</td>\n",
       "      <td>24</td>\n",
       "    </tr>\n",
       "    <tr>\n",
       "      <th>6</th>\n",
       "      <td>2019-08-04</td>\n",
       "      <td>11</td>\n",
       "    </tr>\n",
       "    <tr>\n",
       "      <th>8</th>\n",
       "      <td>2019-08-05</td>\n",
       "      <td>22</td>\n",
       "    </tr>\n",
       "  </tbody>\n",
       "</table>\n",
       "</div>"
      ],
      "text/plain": [
       "        date  orders_per_day\n",
       "0 2019-08-01              23\n",
       "2 2019-08-02              19\n",
       "4 2019-08-03              24\n",
       "6 2019-08-04              11\n",
       "8 2019-08-05              22"
      ]
     },
     "execution_count": 667,
     "metadata": {},
     "output_type": "execute_result"
    }
   ],
   "source": [
    "# orders for group A\n",
    "OrdersA.head()"
   ]
  },
  {
   "cell_type": "code",
   "execution_count": 668,
   "metadata": {},
   "outputs": [
    {
     "data": {
      "text/html": [
       "<div>\n",
       "<style scoped>\n",
       "    .dataframe tbody tr th:only-of-type {\n",
       "        vertical-align: middle;\n",
       "    }\n",
       "\n",
       "    .dataframe tbody tr th {\n",
       "        vertical-align: top;\n",
       "    }\n",
       "\n",
       "    .dataframe thead th {\n",
       "        text-align: right;\n",
       "    }\n",
       "</style>\n",
       "<table border=\"1\" class=\"dataframe\">\n",
       "  <thead>\n",
       "    <tr style=\"text-align: right;\">\n",
       "      <th></th>\n",
       "      <th>date</th>\n",
       "      <th>orders_per_day</th>\n",
       "    </tr>\n",
       "  </thead>\n",
       "  <tbody>\n",
       "    <tr>\n",
       "      <th>0</th>\n",
       "      <td>2019-08-01</td>\n",
       "      <td>23</td>\n",
       "    </tr>\n",
       "    <tr>\n",
       "      <th>2</th>\n",
       "      <td>2019-08-02</td>\n",
       "      <td>19</td>\n",
       "    </tr>\n",
       "    <tr>\n",
       "      <th>4</th>\n",
       "      <td>2019-08-03</td>\n",
       "      <td>24</td>\n",
       "    </tr>\n",
       "    <tr>\n",
       "      <th>6</th>\n",
       "      <td>2019-08-04</td>\n",
       "      <td>11</td>\n",
       "    </tr>\n",
       "    <tr>\n",
       "      <th>8</th>\n",
       "      <td>2019-08-05</td>\n",
       "      <td>22</td>\n",
       "    </tr>\n",
       "  </tbody>\n",
       "</table>\n",
       "</div>"
      ],
      "text/plain": [
       "        date  orders_per_day\n",
       "0 2019-08-01              23\n",
       "2 2019-08-02              19\n",
       "4 2019-08-03              24\n",
       "6 2019-08-04              11\n",
       "8 2019-08-05              22"
      ]
     },
     "execution_count": 668,
     "metadata": {},
     "output_type": "execute_result"
    }
   ],
   "source": [
    "OrdersA.head()"
   ]
  },
  {
   "cell_type": "code",
   "execution_count": 669,
   "metadata": {},
   "outputs": [
    {
     "data": {
      "text/html": [
       "<div>\n",
       "<style scoped>\n",
       "    .dataframe tbody tr th:only-of-type {\n",
       "        vertical-align: middle;\n",
       "    }\n",
       "\n",
       "    .dataframe tbody tr th {\n",
       "        vertical-align: top;\n",
       "    }\n",
       "\n",
       "    .dataframe thead th {\n",
       "        text-align: right;\n",
       "    }\n",
       "</style>\n",
       "<table border=\"1\" class=\"dataframe\">\n",
       "  <thead>\n",
       "    <tr style=\"text-align: right;\">\n",
       "      <th></th>\n",
       "      <th>date</th>\n",
       "      <th>orders_per_day</th>\n",
       "      <th>cum_orders_per_dayA</th>\n",
       "    </tr>\n",
       "  </thead>\n",
       "  <tbody>\n",
       "    <tr>\n",
       "      <th>0</th>\n",
       "      <td>2019-08-01</td>\n",
       "      <td>23</td>\n",
       "      <td>23</td>\n",
       "    </tr>\n",
       "    <tr>\n",
       "      <th>2</th>\n",
       "      <td>2019-08-02</td>\n",
       "      <td>19</td>\n",
       "      <td>42</td>\n",
       "    </tr>\n",
       "    <tr>\n",
       "      <th>4</th>\n",
       "      <td>2019-08-03</td>\n",
       "      <td>24</td>\n",
       "      <td>66</td>\n",
       "    </tr>\n",
       "    <tr>\n",
       "      <th>6</th>\n",
       "      <td>2019-08-04</td>\n",
       "      <td>11</td>\n",
       "      <td>77</td>\n",
       "    </tr>\n",
       "    <tr>\n",
       "      <th>8</th>\n",
       "      <td>2019-08-05</td>\n",
       "      <td>22</td>\n",
       "      <td>99</td>\n",
       "    </tr>\n",
       "    <tr>\n",
       "      <th>10</th>\n",
       "      <td>2019-08-06</td>\n",
       "      <td>15</td>\n",
       "      <td>114</td>\n",
       "    </tr>\n",
       "    <tr>\n",
       "      <th>12</th>\n",
       "      <td>2019-08-07</td>\n",
       "      <td>16</td>\n",
       "      <td>130</td>\n",
       "    </tr>\n",
       "    <tr>\n",
       "      <th>14</th>\n",
       "      <td>2019-08-08</td>\n",
       "      <td>14</td>\n",
       "      <td>144</td>\n",
       "    </tr>\n",
       "    <tr>\n",
       "      <th>16</th>\n",
       "      <td>2019-08-09</td>\n",
       "      <td>11</td>\n",
       "      <td>155</td>\n",
       "    </tr>\n",
       "    <tr>\n",
       "      <th>18</th>\n",
       "      <td>2019-08-10</td>\n",
       "      <td>15</td>\n",
       "      <td>170</td>\n",
       "    </tr>\n",
       "  </tbody>\n",
       "</table>\n",
       "</div>"
      ],
      "text/plain": [
       "         date  orders_per_day  cum_orders_per_dayA\n",
       "0  2019-08-01              23                   23\n",
       "2  2019-08-02              19                   42\n",
       "4  2019-08-03              24                   66\n",
       "6  2019-08-04              11                   77\n",
       "8  2019-08-05              22                   99\n",
       "10 2019-08-06              15                  114\n",
       "12 2019-08-07              16                  130\n",
       "14 2019-08-08              14                  144\n",
       "16 2019-08-09              11                  155\n",
       "18 2019-08-10              15                  170"
      ]
     },
     "execution_count": 669,
     "metadata": {},
     "output_type": "execute_result"
    }
   ],
   "source": [
    "# add comulative orders for group A\n",
    "OrdersA['cum_orders_per_dayA'] = OrdersA['orders_per_day'].cumsum()\n",
    "OrdersA.head(10)"
   ]
  },
  {
   "cell_type": "code",
   "execution_count": 670,
   "metadata": {},
   "outputs": [
    {
     "data": {
      "text/html": [
       "<div>\n",
       "<style scoped>\n",
       "    .dataframe tbody tr th:only-of-type {\n",
       "        vertical-align: middle;\n",
       "    }\n",
       "\n",
       "    .dataframe tbody tr th {\n",
       "        vertical-align: top;\n",
       "    }\n",
       "\n",
       "    .dataframe thead th {\n",
       "        text-align: right;\n",
       "    }\n",
       "</style>\n",
       "<table border=\"1\" class=\"dataframe\">\n",
       "  <thead>\n",
       "    <tr style=\"text-align: right;\">\n",
       "      <th></th>\n",
       "      <th>date</th>\n",
       "      <th>orders_per_day</th>\n",
       "    </tr>\n",
       "  </thead>\n",
       "  <tbody>\n",
       "    <tr>\n",
       "      <th>1</th>\n",
       "      <td>2019-08-01</td>\n",
       "      <td>17</td>\n",
       "    </tr>\n",
       "    <tr>\n",
       "      <th>3</th>\n",
       "      <td>2019-08-02</td>\n",
       "      <td>23</td>\n",
       "    </tr>\n",
       "    <tr>\n",
       "      <th>5</th>\n",
       "      <td>2019-08-03</td>\n",
       "      <td>14</td>\n",
       "    </tr>\n",
       "    <tr>\n",
       "      <th>7</th>\n",
       "      <td>2019-08-04</td>\n",
       "      <td>14</td>\n",
       "    </tr>\n",
       "    <tr>\n",
       "      <th>9</th>\n",
       "      <td>2019-08-05</td>\n",
       "      <td>21</td>\n",
       "    </tr>\n",
       "  </tbody>\n",
       "</table>\n",
       "</div>"
      ],
      "text/plain": [
       "        date  orders_per_day\n",
       "1 2019-08-01              17\n",
       "3 2019-08-02              23\n",
       "5 2019-08-03              14\n",
       "7 2019-08-04              14\n",
       "9 2019-08-05              21"
      ]
     },
     "execution_count": 670,
     "metadata": {},
     "output_type": "execute_result"
    }
   ],
   "source": [
    "# orders for group B\n",
    "OrdersB.head()"
   ]
  },
  {
   "cell_type": "code",
   "execution_count": 671,
   "metadata": {},
   "outputs": [
    {
     "data": {
      "text/html": [
       "<div>\n",
       "<style scoped>\n",
       "    .dataframe tbody tr th:only-of-type {\n",
       "        vertical-align: middle;\n",
       "    }\n",
       "\n",
       "    .dataframe tbody tr th {\n",
       "        vertical-align: top;\n",
       "    }\n",
       "\n",
       "    .dataframe thead th {\n",
       "        text-align: right;\n",
       "    }\n",
       "</style>\n",
       "<table border=\"1\" class=\"dataframe\">\n",
       "  <thead>\n",
       "    <tr style=\"text-align: right;\">\n",
       "      <th></th>\n",
       "      <th>date</th>\n",
       "      <th>orders_per_day</th>\n",
       "      <th>cum_orders_per_dayB</th>\n",
       "    </tr>\n",
       "  </thead>\n",
       "  <tbody>\n",
       "    <tr>\n",
       "      <th>1</th>\n",
       "      <td>2019-08-01</td>\n",
       "      <td>17</td>\n",
       "      <td>17</td>\n",
       "    </tr>\n",
       "    <tr>\n",
       "      <th>3</th>\n",
       "      <td>2019-08-02</td>\n",
       "      <td>23</td>\n",
       "      <td>40</td>\n",
       "    </tr>\n",
       "    <tr>\n",
       "      <th>5</th>\n",
       "      <td>2019-08-03</td>\n",
       "      <td>14</td>\n",
       "      <td>54</td>\n",
       "    </tr>\n",
       "    <tr>\n",
       "      <th>7</th>\n",
       "      <td>2019-08-04</td>\n",
       "      <td>14</td>\n",
       "      <td>68</td>\n",
       "    </tr>\n",
       "    <tr>\n",
       "      <th>9</th>\n",
       "      <td>2019-08-05</td>\n",
       "      <td>21</td>\n",
       "      <td>89</td>\n",
       "    </tr>\n",
       "    <tr>\n",
       "      <th>11</th>\n",
       "      <td>2019-08-06</td>\n",
       "      <td>23</td>\n",
       "      <td>112</td>\n",
       "    </tr>\n",
       "    <tr>\n",
       "      <th>13</th>\n",
       "      <td>2019-08-07</td>\n",
       "      <td>23</td>\n",
       "      <td>135</td>\n",
       "    </tr>\n",
       "    <tr>\n",
       "      <th>15</th>\n",
       "      <td>2019-08-08</td>\n",
       "      <td>22</td>\n",
       "      <td>157</td>\n",
       "    </tr>\n",
       "    <tr>\n",
       "      <th>17</th>\n",
       "      <td>2019-08-09</td>\n",
       "      <td>19</td>\n",
       "      <td>176</td>\n",
       "    </tr>\n",
       "    <tr>\n",
       "      <th>19</th>\n",
       "      <td>2019-08-10</td>\n",
       "      <td>22</td>\n",
       "      <td>198</td>\n",
       "    </tr>\n",
       "  </tbody>\n",
       "</table>\n",
       "</div>"
      ],
      "text/plain": [
       "         date  orders_per_day  cum_orders_per_dayB\n",
       "1  2019-08-01              17                   17\n",
       "3  2019-08-02              23                   40\n",
       "5  2019-08-03              14                   54\n",
       "7  2019-08-04              14                   68\n",
       "9  2019-08-05              21                   89\n",
       "11 2019-08-06              23                  112\n",
       "13 2019-08-07              23                  135\n",
       "15 2019-08-08              22                  157\n",
       "17 2019-08-09              19                  176\n",
       "19 2019-08-10              22                  198"
      ]
     },
     "execution_count": 671,
     "metadata": {},
     "output_type": "execute_result"
    }
   ],
   "source": [
    "# add comulative orders for group B\n",
    "OrdersB['cum_orders_per_dayB'] = OrdersB['orders_per_day'].cumsum()\n",
    "OrdersB.head(10)"
   ]
  },
  {
   "cell_type": "code",
   "execution_count": 672,
   "metadata": {},
   "outputs": [
    {
     "data": {
      "text/html": [
       "<div>\n",
       "<style scoped>\n",
       "    .dataframe tbody tr th:only-of-type {\n",
       "        vertical-align: middle;\n",
       "    }\n",
       "\n",
       "    .dataframe tbody tr th {\n",
       "        vertical-align: top;\n",
       "    }\n",
       "\n",
       "    .dataframe thead th {\n",
       "        text-align: right;\n",
       "    }\n",
       "</style>\n",
       "<table border=\"1\" class=\"dataframe\">\n",
       "  <thead>\n",
       "    <tr style=\"text-align: right;\">\n",
       "      <th></th>\n",
       "      <th>date</th>\n",
       "      <th>revenue_per_day</th>\n",
       "      <th>cum_RevenueA</th>\n",
       "      <th>orders_per_day</th>\n",
       "      <th>cum_orders_per_dayA</th>\n",
       "    </tr>\n",
       "  </thead>\n",
       "  <tbody>\n",
       "    <tr>\n",
       "      <th>0</th>\n",
       "      <td>2019-08-01</td>\n",
       "      <td>2266.6</td>\n",
       "      <td>2266.6</td>\n",
       "      <td>23</td>\n",
       "      <td>23</td>\n",
       "    </tr>\n",
       "    <tr>\n",
       "      <th>1</th>\n",
       "      <td>2019-08-02</td>\n",
       "      <td>1468.3</td>\n",
       "      <td>3734.9</td>\n",
       "      <td>19</td>\n",
       "      <td>42</td>\n",
       "    </tr>\n",
       "    <tr>\n",
       "      <th>2</th>\n",
       "      <td>2019-08-03</td>\n",
       "      <td>1815.2</td>\n",
       "      <td>5550.1</td>\n",
       "      <td>24</td>\n",
       "      <td>66</td>\n",
       "    </tr>\n",
       "    <tr>\n",
       "      <th>3</th>\n",
       "      <td>2019-08-04</td>\n",
       "      <td>675.5</td>\n",
       "      <td>6225.6</td>\n",
       "      <td>11</td>\n",
       "      <td>77</td>\n",
       "    </tr>\n",
       "    <tr>\n",
       "      <th>4</th>\n",
       "      <td>2019-08-05</td>\n",
       "      <td>1398.0</td>\n",
       "      <td>7623.6</td>\n",
       "      <td>22</td>\n",
       "      <td>99</td>\n",
       "    </tr>\n",
       "    <tr>\n",
       "      <th>5</th>\n",
       "      <td>2019-08-06</td>\n",
       "      <td>668.4</td>\n",
       "      <td>8292.0</td>\n",
       "      <td>15</td>\n",
       "      <td>114</td>\n",
       "    </tr>\n",
       "    <tr>\n",
       "      <th>6</th>\n",
       "      <td>2019-08-07</td>\n",
       "      <td>1942.0</td>\n",
       "      <td>10234.0</td>\n",
       "      <td>16</td>\n",
       "      <td>130</td>\n",
       "    </tr>\n",
       "    <tr>\n",
       "      <th>7</th>\n",
       "      <td>2019-08-08</td>\n",
       "      <td>1404.8</td>\n",
       "      <td>11638.8</td>\n",
       "      <td>14</td>\n",
       "      <td>144</td>\n",
       "    </tr>\n",
       "    <tr>\n",
       "      <th>8</th>\n",
       "      <td>2019-08-09</td>\n",
       "      <td>2095.2</td>\n",
       "      <td>13734.0</td>\n",
       "      <td>11</td>\n",
       "      <td>155</td>\n",
       "    </tr>\n",
       "    <tr>\n",
       "      <th>9</th>\n",
       "      <td>2019-08-10</td>\n",
       "      <td>2387.5</td>\n",
       "      <td>16121.5</td>\n",
       "      <td>15</td>\n",
       "      <td>170</td>\n",
       "    </tr>\n",
       "  </tbody>\n",
       "</table>\n",
       "</div>"
      ],
      "text/plain": [
       "        date  revenue_per_day  cum_RevenueA  orders_per_day  \\\n",
       "0 2019-08-01           2266.6        2266.6              23   \n",
       "1 2019-08-02           1468.3        3734.9              19   \n",
       "2 2019-08-03           1815.2        5550.1              24   \n",
       "3 2019-08-04            675.5        6225.6              11   \n",
       "4 2019-08-05           1398.0        7623.6              22   \n",
       "5 2019-08-06            668.4        8292.0              15   \n",
       "6 2019-08-07           1942.0       10234.0              16   \n",
       "7 2019-08-08           1404.8       11638.8              14   \n",
       "8 2019-08-09           2095.2       13734.0              11   \n",
       "9 2019-08-10           2387.5       16121.5              15   \n",
       "\n",
       "   cum_orders_per_dayA  \n",
       "0                   23  \n",
       "1                   42  \n",
       "2                   66  \n",
       "3                   77  \n",
       "4                   99  \n",
       "5                  114  \n",
       "6                  130  \n",
       "7                  144  \n",
       "8                  155  \n",
       "9                  170  "
      ]
     },
     "execution_count": 672,
     "metadata": {},
     "output_type": "execute_result"
    }
   ],
   "source": [
    "# merge Revenue and Orders for group A\n",
    "merged_A = RevenueA.merge(OrdersA, how = 'left', on ='date')\n",
    "merged_A.head(10)"
   ]
  },
  {
   "cell_type": "code",
   "execution_count": 673,
   "metadata": {},
   "outputs": [
    {
     "data": {
      "text/html": [
       "<div>\n",
       "<style scoped>\n",
       "    .dataframe tbody tr th:only-of-type {\n",
       "        vertical-align: middle;\n",
       "    }\n",
       "\n",
       "    .dataframe tbody tr th {\n",
       "        vertical-align: top;\n",
       "    }\n",
       "\n",
       "    .dataframe thead th {\n",
       "        text-align: right;\n",
       "    }\n",
       "</style>\n",
       "<table border=\"1\" class=\"dataframe\">\n",
       "  <thead>\n",
       "    <tr style=\"text-align: right;\">\n",
       "      <th></th>\n",
       "      <th>date</th>\n",
       "      <th>revenue_per_day</th>\n",
       "      <th>cum_RevenueA</th>\n",
       "      <th>orders_per_day</th>\n",
       "      <th>cum_orders_per_dayA</th>\n",
       "      <th>average_order_sizeA</th>\n",
       "      <th>cum_avg_order_sizeA</th>\n",
       "    </tr>\n",
       "  </thead>\n",
       "  <tbody>\n",
       "    <tr>\n",
       "      <th>0</th>\n",
       "      <td>2019-08-01</td>\n",
       "      <td>2266.6</td>\n",
       "      <td>2266.6</td>\n",
       "      <td>23</td>\n",
       "      <td>23</td>\n",
       "      <td>98.547826</td>\n",
       "      <td>98.547826</td>\n",
       "    </tr>\n",
       "    <tr>\n",
       "      <th>1</th>\n",
       "      <td>2019-08-02</td>\n",
       "      <td>1468.3</td>\n",
       "      <td>3734.9</td>\n",
       "      <td>19</td>\n",
       "      <td>42</td>\n",
       "      <td>77.278947</td>\n",
       "      <td>175.826773</td>\n",
       "    </tr>\n",
       "    <tr>\n",
       "      <th>2</th>\n",
       "      <td>2019-08-03</td>\n",
       "      <td>1815.2</td>\n",
       "      <td>5550.1</td>\n",
       "      <td>24</td>\n",
       "      <td>66</td>\n",
       "      <td>75.633333</td>\n",
       "      <td>251.460107</td>\n",
       "    </tr>\n",
       "    <tr>\n",
       "      <th>3</th>\n",
       "      <td>2019-08-04</td>\n",
       "      <td>675.5</td>\n",
       "      <td>6225.6</td>\n",
       "      <td>11</td>\n",
       "      <td>77</td>\n",
       "      <td>61.409091</td>\n",
       "      <td>312.869198</td>\n",
       "    </tr>\n",
       "    <tr>\n",
       "      <th>4</th>\n",
       "      <td>2019-08-05</td>\n",
       "      <td>1398.0</td>\n",
       "      <td>7623.6</td>\n",
       "      <td>22</td>\n",
       "      <td>99</td>\n",
       "      <td>63.545455</td>\n",
       "      <td>376.414652</td>\n",
       "    </tr>\n",
       "    <tr>\n",
       "      <th>5</th>\n",
       "      <td>2019-08-06</td>\n",
       "      <td>668.4</td>\n",
       "      <td>8292.0</td>\n",
       "      <td>15</td>\n",
       "      <td>114</td>\n",
       "      <td>44.560000</td>\n",
       "      <td>420.974652</td>\n",
       "    </tr>\n",
       "    <tr>\n",
       "      <th>6</th>\n",
       "      <td>2019-08-07</td>\n",
       "      <td>1942.0</td>\n",
       "      <td>10234.0</td>\n",
       "      <td>16</td>\n",
       "      <td>130</td>\n",
       "      <td>121.375000</td>\n",
       "      <td>542.349652</td>\n",
       "    </tr>\n",
       "    <tr>\n",
       "      <th>7</th>\n",
       "      <td>2019-08-08</td>\n",
       "      <td>1404.8</td>\n",
       "      <td>11638.8</td>\n",
       "      <td>14</td>\n",
       "      <td>144</td>\n",
       "      <td>100.342857</td>\n",
       "      <td>642.692509</td>\n",
       "    </tr>\n",
       "    <tr>\n",
       "      <th>8</th>\n",
       "      <td>2019-08-09</td>\n",
       "      <td>2095.2</td>\n",
       "      <td>13734.0</td>\n",
       "      <td>11</td>\n",
       "      <td>155</td>\n",
       "      <td>190.472727</td>\n",
       "      <td>833.165237</td>\n",
       "    </tr>\n",
       "    <tr>\n",
       "      <th>9</th>\n",
       "      <td>2019-08-10</td>\n",
       "      <td>2387.5</td>\n",
       "      <td>16121.5</td>\n",
       "      <td>15</td>\n",
       "      <td>170</td>\n",
       "      <td>159.166667</td>\n",
       "      <td>992.331903</td>\n",
       "    </tr>\n",
       "  </tbody>\n",
       "</table>\n",
       "</div>"
      ],
      "text/plain": [
       "        date  revenue_per_day  cum_RevenueA  orders_per_day  \\\n",
       "0 2019-08-01           2266.6        2266.6              23   \n",
       "1 2019-08-02           1468.3        3734.9              19   \n",
       "2 2019-08-03           1815.2        5550.1              24   \n",
       "3 2019-08-04            675.5        6225.6              11   \n",
       "4 2019-08-05           1398.0        7623.6              22   \n",
       "5 2019-08-06            668.4        8292.0              15   \n",
       "6 2019-08-07           1942.0       10234.0              16   \n",
       "7 2019-08-08           1404.8       11638.8              14   \n",
       "8 2019-08-09           2095.2       13734.0              11   \n",
       "9 2019-08-10           2387.5       16121.5              15   \n",
       "\n",
       "   cum_orders_per_dayA  average_order_sizeA  cum_avg_order_sizeA  \n",
       "0                   23            98.547826            98.547826  \n",
       "1                   42            77.278947           175.826773  \n",
       "2                   66            75.633333           251.460107  \n",
       "3                   77            61.409091           312.869198  \n",
       "4                   99            63.545455           376.414652  \n",
       "5                  114            44.560000           420.974652  \n",
       "6                  130           121.375000           542.349652  \n",
       "7                  144           100.342857           642.692509  \n",
       "8                  155           190.472727           833.165237  \n",
       "9                  170           159.166667           992.331903  "
      ]
     },
     "execution_count": 673,
     "metadata": {},
     "output_type": "execute_result"
    }
   ],
   "source": [
    "# add columns for average order size and cumulative order size for group A\n",
    "merged_A['average_order_sizeA'] = merged_A['revenue_per_day'] / merged_A['orders_per_day']\n",
    "merged_A['cum_avg_order_sizeA'] = merged_A['average_order_sizeA'].cumsum()\n",
    "merged_A.head(10)"
   ]
  },
  {
   "cell_type": "code",
   "execution_count": 674,
   "metadata": {},
   "outputs": [
    {
     "data": {
      "text/plain": [
       "count     31.000000\n",
       "mean     115.512472\n",
       "std       51.954826\n",
       "min       42.152941\n",
       "25%       82.430383\n",
       "50%      102.275000\n",
       "75%      140.817222\n",
       "max      292.635714\n",
       "Name: average_order_sizeA, dtype: float64"
      ]
     },
     "execution_count": 674,
     "metadata": {},
     "output_type": "execute_result"
    }
   ],
   "source": [
    "# use describe method to see some statistics data.\n",
    "merged_A['average_order_sizeA'].describe()"
   ]
  },
  {
   "cell_type": "code",
   "execution_count": 675,
   "metadata": {},
   "outputs": [
    {
     "data": {
      "text/plain": [
       "<matplotlib.collections.PathCollection at 0x14912cdd0>"
      ]
     },
     "execution_count": 675,
     "metadata": {},
     "output_type": "execute_result"
    },
    {
     "data": {
      "image/png": "[encoded data removed]",
      "text/plain": [
       "<Figure size 640x480 with 1 Axes>"
      ]
     },
     "metadata": {},
     "output_type": "display_data"
    }
   ],
   "source": [
    "x_values = pd.Series(range(0, len(merged_A['average_order_sizeA'])))\n",
    "plt.scatter(x_values, merged_A['average_order_sizeA'])"
   ]
  },
  {
   "cell_type": "markdown",
   "metadata": {},
   "source": [
    "##### We can already infer the existence of some anomalie data on the dataframe as the max. purchase check is over 292."
   ]
  },
  {
   "cell_type": "code",
   "execution_count": 676,
   "metadata": {},
   "outputs": [
    {
     "data": {
      "text/html": [
       "<div>\n",
       "<style scoped>\n",
       "    .dataframe tbody tr th:only-of-type {\n",
       "        vertical-align: middle;\n",
       "    }\n",
       "\n",
       "    .dataframe tbody tr th {\n",
       "        vertical-align: top;\n",
       "    }\n",
       "\n",
       "    .dataframe thead th {\n",
       "        text-align: right;\n",
       "    }\n",
       "</style>\n",
       "<table border=\"1\" class=\"dataframe\">\n",
       "  <thead>\n",
       "    <tr style=\"text-align: right;\">\n",
       "      <th></th>\n",
       "      <th>date</th>\n",
       "      <th>revenue_per_day</th>\n",
       "      <th>cum_RevenueB</th>\n",
       "      <th>orders_per_day</th>\n",
       "      <th>cum_orders_per_dayB</th>\n",
       "    </tr>\n",
       "  </thead>\n",
       "  <tbody>\n",
       "    <tr>\n",
       "      <th>0</th>\n",
       "      <td>2019-08-01</td>\n",
       "      <td>967.2</td>\n",
       "      <td>967.2</td>\n",
       "      <td>17</td>\n",
       "      <td>17</td>\n",
       "    </tr>\n",
       "    <tr>\n",
       "      <th>1</th>\n",
       "      <td>2019-08-02</td>\n",
       "      <td>2568.1</td>\n",
       "      <td>3535.3</td>\n",
       "      <td>23</td>\n",
       "      <td>40</td>\n",
       "    </tr>\n",
       "    <tr>\n",
       "      <th>2</th>\n",
       "      <td>2019-08-03</td>\n",
       "      <td>1071.6</td>\n",
       "      <td>4606.9</td>\n",
       "      <td>14</td>\n",
       "      <td>54</td>\n",
       "    </tr>\n",
       "    <tr>\n",
       "      <th>3</th>\n",
       "      <td>2019-08-04</td>\n",
       "      <td>1531.6</td>\n",
       "      <td>6138.5</td>\n",
       "      <td>14</td>\n",
       "      <td>68</td>\n",
       "    </tr>\n",
       "    <tr>\n",
       "      <th>4</th>\n",
       "      <td>2019-08-05</td>\n",
       "      <td>1449.3</td>\n",
       "      <td>7587.8</td>\n",
       "      <td>21</td>\n",
       "      <td>89</td>\n",
       "    </tr>\n",
       "    <tr>\n",
       "      <th>5</th>\n",
       "      <td>2019-08-06</td>\n",
       "      <td>3369.3</td>\n",
       "      <td>10957.1</td>\n",
       "      <td>23</td>\n",
       "      <td>112</td>\n",
       "    </tr>\n",
       "    <tr>\n",
       "      <th>6</th>\n",
       "      <td>2019-08-07</td>\n",
       "      <td>3435.6</td>\n",
       "      <td>14392.7</td>\n",
       "      <td>23</td>\n",
       "      <td>135</td>\n",
       "    </tr>\n",
       "    <tr>\n",
       "      <th>7</th>\n",
       "      <td>2019-08-08</td>\n",
       "      <td>2379.9</td>\n",
       "      <td>16772.6</td>\n",
       "      <td>22</td>\n",
       "      <td>157</td>\n",
       "    </tr>\n",
       "    <tr>\n",
       "      <th>8</th>\n",
       "      <td>2019-08-09</td>\n",
       "      <td>1656.2</td>\n",
       "      <td>18428.8</td>\n",
       "      <td>19</td>\n",
       "      <td>176</td>\n",
       "    </tr>\n",
       "    <tr>\n",
       "      <th>9</th>\n",
       "      <td>2019-08-10</td>\n",
       "      <td>1674.8</td>\n",
       "      <td>20103.6</td>\n",
       "      <td>22</td>\n",
       "      <td>198</td>\n",
       "    </tr>\n",
       "  </tbody>\n",
       "</table>\n",
       "</div>"
      ],
      "text/plain": [
       "        date  revenue_per_day  cum_RevenueB  orders_per_day  \\\n",
       "0 2019-08-01            967.2         967.2              17   \n",
       "1 2019-08-02           2568.1        3535.3              23   \n",
       "2 2019-08-03           1071.6        4606.9              14   \n",
       "3 2019-08-04           1531.6        6138.5              14   \n",
       "4 2019-08-05           1449.3        7587.8              21   \n",
       "5 2019-08-06           3369.3       10957.1              23   \n",
       "6 2019-08-07           3435.6       14392.7              23   \n",
       "7 2019-08-08           2379.9       16772.6              22   \n",
       "8 2019-08-09           1656.2       18428.8              19   \n",
       "9 2019-08-10           1674.8       20103.6              22   \n",
       "\n",
       "   cum_orders_per_dayB  \n",
       "0                   17  \n",
       "1                   40  \n",
       "2                   54  \n",
       "3                   68  \n",
       "4                   89  \n",
       "5                  112  \n",
       "6                  135  \n",
       "7                  157  \n",
       "8                  176  \n",
       "9                  198  "
      ]
     },
     "execution_count": 676,
     "metadata": {},
     "output_type": "execute_result"
    }
   ],
   "source": [
    "# merge Revenue and Orders for group B\n",
    "merged_B = RevenueB.merge(OrdersB, how = 'left', on ='date')\n",
    "merged_B.head(10)"
   ]
  },
  {
   "cell_type": "code",
   "execution_count": 677,
   "metadata": {},
   "outputs": [
    {
     "data": {
      "text/html": [
       "<div>\n",
       "<style scoped>\n",
       "    .dataframe tbody tr th:only-of-type {\n",
       "        vertical-align: middle;\n",
       "    }\n",
       "\n",
       "    .dataframe tbody tr th {\n",
       "        vertical-align: top;\n",
       "    }\n",
       "\n",
       "    .dataframe thead th {\n",
       "        text-align: right;\n",
       "    }\n",
       "</style>\n",
       "<table border=\"1\" class=\"dataframe\">\n",
       "  <thead>\n",
       "    <tr style=\"text-align: right;\">\n",
       "      <th></th>\n",
       "      <th>date</th>\n",
       "      <th>revenue_per_day</th>\n",
       "      <th>cum_RevenueB</th>\n",
       "      <th>orders_per_day</th>\n",
       "      <th>cum_orders_per_dayB</th>\n",
       "      <th>average_order_sizeB</th>\n",
       "      <th>cum_avg_order_sizeB</th>\n",
       "    </tr>\n",
       "  </thead>\n",
       "  <tbody>\n",
       "    <tr>\n",
       "      <th>0</th>\n",
       "      <td>2019-08-01</td>\n",
       "      <td>967.2</td>\n",
       "      <td>967.2</td>\n",
       "      <td>17</td>\n",
       "      <td>17</td>\n",
       "      <td>56.894118</td>\n",
       "      <td>56.894118</td>\n",
       "    </tr>\n",
       "    <tr>\n",
       "      <th>1</th>\n",
       "      <td>2019-08-02</td>\n",
       "      <td>2568.1</td>\n",
       "      <td>3535.3</td>\n",
       "      <td>23</td>\n",
       "      <td>40</td>\n",
       "      <td>111.656522</td>\n",
       "      <td>168.550639</td>\n",
       "    </tr>\n",
       "    <tr>\n",
       "      <th>2</th>\n",
       "      <td>2019-08-03</td>\n",
       "      <td>1071.6</td>\n",
       "      <td>4606.9</td>\n",
       "      <td>14</td>\n",
       "      <td>54</td>\n",
       "      <td>76.542857</td>\n",
       "      <td>245.093497</td>\n",
       "    </tr>\n",
       "    <tr>\n",
       "      <th>3</th>\n",
       "      <td>2019-08-04</td>\n",
       "      <td>1531.6</td>\n",
       "      <td>6138.5</td>\n",
       "      <td>14</td>\n",
       "      <td>68</td>\n",
       "      <td>109.400000</td>\n",
       "      <td>354.493497</td>\n",
       "    </tr>\n",
       "    <tr>\n",
       "      <th>4</th>\n",
       "      <td>2019-08-05</td>\n",
       "      <td>1449.3</td>\n",
       "      <td>7587.8</td>\n",
       "      <td>21</td>\n",
       "      <td>89</td>\n",
       "      <td>69.014286</td>\n",
       "      <td>423.507782</td>\n",
       "    </tr>\n",
       "    <tr>\n",
       "      <th>5</th>\n",
       "      <td>2019-08-06</td>\n",
       "      <td>3369.3</td>\n",
       "      <td>10957.1</td>\n",
       "      <td>23</td>\n",
       "      <td>112</td>\n",
       "      <td>146.491304</td>\n",
       "      <td>569.999087</td>\n",
       "    </tr>\n",
       "    <tr>\n",
       "      <th>6</th>\n",
       "      <td>2019-08-07</td>\n",
       "      <td>3435.6</td>\n",
       "      <td>14392.7</td>\n",
       "      <td>23</td>\n",
       "      <td>135</td>\n",
       "      <td>149.373913</td>\n",
       "      <td>719.373000</td>\n",
       "    </tr>\n",
       "    <tr>\n",
       "      <th>7</th>\n",
       "      <td>2019-08-08</td>\n",
       "      <td>2379.9</td>\n",
       "      <td>16772.6</td>\n",
       "      <td>22</td>\n",
       "      <td>157</td>\n",
       "      <td>108.177273</td>\n",
       "      <td>827.550272</td>\n",
       "    </tr>\n",
       "    <tr>\n",
       "      <th>8</th>\n",
       "      <td>2019-08-09</td>\n",
       "      <td>1656.2</td>\n",
       "      <td>18428.8</td>\n",
       "      <td>19</td>\n",
       "      <td>176</td>\n",
       "      <td>87.168421</td>\n",
       "      <td>914.718693</td>\n",
       "    </tr>\n",
       "    <tr>\n",
       "      <th>9</th>\n",
       "      <td>2019-08-10</td>\n",
       "      <td>1674.8</td>\n",
       "      <td>20103.6</td>\n",
       "      <td>22</td>\n",
       "      <td>198</td>\n",
       "      <td>76.127273</td>\n",
       "      <td>990.845966</td>\n",
       "    </tr>\n",
       "  </tbody>\n",
       "</table>\n",
       "</div>"
      ],
      "text/plain": [
       "        date  revenue_per_day  cum_RevenueB  orders_per_day  \\\n",
       "0 2019-08-01            967.2         967.2              17   \n",
       "1 2019-08-02           2568.1        3535.3              23   \n",
       "2 2019-08-03           1071.6        4606.9              14   \n",
       "3 2019-08-04           1531.6        6138.5              14   \n",
       "4 2019-08-05           1449.3        7587.8              21   \n",
       "5 2019-08-06           3369.3       10957.1              23   \n",
       "6 2019-08-07           3435.6       14392.7              23   \n",
       "7 2019-08-08           2379.9       16772.6              22   \n",
       "8 2019-08-09           1656.2       18428.8              19   \n",
       "9 2019-08-10           1674.8       20103.6              22   \n",
       "\n",
       "   cum_orders_per_dayB  average_order_sizeB  cum_avg_order_sizeB  \n",
       "0                   17            56.894118            56.894118  \n",
       "1                   40           111.656522           168.550639  \n",
       "2                   54            76.542857           245.093497  \n",
       "3                   68           109.400000           354.493497  \n",
       "4                   89            69.014286           423.507782  \n",
       "5                  112           146.491304           569.999087  \n",
       "6                  135           149.373913           719.373000  \n",
       "7                  157           108.177273           827.550272  \n",
       "8                  176            87.168421           914.718693  \n",
       "9                  198            76.127273           990.845966  "
      ]
     },
     "execution_count": 677,
     "metadata": {},
     "output_type": "execute_result"
    }
   ],
   "source": [
    "# add columns for average order size and cumulative order size for group B\n",
    "merged_B['average_order_sizeB'] = merged_B['revenue_per_day'] / merged_B['orders_per_day']\n",
    "merged_B['cum_avg_order_sizeB'] = merged_B['average_order_sizeB'].cumsum()\n",
    "merged_B.head(10)"
   ]
  },
  {
   "cell_type": "code",
   "execution_count": 678,
   "metadata": {},
   "outputs": [
    {
     "data": {
      "text/plain": [
       "count      31.000000\n",
       "mean      138.371170\n",
       "std       172.642632\n",
       "min        45.931818\n",
       "25%        87.210526\n",
       "50%       105.158824\n",
       "75%       122.813312\n",
       "max      1050.709524\n",
       "Name: average_order_sizeB, dtype: float64"
      ]
     },
     "execution_count": 678,
     "metadata": {},
     "output_type": "execute_result"
    }
   ],
   "source": [
    "# use describe method to see some statistics data.\n",
    "merged_B['average_order_sizeB'].describe()"
   ]
  },
  {
   "cell_type": "code",
   "execution_count": 679,
   "metadata": {},
   "outputs": [
    {
     "data": {
      "text/plain": [
       "<matplotlib.collections.PathCollection at 0x149227a10>"
      ]
     },
     "execution_count": 679,
     "metadata": {},
     "output_type": "execute_result"
    },
    {
     "data": {
      "image/png": "[encoded data removed]",
      "text/plain": [
       "<Figure size 640x480 with 1 Axes>"
      ]
     },
     "metadata": {},
     "output_type": "display_data"
    }
   ],
   "source": [
    "x_values = pd.Series(range(0, len(merged_B['average_order_sizeB'])))\n",
    "plt.scatter(x_values, merged_B['average_order_sizeB'])"
   ]
  },
  {
   "cell_type": "markdown",
   "metadata": {},
   "source": [
    "##### We can already infer the existence of some anomalie data on the dataframe as the max. purchase check is over 1050."
   ]
  },
  {
   "cell_type": "markdown",
   "metadata": {},
   "source": [
    "***"
   ]
  },
  {
   "cell_type": "markdown",
   "metadata": {},
   "source": [
    "##### 3. Relative Difference in cumulative average purchase size."
   ]
  },
  {
   "cell_type": "code",
   "execution_count": 680,
   "metadata": {},
   "outputs": [],
   "source": [
    "# drop columns from the dataframe that we don't need for this step on group A and B\n",
    "filtered_merged_A = merged_A.drop(columns = ['revenue_per_day', 'orders_per_day', 'average_order_sizeA'])\n",
    "filtered_merged_B = merged_B.drop(columns = ['revenue_per_day', 'orders_per_day', 'average_order_sizeB'])\n"
   ]
  },
  {
   "cell_type": "code",
   "execution_count": 681,
   "metadata": {},
   "outputs": [
    {
     "data": {
      "text/html": [
       "<div>\n",
       "<style scoped>\n",
       "    .dataframe tbody tr th:only-of-type {\n",
       "        vertical-align: middle;\n",
       "    }\n",
       "\n",
       "    .dataframe tbody tr th {\n",
       "        vertical-align: top;\n",
       "    }\n",
       "\n",
       "    .dataframe thead th {\n",
       "        text-align: right;\n",
       "    }\n",
       "</style>\n",
       "<table border=\"1\" class=\"dataframe\">\n",
       "  <thead>\n",
       "    <tr style=\"text-align: right;\">\n",
       "      <th></th>\n",
       "      <th>date</th>\n",
       "      <th>cum_RevenueA</th>\n",
       "      <th>cum_orders_per_dayA</th>\n",
       "      <th>cum_avg_order_sizeA</th>\n",
       "      <th>cum_RevenueB</th>\n",
       "      <th>cum_orders_per_dayB</th>\n",
       "      <th>cum_avg_order_sizeB</th>\n",
       "      <th>rel_diff_cum_avg_size</th>\n",
       "    </tr>\n",
       "  </thead>\n",
       "  <tbody>\n",
       "    <tr>\n",
       "      <th>0</th>\n",
       "      <td>2019-08-01</td>\n",
       "      <td>2266.6</td>\n",
       "      <td>23</td>\n",
       "      <td>98.547826</td>\n",
       "      <td>967.2</td>\n",
       "      <td>17</td>\n",
       "      <td>56.894118</td>\n",
       "      <td>-0.422675</td>\n",
       "    </tr>\n",
       "    <tr>\n",
       "      <th>1</th>\n",
       "      <td>2019-08-02</td>\n",
       "      <td>3734.9</td>\n",
       "      <td>42</td>\n",
       "      <td>175.826773</td>\n",
       "      <td>3535.3</td>\n",
       "      <td>40</td>\n",
       "      <td>168.550639</td>\n",
       "      <td>-0.041382</td>\n",
       "    </tr>\n",
       "    <tr>\n",
       "      <th>2</th>\n",
       "      <td>2019-08-03</td>\n",
       "      <td>5550.1</td>\n",
       "      <td>66</td>\n",
       "      <td>251.460107</td>\n",
       "      <td>4606.9</td>\n",
       "      <td>54</td>\n",
       "      <td>245.093497</td>\n",
       "      <td>-0.025319</td>\n",
       "    </tr>\n",
       "    <tr>\n",
       "      <th>3</th>\n",
       "      <td>2019-08-04</td>\n",
       "      <td>6225.6</td>\n",
       "      <td>77</td>\n",
       "      <td>312.869198</td>\n",
       "      <td>6138.5</td>\n",
       "      <td>68</td>\n",
       "      <td>354.493497</td>\n",
       "      <td>0.133041</td>\n",
       "    </tr>\n",
       "    <tr>\n",
       "      <th>4</th>\n",
       "      <td>2019-08-05</td>\n",
       "      <td>7623.6</td>\n",
       "      <td>99</td>\n",
       "      <td>376.414652</td>\n",
       "      <td>7587.8</td>\n",
       "      <td>89</td>\n",
       "      <td>423.507782</td>\n",
       "      <td>0.125110</td>\n",
       "    </tr>\n",
       "    <tr>\n",
       "      <th>5</th>\n",
       "      <td>2019-08-06</td>\n",
       "      <td>8292.0</td>\n",
       "      <td>114</td>\n",
       "      <td>420.974652</td>\n",
       "      <td>10957.1</td>\n",
       "      <td>112</td>\n",
       "      <td>569.999087</td>\n",
       "      <td>0.353999</td>\n",
       "    </tr>\n",
       "    <tr>\n",
       "      <th>6</th>\n",
       "      <td>2019-08-07</td>\n",
       "      <td>10234.0</td>\n",
       "      <td>130</td>\n",
       "      <td>542.349652</td>\n",
       "      <td>14392.7</td>\n",
       "      <td>135</td>\n",
       "      <td>719.373000</td>\n",
       "      <td>0.326401</td>\n",
       "    </tr>\n",
       "    <tr>\n",
       "      <th>7</th>\n",
       "      <td>2019-08-08</td>\n",
       "      <td>11638.8</td>\n",
       "      <td>144</td>\n",
       "      <td>642.692509</td>\n",
       "      <td>16772.6</td>\n",
       "      <td>157</td>\n",
       "      <td>827.550272</td>\n",
       "      <td>0.287630</td>\n",
       "    </tr>\n",
       "    <tr>\n",
       "      <th>8</th>\n",
       "      <td>2019-08-09</td>\n",
       "      <td>13734.0</td>\n",
       "      <td>155</td>\n",
       "      <td>833.165237</td>\n",
       "      <td>18428.8</td>\n",
       "      <td>176</td>\n",
       "      <td>914.718693</td>\n",
       "      <td>0.097884</td>\n",
       "    </tr>\n",
       "    <tr>\n",
       "      <th>9</th>\n",
       "      <td>2019-08-10</td>\n",
       "      <td>16121.5</td>\n",
       "      <td>170</td>\n",
       "      <td>992.331903</td>\n",
       "      <td>20103.6</td>\n",
       "      <td>198</td>\n",
       "      <td>990.845966</td>\n",
       "      <td>-0.001497</td>\n",
       "    </tr>\n",
       "  </tbody>\n",
       "</table>\n",
       "</div>"
      ],
      "text/plain": [
       "        date  cum_RevenueA  cum_orders_per_dayA  cum_avg_order_sizeA  \\\n",
       "0 2019-08-01        2266.6                   23            98.547826   \n",
       "1 2019-08-02        3734.9                   42           175.826773   \n",
       "2 2019-08-03        5550.1                   66           251.460107   \n",
       "3 2019-08-04        6225.6                   77           312.869198   \n",
       "4 2019-08-05        7623.6                   99           376.414652   \n",
       "5 2019-08-06        8292.0                  114           420.974652   \n",
       "6 2019-08-07       10234.0                  130           542.349652   \n",
       "7 2019-08-08       11638.8                  144           642.692509   \n",
       "8 2019-08-09       13734.0                  155           833.165237   \n",
       "9 2019-08-10       16121.5                  170           992.331903   \n",
       "\n",
       "   cum_RevenueB  cum_orders_per_dayB  cum_avg_order_sizeB  \\\n",
       "0         967.2                   17            56.894118   \n",
       "1        3535.3                   40           168.550639   \n",
       "2        4606.9                   54           245.093497   \n",
       "3        6138.5                   68           354.493497   \n",
       "4        7587.8                   89           423.507782   \n",
       "5       10957.1                  112           569.999087   \n",
       "6       14392.7                  135           719.373000   \n",
       "7       16772.6                  157           827.550272   \n",
       "8       18428.8                  176           914.718693   \n",
       "9       20103.6                  198           990.845966   \n",
       "\n",
       "   rel_diff_cum_avg_size  \n",
       "0              -0.422675  \n",
       "1              -0.041382  \n",
       "2              -0.025319  \n",
       "3               0.133041  \n",
       "4               0.125110  \n",
       "5               0.353999  \n",
       "6               0.326401  \n",
       "7               0.287630  \n",
       "8               0.097884  \n",
       "9              -0.001497  "
      ]
     },
     "execution_count": 681,
     "metadata": {},
     "output_type": "execute_result"
    }
   ],
   "source": [
    "# create relative difference dataframe for group A and B by merging both filtered dataframes\n",
    "rel_diff_cum_avg_size = filtered_merged_A.merge(filtered_merged_B, how = 'left', on='date')\n",
    "#create relative difference column for cumulative average purchase size from group A and B\n",
    "rel_diff_cum_avg_size['rel_diff_cum_avg_size'] = (rel_diff_cum_avg_size['cum_avg_order_sizeB'] / rel_diff_cum_avg_size['cum_avg_order_sizeA'] - 1)\n",
    "rel_diff_cum_avg_size.head(10)"
   ]
  },
  {
   "cell_type": "markdown",
   "metadata": {},
   "source": [
    "***"
   ]
  },
  {
   "cell_type": "markdown",
   "metadata": {},
   "source": [
    "##### 4.  Conversion rate for each group as ratio of orders to number of visits each day."
   ]
  },
  {
   "cell_type": "markdown",
   "metadata": {},
   "source": [
    "* Visits per day."
   ]
  },
  {
   "cell_type": "code",
   "execution_count": 682,
   "metadata": {},
   "outputs": [
    {
     "data": {
      "text/html": [
       "<div>\n",
       "<style scoped>\n",
       "    .dataframe tbody tr th:only-of-type {\n",
       "        vertical-align: middle;\n",
       "    }\n",
       "\n",
       "    .dataframe tbody tr th {\n",
       "        vertical-align: top;\n",
       "    }\n",
       "\n",
       "    .dataframe thead th {\n",
       "        text-align: right;\n",
       "    }\n",
       "</style>\n",
       "<table border=\"1\" class=\"dataframe\">\n",
       "  <thead>\n",
       "    <tr style=\"text-align: right;\">\n",
       "      <th></th>\n",
       "      <th>date</th>\n",
       "      <th>group</th>\n",
       "      <th>visits_per_day</th>\n",
       "    </tr>\n",
       "  </thead>\n",
       "  <tbody>\n",
       "    <tr>\n",
       "      <th>0</th>\n",
       "      <td>2019-08-01</td>\n",
       "      <td>A</td>\n",
       "      <td>719</td>\n",
       "    </tr>\n",
       "    <tr>\n",
       "      <th>1</th>\n",
       "      <td>2019-08-01</td>\n",
       "      <td>B</td>\n",
       "      <td>713</td>\n",
       "    </tr>\n",
       "    <tr>\n",
       "      <th>2</th>\n",
       "      <td>2019-08-02</td>\n",
       "      <td>A</td>\n",
       "      <td>619</td>\n",
       "    </tr>\n",
       "    <tr>\n",
       "      <th>3</th>\n",
       "      <td>2019-08-02</td>\n",
       "      <td>B</td>\n",
       "      <td>581</td>\n",
       "    </tr>\n",
       "    <tr>\n",
       "      <th>4</th>\n",
       "      <td>2019-08-03</td>\n",
       "      <td>A</td>\n",
       "      <td>507</td>\n",
       "    </tr>\n",
       "  </tbody>\n",
       "</table>\n",
       "</div>"
      ],
      "text/plain": [
       "        date group  visits_per_day\n",
       "0 2019-08-01     A             719\n",
       "1 2019-08-01     B             713\n",
       "2 2019-08-02     A             619\n",
       "3 2019-08-02     B             581\n",
       "4 2019-08-03     A             507"
      ]
     },
     "execution_count": 682,
     "metadata": {},
     "output_type": "execute_result"
    }
   ],
   "source": [
    "# group by date and group and calculate number of unique visits\n",
    "visits_per_day = visits.groupby(['date', 'group'])['visits'].sum().reset_index()\n",
    "visits_per_day.columns = ['date', 'group', 'visits_per_day']\n",
    "visits_per_day.head()"
   ]
  },
  {
   "cell_type": "code",
   "execution_count": 683,
   "metadata": {},
   "outputs": [
    {
     "data": {
      "text/html": [
       "<div>\n",
       "<style scoped>\n",
       "    .dataframe tbody tr th:only-of-type {\n",
       "        vertical-align: middle;\n",
       "    }\n",
       "\n",
       "    .dataframe tbody tr th {\n",
       "        vertical-align: top;\n",
       "    }\n",
       "\n",
       "    .dataframe thead th {\n",
       "        text-align: right;\n",
       "    }\n",
       "</style>\n",
       "<table border=\"1\" class=\"dataframe\">\n",
       "  <thead>\n",
       "    <tr style=\"text-align: right;\">\n",
       "      <th></th>\n",
       "      <th>date</th>\n",
       "      <th>visits_per_day</th>\n",
       "    </tr>\n",
       "  </thead>\n",
       "  <tbody>\n",
       "    <tr>\n",
       "      <th>0</th>\n",
       "      <td>2019-08-01</td>\n",
       "      <td>719</td>\n",
       "    </tr>\n",
       "    <tr>\n",
       "      <th>2</th>\n",
       "      <td>2019-08-02</td>\n",
       "      <td>619</td>\n",
       "    </tr>\n",
       "    <tr>\n",
       "      <th>4</th>\n",
       "      <td>2019-08-03</td>\n",
       "      <td>507</td>\n",
       "    </tr>\n",
       "    <tr>\n",
       "      <th>6</th>\n",
       "      <td>2019-08-04</td>\n",
       "      <td>717</td>\n",
       "    </tr>\n",
       "    <tr>\n",
       "      <th>8</th>\n",
       "      <td>2019-08-05</td>\n",
       "      <td>756</td>\n",
       "    </tr>\n",
       "  </tbody>\n",
       "</table>\n",
       "</div>"
      ],
      "text/plain": [
       "        date  visits_per_day\n",
       "0 2019-08-01             719\n",
       "2 2019-08-02             619\n",
       "4 2019-08-03             507\n",
       "6 2019-08-04             717\n",
       "8 2019-08-05             756"
      ]
     },
     "execution_count": 683,
     "metadata": {},
     "output_type": "execute_result"
    }
   ],
   "source": [
    "# dataFrame with visits per day, group A\n",
    "VisitsA = visits_per_day[visits_per_day['group'] == 'A'][['date', 'visits_per_day']]\n",
    "VisitsA.head()"
   ]
  },
  {
   "cell_type": "code",
   "execution_count": 684,
   "metadata": {},
   "outputs": [
    {
     "data": {
      "text/html": [
       "<div>\n",
       "<style scoped>\n",
       "    .dataframe tbody tr th:only-of-type {\n",
       "        vertical-align: middle;\n",
       "    }\n",
       "\n",
       "    .dataframe tbody tr th {\n",
       "        vertical-align: top;\n",
       "    }\n",
       "\n",
       "    .dataframe thead th {\n",
       "        text-align: right;\n",
       "    }\n",
       "</style>\n",
       "<table border=\"1\" class=\"dataframe\">\n",
       "  <thead>\n",
       "    <tr style=\"text-align: right;\">\n",
       "      <th></th>\n",
       "      <th>date</th>\n",
       "      <th>visits_per_day</th>\n",
       "    </tr>\n",
       "  </thead>\n",
       "  <tbody>\n",
       "    <tr>\n",
       "      <th>1</th>\n",
       "      <td>2019-08-01</td>\n",
       "      <td>713</td>\n",
       "    </tr>\n",
       "    <tr>\n",
       "      <th>3</th>\n",
       "      <td>2019-08-02</td>\n",
       "      <td>581</td>\n",
       "    </tr>\n",
       "    <tr>\n",
       "      <th>5</th>\n",
       "      <td>2019-08-03</td>\n",
       "      <td>509</td>\n",
       "    </tr>\n",
       "    <tr>\n",
       "      <th>7</th>\n",
       "      <td>2019-08-04</td>\n",
       "      <td>770</td>\n",
       "    </tr>\n",
       "    <tr>\n",
       "      <th>9</th>\n",
       "      <td>2019-08-05</td>\n",
       "      <td>707</td>\n",
       "    </tr>\n",
       "  </tbody>\n",
       "</table>\n",
       "</div>"
      ],
      "text/plain": [
       "        date  visits_per_day\n",
       "1 2019-08-01             713\n",
       "3 2019-08-02             581\n",
       "5 2019-08-03             509\n",
       "7 2019-08-04             770\n",
       "9 2019-08-05             707"
      ]
     },
     "execution_count": 684,
     "metadata": {},
     "output_type": "execute_result"
    }
   ],
   "source": [
    "# dataFrame with visits per day, group A\n",
    "VisitsB = visits_per_day[visits_per_day['group'] == 'B'][['date', 'visits_per_day']]\n",
    "VisitsB.head()"
   ]
  },
  {
   "cell_type": "code",
   "execution_count": 685,
   "metadata": {},
   "outputs": [
    {
     "data": {
      "text/html": [
       "<div>\n",
       "<style scoped>\n",
       "    .dataframe tbody tr th:only-of-type {\n",
       "        vertical-align: middle;\n",
       "    }\n",
       "\n",
       "    .dataframe tbody tr th {\n",
       "        vertical-align: top;\n",
       "    }\n",
       "\n",
       "    .dataframe thead th {\n",
       "        text-align: right;\n",
       "    }\n",
       "</style>\n",
       "<table border=\"1\" class=\"dataframe\">\n",
       "  <thead>\n",
       "    <tr style=\"text-align: right;\">\n",
       "      <th></th>\n",
       "      <th>date</th>\n",
       "      <th>orders_per_day</th>\n",
       "      <th>cum_orders_per_dayA</th>\n",
       "      <th>visits_per_day</th>\n",
       "    </tr>\n",
       "  </thead>\n",
       "  <tbody>\n",
       "    <tr>\n",
       "      <th>0</th>\n",
       "      <td>2019-08-01</td>\n",
       "      <td>23</td>\n",
       "      <td>23</td>\n",
       "      <td>719</td>\n",
       "    </tr>\n",
       "    <tr>\n",
       "      <th>1</th>\n",
       "      <td>2019-08-02</td>\n",
       "      <td>19</td>\n",
       "      <td>42</td>\n",
       "      <td>619</td>\n",
       "    </tr>\n",
       "    <tr>\n",
       "      <th>2</th>\n",
       "      <td>2019-08-03</td>\n",
       "      <td>24</td>\n",
       "      <td>66</td>\n",
       "      <td>507</td>\n",
       "    </tr>\n",
       "    <tr>\n",
       "      <th>3</th>\n",
       "      <td>2019-08-04</td>\n",
       "      <td>11</td>\n",
       "      <td>77</td>\n",
       "      <td>717</td>\n",
       "    </tr>\n",
       "    <tr>\n",
       "      <th>4</th>\n",
       "      <td>2019-08-05</td>\n",
       "      <td>22</td>\n",
       "      <td>99</td>\n",
       "      <td>756</td>\n",
       "    </tr>\n",
       "    <tr>\n",
       "      <th>5</th>\n",
       "      <td>2019-08-06</td>\n",
       "      <td>15</td>\n",
       "      <td>114</td>\n",
       "      <td>667</td>\n",
       "    </tr>\n",
       "    <tr>\n",
       "      <th>6</th>\n",
       "      <td>2019-08-07</td>\n",
       "      <td>16</td>\n",
       "      <td>130</td>\n",
       "      <td>644</td>\n",
       "    </tr>\n",
       "    <tr>\n",
       "      <th>7</th>\n",
       "      <td>2019-08-08</td>\n",
       "      <td>14</td>\n",
       "      <td>144</td>\n",
       "      <td>610</td>\n",
       "    </tr>\n",
       "    <tr>\n",
       "      <th>8</th>\n",
       "      <td>2019-08-09</td>\n",
       "      <td>11</td>\n",
       "      <td>155</td>\n",
       "      <td>617</td>\n",
       "    </tr>\n",
       "    <tr>\n",
       "      <th>9</th>\n",
       "      <td>2019-08-10</td>\n",
       "      <td>15</td>\n",
       "      <td>170</td>\n",
       "      <td>406</td>\n",
       "    </tr>\n",
       "  </tbody>\n",
       "</table>\n",
       "</div>"
      ],
      "text/plain": [
       "        date  orders_per_day  cum_orders_per_dayA  visits_per_day\n",
       "0 2019-08-01              23                   23             719\n",
       "1 2019-08-02              19                   42             619\n",
       "2 2019-08-03              24                   66             507\n",
       "3 2019-08-04              11                   77             717\n",
       "4 2019-08-05              22                   99             756\n",
       "5 2019-08-06              15                  114             667\n",
       "6 2019-08-07              16                  130             644\n",
       "7 2019-08-08              14                  144             610\n",
       "8 2019-08-09              11                  155             617\n",
       "9 2019-08-10              15                  170             406"
      ]
     },
     "execution_count": 685,
     "metadata": {},
     "output_type": "execute_result"
    }
   ],
   "source": [
    "# merge datasets of orders and visits for group A\n",
    "conversion_rateA = OrdersA.merge(VisitsA, on = 'date', how = 'left')\n",
    "conversion_rateA.head(10)"
   ]
  },
  {
   "cell_type": "code",
   "execution_count": 686,
   "metadata": {},
   "outputs": [
    {
     "data": {
      "text/html": [
       "<div>\n",
       "<style scoped>\n",
       "    .dataframe tbody tr th:only-of-type {\n",
       "        vertical-align: middle;\n",
       "    }\n",
       "\n",
       "    .dataframe tbody tr th {\n",
       "        vertical-align: top;\n",
       "    }\n",
       "\n",
       "    .dataframe thead th {\n",
       "        text-align: right;\n",
       "    }\n",
       "</style>\n",
       "<table border=\"1\" class=\"dataframe\">\n",
       "  <thead>\n",
       "    <tr style=\"text-align: right;\">\n",
       "      <th></th>\n",
       "      <th>date</th>\n",
       "      <th>orders_per_day</th>\n",
       "      <th>cum_orders_per_dayA</th>\n",
       "      <th>visits_per_day</th>\n",
       "      <th>conversionA</th>\n",
       "    </tr>\n",
       "  </thead>\n",
       "  <tbody>\n",
       "    <tr>\n",
       "      <th>0</th>\n",
       "      <td>2019-08-01</td>\n",
       "      <td>23</td>\n",
       "      <td>23</td>\n",
       "      <td>719</td>\n",
       "      <td>0.031989</td>\n",
       "    </tr>\n",
       "    <tr>\n",
       "      <th>1</th>\n",
       "      <td>2019-08-02</td>\n",
       "      <td>19</td>\n",
       "      <td>42</td>\n",
       "      <td>619</td>\n",
       "      <td>0.030695</td>\n",
       "    </tr>\n",
       "    <tr>\n",
       "      <th>2</th>\n",
       "      <td>2019-08-03</td>\n",
       "      <td>24</td>\n",
       "      <td>66</td>\n",
       "      <td>507</td>\n",
       "      <td>0.047337</td>\n",
       "    </tr>\n",
       "    <tr>\n",
       "      <th>3</th>\n",
       "      <td>2019-08-04</td>\n",
       "      <td>11</td>\n",
       "      <td>77</td>\n",
       "      <td>717</td>\n",
       "      <td>0.015342</td>\n",
       "    </tr>\n",
       "    <tr>\n",
       "      <th>4</th>\n",
       "      <td>2019-08-05</td>\n",
       "      <td>22</td>\n",
       "      <td>99</td>\n",
       "      <td>756</td>\n",
       "      <td>0.029101</td>\n",
       "    </tr>\n",
       "    <tr>\n",
       "      <th>5</th>\n",
       "      <td>2019-08-06</td>\n",
       "      <td>15</td>\n",
       "      <td>114</td>\n",
       "      <td>667</td>\n",
       "      <td>0.022489</td>\n",
       "    </tr>\n",
       "    <tr>\n",
       "      <th>6</th>\n",
       "      <td>2019-08-07</td>\n",
       "      <td>16</td>\n",
       "      <td>130</td>\n",
       "      <td>644</td>\n",
       "      <td>0.024845</td>\n",
       "    </tr>\n",
       "    <tr>\n",
       "      <th>7</th>\n",
       "      <td>2019-08-08</td>\n",
       "      <td>14</td>\n",
       "      <td>144</td>\n",
       "      <td>610</td>\n",
       "      <td>0.022951</td>\n",
       "    </tr>\n",
       "    <tr>\n",
       "      <th>8</th>\n",
       "      <td>2019-08-09</td>\n",
       "      <td>11</td>\n",
       "      <td>155</td>\n",
       "      <td>617</td>\n",
       "      <td>0.017828</td>\n",
       "    </tr>\n",
       "    <tr>\n",
       "      <th>9</th>\n",
       "      <td>2019-08-10</td>\n",
       "      <td>15</td>\n",
       "      <td>170</td>\n",
       "      <td>406</td>\n",
       "      <td>0.036946</td>\n",
       "    </tr>\n",
       "  </tbody>\n",
       "</table>\n",
       "</div>"
      ],
      "text/plain": [
       "        date  orders_per_day  cum_orders_per_dayA  visits_per_day  conversionA\n",
       "0 2019-08-01              23                   23             719     0.031989\n",
       "1 2019-08-02              19                   42             619     0.030695\n",
       "2 2019-08-03              24                   66             507     0.047337\n",
       "3 2019-08-04              11                   77             717     0.015342\n",
       "4 2019-08-05              22                   99             756     0.029101\n",
       "5 2019-08-06              15                  114             667     0.022489\n",
       "6 2019-08-07              16                  130             644     0.024845\n",
       "7 2019-08-08              14                  144             610     0.022951\n",
       "8 2019-08-09              11                  155             617     0.017828\n",
       "9 2019-08-10              15                  170             406     0.036946"
      ]
     },
     "execution_count": 686,
     "metadata": {},
     "output_type": "execute_result"
    }
   ],
   "source": [
    "# adding conversion column and its calculation to group A\n",
    "conversion_rateA['conversionA'] = conversion_rateA['orders_per_day'] / conversion_rateA['visits_per_day']\n",
    "conversion_rateA.head(10)"
   ]
  },
  {
   "cell_type": "code",
   "execution_count": 687,
   "metadata": {},
   "outputs": [
    {
     "data": {
      "text/html": [
       "<div>\n",
       "<style scoped>\n",
       "    .dataframe tbody tr th:only-of-type {\n",
       "        vertical-align: middle;\n",
       "    }\n",
       "\n",
       "    .dataframe tbody tr th {\n",
       "        vertical-align: top;\n",
       "    }\n",
       "\n",
       "    .dataframe thead th {\n",
       "        text-align: right;\n",
       "    }\n",
       "</style>\n",
       "<table border=\"1\" class=\"dataframe\">\n",
       "  <thead>\n",
       "    <tr style=\"text-align: right;\">\n",
       "      <th></th>\n",
       "      <th>date</th>\n",
       "      <th>orders_per_day</th>\n",
       "      <th>cum_orders_per_dayB</th>\n",
       "      <th>visits_per_day</th>\n",
       "    </tr>\n",
       "  </thead>\n",
       "  <tbody>\n",
       "    <tr>\n",
       "      <th>0</th>\n",
       "      <td>2019-08-01</td>\n",
       "      <td>17</td>\n",
       "      <td>17</td>\n",
       "      <td>713</td>\n",
       "    </tr>\n",
       "    <tr>\n",
       "      <th>1</th>\n",
       "      <td>2019-08-02</td>\n",
       "      <td>23</td>\n",
       "      <td>40</td>\n",
       "      <td>581</td>\n",
       "    </tr>\n",
       "    <tr>\n",
       "      <th>2</th>\n",
       "      <td>2019-08-03</td>\n",
       "      <td>14</td>\n",
       "      <td>54</td>\n",
       "      <td>509</td>\n",
       "    </tr>\n",
       "    <tr>\n",
       "      <th>3</th>\n",
       "      <td>2019-08-04</td>\n",
       "      <td>14</td>\n",
       "      <td>68</td>\n",
       "      <td>770</td>\n",
       "    </tr>\n",
       "    <tr>\n",
       "      <th>4</th>\n",
       "      <td>2019-08-05</td>\n",
       "      <td>21</td>\n",
       "      <td>89</td>\n",
       "      <td>707</td>\n",
       "    </tr>\n",
       "    <tr>\n",
       "      <th>5</th>\n",
       "      <td>2019-08-06</td>\n",
       "      <td>23</td>\n",
       "      <td>112</td>\n",
       "      <td>655</td>\n",
       "    </tr>\n",
       "    <tr>\n",
       "      <th>6</th>\n",
       "      <td>2019-08-07</td>\n",
       "      <td>23</td>\n",
       "      <td>135</td>\n",
       "      <td>709</td>\n",
       "    </tr>\n",
       "    <tr>\n",
       "      <th>7</th>\n",
       "      <td>2019-08-08</td>\n",
       "      <td>22</td>\n",
       "      <td>157</td>\n",
       "      <td>654</td>\n",
       "    </tr>\n",
       "    <tr>\n",
       "      <th>8</th>\n",
       "      <td>2019-08-09</td>\n",
       "      <td>19</td>\n",
       "      <td>176</td>\n",
       "      <td>610</td>\n",
       "    </tr>\n",
       "    <tr>\n",
       "      <th>9</th>\n",
       "      <td>2019-08-10</td>\n",
       "      <td>22</td>\n",
       "      <td>198</td>\n",
       "      <td>369</td>\n",
       "    </tr>\n",
       "  </tbody>\n",
       "</table>\n",
       "</div>"
      ],
      "text/plain": [
       "        date  orders_per_day  cum_orders_per_dayB  visits_per_day\n",
       "0 2019-08-01              17                   17             713\n",
       "1 2019-08-02              23                   40             581\n",
       "2 2019-08-03              14                   54             509\n",
       "3 2019-08-04              14                   68             770\n",
       "4 2019-08-05              21                   89             707\n",
       "5 2019-08-06              23                  112             655\n",
       "6 2019-08-07              23                  135             709\n",
       "7 2019-08-08              22                  157             654\n",
       "8 2019-08-09              19                  176             610\n",
       "9 2019-08-10              22                  198             369"
      ]
     },
     "execution_count": 687,
     "metadata": {},
     "output_type": "execute_result"
    }
   ],
   "source": [
    "# merge datasets of orders and visits for group B\n",
    "conversion_rateB = OrdersB.merge(VisitsB, on = 'date', how = 'left')\n",
    "conversion_rateB.head(10)"
   ]
  },
  {
   "cell_type": "code",
   "execution_count": 688,
   "metadata": {},
   "outputs": [
    {
     "data": {
      "text/html": [
       "<div>\n",
       "<style scoped>\n",
       "    .dataframe tbody tr th:only-of-type {\n",
       "        vertical-align: middle;\n",
       "    }\n",
       "\n",
       "    .dataframe tbody tr th {\n",
       "        vertical-align: top;\n",
       "    }\n",
       "\n",
       "    .dataframe thead th {\n",
       "        text-align: right;\n",
       "    }\n",
       "</style>\n",
       "<table border=\"1\" class=\"dataframe\">\n",
       "  <thead>\n",
       "    <tr style=\"text-align: right;\">\n",
       "      <th></th>\n",
       "      <th>date</th>\n",
       "      <th>orders_per_day</th>\n",
       "      <th>cum_orders_per_dayB</th>\n",
       "      <th>visits_per_day</th>\n",
       "      <th>conversionB</th>\n",
       "    </tr>\n",
       "  </thead>\n",
       "  <tbody>\n",
       "    <tr>\n",
       "      <th>0</th>\n",
       "      <td>2019-08-01</td>\n",
       "      <td>17</td>\n",
       "      <td>17</td>\n",
       "      <td>713</td>\n",
       "      <td>0.023843</td>\n",
       "    </tr>\n",
       "    <tr>\n",
       "      <th>1</th>\n",
       "      <td>2019-08-02</td>\n",
       "      <td>23</td>\n",
       "      <td>40</td>\n",
       "      <td>581</td>\n",
       "      <td>0.039587</td>\n",
       "    </tr>\n",
       "    <tr>\n",
       "      <th>2</th>\n",
       "      <td>2019-08-03</td>\n",
       "      <td>14</td>\n",
       "      <td>54</td>\n",
       "      <td>509</td>\n",
       "      <td>0.027505</td>\n",
       "    </tr>\n",
       "    <tr>\n",
       "      <th>3</th>\n",
       "      <td>2019-08-04</td>\n",
       "      <td>14</td>\n",
       "      <td>68</td>\n",
       "      <td>770</td>\n",
       "      <td>0.018182</td>\n",
       "    </tr>\n",
       "    <tr>\n",
       "      <th>4</th>\n",
       "      <td>2019-08-05</td>\n",
       "      <td>21</td>\n",
       "      <td>89</td>\n",
       "      <td>707</td>\n",
       "      <td>0.029703</td>\n",
       "    </tr>\n",
       "    <tr>\n",
       "      <th>5</th>\n",
       "      <td>2019-08-06</td>\n",
       "      <td>23</td>\n",
       "      <td>112</td>\n",
       "      <td>655</td>\n",
       "      <td>0.035115</td>\n",
       "    </tr>\n",
       "    <tr>\n",
       "      <th>6</th>\n",
       "      <td>2019-08-07</td>\n",
       "      <td>23</td>\n",
       "      <td>135</td>\n",
       "      <td>709</td>\n",
       "      <td>0.032440</td>\n",
       "    </tr>\n",
       "    <tr>\n",
       "      <th>7</th>\n",
       "      <td>2019-08-08</td>\n",
       "      <td>22</td>\n",
       "      <td>157</td>\n",
       "      <td>654</td>\n",
       "      <td>0.033639</td>\n",
       "    </tr>\n",
       "    <tr>\n",
       "      <th>8</th>\n",
       "      <td>2019-08-09</td>\n",
       "      <td>19</td>\n",
       "      <td>176</td>\n",
       "      <td>610</td>\n",
       "      <td>0.031148</td>\n",
       "    </tr>\n",
       "    <tr>\n",
       "      <th>9</th>\n",
       "      <td>2019-08-10</td>\n",
       "      <td>22</td>\n",
       "      <td>198</td>\n",
       "      <td>369</td>\n",
       "      <td>0.059621</td>\n",
       "    </tr>\n",
       "  </tbody>\n",
       "</table>\n",
       "</div>"
      ],
      "text/plain": [
       "        date  orders_per_day  cum_orders_per_dayB  visits_per_day  conversionB\n",
       "0 2019-08-01              17                   17             713     0.023843\n",
       "1 2019-08-02              23                   40             581     0.039587\n",
       "2 2019-08-03              14                   54             509     0.027505\n",
       "3 2019-08-04              14                   68             770     0.018182\n",
       "4 2019-08-05              21                   89             707     0.029703\n",
       "5 2019-08-06              23                  112             655     0.035115\n",
       "6 2019-08-07              23                  135             709     0.032440\n",
       "7 2019-08-08              22                  157             654     0.033639\n",
       "8 2019-08-09              19                  176             610     0.031148\n",
       "9 2019-08-10              22                  198             369     0.059621"
      ]
     },
     "execution_count": 688,
     "metadata": {},
     "output_type": "execute_result"
    }
   ],
   "source": [
    "# adding conversion column and its calculation to group B\n",
    "conversion_rateB['conversionB'] = conversion_rateB['orders_per_day'] / conversion_rateB['visits_per_day']\n",
    "conversion_rateB.head(10)"
   ]
  },
  {
   "cell_type": "code",
   "execution_count": 689,
   "metadata": {},
   "outputs": [],
   "source": [
    "# drop columns from the dataframe that we don't need for this step on group A and B\n",
    "filtered_conversion_rateA = conversion_rateA.drop(columns = ['orders_per_day', 'visits_per_day'])\n",
    "filtered_conversion_rateB = conversion_rateB.drop(columns = ['orders_per_day', 'visits_per_day'])"
   ]
  },
  {
   "cell_type": "code",
   "execution_count": 690,
   "metadata": {},
   "outputs": [
    {
     "name": "stdout",
     "output_type": "stream",
     "text": [
      "Total Conversion for Group A: 0.8025995157202113\n",
      "Total Conversion for Group B: 0.9431440869612842\n",
      "Difference in Total Conversion: 0.1405445712410729\n"
     ]
    }
   ],
   "source": [
    "# merge both dataframes to calculate the difference on conversion rate from both groups\n",
    "merged_conversion_rate = filtered_conversion_rateA.merge(filtered_conversion_rateB, how = 'left', on = 'date')\n",
    "# aggregate the conversion rates for both groups\n",
    "total_conversion_A = merged_conversion_rate['conversionA'].sum()\n",
    "total_conversion_B = merged_conversion_rate['conversionB'].sum()\n",
    "# calculating the difference in total conversions\n",
    "conversion_difference = total_conversion_B - total_conversion_A\n",
    "\n",
    "print(f\"Total Conversion for Group A: {total_conversion_A}\")\n",
    "print(f\"Total Conversion for Group B: {total_conversion_B}\")\n",
    "print(f\"Difference in Total Conversion: {conversion_difference}\")"
   ]
  },
  {
   "cell_type": "markdown",
   "metadata": {},
   "source": [
    "#### Analysis of Results:<br>\n",
    "> Total Conversion for Group A: 80.26%<br>\n",
    "> This represents the overall conversion rate for Group A across all dates included in the analysis.<br>\n",
    "\n",
    ">Total Conversion for Group B: 94.31%<br>\n",
    "\n",
    "> This represents the overall conversion rate for Group B across all dates included in the analysis.<br>\n",
    "> Difference in Total Conversion: 14.05 % points.<br>\n",
    "\n",
    "> This indicates the difference in total conversion rates between Group B and Group A. Group B's total conversion rate is 14.05% points higher than Group A's total conversion rate."
   ]
  },
  {
   "cell_type": "markdown",
   "metadata": {},
   "source": [
    "##### 5. Calculation of 95th and 99th percentile for number of orders per user."
   ]
  },
  {
   "cell_type": "markdown",
   "metadata": {},
   "source": [
    "* Orders by User."
   ]
  },
  {
   "cell_type": "code",
   "execution_count": 691,
   "metadata": {},
   "outputs": [
    {
     "data": {
      "text/html": [
       "<div>\n",
       "<style scoped>\n",
       "    .dataframe tbody tr th:only-of-type {\n",
       "        vertical-align: middle;\n",
       "    }\n",
       "\n",
       "    .dataframe tbody tr th {\n",
       "        vertical-align: top;\n",
       "    }\n",
       "\n",
       "    .dataframe thead th {\n",
       "        text-align: right;\n",
       "    }\n",
       "</style>\n",
       "<table border=\"1\" class=\"dataframe\">\n",
       "  <thead>\n",
       "    <tr style=\"text-align: right;\">\n",
       "      <th></th>\n",
       "      <th>visitorId</th>\n",
       "      <th>orders</th>\n",
       "      <th>date</th>\n",
       "    </tr>\n",
       "  </thead>\n",
       "  <tbody>\n",
       "    <tr>\n",
       "      <th>0</th>\n",
       "      <td>11685486</td>\n",
       "      <td>1</td>\n",
       "      <td>2019-08-23</td>\n",
       "    </tr>\n",
       "    <tr>\n",
       "      <th>1</th>\n",
       "      <td>54447517</td>\n",
       "      <td>1</td>\n",
       "      <td>2019-08-08</td>\n",
       "    </tr>\n",
       "    <tr>\n",
       "      <th>2</th>\n",
       "      <td>66685450</td>\n",
       "      <td>1</td>\n",
       "      <td>2019-08-13</td>\n",
       "    </tr>\n",
       "    <tr>\n",
       "      <th>3</th>\n",
       "      <td>78758296</td>\n",
       "      <td>1</td>\n",
       "      <td>2019-08-15</td>\n",
       "    </tr>\n",
       "    <tr>\n",
       "      <th>4</th>\n",
       "      <td>85103373</td>\n",
       "      <td>1</td>\n",
       "      <td>2019-08-04</td>\n",
       "    </tr>\n",
       "  </tbody>\n",
       "</table>\n",
       "</div>"
      ],
      "text/plain": [
       "   visitorId  orders       date\n",
       "0   11685486       1 2019-08-23\n",
       "1   54447517       1 2019-08-08\n",
       "2   66685450       1 2019-08-13\n",
       "3   78758296       1 2019-08-15\n",
       "4   85103373       1 2019-08-04"
      ]
     },
     "execution_count": 691,
     "metadata": {},
     "output_type": "execute_result"
    }
   ],
   "source": [
    "# group by visitorId and aggregate the number of unique transactionId and min date for group A\n",
    "ordersByUsersA = clean_orders[clean_orders['group'] == 'A'].groupby('visitorId', as_index=False).agg({\n",
    "    'transactionId': pd.Series.nunique,\n",
    "    'date': 'min'\n",
    "})\n",
    "ordersByUsersA.columns = ['visitorId', 'orders', 'date']\n",
    "ordersByUsersA.head()"
   ]
  },
  {
   "cell_type": "code",
   "execution_count": 692,
   "metadata": {},
   "outputs": [
    {
     "data": {
      "text/html": [
       "<div>\n",
       "<style scoped>\n",
       "    .dataframe tbody tr th:only-of-type {\n",
       "        vertical-align: middle;\n",
       "    }\n",
       "\n",
       "    .dataframe tbody tr th {\n",
       "        vertical-align: top;\n",
       "    }\n",
       "\n",
       "    .dataframe thead th {\n",
       "        text-align: right;\n",
       "    }\n",
       "</style>\n",
       "<table border=\"1\" class=\"dataframe\">\n",
       "  <thead>\n",
       "    <tr style=\"text-align: right;\">\n",
       "      <th></th>\n",
       "      <th>visitorId</th>\n",
       "      <th>orders</th>\n",
       "      <th>date</th>\n",
       "    </tr>\n",
       "  </thead>\n",
       "  <tbody>\n",
       "    <tr>\n",
       "      <th>0</th>\n",
       "      <td>5114589</td>\n",
       "      <td>1</td>\n",
       "      <td>2019-08-16</td>\n",
       "    </tr>\n",
       "    <tr>\n",
       "      <th>1</th>\n",
       "      <td>6958315</td>\n",
       "      <td>1</td>\n",
       "      <td>2019-08-04</td>\n",
       "    </tr>\n",
       "    <tr>\n",
       "      <th>2</th>\n",
       "      <td>39475350</td>\n",
       "      <td>1</td>\n",
       "      <td>2019-08-08</td>\n",
       "    </tr>\n",
       "    <tr>\n",
       "      <th>3</th>\n",
       "      <td>47206413</td>\n",
       "      <td>1</td>\n",
       "      <td>2019-08-10</td>\n",
       "    </tr>\n",
       "    <tr>\n",
       "      <th>4</th>\n",
       "      <td>48147722</td>\n",
       "      <td>1</td>\n",
       "      <td>2019-08-22</td>\n",
       "    </tr>\n",
       "  </tbody>\n",
       "</table>\n",
       "</div>"
      ],
      "text/plain": [
       "   visitorId  orders       date\n",
       "0    5114589       1 2019-08-16\n",
       "1    6958315       1 2019-08-04\n",
       "2   39475350       1 2019-08-08\n",
       "3   47206413       1 2019-08-10\n",
       "4   48147722       1 2019-08-22"
      ]
     },
     "execution_count": 692,
     "metadata": {},
     "output_type": "execute_result"
    }
   ],
   "source": [
    "# group by visitorId and aggregate the number of unique transactionId and min date for group B\n",
    "ordersByUsersB = clean_orders[clean_orders['group'] == 'B'].groupby('visitorId', as_index=False).agg({\n",
    "    'transactionId': pd.Series.nunique,\n",
    "    'date': 'min'\n",
    "})\n",
    "ordersByUsersB.columns = ['visitorId', 'orders', 'date']\n",
    "ordersByUsersB.head()"
   ]
  },
  {
   "cell_type": "code",
   "execution_count": 693,
   "metadata": {},
   "outputs": [
    {
     "name": "stdout",
     "output_type": "stream",
     "text": [
      "[1.   2.56]\n",
      "[1. 2.]\n"
     ]
    }
   ],
   "source": [
    "# print percentiles for 95 and 99\n",
    "print(np.percentile(ordersByUsersA['orders'], [95, 99]))\n",
    "print(np.percentile(ordersByUsersB['orders'], [95, 99]))"
   ]
  },
  {
   "cell_type": "code",
   "execution_count": 694,
   "metadata": {},
   "outputs": [
    {
     "name": "stdout",
     "output_type": "stream",
     "text": [
      "[185.99425837 261.98681818]\n",
      "[184.93461538 791.4524359 ]\n"
     ]
    }
   ],
   "source": [
    "print(np.percentile(merged_A['average_order_sizeA'], [95, 99]))\n",
    "print(np.percentile(merged_B['average_order_sizeB'], [95, 99]))"
   ]
  },
  {
   "cell_type": "markdown",
   "metadata": {},
   "source": [
    "#### Users with orders greater than the 99th percentile, i.e., more than 2.56 orders can be considered outliers for group A and users with 3 orders are outliers of group B because their order count exceeds the 99th percentile."
   ]
  },
  {
   "cell_type": "markdown",
   "metadata": {},
   "source": [
    "***"
   ]
  },
  {
   "cell_type": "markdown",
   "metadata": {},
   "source": [
    "### Part Five: A/B Test Analysis"
   ]
  },
  {
   "cell_type": "markdown",
   "metadata": {},
   "source": [
    "#### Following are the plots, analysis and conclusions of the data based on earlier KPIs and not taking into consideration the existence of outliers."
   ]
  },
  {
   "cell_type": "markdown",
   "metadata": {},
   "source": [
    "##### 1. Scatter plot of Number of orders per user"
   ]
  },
  {
   "cell_type": "code",
   "execution_count": 695,
   "metadata": {},
   "outputs": [
    {
     "name": "stderr",
     "output_type": "stream",
     "text": [
      "/Users/cesarchaparro/opt/anaconda3/lib/python3.11/site-packages/_plotly_utils/basevalidators.py:106: FutureWarning:\n",
      "\n",
      "The behavior of DatetimeProperties.to_pydatetime is deprecated, in a future version this will return a Series containing python datetime objects instead of an ndarray. To retain the old behavior, call `np.array` on the result\n",
      "\n"
     ]
    },
    {
     "data": {
      "application/vnd.plotly.v1+json": {
       "config": {
        "plotlyServerURL": "https://plot.ly"
       },
       "data": [
        {
         "marker": {
          "color": "blue"
         },
         "mode": "markers",
         "name": "A",
         "type": "scatter",
         "x": [
          "2019-08-23T00:00:00",
          "2019-08-08T00:00:00",
          "2019-08-13T00:00:00",
          "2019-08-15T00:00:00",
          "2019-08-04T00:00:00",
          "2019-08-15T00:00:00",
          "2019-08-06T00:00:00",
          "2019-08-03T00:00:00",
          "2019-08-14T00:00:00",
          "2019-08-23T00:00:00",
          "2019-08-12T00:00:00",
          "2019-08-21T00:00:00",
          "2019-08-20T00:00:00",
          "2019-08-25T00:00:00",
          "2019-08-28T00:00:00",
          "2019-08-02T00:00:00",
          "2019-08-13T00:00:00",
          "2019-08-20T00:00:00",
          "2019-08-28T00:00:00",
          "2019-08-02T00:00:00",
          "2019-08-18T00:00:00",
          "2019-08-02T00:00:00",
          "2019-08-03T00:00:00",
          "2019-08-20T00:00:00",
          "2019-08-27T00:00:00",
          "2019-08-23T00:00:00",
          "2019-08-08T00:00:00",
          "2019-08-15T00:00:00",
          "2019-08-05T00:00:00",
          "2019-08-10T00:00:00",
          "2019-08-08T00:00:00",
          "2019-08-27T00:00:00",
          "2019-08-21T00:00:00",
          "2019-08-16T00:00:00",
          "2019-08-26T00:00:00",
          "2019-08-29T00:00:00",
          "2019-08-04T00:00:00",
          "2019-08-14T00:00:00",
          "2019-08-01T00:00:00",
          "2019-08-26T00:00:00",
          "2019-08-03T00:00:00",
          "2019-08-05T00:00:00",
          "2019-08-12T00:00:00",
          "2019-08-29T00:00:00",
          "2019-08-29T00:00:00",
          "2019-08-29T00:00:00",
          "2019-08-23T00:00:00",
          "2019-08-27T00:00:00",
          "2019-08-19T00:00:00",
          "2019-08-06T00:00:00",
          "2019-08-19T00:00:00",
          "2019-08-24T00:00:00",
          "2019-08-31T00:00:00",
          "2019-08-01T00:00:00",
          "2019-08-14T00:00:00",
          "2019-08-13T00:00:00",
          "2019-08-27T00:00:00",
          "2019-08-27T00:00:00",
          "2019-08-01T00:00:00",
          "2019-08-25T00:00:00",
          "2019-08-23T00:00:00",
          "2019-08-30T00:00:00",
          "2019-08-10T00:00:00",
          "2019-08-27T00:00:00",
          "2019-08-01T00:00:00",
          "2019-08-07T00:00:00",
          "2019-08-28T00:00:00",
          "2019-08-22T00:00:00",
          "2019-08-18T00:00:00",
          "2019-08-17T00:00:00",
          "2019-08-28T00:00:00",
          "2019-08-13T00:00:00",
          "2019-08-07T00:00:00",
          "2019-08-16T00:00:00",
          "2019-08-10T00:00:00",
          "2019-08-09T00:00:00",
          "2019-08-08T00:00:00",
          "2019-08-01T00:00:00",
          "2019-08-15T00:00:00",
          "2019-08-03T00:00:00",
          "2019-08-24T00:00:00",
          "2019-08-03T00:00:00",
          "2019-08-29T00:00:00",
          "2019-08-01T00:00:00",
          "2019-08-15T00:00:00",
          "2019-08-18T00:00:00",
          "2019-08-21T00:00:00",
          "2019-08-08T00:00:00",
          "2019-08-23T00:00:00",
          "2019-08-07T00:00:00",
          "2019-08-14T00:00:00",
          "2019-08-04T00:00:00",
          "2019-08-03T00:00:00",
          "2019-08-01T00:00:00",
          "2019-08-05T00:00:00",
          "2019-08-27T00:00:00",
          "2019-08-07T00:00:00",
          "2019-08-20T00:00:00",
          "2019-08-30T00:00:00",
          "2019-08-18T00:00:00",
          "2019-08-02T00:00:00",
          "2019-08-01T00:00:00",
          "2019-08-24T00:00:00",
          "2019-08-08T00:00:00",
          "2019-08-12T00:00:00",
          "2019-08-12T00:00:00",
          "2019-08-21T00:00:00",
          "2019-08-07T00:00:00",
          "2019-08-14T00:00:00",
          "2019-08-12T00:00:00",
          "2019-08-25T00:00:00",
          "2019-08-26T00:00:00",
          "2019-08-06T00:00:00",
          "2019-08-14T00:00:00",
          "2019-08-20T00:00:00",
          "2019-08-17T00:00:00",
          "2019-08-16T00:00:00",
          "2019-08-12T00:00:00",
          "2019-08-23T00:00:00",
          "2019-08-01T00:00:00",
          "2019-08-23T00:00:00",
          "2019-08-03T00:00:00",
          "2019-08-06T00:00:00",
          "2019-08-12T00:00:00",
          "2019-08-10T00:00:00",
          "2019-08-18T00:00:00",
          "2019-08-27T00:00:00",
          "2019-08-01T00:00:00",
          "2019-08-11T00:00:00",
          "2019-08-01T00:00:00",
          "2019-08-21T00:00:00",
          "2019-08-09T00:00:00",
          "2019-08-07T00:00:00",
          "2019-08-23T00:00:00",
          "2019-08-04T00:00:00",
          "2019-08-20T00:00:00",
          "2019-08-15T00:00:00",
          "2019-08-23T00:00:00",
          "2019-08-13T00:00:00",
          "2019-08-19T00:00:00",
          "2019-08-21T00:00:00",
          "2019-08-19T00:00:00",
          "2019-08-29T00:00:00",
          "2019-08-07T00:00:00",
          "2019-08-11T00:00:00",
          "2019-08-20T00:00:00",
          "2019-08-28T00:00:00",
          "2019-08-03T00:00:00",
          "2019-08-14T00:00:00",
          "2019-08-01T00:00:00",
          "2019-08-07T00:00:00",
          "2019-08-22T00:00:00",
          "2019-08-26T00:00:00",
          "2019-08-16T00:00:00",
          "2019-08-16T00:00:00",
          "2019-08-26T00:00:00",
          "2019-08-14T00:00:00",
          "2019-08-26T00:00:00",
          "2019-08-12T00:00:00",
          "2019-08-02T00:00:00",
          "2019-08-05T00:00:00",
          "2019-08-21T00:00:00",
          "2019-08-27T00:00:00",
          "2019-08-09T00:00:00",
          "2019-08-29T00:00:00",
          "2019-08-15T00:00:00",
          "2019-08-11T00:00:00",
          "2019-08-01T00:00:00",
          "2019-08-28T00:00:00",
          "2019-08-28T00:00:00",
          "2019-08-13T00:00:00",
          "2019-08-26T00:00:00",
          "2019-08-14T00:00:00",
          "2019-08-27T00:00:00",
          "2019-08-23T00:00:00",
          "2019-08-29T00:00:00",
          "2019-08-16T00:00:00",
          "2019-08-27T00:00:00",
          "2019-08-01T00:00:00",
          "2019-08-26T00:00:00",
          "2019-08-06T00:00:00",
          "2019-08-14T00:00:00",
          "2019-08-12T00:00:00",
          "2019-08-01T00:00:00",
          "2019-08-29T00:00:00",
          "2019-08-26T00:00:00",
          "2019-08-05T00:00:00",
          "2019-08-03T00:00:00",
          "2019-08-25T00:00:00",
          "2019-08-10T00:00:00",
          "2019-08-03T00:00:00",
          "2019-08-28T00:00:00",
          "2019-08-31T00:00:00",
          "2019-08-30T00:00:00",
          "2019-08-28T00:00:00",
          "2019-08-18T00:00:00",
          "2019-08-04T00:00:00",
          "2019-08-26T00:00:00",
          "2019-08-14T00:00:00",
          "2019-08-19T00:00:00",
          "2019-08-12T00:00:00",
          "2019-08-08T00:00:00",
          "2019-08-03T00:00:00",
          "2019-08-21T00:00:00",
          "2019-08-07T00:00:00",
          "2019-08-04T00:00:00",
          "2019-08-30T00:00:00",
          "2019-08-23T00:00:00",
          "2019-08-20T00:00:00",
          "2019-08-05T00:00:00",
          "2019-08-22T00:00:00",
          "2019-08-06T00:00:00",
          "2019-08-08T00:00:00",
          "2019-08-12T00:00:00",
          "2019-08-02T00:00:00",
          "2019-08-13T00:00:00",
          "2019-08-11T00:00:00",
          "2019-08-02T00:00:00",
          "2019-08-31T00:00:00",
          "2019-08-23T00:00:00",
          "2019-08-21T00:00:00",
          "2019-08-29T00:00:00",
          "2019-08-03T00:00:00",
          "2019-08-05T00:00:00",
          "2019-08-30T00:00:00",
          "2019-08-11T00:00:00",
          "2019-08-29T00:00:00",
          "2019-08-02T00:00:00",
          "2019-08-07T00:00:00",
          "2019-08-24T00:00:00",
          "2019-08-22T00:00:00",
          "2019-08-03T00:00:00",
          "2019-08-10T00:00:00",
          "2019-08-06T00:00:00",
          "2019-08-27T00:00:00",
          "2019-08-03T00:00:00",
          "2019-08-24T00:00:00",
          "2019-08-22T00:00:00",
          "2019-08-10T00:00:00",
          "2019-08-12T00:00:00",
          "2019-08-23T00:00:00",
          "2019-08-27T00:00:00",
          "2019-08-19T00:00:00",
          "2019-08-29T00:00:00",
          "2019-08-07T00:00:00",
          "2019-08-14T00:00:00",
          "2019-08-24T00:00:00",
          "2019-08-05T00:00:00",
          "2019-08-04T00:00:00",
          "2019-08-10T00:00:00",
          "2019-08-08T00:00:00",
          "2019-08-27T00:00:00",
          "2019-08-24T00:00:00",
          "2019-08-11T00:00:00",
          "2019-08-23T00:00:00",
          "2019-08-05T00:00:00",
          "2019-08-05T00:00:00",
          "2019-08-27T00:00:00",
          "2019-08-23T00:00:00",
          "2019-08-16T00:00:00",
          "2019-08-10T00:00:00",
          "2019-08-09T00:00:00",
          "2019-08-03T00:00:00",
          "2019-08-25T00:00:00",
          "2019-08-19T00:00:00",
          "2019-08-27T00:00:00",
          "2019-08-24T00:00:00",
          "2019-08-21T00:00:00",
          "2019-08-25T00:00:00",
          "2019-08-05T00:00:00",
          "2019-08-29T00:00:00",
          "2019-08-05T00:00:00",
          "2019-08-17T00:00:00",
          "2019-08-14T00:00:00",
          "2019-08-05T00:00:00",
          "2019-08-07T00:00:00",
          "2019-08-24T00:00:00",
          "2019-08-03T00:00:00",
          "2019-08-20T00:00:00",
          "2019-08-01T00:00:00",
          "2019-08-14T00:00:00",
          "2019-08-20T00:00:00",
          "2019-08-21T00:00:00",
          "2019-08-16T00:00:00",
          "2019-08-21T00:00:00",
          "2019-08-22T00:00:00",
          "2019-08-05T00:00:00",
          "2019-08-13T00:00:00",
          "2019-08-14T00:00:00",
          "2019-08-23T00:00:00",
          "2019-08-27T00:00:00",
          "2019-08-19T00:00:00",
          "2019-08-01T00:00:00",
          "2019-08-18T00:00:00",
          "2019-08-29T00:00:00",
          "2019-08-10T00:00:00",
          "2019-08-18T00:00:00",
          "2019-08-02T00:00:00",
          "2019-08-17T00:00:00",
          "2019-08-02T00:00:00",
          "2019-08-12T00:00:00",
          "2019-08-30T00:00:00",
          "2019-08-17T00:00:00",
          "2019-08-27T00:00:00",
          "2019-08-19T00:00:00",
          "2019-08-07T00:00:00",
          "2019-08-01T00:00:00",
          "2019-08-16T00:00:00",
          "2019-08-19T00:00:00",
          "2019-08-16T00:00:00",
          "2019-08-25T00:00:00",
          "2019-08-12T00:00:00",
          "2019-08-21T00:00:00",
          "2019-08-19T00:00:00",
          "2019-08-10T00:00:00",
          "2019-08-02T00:00:00",
          "2019-08-05T00:00:00",
          "2019-08-28T00:00:00",
          "2019-08-11T00:00:00",
          "2019-08-16T00:00:00",
          "2019-08-29T00:00:00",
          "2019-08-23T00:00:00",
          "2019-08-08T00:00:00",
          "2019-08-05T00:00:00",
          "2019-08-03T00:00:00",
          "2019-08-12T00:00:00",
          "2019-08-11T00:00:00",
          "2019-08-22T00:00:00",
          "2019-08-29T00:00:00",
          "2019-08-24T00:00:00",
          "2019-08-19T00:00:00",
          "2019-08-02T00:00:00",
          "2019-08-03T00:00:00",
          "2019-08-26T00:00:00",
          "2019-08-03T00:00:00",
          "2019-08-21T00:00:00",
          "2019-08-13T00:00:00",
          "2019-08-03T00:00:00",
          "2019-08-24T00:00:00",
          "2019-08-09T00:00:00",
          "2019-08-02T00:00:00",
          "2019-08-15T00:00:00",
          "2019-08-19T00:00:00",
          "2019-08-15T00:00:00",
          "2019-08-22T00:00:00",
          "2019-08-13T00:00:00",
          "2019-08-21T00:00:00",
          "2019-08-28T00:00:00",
          "2019-08-16T00:00:00",
          "2019-08-05T00:00:00",
          "2019-08-02T00:00:00",
          "2019-08-18T00:00:00",
          "2019-08-05T00:00:00",
          "2019-08-19T00:00:00",
          "2019-08-16T00:00:00",
          "2019-08-16T00:00:00",
          "2019-08-16T00:00:00",
          "2019-08-03T00:00:00",
          "2019-08-18T00:00:00",
          "2019-08-10T00:00:00",
          "2019-08-27T00:00:00",
          "2019-08-09T00:00:00",
          "2019-08-28T00:00:00",
          "2019-08-03T00:00:00",
          "2019-08-11T00:00:00",
          "2019-08-13T00:00:00",
          "2019-08-24T00:00:00",
          "2019-08-16T00:00:00",
          "2019-08-02T00:00:00",
          "2019-08-10T00:00:00",
          "2019-08-13T00:00:00",
          "2019-08-24T00:00:00",
          "2019-08-21T00:00:00",
          "2019-08-03T00:00:00",
          "2019-08-02T00:00:00",
          "2019-08-12T00:00:00",
          "2019-08-26T00:00:00",
          "2019-08-19T00:00:00",
          "2019-08-19T00:00:00",
          "2019-08-04T00:00:00",
          "2019-08-26T00:00:00",
          "2019-08-27T00:00:00",
          "2019-08-13T00:00:00",
          "2019-08-07T00:00:00",
          "2019-08-31T00:00:00",
          "2019-08-31T00:00:00",
          "2019-08-07T00:00:00",
          "2019-08-14T00:00:00",
          "2019-08-12T00:00:00",
          "2019-08-04T00:00:00",
          "2019-08-31T00:00:00",
          "2019-08-09T00:00:00",
          "2019-08-16T00:00:00",
          "2019-08-09T00:00:00",
          "2019-08-28T00:00:00",
          "2019-08-27T00:00:00",
          "2019-08-07T00:00:00",
          "2019-08-08T00:00:00",
          "2019-08-22T00:00:00",
          "2019-08-22T00:00:00",
          "2019-08-02T00:00:00",
          "2019-08-31T00:00:00",
          "2019-08-10T00:00:00",
          "2019-08-19T00:00:00",
          "2019-08-12T00:00:00",
          "2019-08-12T00:00:00",
          "2019-08-21T00:00:00",
          "2019-08-03T00:00:00",
          "2019-08-18T00:00:00",
          "2019-08-06T00:00:00",
          "2019-08-26T00:00:00",
          "2019-08-26T00:00:00",
          "2019-08-08T00:00:00",
          "2019-08-18T00:00:00",
          "2019-08-14T00:00:00",
          "2019-08-29T00:00:00",
          "2019-08-01T00:00:00",
          "2019-08-05T00:00:00",
          "2019-08-06T00:00:00",
          "2019-08-23T00:00:00",
          "2019-08-09T00:00:00",
          "2019-08-19T00:00:00",
          "2019-08-25T00:00:00",
          "2019-08-06T00:00:00",
          "2019-08-05T00:00:00",
          "2019-08-31T00:00:00",
          "2019-08-19T00:00:00",
          "2019-08-04T00:00:00",
          "2019-08-26T00:00:00",
          "2019-08-16T00:00:00",
          "2019-08-06T00:00:00",
          "2019-08-09T00:00:00",
          "2019-08-23T00:00:00",
          "2019-08-18T00:00:00",
          "2019-08-06T00:00:00",
          "2019-08-27T00:00:00",
          "2019-08-11T00:00:00",
          "2019-08-08T00:00:00",
          "2019-08-21T00:00:00",
          "2019-08-04T00:00:00",
          "2019-08-15T00:00:00",
          "2019-08-30T00:00:00",
          "2019-08-10T00:00:00",
          "2019-08-11T00:00:00",
          "2019-08-05T00:00:00"
         ],
         "y": [
          1,
          1,
          1,
          1,
          1,
          1,
          1,
          1,
          1,
          1,
          1,
          1,
          1,
          1,
          1,
          1,
          1,
          1,
          1,
          1,
          1,
          1,
          1,
          1,
          1,
          1,
          1,
          1,
          1,
          1,
          1,
          1,
          1,
          1,
          1,
          1,
          2,
          1,
          1,
          1,
          1,
          1,
          1,
          1,
          1,
          1,
          1,
          1,
          1,
          1,
          1,
          1,
          1,
          1,
          1,
          1,
          1,
          1,
          3,
          1,
          1,
          1,
          1,
          1,
          2,
          1,
          1,
          1,
          1,
          1,
          1,
          1,
          2,
          1,
          1,
          1,
          1,
          1,
          1,
          1,
          1,
          1,
          1,
          1,
          1,
          1,
          1,
          1,
          1,
          1,
          1,
          1,
          1,
          1,
          1,
          1,
          1,
          1,
          1,
          1,
          1,
          1,
          1,
          1,
          1,
          1,
          1,
          1,
          1,
          1,
          1,
          1,
          1,
          1,
          1,
          1,
          1,
          1,
          1,
          1,
          1,
          1,
          1,
          1,
          1,
          1,
          1,
          1,
          1,
          1,
          1,
          1,
          1,
          1,
          1,
          1,
          1,
          1,
          1,
          1,
          1,
          1,
          1,
          1,
          1,
          1,
          1,
          1,
          1,
          1,
          1,
          1,
          1,
          1,
          1,
          1,
          1,
          1,
          1,
          1,
          1,
          1,
          1,
          1,
          1,
          1,
          1,
          1,
          1,
          1,
          1,
          2,
          1,
          1,
          1,
          1,
          1,
          1,
          1,
          1,
          2,
          1,
          1,
          1,
          1,
          1,
          1,
          1,
          1,
          1,
          1,
          1,
          1,
          1,
          1,
          1,
          1,
          1,
          1,
          1,
          1,
          1,
          1,
          1,
          1,
          1,
          1,
          1,
          1,
          1,
          1,
          3,
          1,
          1,
          1,
          1,
          1,
          1,
          1,
          1,
          1,
          1,
          1,
          1,
          1,
          1,
          1,
          2,
          1,
          1,
          1,
          1,
          1,
          1,
          1,
          1,
          1,
          1,
          1,
          2,
          1,
          1,
          1,
          1,
          1,
          1,
          1,
          1,
          1,
          1,
          1,
          1,
          1,
          1,
          1,
          1,
          1,
          1,
          1,
          1,
          1,
          1,
          1,
          1,
          1,
          1,
          1,
          1,
          1,
          1,
          1,
          1,
          1,
          1,
          1,
          1,
          1,
          1,
          1,
          2,
          1,
          1,
          2,
          1,
          1,
          1,
          2,
          1,
          1,
          1,
          1,
          1,
          1,
          1,
          1,
          1,
          1,
          1,
          1,
          1,
          1,
          1,
          2,
          1,
          1,
          1,
          1,
          1,
          1,
          1,
          3,
          1,
          1,
          1,
          1,
          1,
          1,
          1,
          1,
          1,
          1,
          1,
          1,
          1,
          1,
          1,
          1,
          1,
          1,
          1,
          1,
          1,
          1,
          1,
          1,
          1,
          1,
          1,
          1,
          1,
          1,
          1,
          1,
          1,
          1,
          1,
          1,
          1,
          1,
          1,
          1,
          1,
          1,
          1,
          1,
          1,
          1,
          1,
          1,
          1,
          1,
          1,
          1,
          1,
          1,
          1,
          1,
          1,
          1,
          1,
          1,
          1,
          1,
          1,
          2,
          1,
          1,
          1,
          1,
          1,
          1,
          1,
          1,
          1,
          1,
          1,
          1,
          1,
          1,
          1,
          1,
          1,
          1,
          1,
          1,
          1,
          1,
          1,
          1,
          1,
          1,
          1,
          1,
          1,
          1,
          1,
          1,
          1,
          1,
          3,
          1,
          1,
          1,
          1,
          1,
          1,
          3,
          1,
          1,
          1,
          1,
          1,
          1,
          1,
          1,
          1,
          1,
          1,
          1,
          1,
          2,
          1,
          1,
          1,
          1,
          1,
          1,
          1,
          1,
          1,
          1,
          1,
          1,
          1,
          1
         ]
        },
        {
         "marker": {
          "color": "red"
         },
         "mode": "markers",
         "name": "B",
         "type": "scatter",
         "x": [
          "2019-08-16T00:00:00",
          "2019-08-04T00:00:00",
          "2019-08-08T00:00:00",
          "2019-08-10T00:00:00",
          "2019-08-22T00:00:00",
          "2019-08-09T00:00:00",
          "2019-08-23T00:00:00",
          "2019-08-17T00:00:00",
          "2019-08-10T00:00:00",
          "2019-08-05T00:00:00",
          "2019-08-17T00:00:00",
          "2019-08-09T00:00:00",
          "2019-08-15T00:00:00",
          "2019-08-29T00:00:00",
          "2019-08-01T00:00:00",
          "2019-08-04T00:00:00",
          "2019-08-19T00:00:00",
          "2019-08-05T00:00:00",
          "2019-08-19T00:00:00",
          "2019-08-17T00:00:00",
          "2019-08-07T00:00:00",
          "2019-08-10T00:00:00",
          "2019-08-13T00:00:00",
          "2019-08-06T00:00:00",
          "2019-08-28T00:00:00",
          "2019-08-09T00:00:00",
          "2019-08-13T00:00:00",
          "2019-08-30T00:00:00",
          "2019-08-17T00:00:00",
          "2019-08-15T00:00:00",
          "2019-08-22T00:00:00",
          "2019-08-24T00:00:00",
          "2019-08-29T00:00:00",
          "2019-08-16T00:00:00",
          "2019-08-15T00:00:00",
          "2019-08-10T00:00:00",
          "2019-08-27T00:00:00",
          "2019-08-10T00:00:00",
          "2019-08-09T00:00:00",
          "2019-08-08T00:00:00",
          "2019-08-08T00:00:00",
          "2019-08-19T00:00:00",
          "2019-08-17T00:00:00",
          "2019-08-10T00:00:00",
          "2019-08-14T00:00:00",
          "2019-08-01T00:00:00",
          "2019-08-11T00:00:00",
          "2019-08-30T00:00:00",
          "2019-08-13T00:00:00",
          "2019-08-18T00:00:00",
          "2019-08-13T00:00:00",
          "2019-08-09T00:00:00",
          "2019-08-05T00:00:00",
          "2019-08-11T00:00:00",
          "2019-08-01T00:00:00",
          "2019-08-31T00:00:00",
          "2019-08-17T00:00:00",
          "2019-08-07T00:00:00",
          "2019-08-09T00:00:00",
          "2019-08-28T00:00:00",
          "2019-08-04T00:00:00",
          "2019-08-25T00:00:00",
          "2019-08-13T00:00:00",
          "2019-08-23T00:00:00",
          "2019-08-09T00:00:00",
          "2019-08-20T00:00:00",
          "2019-08-02T00:00:00",
          "2019-08-19T00:00:00",
          "2019-08-10T00:00:00",
          "2019-08-25T00:00:00",
          "2019-08-15T00:00:00",
          "2019-08-01T00:00:00",
          "2019-08-16T00:00:00",
          "2019-08-30T00:00:00",
          "2019-08-20T00:00:00",
          "2019-08-08T00:00:00",
          "2019-08-26T00:00:00",
          "2019-08-03T00:00:00",
          "2019-08-11T00:00:00",
          "2019-08-14T00:00:00",
          "2019-08-03T00:00:00",
          "2019-08-07T00:00:00",
          "2019-08-26T00:00:00",
          "2019-08-10T00:00:00",
          "2019-08-30T00:00:00",
          "2019-08-02T00:00:00",
          "2019-08-07T00:00:00",
          "2019-08-02T00:00:00",
          "2019-08-29T00:00:00",
          "2019-08-26T00:00:00",
          "2019-08-06T00:00:00",
          "2019-08-20T00:00:00",
          "2019-08-07T00:00:00",
          "2019-08-01T00:00:00",
          "2019-08-07T00:00:00",
          "2019-08-28T00:00:00",
          "2019-08-20T00:00:00",
          "2019-08-09T00:00:00",
          "2019-08-24T00:00:00",
          "2019-08-28T00:00:00",
          "2019-08-30T00:00:00",
          "2019-08-25T00:00:00",
          "2019-08-20T00:00:00",
          "2019-08-15T00:00:00",
          "2019-08-07T00:00:00",
          "2019-08-25T00:00:00",
          "2019-08-02T00:00:00",
          "2019-08-08T00:00:00",
          "2019-08-28T00:00:00",
          "2019-08-12T00:00:00",
          "2019-08-06T00:00:00",
          "2019-08-08T00:00:00",
          "2019-08-20T00:00:00",
          "2019-08-03T00:00:00",
          "2019-08-27T00:00:00",
          "2019-08-20T00:00:00",
          "2019-08-22T00:00:00",
          "2019-08-15T00:00:00",
          "2019-08-16T00:00:00",
          "2019-08-31T00:00:00",
          "2019-08-11T00:00:00",
          "2019-08-26T00:00:00",
          "2019-08-15T00:00:00",
          "2019-08-26T00:00:00",
          "2019-08-22T00:00:00",
          "2019-08-04T00:00:00",
          "2019-08-10T00:00:00",
          "2019-08-01T00:00:00",
          "2019-08-24T00:00:00",
          "2019-08-20T00:00:00",
          "2019-08-19T00:00:00",
          "2019-08-07T00:00:00",
          "2019-08-06T00:00:00",
          "2019-08-26T00:00:00",
          "2019-08-22T00:00:00",
          "2019-08-19T00:00:00",
          "2019-08-01T00:00:00",
          "2019-08-24T00:00:00",
          "2019-08-18T00:00:00",
          "2019-08-15T00:00:00",
          "2019-08-10T00:00:00",
          "2019-08-12T00:00:00",
          "2019-08-06T00:00:00",
          "2019-08-20T00:00:00",
          "2019-08-13T00:00:00",
          "2019-08-15T00:00:00",
          "2019-08-14T00:00:00",
          "2019-08-10T00:00:00",
          "2019-08-30T00:00:00",
          "2019-08-16T00:00:00",
          "2019-08-01T00:00:00",
          "2019-08-16T00:00:00",
          "2019-08-01T00:00:00",
          "2019-08-25T00:00:00",
          "2019-08-22T00:00:00",
          "2019-08-09T00:00:00",
          "2019-08-02T00:00:00",
          "2019-08-12T00:00:00",
          "2019-08-30T00:00:00",
          "2019-08-08T00:00:00",
          "2019-08-13T00:00:00",
          "2019-08-26T00:00:00",
          "2019-08-12T00:00:00",
          "2019-08-06T00:00:00",
          "2019-08-19T00:00:00",
          "2019-08-26T00:00:00",
          "2019-08-01T00:00:00",
          "2019-08-30T00:00:00",
          "2019-08-28T00:00:00",
          "2019-08-15T00:00:00",
          "2019-08-17T00:00:00",
          "2019-08-03T00:00:00",
          "2019-08-31T00:00:00",
          "2019-08-07T00:00:00",
          "2019-08-21T00:00:00",
          "2019-08-30T00:00:00",
          "2019-08-26T00:00:00",
          "2019-08-30T00:00:00",
          "2019-08-24T00:00:00",
          "2019-08-09T00:00:00",
          "2019-08-09T00:00:00",
          "2019-08-02T00:00:00",
          "2019-08-29T00:00:00",
          "2019-08-27T00:00:00",
          "2019-08-06T00:00:00",
          "2019-08-04T00:00:00",
          "2019-08-15T00:00:00",
          "2019-08-02T00:00:00",
          "2019-08-18T00:00:00",
          "2019-08-08T00:00:00",
          "2019-08-31T00:00:00",
          "2019-08-05T00:00:00",
          "2019-08-14T00:00:00",
          "2019-08-09T00:00:00",
          "2019-08-14T00:00:00",
          "2019-08-07T00:00:00",
          "2019-08-18T00:00:00",
          "2019-08-07T00:00:00",
          "2019-08-01T00:00:00",
          "2019-08-08T00:00:00",
          "2019-08-31T00:00:00",
          "2019-08-06T00:00:00",
          "2019-08-10T00:00:00",
          "2019-08-11T00:00:00",
          "2019-08-25T00:00:00",
          "2019-08-05T00:00:00",
          "2019-08-05T00:00:00",
          "2019-08-27T00:00:00",
          "2019-08-14T00:00:00",
          "2019-08-15T00:00:00",
          "2019-08-02T00:00:00",
          "2019-08-07T00:00:00",
          "2019-08-27T00:00:00",
          "2019-08-21T00:00:00",
          "2019-08-06T00:00:00",
          "2019-08-16T00:00:00",
          "2019-08-23T00:00:00",
          "2019-08-01T00:00:00",
          "2019-08-25T00:00:00",
          "2019-08-05T00:00:00",
          "2019-08-29T00:00:00",
          "2019-08-26T00:00:00",
          "2019-08-01T00:00:00",
          "2019-08-23T00:00:00",
          "2019-08-31T00:00:00",
          "2019-08-13T00:00:00",
          "2019-08-12T00:00:00",
          "2019-08-05T00:00:00",
          "2019-08-30T00:00:00",
          "2019-08-27T00:00:00",
          "2019-08-21T00:00:00",
          "2019-08-13T00:00:00",
          "2019-08-26T00:00:00",
          "2019-08-05T00:00:00",
          "2019-08-13T00:00:00",
          "2019-08-22T00:00:00",
          "2019-08-30T00:00:00",
          "2019-08-08T00:00:00",
          "2019-08-06T00:00:00",
          "2019-08-11T00:00:00",
          "2019-08-03T00:00:00",
          "2019-08-06T00:00:00",
          "2019-08-15T00:00:00",
          "2019-08-06T00:00:00",
          "2019-08-28T00:00:00",
          "2019-08-19T00:00:00",
          "2019-08-31T00:00:00",
          "2019-08-13T00:00:00",
          "2019-08-18T00:00:00",
          "2019-08-17T00:00:00",
          "2019-08-12T00:00:00",
          "2019-08-28T00:00:00",
          "2019-08-08T00:00:00",
          "2019-08-21T00:00:00",
          "2019-08-01T00:00:00",
          "2019-08-01T00:00:00",
          "2019-08-04T00:00:00",
          "2019-08-29T00:00:00",
          "2019-08-04T00:00:00",
          "2019-08-22T00:00:00",
          "2019-08-29T00:00:00",
          "2019-08-31T00:00:00",
          "2019-08-19T00:00:00",
          "2019-08-31T00:00:00",
          "2019-08-19T00:00:00",
          "2019-08-16T00:00:00",
          "2019-08-15T00:00:00",
          "2019-08-16T00:00:00",
          "2019-08-28T00:00:00",
          "2019-08-20T00:00:00",
          "2019-08-29T00:00:00",
          "2019-08-14T00:00:00",
          "2019-08-22T00:00:00",
          "2019-08-21T00:00:00",
          "2019-08-03T00:00:00",
          "2019-08-09T00:00:00",
          "2019-08-29T00:00:00",
          "2019-08-06T00:00:00",
          "2019-08-21T00:00:00",
          "2019-08-14T00:00:00",
          "2019-08-23T00:00:00",
          "2019-08-15T00:00:00",
          "2019-08-10T00:00:00",
          "2019-08-04T00:00:00",
          "2019-08-19T00:00:00",
          "2019-08-10T00:00:00",
          "2019-08-22T00:00:00",
          "2019-08-23T00:00:00",
          "2019-08-30T00:00:00",
          "2019-08-22T00:00:00",
          "2019-08-06T00:00:00",
          "2019-08-30T00:00:00",
          "2019-08-15T00:00:00",
          "2019-08-01T00:00:00",
          "2019-08-07T00:00:00",
          "2019-08-31T00:00:00",
          "2019-08-02T00:00:00",
          "2019-08-04T00:00:00",
          "2019-08-31T00:00:00",
          "2019-08-05T00:00:00",
          "2019-08-30T00:00:00",
          "2019-08-20T00:00:00",
          "2019-08-13T00:00:00",
          "2019-08-19T00:00:00",
          "2019-08-09T00:00:00",
          "2019-08-08T00:00:00",
          "2019-08-19T00:00:00",
          "2019-08-29T00:00:00",
          "2019-08-12T00:00:00",
          "2019-08-07T00:00:00",
          "2019-08-09T00:00:00",
          "2019-08-28T00:00:00",
          "2019-08-14T00:00:00",
          "2019-08-04T00:00:00",
          "2019-08-11T00:00:00",
          "2019-08-07T00:00:00",
          "2019-08-25T00:00:00",
          "2019-08-23T00:00:00",
          "2019-08-24T00:00:00",
          "2019-08-16T00:00:00",
          "2019-08-02T00:00:00",
          "2019-08-06T00:00:00",
          "2019-08-09T00:00:00",
          "2019-08-19T00:00:00",
          "2019-08-15T00:00:00",
          "2019-08-16T00:00:00",
          "2019-08-06T00:00:00",
          "2019-08-05T00:00:00",
          "2019-08-16T00:00:00",
          "2019-08-13T00:00:00",
          "2019-08-25T00:00:00",
          "2019-08-05T00:00:00",
          "2019-08-08T00:00:00",
          "2019-08-13T00:00:00",
          "2019-08-08T00:00:00",
          "2019-08-23T00:00:00",
          "2019-08-20T00:00:00",
          "2019-08-11T00:00:00",
          "2019-08-10T00:00:00",
          "2019-08-17T00:00:00",
          "2019-08-07T00:00:00",
          "2019-08-29T00:00:00",
          "2019-08-10T00:00:00",
          "2019-08-03T00:00:00",
          "2019-08-26T00:00:00",
          "2019-08-31T00:00:00",
          "2019-08-19T00:00:00",
          "2019-08-15T00:00:00",
          "2019-08-19T00:00:00",
          "2019-08-19T00:00:00",
          "2019-08-02T00:00:00",
          "2019-08-15T00:00:00",
          "2019-08-09T00:00:00",
          "2019-08-07T00:00:00",
          "2019-08-02T00:00:00",
          "2019-08-19T00:00:00",
          "2019-08-30T00:00:00",
          "2019-08-02T00:00:00",
          "2019-08-21T00:00:00",
          "2019-08-16T00:00:00",
          "2019-08-21T00:00:00",
          "2019-08-23T00:00:00",
          "2019-08-10T00:00:00",
          "2019-08-15T00:00:00",
          "2019-08-13T00:00:00",
          "2019-08-05T00:00:00",
          "2019-08-07T00:00:00",
          "2019-08-16T00:00:00",
          "2019-08-28T00:00:00",
          "2019-08-13T00:00:00",
          "2019-08-12T00:00:00",
          "2019-08-02T00:00:00",
          "2019-08-28T00:00:00",
          "2019-08-15T00:00:00",
          "2019-08-31T00:00:00",
          "2019-08-24T00:00:00",
          "2019-08-14T00:00:00",
          "2019-08-10T00:00:00",
          "2019-08-26T00:00:00",
          "2019-08-26T00:00:00",
          "2019-08-30T00:00:00",
          "2019-08-15T00:00:00",
          "2019-08-08T00:00:00",
          "2019-08-25T00:00:00",
          "2019-08-08T00:00:00",
          "2019-08-12T00:00:00",
          "2019-08-21T00:00:00",
          "2019-08-26T00:00:00",
          "2019-08-08T00:00:00",
          "2019-08-10T00:00:00",
          "2019-08-13T00:00:00",
          "2019-08-08T00:00:00",
          "2019-08-28T00:00:00",
          "2019-08-02T00:00:00",
          "2019-08-22T00:00:00",
          "2019-08-30T00:00:00",
          "2019-08-29T00:00:00",
          "2019-08-09T00:00:00",
          "2019-08-11T00:00:00",
          "2019-08-24T00:00:00",
          "2019-08-06T00:00:00",
          "2019-08-28T00:00:00",
          "2019-08-05T00:00:00",
          "2019-08-14T00:00:00",
          "2019-08-27T00:00:00",
          "2019-08-24T00:00:00",
          "2019-08-26T00:00:00",
          "2019-08-31T00:00:00",
          "2019-08-28T00:00:00",
          "2019-08-02T00:00:00",
          "2019-08-16T00:00:00",
          "2019-08-02T00:00:00",
          "2019-08-27T00:00:00",
          "2019-08-23T00:00:00",
          "2019-08-03T00:00:00",
          "2019-08-15T00:00:00",
          "2019-08-12T00:00:00",
          "2019-08-13T00:00:00",
          "2019-08-02T00:00:00",
          "2019-08-03T00:00:00",
          "2019-08-07T00:00:00",
          "2019-08-17T00:00:00",
          "2019-08-26T00:00:00",
          "2019-08-24T00:00:00",
          "2019-08-30T00:00:00",
          "2019-08-20T00:00:00",
          "2019-08-23T00:00:00",
          "2019-08-12T00:00:00",
          "2019-08-30T00:00:00",
          "2019-08-16T00:00:00",
          "2019-08-02T00:00:00",
          "2019-08-28T00:00:00",
          "2019-08-24T00:00:00",
          "2019-08-16T00:00:00",
          "2019-08-18T00:00:00",
          "2019-08-26T00:00:00",
          "2019-08-02T00:00:00",
          "2019-08-11T00:00:00",
          "2019-08-07T00:00:00",
          "2019-08-28T00:00:00",
          "2019-08-27T00:00:00",
          "2019-08-29T00:00:00",
          "2019-08-12T00:00:00",
          "2019-08-15T00:00:00",
          "2019-08-22T00:00:00",
          "2019-08-10T00:00:00",
          "2019-08-06T00:00:00",
          "2019-08-04T00:00:00",
          "2019-08-15T00:00:00",
          "2019-08-27T00:00:00",
          "2019-08-02T00:00:00",
          "2019-08-26T00:00:00",
          "2019-08-03T00:00:00",
          "2019-08-08T00:00:00",
          "2019-08-28T00:00:00",
          "2019-08-02T00:00:00",
          "2019-08-28T00:00:00",
          "2019-08-20T00:00:00",
          "2019-08-05T00:00:00",
          "2019-08-26T00:00:00",
          "2019-08-14T00:00:00",
          "2019-08-16T00:00:00",
          "2019-08-08T00:00:00",
          "2019-08-03T00:00:00",
          "2019-08-22T00:00:00",
          "2019-08-12T00:00:00",
          "2019-08-05T00:00:00",
          "2019-08-12T00:00:00",
          "2019-08-21T00:00:00",
          "2019-08-12T00:00:00",
          "2019-08-14T00:00:00",
          "2019-08-17T00:00:00",
          "2019-08-31T00:00:00",
          "2019-08-19T00:00:00",
          "2019-08-20T00:00:00",
          "2019-08-05T00:00:00",
          "2019-08-22T00:00:00",
          "2019-08-06T00:00:00",
          "2019-08-10T00:00:00",
          "2019-08-05T00:00:00",
          "2019-08-05T00:00:00",
          "2019-08-03T00:00:00",
          "2019-08-31T00:00:00",
          "2019-08-29T00:00:00",
          "2019-08-18T00:00:00",
          "2019-08-07T00:00:00",
          "2019-08-26T00:00:00",
          "2019-08-01T00:00:00",
          "2019-08-13T00:00:00",
          "2019-08-06T00:00:00",
          "2019-08-12T00:00:00",
          "2019-08-20T00:00:00",
          "2019-08-20T00:00:00",
          "2019-08-30T00:00:00",
          "2019-08-25T00:00:00",
          "2019-08-08T00:00:00",
          "2019-08-06T00:00:00",
          "2019-08-05T00:00:00",
          "2019-08-22T00:00:00",
          "2019-08-03T00:00:00",
          "2019-08-15T00:00:00",
          "2019-08-17T00:00:00",
          "2019-08-08T00:00:00",
          "2019-08-20T00:00:00",
          "2019-08-12T00:00:00",
          "2019-08-24T00:00:00",
          "2019-08-11T00:00:00",
          "2019-08-11T00:00:00",
          "2019-08-23T00:00:00",
          "2019-08-07T00:00:00",
          "2019-08-14T00:00:00",
          "2019-08-28T00:00:00",
          "2019-08-20T00:00:00",
          "2019-08-12T00:00:00",
          "2019-08-06T00:00:00",
          "2019-08-03T00:00:00",
          "2019-08-26T00:00:00",
          "2019-08-05T00:00:00",
          "2019-08-31T00:00:00",
          "2019-08-07T00:00:00",
          "2019-08-10T00:00:00",
          "2019-08-09T00:00:00",
          "2019-08-04T00:00:00",
          "2019-08-19T00:00:00",
          "2019-08-22T00:00:00",
          "2019-08-04T00:00:00",
          "2019-08-25T00:00:00",
          "2019-08-22T00:00:00"
         ],
         "y": [
          1,
          1,
          1,
          1,
          1,
          1,
          1,
          1,
          1,
          1,
          1,
          1,
          1,
          1,
          1,
          1,
          1,
          1,
          1,
          1,
          1,
          1,
          1,
          1,
          1,
          1,
          1,
          1,
          1,
          1,
          1,
          1,
          1,
          3,
          1,
          1,
          1,
          1,
          1,
          1,
          1,
          1,
          1,
          1,
          1,
          1,
          1,
          1,
          1,
          1,
          1,
          2,
          1,
          1,
          1,
          1,
          1,
          1,
          1,
          1,
          1,
          1,
          1,
          1,
          1,
          1,
          1,
          2,
          1,
          1,
          1,
          1,
          1,
          1,
          1,
          1,
          1,
          1,
          1,
          1,
          1,
          1,
          1,
          1,
          1,
          1,
          1,
          1,
          1,
          1,
          1,
          1,
          1,
          1,
          1,
          1,
          1,
          1,
          1,
          1,
          1,
          1,
          1,
          1,
          1,
          1,
          1,
          1,
          1,
          1,
          1,
          1,
          1,
          1,
          1,
          1,
          1,
          1,
          1,
          1,
          1,
          1,
          1,
          1,
          1,
          1,
          1,
          1,
          1,
          1,
          1,
          1,
          1,
          1,
          1,
          1,
          1,
          1,
          1,
          1,
          1,
          1,
          1,
          1,
          1,
          1,
          1,
          1,
          1,
          1,
          1,
          1,
          1,
          1,
          1,
          1,
          1,
          1,
          1,
          1,
          1,
          1,
          1,
          1,
          1,
          1,
          1,
          1,
          1,
          1,
          1,
          1,
          1,
          1,
          1,
          1,
          2,
          1,
          1,
          1,
          1,
          1,
          1,
          1,
          1,
          1,
          1,
          1,
          1,
          1,
          1,
          1,
          1,
          1,
          1,
          1,
          1,
          1,
          1,
          1,
          1,
          1,
          1,
          1,
          1,
          1,
          1,
          1,
          2,
          1,
          1,
          1,
          1,
          1,
          1,
          1,
          1,
          1,
          1,
          1,
          1,
          1,
          1,
          1,
          1,
          1,
          1,
          1,
          1,
          1,
          1,
          1,
          1,
          1,
          1,
          1,
          1,
          1,
          1,
          1,
          1,
          1,
          1,
          1,
          1,
          1,
          1,
          1,
          1,
          1,
          2,
          1,
          1,
          1,
          1,
          1,
          2,
          1,
          1,
          1,
          1,
          1,
          1,
          1,
          1,
          2,
          1,
          1,
          1,
          1,
          1,
          1,
          1,
          1,
          1,
          1,
          1,
          1,
          1,
          1,
          1,
          1,
          1,
          1,
          1,
          1,
          1,
          1,
          1,
          1,
          1,
          1,
          1,
          1,
          1,
          1,
          2,
          1,
          1,
          1,
          1,
          1,
          1,
          2,
          1,
          1,
          1,
          1,
          1,
          1,
          1,
          1,
          1,
          1,
          1,
          1,
          1,
          1,
          1,
          1,
          1,
          1,
          1,
          1,
          1,
          1,
          1,
          1,
          1,
          1,
          1,
          1,
          1,
          1,
          1,
          1,
          1,
          1,
          1,
          1,
          1,
          1,
          1,
          1,
          1,
          1,
          1,
          3,
          1,
          1,
          1,
          1,
          1,
          1,
          1,
          1,
          1,
          1,
          1,
          1,
          1,
          1,
          1,
          1,
          1,
          1,
          1,
          1,
          1,
          1,
          1,
          1,
          1,
          1,
          1,
          1,
          1,
          1,
          1,
          1,
          1,
          1,
          1,
          1,
          1,
          1,
          1,
          1,
          2,
          1,
          1,
          1,
          1,
          1,
          1,
          1,
          1,
          1,
          1,
          1,
          1,
          1,
          1,
          1,
          1,
          1,
          1,
          1,
          1,
          1,
          1,
          1,
          1,
          1,
          1,
          1,
          1,
          1,
          2,
          1,
          1,
          2,
          1,
          1,
          1,
          2,
          1,
          1,
          1,
          1,
          1,
          1,
          1,
          1,
          1,
          1,
          1,
          1,
          1,
          1,
          1,
          1,
          1,
          1,
          1,
          1,
          1,
          1,
          1,
          1,
          1,
          1,
          1,
          1,
          1,
          1,
          1,
          1,
          1,
          1,
          1,
          1,
          1,
          1,
          1,
          1,
          1,
          1,
          1,
          1,
          1,
          1,
          1,
          1,
          1,
          1,
          1,
          1,
          1,
          1,
          1,
          1,
          1,
          1,
          1,
          1,
          2,
          1,
          1,
          2,
          1,
          1,
          1,
          1,
          1,
          1,
          1,
          1,
          1,
          1,
          1,
          1,
          1,
          1,
          1,
          1,
          1,
          2,
          1,
          1,
          1,
          1,
          1,
          1,
          1,
          1,
          1,
          1,
          1,
          1,
          1,
          1,
          1,
          1,
          1,
          1,
          1,
          1
         ]
        }
       ],
       "layout": {
        "autosize": false,
        "height": 500,
        "margin": {
         "b": 100,
         "l": 50,
         "pad": 4,
         "r": 50,
         "t": 100
        },
        "paper_bgcolor": "LightSteelBlue",
        "showlegend": true,
        "template": {
         "data": {
          "bar": [
           {
            "error_x": {
             "color": "#2a3f5f"
            },
            "error_y": {
             "color": "#2a3f5f"
            },
            "marker": {
             "line": {
              "color": "#E5ECF6",
              "width": 0.5
             },
             "pattern": {
              "fillmode": "overlay",
              "size": 10,
              "solidity": 0.2
             }
            },
            "type": "bar"
           }
          ],
          "barpolar": [
           {
            "marker": {
             "line": {
              "color": "#E5ECF6",
              "width": 0.5
             },
             "pattern": {
              "fillmode": "overlay",
              "size": 10,
              "solidity": 0.2
             }
            },
            "type": "barpolar"
           }
          ],
          "carpet": [
           {
            "aaxis": {
             "endlinecolor": "#2a3f5f",
             "gridcolor": "white",
             "linecolor": "white",
             "minorgridcolor": "white",
             "startlinecolor": "#2a3f5f"
            },
            "baxis": {
             "endlinecolor": "#2a3f5f",
             "gridcolor": "white",
             "linecolor": "white",
             "minorgridcolor": "white",
             "startlinecolor": "#2a3f5f"
            },
            "type": "carpet"
           }
          ],
          "choropleth": [
           {
            "colorbar": {
             "outlinewidth": 0,
             "ticks": ""
            },
            "type": "choropleth"
           }
          ],
          "contour": [
           {
            "colorbar": {
             "outlinewidth": 0,
             "ticks": ""
            },
            "colorscale": [
             [
              0,
              "#0d0887"
             ],
             [
              0.1111111111111111,
              "#46039f"
             ],
             [
              0.2222222222222222,
              "#7201a8"
             ],
             [
              0.3333333333333333,
              "#9c179e"
             ],
             [
              0.4444444444444444,
              "#bd3786"
             ],
             [
              0.5555555555555556,
              "#d8576b"
             ],
             [
              0.6666666666666666,
              "#ed7953"
             ],
             [
              0.7777777777777778,
              "#fb9f3a"
             ],
             [
              0.8888888888888888,
              "#fdca26"
             ],
             [
              1,
              "#f0f921"
             ]
            ],
            "type": "contour"
           }
          ],
          "contourcarpet": [
           {
            "colorbar": {
             "outlinewidth": 0,
             "ticks": ""
            },
            "type": "contourcarpet"
           }
          ],
          "heatmap": [
           {
            "colorbar": {
             "outlinewidth": 0,
             "ticks": ""
            },
            "colorscale": [
             [
              0,
              "#0d0887"
             ],
             [
              0.1111111111111111,
              "#46039f"
             ],
             [
              0.2222222222222222,
              "#7201a8"
             ],
             [
              0.3333333333333333,
              "#9c179e"
             ],
             [
              0.4444444444444444,
              "#bd3786"
             ],
             [
              0.5555555555555556,
              "#d8576b"
             ],
             [
              0.6666666666666666,
              "#ed7953"
             ],
             [
              0.7777777777777778,
              "#fb9f3a"
             ],
             [
              0.8888888888888888,
              "#fdca26"
             ],
             [
              1,
              "#f0f921"
             ]
            ],
            "type": "heatmap"
           }
          ],
          "heatmapgl": [
           {
            "colorbar": {
             "outlinewidth": 0,
             "ticks": ""
            },
            "colorscale": [
             [
              0,
              "#0d0887"
             ],
             [
              0.1111111111111111,
              "#46039f"
             ],
             [
              0.2222222222222222,
              "#7201a8"
             ],
             [
              0.3333333333333333,
              "#9c179e"
             ],
             [
              0.4444444444444444,
              "#bd3786"
             ],
             [
              0.5555555555555556,
              "#d8576b"
             ],
             [
              0.6666666666666666,
              "#ed7953"
             ],
             [
              0.7777777777777778,
              "#fb9f3a"
             ],
             [
              0.8888888888888888,
              "#fdca26"
             ],
             [
              1,
              "#f0f921"
             ]
            ],
            "type": "heatmapgl"
           }
          ],
          "histogram": [
           {
            "marker": {
             "pattern": {
              "fillmode": "overlay",
              "size": 10,
              "solidity": 0.2
             }
            },
            "type": "histogram"
           }
          ],
          "histogram2d": [
           {
            "colorbar": {
             "outlinewidth": 0,
             "ticks": ""
            },
            "colorscale": [
             [
              0,
              "#0d0887"
             ],
             [
              0.1111111111111111,
              "#46039f"
             ],
             [
              0.2222222222222222,
              "#7201a8"
             ],
             [
              0.3333333333333333,
              "#9c179e"
             ],
             [
              0.4444444444444444,
              "#bd3786"
             ],
             [
              0.5555555555555556,
              "#d8576b"
             ],
             [
              0.6666666666666666,
              "#ed7953"
             ],
             [
              0.7777777777777778,
              "#fb9f3a"
             ],
             [
              0.8888888888888888,
              "#fdca26"
             ],
             [
              1,
              "#f0f921"
             ]
            ],
            "type": "histogram2d"
           }
          ],
          "histogram2dcontour": [
           {
            "colorbar": {
             "outlinewidth": 0,
             "ticks": ""
            },
            "colorscale": [
             [
              0,
              "#0d0887"
             ],
             [
              0.1111111111111111,
              "#46039f"
             ],
             [
              0.2222222222222222,
              "#7201a8"
             ],
             [
              0.3333333333333333,
              "#9c179e"
             ],
             [
              0.4444444444444444,
              "#bd3786"
             ],
             [
              0.5555555555555556,
              "#d8576b"
             ],
             [
              0.6666666666666666,
              "#ed7953"
             ],
             [
              0.7777777777777778,
              "#fb9f3a"
             ],
             [
              0.8888888888888888,
              "#fdca26"
             ],
             [
              1,
              "#f0f921"
             ]
            ],
            "type": "histogram2dcontour"
           }
          ],
          "mesh3d": [
           {
            "colorbar": {
             "outlinewidth": 0,
             "ticks": ""
            },
            "type": "mesh3d"
           }
          ],
          "parcoords": [
           {
            "line": {
             "colorbar": {
              "outlinewidth": 0,
              "ticks": ""
             }
            },
            "type": "parcoords"
           }
          ],
          "pie": [
           {
            "automargin": true,
            "type": "pie"
           }
          ],
          "scatter": [
           {
            "fillpattern": {
             "fillmode": "overlay",
             "size": 10,
             "solidity": 0.2
            },
            "type": "scatter"
           }
          ],
          "scatter3d": [
           {
            "line": {
             "colorbar": {
              "outlinewidth": 0,
              "ticks": ""
             }
            },
            "marker": {
             "colorbar": {
              "outlinewidth": 0,
              "ticks": ""
             }
            },
            "type": "scatter3d"
           }
          ],
          "scattercarpet": [
           {
            "marker": {
             "colorbar": {
              "outlinewidth": 0,
              "ticks": ""
             }
            },
            "type": "scattercarpet"
           }
          ],
          "scattergeo": [
           {
            "marker": {
             "colorbar": {
              "outlinewidth": 0,
              "ticks": ""
             }
            },
            "type": "scattergeo"
           }
          ],
          "scattergl": [
           {
            "marker": {
             "colorbar": {
              "outlinewidth": 0,
              "ticks": ""
             }
            },
            "type": "scattergl"
           }
          ],
          "scattermapbox": [
           {
            "marker": {
             "colorbar": {
              "outlinewidth": 0,
              "ticks": ""
             }
            },
            "type": "scattermapbox"
           }
          ],
          "scatterpolar": [
           {
            "marker": {
             "colorbar": {
              "outlinewidth": 0,
              "ticks": ""
             }
            },
            "type": "scatterpolar"
           }
          ],
          "scatterpolargl": [
           {
            "marker": {
             "colorbar": {
              "outlinewidth": 0,
              "ticks": ""
             }
            },
            "type": "scatterpolargl"
           }
          ],
          "scatterternary": [
           {
            "marker": {
             "colorbar": {
              "outlinewidth": 0,
              "ticks": ""
             }
            },
            "type": "scatterternary"
           }
          ],
          "surface": [
           {
            "colorbar": {
             "outlinewidth": 0,
             "ticks": ""
            },
            "colorscale": [
             [
              0,
              "#0d0887"
             ],
             [
              0.1111111111111111,
              "#46039f"
             ],
             [
              0.2222222222222222,
              "#7201a8"
             ],
             [
              0.3333333333333333,
              "#9c179e"
             ],
             [
              0.4444444444444444,
              "#bd3786"
             ],
             [
              0.5555555555555556,
              "#d8576b"
             ],
             [
              0.6666666666666666,
              "#ed7953"
             ],
             [
              0.7777777777777778,
              "#fb9f3a"
             ],
             [
              0.8888888888888888,
              "#fdca26"
             ],
             [
              1,
              "#f0f921"
             ]
            ],
            "type": "surface"
           }
          ],
          "table": [
           {
            "cells": {
             "fill": {
              "color": "#EBF0F8"
             },
             "line": {
              "color": "white"
             }
            },
            "header": {
             "fill": {
              "color": "#C8D4E3"
             },
             "line": {
              "color": "white"
             }
            },
            "type": "table"
           }
          ]
         },
         "layout": {
          "annotationdefaults": {
           "arrowcolor": "#2a3f5f",
           "arrowhead": 0,
           "arrowwidth": 1
          },
          "autotypenumbers": "strict",
          "coloraxis": {
           "colorbar": {
            "outlinewidth": 0,
            "ticks": ""
           }
          },
          "colorscale": {
           "diverging": [
            [
             0,
             "#8e0152"
            ],
            [
             0.1,
             "#c51b7d"
            ],
            [
             0.2,
             "#de77ae"
            ],
            [
             0.3,
             "#f1b6da"
            ],
            [
             0.4,
             "#fde0ef"
            ],
            [
             0.5,
             "#f7f7f7"
            ],
            [
             0.6,
             "#e6f5d0"
            ],
            [
             0.7,
             "#b8e186"
            ],
            [
             0.8,
             "#7fbc41"
            ],
            [
             0.9,
             "#4d9221"
            ],
            [
             1,
             "#276419"
            ]
           ],
           "sequential": [
            [
             0,
             "#0d0887"
            ],
            [
             0.1111111111111111,
             "#46039f"
            ],
            [
             0.2222222222222222,
             "#7201a8"
            ],
            [
             0.3333333333333333,
             "#9c179e"
            ],
            [
             0.4444444444444444,
             "#bd3786"
            ],
            [
             0.5555555555555556,
             "#d8576b"
            ],
            [
             0.6666666666666666,
             "#ed7953"
            ],
            [
             0.7777777777777778,
             "#fb9f3a"
            ],
            [
             0.8888888888888888,
             "#fdca26"
            ],
            [
             1,
             "#f0f921"
            ]
           ],
           "sequentialminus": [
            [
             0,
             "#0d0887"
            ],
            [
             0.1111111111111111,
             "#46039f"
            ],
            [
             0.2222222222222222,
             "#7201a8"
            ],
            [
             0.3333333333333333,
             "#9c179e"
            ],
            [
             0.4444444444444444,
             "#bd3786"
            ],
            [
             0.5555555555555556,
             "#d8576b"
            ],
            [
             0.6666666666666666,
             "#ed7953"
            ],
            [
             0.7777777777777778,
             "#fb9f3a"
            ],
            [
             0.8888888888888888,
             "#fdca26"
            ],
            [
             1,
             "#f0f921"
            ]
           ]
          },
          "colorway": [
           "#636efa",
           "#EF553B",
           "#00cc96",
           "#ab63fa",
           "#FFA15A",
           "#19d3f3",
           "#FF6692",
           "#B6E880",
           "#FF97FF",
           "#FECB52"
          ],
          "font": {
           "color": "#2a3f5f"
          },
          "geo": {
           "bgcolor": "white",
           "lakecolor": "white",
           "landcolor": "#E5ECF6",
           "showlakes": true,
           "showland": true,
           "subunitcolor": "white"
          },
          "hoverlabel": {
           "align": "left"
          },
          "hovermode": "closest",
          "mapbox": {
           "style": "light"
          },
          "paper_bgcolor": "white",
          "plot_bgcolor": "#E5ECF6",
          "polar": {
           "angularaxis": {
            "gridcolor": "white",
            "linecolor": "white",
            "ticks": ""
           },
           "bgcolor": "#E5ECF6",
           "radialaxis": {
            "gridcolor": "white",
            "linecolor": "white",
            "ticks": ""
           }
          },
          "scene": {
           "xaxis": {
            "backgroundcolor": "#E5ECF6",
            "gridcolor": "white",
            "gridwidth": 2,
            "linecolor": "white",
            "showbackground": true,
            "ticks": "",
            "zerolinecolor": "white"
           },
           "yaxis": {
            "backgroundcolor": "#E5ECF6",
            "gridcolor": "white",
            "gridwidth": 2,
            "linecolor": "white",
            "showbackground": true,
            "ticks": "",
            "zerolinecolor": "white"
           },
           "zaxis": {
            "backgroundcolor": "#E5ECF6",
            "gridcolor": "white",
            "gridwidth": 2,
            "linecolor": "white",
            "showbackground": true,
            "ticks": "",
            "zerolinecolor": "white"
           }
          },
          "shapedefaults": {
           "line": {
            "color": "#2a3f5f"
           }
          },
          "ternary": {
           "aaxis": {
            "gridcolor": "white",
            "linecolor": "white",
            "ticks": ""
           },
           "baxis": {
            "gridcolor": "white",
            "linecolor": "white",
            "ticks": ""
           },
           "bgcolor": "#E5ECF6",
           "caxis": {
            "gridcolor": "white",
            "linecolor": "white",
            "ticks": ""
           }
          },
          "title": {
           "x": 0.05
          },
          "xaxis": {
           "automargin": true,
           "gridcolor": "white",
           "linecolor": "white",
           "ticks": "",
           "title": {
            "standoff": 15
           },
           "zerolinecolor": "white",
           "zerolinewidth": 2
          },
          "yaxis": {
           "automargin": true,
           "gridcolor": "white",
           "linecolor": "white",
           "ticks": "",
           "title": {
            "standoff": 15
           },
           "zerolinecolor": "white",
           "zerolinewidth": 2
          }
         }
        },
        "title": {
         "text": "Number of Orders per User"
        },
        "width": 800,
        "xaxis": {
         "tickformat": "%d %b <br>%Y",
         "title": {
          "text": "date"
         }
        },
        "yaxis": {
         "title": {
          "text": "number of orders"
         }
        }
       }
      }
     },
     "metadata": {},
     "output_type": "display_data"
    }
   ],
   "source": [
    "# plot scatter plot\n",
    "fig = go.Figure()\n",
    "fig.add_trace(go.Scatter(x = ordersByUsersA['date'], \n",
    "                        y = ordersByUsersA['orders'],\n",
    "                    mode = 'markers',\n",
    "                    name = 'A', marker = dict(color = 'blue')))\n",
    "fig.add_trace(go.Scatter(x = ordersByUsersB['date'], \n",
    "                        y = ordersByUsersB['orders'], \n",
    "                    mode = 'markers',\n",
    "                    name = 'B', marker = dict(color = 'red')))\n",
    "\n",
    "fig.update_layout(autosize = False, width = 800, height = 500, margin = dict(\n",
    "        l = 50, r = 50, b = 100, t = 100, pad = 4), paper_bgcolor = 'LightSteelBlue',\n",
    "                  xaxis_tickformat = '%d %b <br>%Y',\n",
    "                  xaxis_title = 'date')\n",
    "\n",
    "fig.update_yaxes(title_text = 'number of orders')\n",
    "fig.update_layout(title_text = 'Number of Orders per User',\n",
    "                  showlegend = True)\n",
    "fig.show()"
   ]
  },
  {
   "cell_type": "markdown",
   "metadata": {},
   "source": [
    "#### Scatter plot for the number of orders per user for groups A and B.<br>\n",
    "\n",
    "> The x-axis represents the dates from 1st August to 30th August 2019.<br>\n",
    "> The y-axis represents the number of orders per user.<br>\n",
    "> Group A’s orders are represented by blue dots, while Group B’s orders are represented by red dots.<br>\n",
    "\n",
    "> Both groups show users with orders ranging from 1 to 3 per day.<br>\n",
    "> Group B has a consistent presence of 1 order per user almost every day.<br>\n",
    "> Group A has occasional instances where users place 2 or 3 orders.<br>\n",
    "\n",
    "> Group A (blue dots) shows more variability with instances of 2 and 3 orders per user on certain days.<br>\n",
    "> Group B (red dots) primarily shows 1 order per user, with occasional days showing 2 orders.<br>\n",
    "> Both groups have days where no orders exceed 1 per user.<br>\n",
    "\n",
    "> On several days, Group A has users placing 2 or 3 orders, such as around August 4, August 18, and late August.<br>\n",
    "> Group B shows less frequent but consistent occurrences of users placing 2 orders, notably around August 11 and August 18.<br>\n",
    "\n",
    "> Users in Group A have more variability in their order behavior, indicating some users might be more active and place multiple orders on certain days.<br>\n",
    "> Group B users tend to place a single order per day, indicating more consistent but lower activity levels."
   ]
  },
  {
   "cell_type": "code",
   "execution_count": 696,
   "metadata": {},
   "outputs": [
    {
     "data": {
      "text/plain": [
       "count    445.000000\n",
       "mean       1.051685\n",
       "std        0.267669\n",
       "min        1.000000\n",
       "25%        1.000000\n",
       "50%        1.000000\n",
       "75%        1.000000\n",
       "max        3.000000\n",
       "Name: orders, dtype: float64"
      ]
     },
     "execution_count": 696,
     "metadata": {},
     "output_type": "execute_result"
    }
   ],
   "source": [
    "ordersByUsersA['orders'].describe()"
   ]
  },
  {
   "cell_type": "code",
   "execution_count": 697,
   "metadata": {},
   "outputs": [
    {
     "data": {
      "text/plain": [
       "count    528.000000\n",
       "mean       1.037879\n",
       "std        0.210008\n",
       "min        1.000000\n",
       "25%        1.000000\n",
       "50%        1.000000\n",
       "75%        1.000000\n",
       "max        3.000000\n",
       "Name: orders, dtype: float64"
      ]
     },
     "execution_count": 697,
     "metadata": {},
     "output_type": "execute_result"
    }
   ],
   "source": [
    "ordersByUsersB['orders'].describe()"
   ]
  },
  {
   "cell_type": "markdown",
   "metadata": {},
   "source": [
    "#### Comparative Analysis:<br>\n",
    "\n",
    "> Both groups have a mean number of orders per user close to 1, with Group A slightly higher at 1.051685 compared to Group B’s 1.037879.<br>\n",
    "> The median for both groups is 1.0, indicating that more than half of the users in both groups place exactly one order.<br>\n",
    "\n",
    "> Group A has a higher standard deviation (0.267669) compared to Group B (0.210008), suggesting that Group A’s order counts are more variable.<br>\n",
    "> The maximum number of orders is 3 for both groups, indicating occasional multiple orders per user, as seen in the scatter plot.<br>\n",
    "\n",
    "> Group A exhibits slightly more variability in user activity, with a small portion of users placing more than one order per day more frequently than in Group B.<br>\n",
    "> This aligns with the scatter plot observations where Group A had instances of 2 and 3 orders per user, while Group B was more consistent with 1 order and occasional 2 orders.<br>\n",
    "\n",
    "> The higher standard deviation in Group A points to greater inconsistency in daily orders, while Group B users show more consistent order behavior, supported by the scatter plot showing fewer instances of multiple orders."
   ]
  },
  {
   "cell_type": "markdown",
   "metadata": {},
   "source": [
    "***"
   ]
  },
  {
   "cell_type": "markdown",
   "metadata": {},
   "source": [
    "##### 2. Plot Conversion Rate by Day for group A and B."
   ]
  },
  {
   "cell_type": "code",
   "execution_count": 698,
   "metadata": {},
   "outputs": [
    {
     "name": "stderr",
     "output_type": "stream",
     "text": [
      "/Users/cesarchaparro/opt/anaconda3/lib/python3.11/site-packages/_plotly_utils/basevalidators.py:106: FutureWarning:\n",
      "\n",
      "The behavior of DatetimeProperties.to_pydatetime is deprecated, in a future version this will return a Series containing python datetime objects instead of an ndarray. To retain the old behavior, call `np.array` on the result\n",
      "\n"
     ]
    },
    {
     "data": {
      "application/vnd.plotly.v1+json": {
       "config": {
        "plotlyServerURL": "https://plot.ly"
       },
       "data": [
        {
         "line": {
          "color": "green",
          "width": 2
         },
         "mode": "lines",
         "name": "A",
         "type": "scatter",
         "x": [
          "2019-08-01T00:00:00",
          "2019-08-02T00:00:00",
          "2019-08-03T00:00:00",
          "2019-08-04T00:00:00",
          "2019-08-05T00:00:00",
          "2019-08-06T00:00:00",
          "2019-08-07T00:00:00",
          "2019-08-08T00:00:00",
          "2019-08-09T00:00:00",
          "2019-08-10T00:00:00",
          "2019-08-11T00:00:00",
          "2019-08-12T00:00:00",
          "2019-08-13T00:00:00",
          "2019-08-14T00:00:00",
          "2019-08-15T00:00:00",
          "2019-08-16T00:00:00",
          "2019-08-17T00:00:00",
          "2019-08-18T00:00:00",
          "2019-08-19T00:00:00",
          "2019-08-20T00:00:00",
          "2019-08-21T00:00:00",
          "2019-08-22T00:00:00",
          "2019-08-23T00:00:00",
          "2019-08-24T00:00:00",
          "2019-08-25T00:00:00",
          "2019-08-26T00:00:00",
          "2019-08-27T00:00:00",
          "2019-08-28T00:00:00",
          "2019-08-29T00:00:00",
          "2019-08-30T00:00:00",
          "2019-08-31T00:00:00"
         ],
         "y": [
          0.031988873435326845,
          0.030694668820678513,
          0.047337278106508875,
          0.015341701534170154,
          0.0291005291005291,
          0.022488755622188907,
          0.024844720496894408,
          0.022950819672131147,
          0.017828200972447326,
          0.03694581280788178,
          0.01532033426183844,
          0.031932773109243695,
          0.01871657754010695,
          0.02312925170068027,
          0.01592356687898089,
          0.04986149584487535,
          0.014563106796116505,
          0.019461077844311378,
          0.04183266932270916,
          0.017391304347826087,
          0.030959752321981424,
          0.016420361247947456,
          0.042735042735042736,
          0.03291139240506329,
          0.01288244766505636,
          0.0221606648199446,
          0.03234880450070324,
          0.025252525252525252,
          0.029462738301559793,
          0.018367346938775512,
          0.011444921316165951
         ]
        },
        {
         "line": {
          "color": "purple",
          "width": 2
         },
         "mode": "lines",
         "name": "B",
         "type": "scatter",
         "x": [
          "2019-08-01T00:00:00",
          "2019-08-02T00:00:00",
          "2019-08-03T00:00:00",
          "2019-08-04T00:00:00",
          "2019-08-05T00:00:00",
          "2019-08-06T00:00:00",
          "2019-08-07T00:00:00",
          "2019-08-08T00:00:00",
          "2019-08-09T00:00:00",
          "2019-08-10T00:00:00",
          "2019-08-11T00:00:00",
          "2019-08-12T00:00:00",
          "2019-08-13T00:00:00",
          "2019-08-14T00:00:00",
          "2019-08-15T00:00:00",
          "2019-08-16T00:00:00",
          "2019-08-17T00:00:00",
          "2019-08-18T00:00:00",
          "2019-08-19T00:00:00",
          "2019-08-20T00:00:00",
          "2019-08-21T00:00:00",
          "2019-08-22T00:00:00",
          "2019-08-23T00:00:00",
          "2019-08-24T00:00:00",
          "2019-08-25T00:00:00",
          "2019-08-26T00:00:00",
          "2019-08-27T00:00:00",
          "2019-08-28T00:00:00",
          "2019-08-29T00:00:00",
          "2019-08-30T00:00:00",
          "2019-08-31T00:00:00"
         ],
         "y": [
          0.023842917251051893,
          0.039586919104991396,
          0.0275049115913556,
          0.01818181818181818,
          0.0297029702970297,
          0.035114503816793895,
          0.03244005641748942,
          0.03363914373088685,
          0.03114754098360656,
          0.05962059620596206,
          0.016643550624133148,
          0.034990791896869246,
          0.02600780234070221,
          0.01876675603217158,
          0.04779411764705882,
          0.043583535108958835,
          0.030878859857482184,
          0.009497964721845319,
          0.043121149897330596,
          0.03571428571428571,
          0.018292682926829267,
          0.03230769230769231,
          0.023809523809523808,
          0.037037037037037035,
          0.017673048600883652,
          0.03254437869822485,
          0.015277777777777777,
          0.03363914373088685,
          0.02824858757062147,
          0.04285714285714286,
          0.023676880222841225
         ]
        }
       ],
       "layout": {
        "autosize": false,
        "height": 500,
        "margin": {
         "b": 100,
         "l": 50,
         "pad": 4,
         "r": 50,
         "t": 100
        },
        "paper_bgcolor": "LightSteelBlue",
        "showlegend": true,
        "template": {
         "data": {
          "bar": [
           {
            "error_x": {
             "color": "#2a3f5f"
            },
            "error_y": {
             "color": "#2a3f5f"
            },
            "marker": {
             "line": {
              "color": "#E5ECF6",
              "width": 0.5
             },
             "pattern": {
              "fillmode": "overlay",
              "size": 10,
              "solidity": 0.2
             }
            },
            "type": "bar"
           }
          ],
          "barpolar": [
           {
            "marker": {
             "line": {
              "color": "#E5ECF6",
              "width": 0.5
             },
             "pattern": {
              "fillmode": "overlay",
              "size": 10,
              "solidity": 0.2
             }
            },
            "type": "barpolar"
           }
          ],
          "carpet": [
           {
            "aaxis": {
             "endlinecolor": "#2a3f5f",
             "gridcolor": "white",
             "linecolor": "white",
             "minorgridcolor": "white",
             "startlinecolor": "#2a3f5f"
            },
            "baxis": {
             "endlinecolor": "#2a3f5f",
             "gridcolor": "white",
             "linecolor": "white",
             "minorgridcolor": "white",
             "startlinecolor": "#2a3f5f"
            },
            "type": "carpet"
           }
          ],
          "choropleth": [
           {
            "colorbar": {
             "outlinewidth": 0,
             "ticks": ""
            },
            "type": "choropleth"
           }
          ],
          "contour": [
           {
            "colorbar": {
             "outlinewidth": 0,
             "ticks": ""
            },
            "colorscale": [
             [
              0,
              "#0d0887"
             ],
             [
              0.1111111111111111,
              "#46039f"
             ],
             [
              0.2222222222222222,
              "#7201a8"
             ],
             [
              0.3333333333333333,
              "#9c179e"
             ],
             [
              0.4444444444444444,
              "#bd3786"
             ],
             [
              0.5555555555555556,
              "#d8576b"
             ],
             [
              0.6666666666666666,
              "#ed7953"
             ],
             [
              0.7777777777777778,
              "#fb9f3a"
             ],
             [
              0.8888888888888888,
              "#fdca26"
             ],
             [
              1,
              "#f0f921"
             ]
            ],
            "type": "contour"
           }
          ],
          "contourcarpet": [
           {
            "colorbar": {
             "outlinewidth": 0,
             "ticks": ""
            },
            "type": "contourcarpet"
           }
          ],
          "heatmap": [
           {
            "colorbar": {
             "outlinewidth": 0,
             "ticks": ""
            },
            "colorscale": [
             [
              0,
              "#0d0887"
             ],
             [
              0.1111111111111111,
              "#46039f"
             ],
             [
              0.2222222222222222,
              "#7201a8"
             ],
             [
              0.3333333333333333,
              "#9c179e"
             ],
             [
              0.4444444444444444,
              "#bd3786"
             ],
             [
              0.5555555555555556,
              "#d8576b"
             ],
             [
              0.6666666666666666,
              "#ed7953"
             ],
             [
              0.7777777777777778,
              "#fb9f3a"
             ],
             [
              0.8888888888888888,
              "#fdca26"
             ],
             [
              1,
              "#f0f921"
             ]
            ],
            "type": "heatmap"
           }
          ],
          "heatmapgl": [
           {
            "colorbar": {
             "outlinewidth": 0,
             "ticks": ""
            },
            "colorscale": [
             [
              0,
              "#0d0887"
             ],
             [
              0.1111111111111111,
              "#46039f"
             ],
             [
              0.2222222222222222,
              "#7201a8"
             ],
             [
              0.3333333333333333,
              "#9c179e"
             ],
             [
              0.4444444444444444,
              "#bd3786"
             ],
             [
              0.5555555555555556,
              "#d8576b"
             ],
             [
              0.6666666666666666,
              "#ed7953"
             ],
             [
              0.7777777777777778,
              "#fb9f3a"
             ],
             [
              0.8888888888888888,
              "#fdca26"
             ],
             [
              1,
              "#f0f921"
             ]
            ],
            "type": "heatmapgl"
           }
          ],
          "histogram": [
           {
            "marker": {
             "pattern": {
              "fillmode": "overlay",
              "size": 10,
              "solidity": 0.2
             }
            },
            "type": "histogram"
           }
          ],
          "histogram2d": [
           {
            "colorbar": {
             "outlinewidth": 0,
             "ticks": ""
            },
            "colorscale": [
             [
              0,
              "#0d0887"
             ],
             [
              0.1111111111111111,
              "#46039f"
             ],
             [
              0.2222222222222222,
              "#7201a8"
             ],
             [
              0.3333333333333333,
              "#9c179e"
             ],
             [
              0.4444444444444444,
              "#bd3786"
             ],
             [
              0.5555555555555556,
              "#d8576b"
             ],
             [
              0.6666666666666666,
              "#ed7953"
             ],
             [
              0.7777777777777778,
              "#fb9f3a"
             ],
             [
              0.8888888888888888,
              "#fdca26"
             ],
             [
              1,
              "#f0f921"
             ]
            ],
            "type": "histogram2d"
           }
          ],
          "histogram2dcontour": [
           {
            "colorbar": {
             "outlinewidth": 0,
             "ticks": ""
            },
            "colorscale": [
             [
              0,
              "#0d0887"
             ],
             [
              0.1111111111111111,
              "#46039f"
             ],
             [
              0.2222222222222222,
              "#7201a8"
             ],
             [
              0.3333333333333333,
              "#9c179e"
             ],
             [
              0.4444444444444444,
              "#bd3786"
             ],
             [
              0.5555555555555556,
              "#d8576b"
             ],
             [
              0.6666666666666666,
              "#ed7953"
             ],
             [
              0.7777777777777778,
              "#fb9f3a"
             ],
             [
              0.8888888888888888,
              "#fdca26"
             ],
             [
              1,
              "#f0f921"
             ]
            ],
            "type": "histogram2dcontour"
           }
          ],
          "mesh3d": [
           {
            "colorbar": {
             "outlinewidth": 0,
             "ticks": ""
            },
            "type": "mesh3d"
           }
          ],
          "parcoords": [
           {
            "line": {
             "colorbar": {
              "outlinewidth": 0,
              "ticks": ""
             }
            },
            "type": "parcoords"
           }
          ],
          "pie": [
           {
            "automargin": true,
            "type": "pie"
           }
          ],
          "scatter": [
           {
            "fillpattern": {
             "fillmode": "overlay",
             "size": 10,
             "solidity": 0.2
            },
            "type": "scatter"
           }
          ],
          "scatter3d": [
           {
            "line": {
             "colorbar": {
              "outlinewidth": 0,
              "ticks": ""
             }
            },
            "marker": {
             "colorbar": {
              "outlinewidth": 0,
              "ticks": ""
             }
            },
            "type": "scatter3d"
           }
          ],
          "scattercarpet": [
           {
            "marker": {
             "colorbar": {
              "outlinewidth": 0,
              "ticks": ""
             }
            },
            "type": "scattercarpet"
           }
          ],
          "scattergeo": [
           {
            "marker": {
             "colorbar": {
              "outlinewidth": 0,
              "ticks": ""
             }
            },
            "type": "scattergeo"
           }
          ],
          "scattergl": [
           {
            "marker": {
             "colorbar": {
              "outlinewidth": 0,
              "ticks": ""
             }
            },
            "type": "scattergl"
           }
          ],
          "scattermapbox": [
           {
            "marker": {
             "colorbar": {
              "outlinewidth": 0,
              "ticks": ""
             }
            },
            "type": "scattermapbox"
           }
          ],
          "scatterpolar": [
           {
            "marker": {
             "colorbar": {
              "outlinewidth": 0,
              "ticks": ""
             }
            },
            "type": "scatterpolar"
           }
          ],
          "scatterpolargl": [
           {
            "marker": {
             "colorbar": {
              "outlinewidth": 0,
              "ticks": ""
             }
            },
            "type": "scatterpolargl"
           }
          ],
          "scatterternary": [
           {
            "marker": {
             "colorbar": {
              "outlinewidth": 0,
              "ticks": ""
             }
            },
            "type": "scatterternary"
           }
          ],
          "surface": [
           {
            "colorbar": {
             "outlinewidth": 0,
             "ticks": ""
            },
            "colorscale": [
             [
              0,
              "#0d0887"
             ],
             [
              0.1111111111111111,
              "#46039f"
             ],
             [
              0.2222222222222222,
              "#7201a8"
             ],
             [
              0.3333333333333333,
              "#9c179e"
             ],
             [
              0.4444444444444444,
              "#bd3786"
             ],
             [
              0.5555555555555556,
              "#d8576b"
             ],
             [
              0.6666666666666666,
              "#ed7953"
             ],
             [
              0.7777777777777778,
              "#fb9f3a"
             ],
             [
              0.8888888888888888,
              "#fdca26"
             ],
             [
              1,
              "#f0f921"
             ]
            ],
            "type": "surface"
           }
          ],
          "table": [
           {
            "cells": {
             "fill": {
              "color": "#EBF0F8"
             },
             "line": {
              "color": "white"
             }
            },
            "header": {
             "fill": {
              "color": "#C8D4E3"
             },
             "line": {
              "color": "white"
             }
            },
            "type": "table"
           }
          ]
         },
         "layout": {
          "annotationdefaults": {
           "arrowcolor": "#2a3f5f",
           "arrowhead": 0,
           "arrowwidth": 1
          },
          "autotypenumbers": "strict",
          "coloraxis": {
           "colorbar": {
            "outlinewidth": 0,
            "ticks": ""
           }
          },
          "colorscale": {
           "diverging": [
            [
             0,
             "#8e0152"
            ],
            [
             0.1,
             "#c51b7d"
            ],
            [
             0.2,
             "#de77ae"
            ],
            [
             0.3,
             "#f1b6da"
            ],
            [
             0.4,
             "#fde0ef"
            ],
            [
             0.5,
             "#f7f7f7"
            ],
            [
             0.6,
             "#e6f5d0"
            ],
            [
             0.7,
             "#b8e186"
            ],
            [
             0.8,
             "#7fbc41"
            ],
            [
             0.9,
             "#4d9221"
            ],
            [
             1,
             "#276419"
            ]
           ],
           "sequential": [
            [
             0,
             "#0d0887"
            ],
            [
             0.1111111111111111,
             "#46039f"
            ],
            [
             0.2222222222222222,
             "#7201a8"
            ],
            [
             0.3333333333333333,
             "#9c179e"
            ],
            [
             0.4444444444444444,
             "#bd3786"
            ],
            [
             0.5555555555555556,
             "#d8576b"
            ],
            [
             0.6666666666666666,
             "#ed7953"
            ],
            [
             0.7777777777777778,
             "#fb9f3a"
            ],
            [
             0.8888888888888888,
             "#fdca26"
            ],
            [
             1,
             "#f0f921"
            ]
           ],
           "sequentialminus": [
            [
             0,
             "#0d0887"
            ],
            [
             0.1111111111111111,
             "#46039f"
            ],
            [
             0.2222222222222222,
             "#7201a8"
            ],
            [
             0.3333333333333333,
             "#9c179e"
            ],
            [
             0.4444444444444444,
             "#bd3786"
            ],
            [
             0.5555555555555556,
             "#d8576b"
            ],
            [
             0.6666666666666666,
             "#ed7953"
            ],
            [
             0.7777777777777778,
             "#fb9f3a"
            ],
            [
             0.8888888888888888,
             "#fdca26"
            ],
            [
             1,
             "#f0f921"
            ]
           ]
          },
          "colorway": [
           "#636efa",
           "#EF553B",
           "#00cc96",
           "#ab63fa",
           "#FFA15A",
           "#19d3f3",
           "#FF6692",
           "#B6E880",
           "#FF97FF",
           "#FECB52"
          ],
          "font": {
           "color": "#2a3f5f"
          },
          "geo": {
           "bgcolor": "white",
           "lakecolor": "white",
           "landcolor": "#E5ECF6",
           "showlakes": true,
           "showland": true,
           "subunitcolor": "white"
          },
          "hoverlabel": {
           "align": "left"
          },
          "hovermode": "closest",
          "mapbox": {
           "style": "light"
          },
          "paper_bgcolor": "white",
          "plot_bgcolor": "#E5ECF6",
          "polar": {
           "angularaxis": {
            "gridcolor": "white",
            "linecolor": "white",
            "ticks": ""
           },
           "bgcolor": "#E5ECF6",
           "radialaxis": {
            "gridcolor": "white",
            "linecolor": "white",
            "ticks": ""
           }
          },
          "scene": {
           "xaxis": {
            "backgroundcolor": "#E5ECF6",
            "gridcolor": "white",
            "gridwidth": 2,
            "linecolor": "white",
            "showbackground": true,
            "ticks": "",
            "zerolinecolor": "white"
           },
           "yaxis": {
            "backgroundcolor": "#E5ECF6",
            "gridcolor": "white",
            "gridwidth": 2,
            "linecolor": "white",
            "showbackground": true,
            "ticks": "",
            "zerolinecolor": "white"
           },
           "zaxis": {
            "backgroundcolor": "#E5ECF6",
            "gridcolor": "white",
            "gridwidth": 2,
            "linecolor": "white",
            "showbackground": true,
            "ticks": "",
            "zerolinecolor": "white"
           }
          },
          "shapedefaults": {
           "line": {
            "color": "#2a3f5f"
           }
          },
          "ternary": {
           "aaxis": {
            "gridcolor": "white",
            "linecolor": "white",
            "ticks": ""
           },
           "baxis": {
            "gridcolor": "white",
            "linecolor": "white",
            "ticks": ""
           },
           "bgcolor": "#E5ECF6",
           "caxis": {
            "gridcolor": "white",
            "linecolor": "white",
            "ticks": ""
           }
          },
          "title": {
           "x": 0.05
          },
          "xaxis": {
           "automargin": true,
           "gridcolor": "white",
           "linecolor": "white",
           "ticks": "",
           "title": {
            "standoff": 15
           },
           "zerolinecolor": "white",
           "zerolinewidth": 2
          },
          "yaxis": {
           "automargin": true,
           "gridcolor": "white",
           "linecolor": "white",
           "ticks": "",
           "title": {
            "standoff": 15
           },
           "zerolinecolor": "white",
           "zerolinewidth": 2
          }
         }
        },
        "title": {
         "text": "Conversion Rate by Day for group A and B"
        },
        "width": 800,
        "xaxis": {
         "tickformat": "%d %b <br>%Y",
         "title": {
          "text": "date"
         }
        },
        "yaxis": {
         "title": {
          "text": "conversion rate"
         }
        }
       }
      }
     },
     "metadata": {},
     "output_type": "display_data"
    }
   ],
   "source": [
    "# plot daily conversion rate for groups A and B\n",
    "fig = go.Figure()\n",
    "fig.add_trace(go.Scatter(x = conversion_rateA['date'], \n",
    "                        y = conversion_rateA['conversionA'],\n",
    "                    mode = 'lines',\n",
    "                    name = 'A', line = dict(color = 'green', width = 2 )))\n",
    "fig.add_trace(go.Scatter(x = conversion_rateB['date'], \n",
    "                        y = conversion_rateB['conversionB'], \n",
    "                    mode = 'lines',\n",
    "                    name = 'B', line = dict(color = 'purple', width = 2 )))\n",
    "\n",
    "fig.update_layout(autosize = False, width = 800, height = 500, margin = dict(\n",
    "        l = 50, r = 50, b = 100, t = 100, pad = 4), paper_bgcolor = 'LightSteelBlue',\n",
    "                  xaxis_tickformat = '%d %b <br>%Y', \n",
    "                  xaxis_title = 'date')\n",
    "# Customize y-axis label\n",
    "fig.update_yaxes(title_text = 'conversion rate')  # Add y-axis label\n",
    "# Add title to the plot\n",
    "fig.update_layout(title_text = 'Conversion Rate by Day for group A and B')\n",
    "fig.update_layout(\n",
    "    showlegend = True)\n",
    "fig.show()"
   ]
  },
  {
   "cell_type": "markdown",
   "metadata": {},
   "source": [
    "#### The plot shows the daily conversion rates for groups A and B over a period in August 2019.<br>\n",
    "\n",
    "> The x-axis represents the dates, ranging from 1st August 2019 to 30th August 2019.<br>\n",
    "> The y-axis represents the conversion rate ratio of orders and number of visits per day, with values ranging from approximately 0.01 to 0.06<br>\n",
    "\n",
    "> Group A's conversion rates are represented by the green line, while Group B's are shown by the purple line.<br>\n",
    "> Both groups exhibit considerable variability in their daily conversion rates.<br>\n",
    "> Both groups show peaks and valleys, indicating days with high and low conversion rates.<br>\n",
    "> Group A's conversion rate appears to have more frequent and possibly sharper fluctuations than Group B’s. This might suggest greater instability or sensitivity to daily changes in Group A’s conversion rate.<br>\n",
    "> Group B, while also variable, might show slightly more periods of stability.<br>\n",
    "\n",
    "> Around August 11, Group B shows a significant spike, reaching a conversion rate above 0.05, while Group A shows a more moderate peak.<br>\n",
    "> After August 18, Group A shows higher conversion rates more frequently than Group B.<br>\n",
    "> There are several points where the conversion rates of the two groups intersect, suggesting days where their performance was very similar."
   ]
  },
  {
   "cell_type": "markdown",
   "metadata": {},
   "source": [
    "***"
   ]
  },
  {
   "cell_type": "markdown",
   "metadata": {},
   "source": [
    "##### 3. Plot Orders by Day for group A and B."
   ]
  },
  {
   "cell_type": "code",
   "execution_count": 699,
   "metadata": {},
   "outputs": [
    {
     "data": {
      "application/vnd.plotly.v1+json": {
       "config": {
        "plotlyServerURL": "https://plot.ly"
       },
       "data": [
        {
         "line": {
          "color": "orange",
          "width": 2
         },
         "mode": "lines",
         "name": "A",
         "type": "scatter",
         "x": [
          "2019-08-01T00:00:00",
          "2019-08-02T00:00:00",
          "2019-08-03T00:00:00",
          "2019-08-04T00:00:00",
          "2019-08-05T00:00:00",
          "2019-08-06T00:00:00",
          "2019-08-07T00:00:00",
          "2019-08-08T00:00:00",
          "2019-08-09T00:00:00",
          "2019-08-10T00:00:00",
          "2019-08-11T00:00:00",
          "2019-08-12T00:00:00",
          "2019-08-13T00:00:00",
          "2019-08-14T00:00:00",
          "2019-08-15T00:00:00",
          "2019-08-16T00:00:00",
          "2019-08-17T00:00:00",
          "2019-08-18T00:00:00",
          "2019-08-19T00:00:00",
          "2019-08-20T00:00:00",
          "2019-08-21T00:00:00",
          "2019-08-22T00:00:00",
          "2019-08-23T00:00:00",
          "2019-08-24T00:00:00",
          "2019-08-25T00:00:00",
          "2019-08-26T00:00:00",
          "2019-08-27T00:00:00",
          "2019-08-28T00:00:00",
          "2019-08-29T00:00:00",
          "2019-08-30T00:00:00",
          "2019-08-31T00:00:00"
         ],
         "y": [
          23,
          19,
          24,
          11,
          22,
          15,
          16,
          14,
          11,
          15,
          11,
          19,
          14,
          17,
          10,
          18,
          6,
          13,
          21,
          10,
          20,
          10,
          20,
          13,
          8,
          16,
          23,
          15,
          17,
          9,
          8
         ]
        },
        {
         "line": {
          "color": "blue",
          "width": 2
         },
         "mode": "lines",
         "name": "B",
         "type": "scatter",
         "x": [
          "2019-08-01T00:00:00",
          "2019-08-02T00:00:00",
          "2019-08-03T00:00:00",
          "2019-08-04T00:00:00",
          "2019-08-05T00:00:00",
          "2019-08-06T00:00:00",
          "2019-08-07T00:00:00",
          "2019-08-08T00:00:00",
          "2019-08-09T00:00:00",
          "2019-08-10T00:00:00",
          "2019-08-11T00:00:00",
          "2019-08-12T00:00:00",
          "2019-08-13T00:00:00",
          "2019-08-14T00:00:00",
          "2019-08-15T00:00:00",
          "2019-08-16T00:00:00",
          "2019-08-17T00:00:00",
          "2019-08-18T00:00:00",
          "2019-08-19T00:00:00",
          "2019-08-20T00:00:00",
          "2019-08-21T00:00:00",
          "2019-08-22T00:00:00",
          "2019-08-23T00:00:00",
          "2019-08-24T00:00:00",
          "2019-08-25T00:00:00",
          "2019-08-26T00:00:00",
          "2019-08-27T00:00:00",
          "2019-08-28T00:00:00",
          "2019-08-29T00:00:00",
          "2019-08-30T00:00:00",
          "2019-08-31T00:00:00"
         ],
         "y": [
          17,
          23,
          14,
          14,
          21,
          23,
          23,
          22,
          19,
          22,
          12,
          19,
          20,
          14,
          26,
          18,
          13,
          7,
          21,
          20,
          12,
          21,
          13,
          14,
          12,
          22,
          11,
          22,
          15,
          21,
          17
         ]
        }
       ],
       "layout": {
        "autosize": false,
        "height": 500,
        "margin": {
         "b": 100,
         "l": 50,
         "pad": 4,
         "r": 50,
         "t": 100
        },
        "paper_bgcolor": "LightSteelBlue",
        "showlegend": true,
        "template": {
         "data": {
          "bar": [
           {
            "error_x": {
             "color": "#2a3f5f"
            },
            "error_y": {
             "color": "#2a3f5f"
            },
            "marker": {
             "line": {
              "color": "#E5ECF6",
              "width": 0.5
             },
             "pattern": {
              "fillmode": "overlay",
              "size": 10,
              "solidity": 0.2
             }
            },
            "type": "bar"
           }
          ],
          "barpolar": [
           {
            "marker": {
             "line": {
              "color": "#E5ECF6",
              "width": 0.5
             },
             "pattern": {
              "fillmode": "overlay",
              "size": 10,
              "solidity": 0.2
             }
            },
            "type": "barpolar"
           }
          ],
          "carpet": [
           {
            "aaxis": {
             "endlinecolor": "#2a3f5f",
             "gridcolor": "white",
             "linecolor": "white",
             "minorgridcolor": "white",
             "startlinecolor": "#2a3f5f"
            },
            "baxis": {
             "endlinecolor": "#2a3f5f",
             "gridcolor": "white",
             "linecolor": "white",
             "minorgridcolor": "white",
             "startlinecolor": "#2a3f5f"
            },
            "type": "carpet"
           }
          ],
          "choropleth": [
           {
            "colorbar": {
             "outlinewidth": 0,
             "ticks": ""
            },
            "type": "choropleth"
           }
          ],
          "contour": [
           {
            "colorbar": {
             "outlinewidth": 0,
             "ticks": ""
            },
            "colorscale": [
             [
              0,
              "#0d0887"
             ],
             [
              0.1111111111111111,
              "#46039f"
             ],
             [
              0.2222222222222222,
              "#7201a8"
             ],
             [
              0.3333333333333333,
              "#9c179e"
             ],
             [
              0.4444444444444444,
              "#bd3786"
             ],
             [
              0.5555555555555556,
              "#d8576b"
             ],
             [
              0.6666666666666666,
              "#ed7953"
             ],
             [
              0.7777777777777778,
              "#fb9f3a"
             ],
             [
              0.8888888888888888,
              "#fdca26"
             ],
             [
              1,
              "#f0f921"
             ]
            ],
            "type": "contour"
           }
          ],
          "contourcarpet": [
           {
            "colorbar": {
             "outlinewidth": 0,
             "ticks": ""
            },
            "type": "contourcarpet"
           }
          ],
          "heatmap": [
           {
            "colorbar": {
             "outlinewidth": 0,
             "ticks": ""
            },
            "colorscale": [
             [
              0,
              "#0d0887"
             ],
             [
              0.1111111111111111,
              "#46039f"
             ],
             [
              0.2222222222222222,
              "#7201a8"
             ],
             [
              0.3333333333333333,
              "#9c179e"
             ],
             [
              0.4444444444444444,
              "#bd3786"
             ],
             [
              0.5555555555555556,
              "#d8576b"
             ],
             [
              0.6666666666666666,
              "#ed7953"
             ],
             [
              0.7777777777777778,
              "#fb9f3a"
             ],
             [
              0.8888888888888888,
              "#fdca26"
             ],
             [
              1,
              "#f0f921"
             ]
            ],
            "type": "heatmap"
           }
          ],
          "heatmapgl": [
           {
            "colorbar": {
             "outlinewidth": 0,
             "ticks": ""
            },
            "colorscale": [
             [
              0,
              "#0d0887"
             ],
             [
              0.1111111111111111,
              "#46039f"
             ],
             [
              0.2222222222222222,
              "#7201a8"
             ],
             [
              0.3333333333333333,
              "#9c179e"
             ],
             [
              0.4444444444444444,
              "#bd3786"
             ],
             [
              0.5555555555555556,
              "#d8576b"
             ],
             [
              0.6666666666666666,
              "#ed7953"
             ],
             [
              0.7777777777777778,
              "#fb9f3a"
             ],
             [
              0.8888888888888888,
              "#fdca26"
             ],
             [
              1,
              "#f0f921"
             ]
            ],
            "type": "heatmapgl"
           }
          ],
          "histogram": [
           {
            "marker": {
             "pattern": {
              "fillmode": "overlay",
              "size": 10,
              "solidity": 0.2
             }
            },
            "type": "histogram"
           }
          ],
          "histogram2d": [
           {
            "colorbar": {
             "outlinewidth": 0,
             "ticks": ""
            },
            "colorscale": [
             [
              0,
              "#0d0887"
             ],
             [
              0.1111111111111111,
              "#46039f"
             ],
             [
              0.2222222222222222,
              "#7201a8"
             ],
             [
              0.3333333333333333,
              "#9c179e"
             ],
             [
              0.4444444444444444,
              "#bd3786"
             ],
             [
              0.5555555555555556,
              "#d8576b"
             ],
             [
              0.6666666666666666,
              "#ed7953"
             ],
             [
              0.7777777777777778,
              "#fb9f3a"
             ],
             [
              0.8888888888888888,
              "#fdca26"
             ],
             [
              1,
              "#f0f921"
             ]
            ],
            "type": "histogram2d"
           }
          ],
          "histogram2dcontour": [
           {
            "colorbar": {
             "outlinewidth": 0,
             "ticks": ""
            },
            "colorscale": [
             [
              0,
              "#0d0887"
             ],
             [
              0.1111111111111111,
              "#46039f"
             ],
             [
              0.2222222222222222,
              "#7201a8"
             ],
             [
              0.3333333333333333,
              "#9c179e"
             ],
             [
              0.4444444444444444,
              "#bd3786"
             ],
             [
              0.5555555555555556,
              "#d8576b"
             ],
             [
              0.6666666666666666,
              "#ed7953"
             ],
             [
              0.7777777777777778,
              "#fb9f3a"
             ],
             [
              0.8888888888888888,
              "#fdca26"
             ],
             [
              1,
              "#f0f921"
             ]
            ],
            "type": "histogram2dcontour"
           }
          ],
          "mesh3d": [
           {
            "colorbar": {
             "outlinewidth": 0,
             "ticks": ""
            },
            "type": "mesh3d"
           }
          ],
          "parcoords": [
           {
            "line": {
             "colorbar": {
              "outlinewidth": 0,
              "ticks": ""
             }
            },
            "type": "parcoords"
           }
          ],
          "pie": [
           {
            "automargin": true,
            "type": "pie"
           }
          ],
          "scatter": [
           {
            "fillpattern": {
             "fillmode": "overlay",
             "size": 10,
             "solidity": 0.2
            },
            "type": "scatter"
           }
          ],
          "scatter3d": [
           {
            "line": {
             "colorbar": {
              "outlinewidth": 0,
              "ticks": ""
             }
            },
            "marker": {
             "colorbar": {
              "outlinewidth": 0,
              "ticks": ""
             }
            },
            "type": "scatter3d"
           }
          ],
          "scattercarpet": [
           {
            "marker": {
             "colorbar": {
              "outlinewidth": 0,
              "ticks": ""
             }
            },
            "type": "scattercarpet"
           }
          ],
          "scattergeo": [
           {
            "marker": {
             "colorbar": {
              "outlinewidth": 0,
              "ticks": ""
             }
            },
            "type": "scattergeo"
           }
          ],
          "scattergl": [
           {
            "marker": {
             "colorbar": {
              "outlinewidth": 0,
              "ticks": ""
             }
            },
            "type": "scattergl"
           }
          ],
          "scattermapbox": [
           {
            "marker": {
             "colorbar": {
              "outlinewidth": 0,
              "ticks": ""
             }
            },
            "type": "scattermapbox"
           }
          ],
          "scatterpolar": [
           {
            "marker": {
             "colorbar": {
              "outlinewidth": 0,
              "ticks": ""
             }
            },
            "type": "scatterpolar"
           }
          ],
          "scatterpolargl": [
           {
            "marker": {
             "colorbar": {
              "outlinewidth": 0,
              "ticks": ""
             }
            },
            "type": "scatterpolargl"
           }
          ],
          "scatterternary": [
           {
            "marker": {
             "colorbar": {
              "outlinewidth": 0,
              "ticks": ""
             }
            },
            "type": "scatterternary"
           }
          ],
          "surface": [
           {
            "colorbar": {
             "outlinewidth": 0,
             "ticks": ""
            },
            "colorscale": [
             [
              0,
              "#0d0887"
             ],
             [
              0.1111111111111111,
              "#46039f"
             ],
             [
              0.2222222222222222,
              "#7201a8"
             ],
             [
              0.3333333333333333,
              "#9c179e"
             ],
             [
              0.4444444444444444,
              "#bd3786"
             ],
             [
              0.5555555555555556,
              "#d8576b"
             ],
             [
              0.6666666666666666,
              "#ed7953"
             ],
             [
              0.7777777777777778,
              "#fb9f3a"
             ],
             [
              0.8888888888888888,
              "#fdca26"
             ],
             [
              1,
              "#f0f921"
             ]
            ],
            "type": "surface"
           }
          ],
          "table": [
           {
            "cells": {
             "fill": {
              "color": "#EBF0F8"
             },
             "line": {
              "color": "white"
             }
            },
            "header": {
             "fill": {
              "color": "#C8D4E3"
             },
             "line": {
              "color": "white"
             }
            },
            "type": "table"
           }
          ]
         },
         "layout": {
          "annotationdefaults": {
           "arrowcolor": "#2a3f5f",
           "arrowhead": 0,
           "arrowwidth": 1
          },
          "autotypenumbers": "strict",
          "coloraxis": {
           "colorbar": {
            "outlinewidth": 0,
            "ticks": ""
           }
          },
          "colorscale": {
           "diverging": [
            [
             0,
             "#8e0152"
            ],
            [
             0.1,
             "#c51b7d"
            ],
            [
             0.2,
             "#de77ae"
            ],
            [
             0.3,
             "#f1b6da"
            ],
            [
             0.4,
             "#fde0ef"
            ],
            [
             0.5,
             "#f7f7f7"
            ],
            [
             0.6,
             "#e6f5d0"
            ],
            [
             0.7,
             "#b8e186"
            ],
            [
             0.8,
             "#7fbc41"
            ],
            [
             0.9,
             "#4d9221"
            ],
            [
             1,
             "#276419"
            ]
           ],
           "sequential": [
            [
             0,
             "#0d0887"
            ],
            [
             0.1111111111111111,
             "#46039f"
            ],
            [
             0.2222222222222222,
             "#7201a8"
            ],
            [
             0.3333333333333333,
             "#9c179e"
            ],
            [
             0.4444444444444444,
             "#bd3786"
            ],
            [
             0.5555555555555556,
             "#d8576b"
            ],
            [
             0.6666666666666666,
             "#ed7953"
            ],
            [
             0.7777777777777778,
             "#fb9f3a"
            ],
            [
             0.8888888888888888,
             "#fdca26"
            ],
            [
             1,
             "#f0f921"
            ]
           ],
           "sequentialminus": [
            [
             0,
             "#0d0887"
            ],
            [
             0.1111111111111111,
             "#46039f"
            ],
            [
             0.2222222222222222,
             "#7201a8"
            ],
            [
             0.3333333333333333,
             "#9c179e"
            ],
            [
             0.4444444444444444,
             "#bd3786"
            ],
            [
             0.5555555555555556,
             "#d8576b"
            ],
            [
             0.6666666666666666,
             "#ed7953"
            ],
            [
             0.7777777777777778,
             "#fb9f3a"
            ],
            [
             0.8888888888888888,
             "#fdca26"
            ],
            [
             1,
             "#f0f921"
            ]
           ]
          },
          "colorway": [
           "#636efa",
           "#EF553B",
           "#00cc96",
           "#ab63fa",
           "#FFA15A",
           "#19d3f3",
           "#FF6692",
           "#B6E880",
           "#FF97FF",
           "#FECB52"
          ],
          "font": {
           "color": "#2a3f5f"
          },
          "geo": {
           "bgcolor": "white",
           "lakecolor": "white",
           "landcolor": "#E5ECF6",
           "showlakes": true,
           "showland": true,
           "subunitcolor": "white"
          },
          "hoverlabel": {
           "align": "left"
          },
          "hovermode": "closest",
          "mapbox": {
           "style": "light"
          },
          "paper_bgcolor": "white",
          "plot_bgcolor": "#E5ECF6",
          "polar": {
           "angularaxis": {
            "gridcolor": "white",
            "linecolor": "white",
            "ticks": ""
           },
           "bgcolor": "#E5ECF6",
           "radialaxis": {
            "gridcolor": "white",
            "linecolor": "white",
            "ticks": ""
           }
          },
          "scene": {
           "xaxis": {
            "backgroundcolor": "#E5ECF6",
            "gridcolor": "white",
            "gridwidth": 2,
            "linecolor": "white",
            "showbackground": true,
            "ticks": "",
            "zerolinecolor": "white"
           },
           "yaxis": {
            "backgroundcolor": "#E5ECF6",
            "gridcolor": "white",
            "gridwidth": 2,
            "linecolor": "white",
            "showbackground": true,
            "ticks": "",
            "zerolinecolor": "white"
           },
           "zaxis": {
            "backgroundcolor": "#E5ECF6",
            "gridcolor": "white",
            "gridwidth": 2,
            "linecolor": "white",
            "showbackground": true,
            "ticks": "",
            "zerolinecolor": "white"
           }
          },
          "shapedefaults": {
           "line": {
            "color": "#2a3f5f"
           }
          },
          "ternary": {
           "aaxis": {
            "gridcolor": "white",
            "linecolor": "white",
            "ticks": ""
           },
           "baxis": {
            "gridcolor": "white",
            "linecolor": "white",
            "ticks": ""
           },
           "bgcolor": "#E5ECF6",
           "caxis": {
            "gridcolor": "white",
            "linecolor": "white",
            "ticks": ""
           }
          },
          "title": {
           "x": 0.05
          },
          "xaxis": {
           "automargin": true,
           "gridcolor": "white",
           "linecolor": "white",
           "ticks": "",
           "title": {
            "standoff": 15
           },
           "zerolinecolor": "white",
           "zerolinewidth": 2
          },
          "yaxis": {
           "automargin": true,
           "gridcolor": "white",
           "linecolor": "white",
           "ticks": "",
           "title": {
            "standoff": 15
           },
           "zerolinecolor": "white",
           "zerolinewidth": 2
          }
         }
        },
        "title": {
         "text": "Orders by Day for A and B groups"
        },
        "width": 800,
        "xaxis": {
         "tickformat": "%d %b <br>%Y",
         "title": {
          "text": "date"
         }
        },
        "yaxis": {
         "title": {
          "text": "orders_per_day"
         }
        }
       }
      }
     },
     "metadata": {},
     "output_type": "display_data"
    }
   ],
   "source": [
    "# plot orders by day for A/B groups\n",
    "fig = go.Figure()\n",
    "fig.add_trace(go.Scatter(x = OrdersA['date'], \n",
    "                        y = OrdersA['orders_per_day'],\n",
    "                    mode = 'lines',\n",
    "                    name = 'A', line = dict(color = 'orange', width = 2 )))\n",
    "fig.add_trace(go.Scatter(x = OrdersB['date'], \n",
    "                        y = OrdersB['orders_per_day'], \n",
    "                    mode = 'lines',\n",
    "                    name = 'B', line = dict(color = 'blue', width = 2 )))\n",
    "\n",
    "fig.update_layout(autosize = False, width = 800, height = 500, margin = dict(\n",
    "        l = 50, r = 50, b = 100, t = 100, pad = 4), paper_bgcolor = 'LightSteelBlue',\n",
    "                  xaxis_tickformat = '%d %b <br>%Y',\n",
    "                  xaxis_title = 'date' \n",
    "                  )\n",
    "# Customize y-axis label\n",
    "fig.update_yaxes(title_text = 'orders_per_day')  # Add y-axis label\n",
    "# Add title to the plot\n",
    "fig.update_layout(title_text = 'Orders by Day for A and B groups')\n",
    "fig.update_layout(\n",
    "    showlegend = True)\n",
    "fig.show()"
   ]
  },
  {
   "cell_type": "markdown",
   "metadata": {},
   "source": [
    "***"
   ]
  },
  {
   "cell_type": "markdown",
   "metadata": {},
   "source": [
    "##### 4. Plot Cumulative Revenue for group A and B."
   ]
  },
  {
   "cell_type": "code",
   "execution_count": 700,
   "metadata": {},
   "outputs": [
    {
     "data": {
      "application/vnd.plotly.v1+json": {
       "config": {
        "plotlyServerURL": "https://plot.ly"
       },
       "data": [
        {
         "line": {
          "color": "orange",
          "width": 2
         },
         "mode": "lines",
         "name": "A",
         "type": "scatter",
         "x": [
          "2019-08-01T00:00:00",
          "2019-08-02T00:00:00",
          "2019-08-03T00:00:00",
          "2019-08-04T00:00:00",
          "2019-08-05T00:00:00",
          "2019-08-06T00:00:00",
          "2019-08-07T00:00:00",
          "2019-08-08T00:00:00",
          "2019-08-09T00:00:00",
          "2019-08-10T00:00:00",
          "2019-08-11T00:00:00",
          "2019-08-12T00:00:00",
          "2019-08-13T00:00:00",
          "2019-08-14T00:00:00",
          "2019-08-15T00:00:00",
          "2019-08-16T00:00:00",
          "2019-08-17T00:00:00",
          "2019-08-18T00:00:00",
          "2019-08-19T00:00:00",
          "2019-08-20T00:00:00",
          "2019-08-21T00:00:00",
          "2019-08-22T00:00:00",
          "2019-08-23T00:00:00",
          "2019-08-24T00:00:00",
          "2019-08-25T00:00:00",
          "2019-08-26T00:00:00",
          "2019-08-27T00:00:00",
          "2019-08-28T00:00:00",
          "2019-08-29T00:00:00",
          "2019-08-30T00:00:00",
          "2019-08-31T00:00:00"
         ],
         "y": [
          2266.6,
          3734.8999999999996,
          5550.099999999999,
          6225.599999999999,
          7623.599999999999,
          8292,
          10234,
          11638.8,
          13734,
          16121.5,
          17084.9,
          20533.7,
          24630.6,
          25347.199999999997,
          26622.499999999996,
          28221.599999999995,
          28770.099999999995,
          29735.699999999993,
          32389.299999999992,
          33325.29999999999,
          36004.19999999999,
          37455.09999999999,
          38409.19999999999,
          40321.29999999999,
          41139.499999999985,
          43604.29999999999,
          46538.999999999985,
          48065.89999999999,
          51134.79999999999,
          52363.69999999999,
          53211.99999999999
         ]
        },
        {
         "line": {
          "color": "blue",
          "width": 2
         },
         "mode": "lines",
         "name": "B",
         "type": "scatter",
         "x": [
          "2019-08-01T00:00:00",
          "2019-08-02T00:00:00",
          "2019-08-03T00:00:00",
          "2019-08-04T00:00:00",
          "2019-08-05T00:00:00",
          "2019-08-06T00:00:00",
          "2019-08-07T00:00:00",
          "2019-08-08T00:00:00",
          "2019-08-09T00:00:00",
          "2019-08-10T00:00:00",
          "2019-08-11T00:00:00",
          "2019-08-12T00:00:00",
          "2019-08-13T00:00:00",
          "2019-08-14T00:00:00",
          "2019-08-15T00:00:00",
          "2019-08-16T00:00:00",
          "2019-08-17T00:00:00",
          "2019-08-18T00:00:00",
          "2019-08-19T00:00:00",
          "2019-08-20T00:00:00",
          "2019-08-21T00:00:00",
          "2019-08-22T00:00:00",
          "2019-08-23T00:00:00",
          "2019-08-24T00:00:00",
          "2019-08-25T00:00:00",
          "2019-08-26T00:00:00",
          "2019-08-27T00:00:00",
          "2019-08-28T00:00:00",
          "2019-08-29T00:00:00",
          "2019-08-30T00:00:00",
          "2019-08-31T00:00:00"
         ],
         "y": [
          967.2,
          3535.3,
          4606.900000000001,
          6138.5,
          7587.8,
          10957.1,
          14392.7,
          16772.600000000002,
          18428.800000000003,
          20103.600000000002,
          20959.000000000004,
          22616.800000000003,
          24491.300000000003,
          26183.700000000004,
          31033.200000000004,
          32840.200000000004,
          34116.200000000004,
          34684.700000000004,
          56749.600000000006,
          59074.200000000004,
          61274.4,
          63503.9,
          64732.8,
          66138.5,
          67393.8,
          70138.1,
          71885,
          72895.5,
          74576.7,
          77863.5,
          79651.2
         ]
        }
       ],
       "layout": {
        "autosize": false,
        "height": 500,
        "margin": {
         "b": 100,
         "l": 50,
         "pad": 4,
         "r": 50,
         "t": 100
        },
        "paper_bgcolor": "LightSteelBlue",
        "showlegend": true,
        "template": {
         "data": {
          "bar": [
           {
            "error_x": {
             "color": "#2a3f5f"
            },
            "error_y": {
             "color": "#2a3f5f"
            },
            "marker": {
             "line": {
              "color": "#E5ECF6",
              "width": 0.5
             },
             "pattern": {
              "fillmode": "overlay",
              "size": 10,
              "solidity": 0.2
             }
            },
            "type": "bar"
           }
          ],
          "barpolar": [
           {
            "marker": {
             "line": {
              "color": "#E5ECF6",
              "width": 0.5
             },
             "pattern": {
              "fillmode": "overlay",
              "size": 10,
              "solidity": 0.2
             }
            },
            "type": "barpolar"
           }
          ],
          "carpet": [
           {
            "aaxis": {
             "endlinecolor": "#2a3f5f",
             "gridcolor": "white",
             "linecolor": "white",
             "minorgridcolor": "white",
             "startlinecolor": "#2a3f5f"
            },
            "baxis": {
             "endlinecolor": "#2a3f5f",
             "gridcolor": "white",
             "linecolor": "white",
             "minorgridcolor": "white",
             "startlinecolor": "#2a3f5f"
            },
            "type": "carpet"
           }
          ],
          "choropleth": [
           {
            "colorbar": {
             "outlinewidth": 0,
             "ticks": ""
            },
            "type": "choropleth"
           }
          ],
          "contour": [
           {
            "colorbar": {
             "outlinewidth": 0,
             "ticks": ""
            },
            "colorscale": [
             [
              0,
              "#0d0887"
             ],
             [
              0.1111111111111111,
              "#46039f"
             ],
             [
              0.2222222222222222,
              "#7201a8"
             ],
             [
              0.3333333333333333,
              "#9c179e"
             ],
             [
              0.4444444444444444,
              "#bd3786"
             ],
             [
              0.5555555555555556,
              "#d8576b"
             ],
             [
              0.6666666666666666,
              "#ed7953"
             ],
             [
              0.7777777777777778,
              "#fb9f3a"
             ],
             [
              0.8888888888888888,
              "#fdca26"
             ],
             [
              1,
              "#f0f921"
             ]
            ],
            "type": "contour"
           }
          ],
          "contourcarpet": [
           {
            "colorbar": {
             "outlinewidth": 0,
             "ticks": ""
            },
            "type": "contourcarpet"
           }
          ],
          "heatmap": [
           {
            "colorbar": {
             "outlinewidth": 0,
             "ticks": ""
            },
            "colorscale": [
             [
              0,
              "#0d0887"
             ],
             [
              0.1111111111111111,
              "#46039f"
             ],
             [
              0.2222222222222222,
              "#7201a8"
             ],
             [
              0.3333333333333333,
              "#9c179e"
             ],
             [
              0.4444444444444444,
              "#bd3786"
             ],
             [
              0.5555555555555556,
              "#d8576b"
             ],
             [
              0.6666666666666666,
              "#ed7953"
             ],
             [
              0.7777777777777778,
              "#fb9f3a"
             ],
             [
              0.8888888888888888,
              "#fdca26"
             ],
             [
              1,
              "#f0f921"
             ]
            ],
            "type": "heatmap"
           }
          ],
          "heatmapgl": [
           {
            "colorbar": {
             "outlinewidth": 0,
             "ticks": ""
            },
            "colorscale": [
             [
              0,
              "#0d0887"
             ],
             [
              0.1111111111111111,
              "#46039f"
             ],
             [
              0.2222222222222222,
              "#7201a8"
             ],
             [
              0.3333333333333333,
              "#9c179e"
             ],
             [
              0.4444444444444444,
              "#bd3786"
             ],
             [
              0.5555555555555556,
              "#d8576b"
             ],
             [
              0.6666666666666666,
              "#ed7953"
             ],
             [
              0.7777777777777778,
              "#fb9f3a"
             ],
             [
              0.8888888888888888,
              "#fdca26"
             ],
             [
              1,
              "#f0f921"
             ]
            ],
            "type": "heatmapgl"
           }
          ],
          "histogram": [
           {
            "marker": {
             "pattern": {
              "fillmode": "overlay",
              "size": 10,
              "solidity": 0.2
             }
            },
            "type": "histogram"
           }
          ],
          "histogram2d": [
           {
            "colorbar": {
             "outlinewidth": 0,
             "ticks": ""
            },
            "colorscale": [
             [
              0,
              "#0d0887"
             ],
             [
              0.1111111111111111,
              "#46039f"
             ],
             [
              0.2222222222222222,
              "#7201a8"
             ],
             [
              0.3333333333333333,
              "#9c179e"
             ],
             [
              0.4444444444444444,
              "#bd3786"
             ],
             [
              0.5555555555555556,
              "#d8576b"
             ],
             [
              0.6666666666666666,
              "#ed7953"
             ],
             [
              0.7777777777777778,
              "#fb9f3a"
             ],
             [
              0.8888888888888888,
              "#fdca26"
             ],
             [
              1,
              "#f0f921"
             ]
            ],
            "type": "histogram2d"
           }
          ],
          "histogram2dcontour": [
           {
            "colorbar": {
             "outlinewidth": 0,
             "ticks": ""
            },
            "colorscale": [
             [
              0,
              "#0d0887"
             ],
             [
              0.1111111111111111,
              "#46039f"
             ],
             [
              0.2222222222222222,
              "#7201a8"
             ],
             [
              0.3333333333333333,
              "#9c179e"
             ],
             [
              0.4444444444444444,
              "#bd3786"
             ],
             [
              0.5555555555555556,
              "#d8576b"
             ],
             [
              0.6666666666666666,
              "#ed7953"
             ],
             [
              0.7777777777777778,
              "#fb9f3a"
             ],
             [
              0.8888888888888888,
              "#fdca26"
             ],
             [
              1,
              "#f0f921"
             ]
            ],
            "type": "histogram2dcontour"
           }
          ],
          "mesh3d": [
           {
            "colorbar": {
             "outlinewidth": 0,
             "ticks": ""
            },
            "type": "mesh3d"
           }
          ],
          "parcoords": [
           {
            "line": {
             "colorbar": {
              "outlinewidth": 0,
              "ticks": ""
             }
            },
            "type": "parcoords"
           }
          ],
          "pie": [
           {
            "automargin": true,
            "type": "pie"
           }
          ],
          "scatter": [
           {
            "fillpattern": {
             "fillmode": "overlay",
             "size": 10,
             "solidity": 0.2
            },
            "type": "scatter"
           }
          ],
          "scatter3d": [
           {
            "line": {
             "colorbar": {
              "outlinewidth": 0,
              "ticks": ""
             }
            },
            "marker": {
             "colorbar": {
              "outlinewidth": 0,
              "ticks": ""
             }
            },
            "type": "scatter3d"
           }
          ],
          "scattercarpet": [
           {
            "marker": {
             "colorbar": {
              "outlinewidth": 0,
              "ticks": ""
             }
            },
            "type": "scattercarpet"
           }
          ],
          "scattergeo": [
           {
            "marker": {
             "colorbar": {
              "outlinewidth": 0,
              "ticks": ""
             }
            },
            "type": "scattergeo"
           }
          ],
          "scattergl": [
           {
            "marker": {
             "colorbar": {
              "outlinewidth": 0,
              "ticks": ""
             }
            },
            "type": "scattergl"
           }
          ],
          "scattermapbox": [
           {
            "marker": {
             "colorbar": {
              "outlinewidth": 0,
              "ticks": ""
             }
            },
            "type": "scattermapbox"
           }
          ],
          "scatterpolar": [
           {
            "marker": {
             "colorbar": {
              "outlinewidth": 0,
              "ticks": ""
             }
            },
            "type": "scatterpolar"
           }
          ],
          "scatterpolargl": [
           {
            "marker": {
             "colorbar": {
              "outlinewidth": 0,
              "ticks": ""
             }
            },
            "type": "scatterpolargl"
           }
          ],
          "scatterternary": [
           {
            "marker": {
             "colorbar": {
              "outlinewidth": 0,
              "ticks": ""
             }
            },
            "type": "scatterternary"
           }
          ],
          "surface": [
           {
            "colorbar": {
             "outlinewidth": 0,
             "ticks": ""
            },
            "colorscale": [
             [
              0,
              "#0d0887"
             ],
             [
              0.1111111111111111,
              "#46039f"
             ],
             [
              0.2222222222222222,
              "#7201a8"
             ],
             [
              0.3333333333333333,
              "#9c179e"
             ],
             [
              0.4444444444444444,
              "#bd3786"
             ],
             [
              0.5555555555555556,
              "#d8576b"
             ],
             [
              0.6666666666666666,
              "#ed7953"
             ],
             [
              0.7777777777777778,
              "#fb9f3a"
             ],
             [
              0.8888888888888888,
              "#fdca26"
             ],
             [
              1,
              "#f0f921"
             ]
            ],
            "type": "surface"
           }
          ],
          "table": [
           {
            "cells": {
             "fill": {
              "color": "#EBF0F8"
             },
             "line": {
              "color": "white"
             }
            },
            "header": {
             "fill": {
              "color": "#C8D4E3"
             },
             "line": {
              "color": "white"
             }
            },
            "type": "table"
           }
          ]
         },
         "layout": {
          "annotationdefaults": {
           "arrowcolor": "#2a3f5f",
           "arrowhead": 0,
           "arrowwidth": 1
          },
          "autotypenumbers": "strict",
          "coloraxis": {
           "colorbar": {
            "outlinewidth": 0,
            "ticks": ""
           }
          },
          "colorscale": {
           "diverging": [
            [
             0,
             "#8e0152"
            ],
            [
             0.1,
             "#c51b7d"
            ],
            [
             0.2,
             "#de77ae"
            ],
            [
             0.3,
             "#f1b6da"
            ],
            [
             0.4,
             "#fde0ef"
            ],
            [
             0.5,
             "#f7f7f7"
            ],
            [
             0.6,
             "#e6f5d0"
            ],
            [
             0.7,
             "#b8e186"
            ],
            [
             0.8,
             "#7fbc41"
            ],
            [
             0.9,
             "#4d9221"
            ],
            [
             1,
             "#276419"
            ]
           ],
           "sequential": [
            [
             0,
             "#0d0887"
            ],
            [
             0.1111111111111111,
             "#46039f"
            ],
            [
             0.2222222222222222,
             "#7201a8"
            ],
            [
             0.3333333333333333,
             "#9c179e"
            ],
            [
             0.4444444444444444,
             "#bd3786"
            ],
            [
             0.5555555555555556,
             "#d8576b"
            ],
            [
             0.6666666666666666,
             "#ed7953"
            ],
            [
             0.7777777777777778,
             "#fb9f3a"
            ],
            [
             0.8888888888888888,
             "#fdca26"
            ],
            [
             1,
             "#f0f921"
            ]
           ],
           "sequentialminus": [
            [
             0,
             "#0d0887"
            ],
            [
             0.1111111111111111,
             "#46039f"
            ],
            [
             0.2222222222222222,
             "#7201a8"
            ],
            [
             0.3333333333333333,
             "#9c179e"
            ],
            [
             0.4444444444444444,
             "#bd3786"
            ],
            [
             0.5555555555555556,
             "#d8576b"
            ],
            [
             0.6666666666666666,
             "#ed7953"
            ],
            [
             0.7777777777777778,
             "#fb9f3a"
            ],
            [
             0.8888888888888888,
             "#fdca26"
            ],
            [
             1,
             "#f0f921"
            ]
           ]
          },
          "colorway": [
           "#636efa",
           "#EF553B",
           "#00cc96",
           "#ab63fa",
           "#FFA15A",
           "#19d3f3",
           "#FF6692",
           "#B6E880",
           "#FF97FF",
           "#FECB52"
          ],
          "font": {
           "color": "#2a3f5f"
          },
          "geo": {
           "bgcolor": "white",
           "lakecolor": "white",
           "landcolor": "#E5ECF6",
           "showlakes": true,
           "showland": true,
           "subunitcolor": "white"
          },
          "hoverlabel": {
           "align": "left"
          },
          "hovermode": "closest",
          "mapbox": {
           "style": "light"
          },
          "paper_bgcolor": "white",
          "plot_bgcolor": "#E5ECF6",
          "polar": {
           "angularaxis": {
            "gridcolor": "white",
            "linecolor": "white",
            "ticks": ""
           },
           "bgcolor": "#E5ECF6",
           "radialaxis": {
            "gridcolor": "white",
            "linecolor": "white",
            "ticks": ""
           }
          },
          "scene": {
           "xaxis": {
            "backgroundcolor": "#E5ECF6",
            "gridcolor": "white",
            "gridwidth": 2,
            "linecolor": "white",
            "showbackground": true,
            "ticks": "",
            "zerolinecolor": "white"
           },
           "yaxis": {
            "backgroundcolor": "#E5ECF6",
            "gridcolor": "white",
            "gridwidth": 2,
            "linecolor": "white",
            "showbackground": true,
            "ticks": "",
            "zerolinecolor": "white"
           },
           "zaxis": {
            "backgroundcolor": "#E5ECF6",
            "gridcolor": "white",
            "gridwidth": 2,
            "linecolor": "white",
            "showbackground": true,
            "ticks": "",
            "zerolinecolor": "white"
           }
          },
          "shapedefaults": {
           "line": {
            "color": "#2a3f5f"
           }
          },
          "ternary": {
           "aaxis": {
            "gridcolor": "white",
            "linecolor": "white",
            "ticks": ""
           },
           "baxis": {
            "gridcolor": "white",
            "linecolor": "white",
            "ticks": ""
           },
           "bgcolor": "#E5ECF6",
           "caxis": {
            "gridcolor": "white",
            "linecolor": "white",
            "ticks": ""
           }
          },
          "title": {
           "x": 0.05
          },
          "xaxis": {
           "automargin": true,
           "gridcolor": "white",
           "linecolor": "white",
           "ticks": "",
           "title": {
            "standoff": 15
           },
           "zerolinecolor": "white",
           "zerolinewidth": 2
          },
          "yaxis": {
           "automargin": true,
           "gridcolor": "white",
           "linecolor": "white",
           "ticks": "",
           "title": {
            "standoff": 15
           },
           "zerolinecolor": "white",
           "zerolinewidth": 2
          }
         }
        },
        "title": {
         "text": "Cumulative Revenue for A and B groups"
        },
        "width": 800,
        "xaxis": {
         "tickformat": "%d %b <br>%Y",
         "title": {
          "text": "date"
         }
        },
        "yaxis": {
         "title": {
          "text": "cumulative revenue"
         }
        }
       }
      }
     },
     "metadata": {},
     "output_type": "display_data"
    }
   ],
   "source": [
    "# plot cumulative revenue for A/B groups\n",
    "fig = go.Figure()\n",
    "fig.add_trace(go.Scatter(x = RevenueA['date'], \n",
    "                        y = RevenueA['cum_RevenueA'],\n",
    "                    mode = 'lines',\n",
    "                    name = 'A', line = dict(color = 'orange', width = 2 )))\n",
    "fig.add_trace(go.Scatter(x = RevenueB['date'], \n",
    "                        y = RevenueB['cum_RevenueB'], \n",
    "                    mode = 'lines',\n",
    "                    name = 'B', line = dict(color = 'blue', width = 2 )))\n",
    "\n",
    "fig.update_layout(autosize = False, width = 800, height = 500, margin = dict(\n",
    "        l = 50, r = 50, b = 100, t = 100, pad = 4), paper_bgcolor = 'LightSteelBlue',\n",
    "                  xaxis_tickformat = '%d %b <br>%Y', \n",
    "                  xaxis_title = 'date')\n",
    "# Customize y-axis label\n",
    "fig.update_yaxes(title_text = 'cumulative revenue')  # Add y-axis label\n",
    "# Add title to the plot\n",
    "fig.update_layout(title_text = 'Cumulative Revenue for A and B groups')\n",
    "fig.update_layout(\n",
    "    showlegend = True)\n",
    "fig.show()"
   ]
  },
  {
   "cell_type": "markdown",
   "metadata": {},
   "source": [
    "#### The plot is comparing the revenue performance of two different groups (A and B) over time.<br>\n",
    "> The x-axis represents the dates, ranging from 1st August 2019 to 30th August 2019.<br>\n",
    "> The y-axis represents the cumulative revenue in visitors, with values ranging from 0 to 80,000.<br>\n",
    "> There are two lines on the plot:<br>\n",
    "> - An orange line representing group A.<br>\n",
    "> - A blue line representing group B.<br>\n",
    "\n",
    "#### Trends:<br>\n",
    "\n",
    "> Both groups start with low cumulative revenue at the beginning of the time period.<br>\n",
    "> Group A (orange line) shows a relatively steady increase in cumulative revenue throughout the month.<br>\n",
    "> Group B (blue line) also shows a steady increase initially but has a significant jump around mid-August, after which it continues to grow steadily but at a higher rate compared to group A.<br>\n",
    "\n",
    "#### Key Observations:<br>\n",
    "\n",
    "> The sudden spike in the blue line around mid-August suggests that group B experienced a significant event or change that greatly increased its cumulative revenue. This could be due to a successful marketing campaign, a product launch, or another impactful event.<br>\n",
    "> Group A shows a more consistent and linear growth pattern, suggesting steady but slower improvements over time."
   ]
  },
  {
   "cell_type": "markdown",
   "metadata": {},
   "source": [
    "***"
   ]
  },
  {
   "cell_type": "markdown",
   "metadata": {},
   "source": [
    "##### 5. Scatter plot Average Purchase Size for group A and B."
   ]
  },
  {
   "cell_type": "code",
   "execution_count": 701,
   "metadata": {},
   "outputs": [
    {
     "data": {
      "application/vnd.plotly.v1+json": {
       "config": {
        "plotlyServerURL": "https://plot.ly"
       },
       "data": [
        {
         "line": {
          "color": "green",
          "width": 2
         },
         "mode": "markers",
         "name": "A",
         "type": "scatter",
         "x": [
          "2019-08-01T00:00:00",
          "2019-08-02T00:00:00",
          "2019-08-03T00:00:00",
          "2019-08-04T00:00:00",
          "2019-08-05T00:00:00",
          "2019-08-06T00:00:00",
          "2019-08-07T00:00:00",
          "2019-08-08T00:00:00",
          "2019-08-09T00:00:00",
          "2019-08-10T00:00:00",
          "2019-08-11T00:00:00",
          "2019-08-12T00:00:00",
          "2019-08-13T00:00:00",
          "2019-08-14T00:00:00",
          "2019-08-15T00:00:00",
          "2019-08-16T00:00:00",
          "2019-08-17T00:00:00",
          "2019-08-18T00:00:00",
          "2019-08-19T00:00:00",
          "2019-08-20T00:00:00",
          "2019-08-21T00:00:00",
          "2019-08-22T00:00:00",
          "2019-08-23T00:00:00",
          "2019-08-24T00:00:00",
          "2019-08-25T00:00:00",
          "2019-08-26T00:00:00",
          "2019-08-27T00:00:00",
          "2019-08-28T00:00:00",
          "2019-08-29T00:00:00",
          "2019-08-30T00:00:00",
          "2019-08-31T00:00:00"
         ],
         "y": [
          98.54782608695652,
          77.27894736842104,
          75.63333333333334,
          61.40909090909091,
          63.54545454545455,
          44.559999999999995,
          121.375,
          100.34285714285714,
          190.47272727272727,
          159.16666666666666,
          87.58181818181818,
          181.5157894736842,
          292.63571428571424,
          42.15294117647059,
          127.53,
          88.83888888888889,
          91.41666666666667,
          74.27692307692308,
          126.36190476190475,
          93.6,
          133.945,
          145.09,
          47.705,
          147.08461538461538,
          102.275,
          154.05,
          127.59565217391304,
          101.79333333333334,
          180.5235294117647,
          136.54444444444445,
          106.0375
         ]
        },
        {
         "line": {
          "color": "purple",
          "width": 2
         },
         "mode": "markers",
         "name": "B",
         "type": "scatter",
         "x": [
          "2019-08-01T00:00:00",
          "2019-08-02T00:00:00",
          "2019-08-03T00:00:00",
          "2019-08-04T00:00:00",
          "2019-08-05T00:00:00",
          "2019-08-06T00:00:00",
          "2019-08-07T00:00:00",
          "2019-08-08T00:00:00",
          "2019-08-09T00:00:00",
          "2019-08-10T00:00:00",
          "2019-08-11T00:00:00",
          "2019-08-12T00:00:00",
          "2019-08-13T00:00:00",
          "2019-08-14T00:00:00",
          "2019-08-15T00:00:00",
          "2019-08-16T00:00:00",
          "2019-08-17T00:00:00",
          "2019-08-18T00:00:00",
          "2019-08-19T00:00:00",
          "2019-08-20T00:00:00",
          "2019-08-21T00:00:00",
          "2019-08-22T00:00:00",
          "2019-08-23T00:00:00",
          "2019-08-24T00:00:00",
          "2019-08-25T00:00:00",
          "2019-08-26T00:00:00",
          "2019-08-27T00:00:00",
          "2019-08-28T00:00:00",
          "2019-08-29T00:00:00",
          "2019-08-30T00:00:00",
          "2019-08-31T00:00:00"
         ],
         "y": [
          56.89411764705883,
          111.65652173913043,
          76.54285714285716,
          109.39999999999999,
          69.0142857142857,
          146.4913043478261,
          149.37391304347827,
          108.17727272727274,
          87.16842105263159,
          76.12727272727273,
          71.28333333333333,
          87.25263157894737,
          93.725,
          120.88571428571429,
          186.51923076923077,
          100.38888888888889,
          98.15384615384616,
          81.21428571428571,
          1050.709523809524,
          116.23000000000002,
          183.35,
          106.16666666666667,
          94.53076923076924,
          100.40714285714286,
          104.60833333333335,
          124.7409090909091,
          158.80909090909088,
          45.93181818181818,
          112.08,
          156.5142857142857,
          105.15882352941176
         ]
        }
       ],
       "layout": {
        "autosize": false,
        "height": 500,
        "margin": {
         "b": 100,
         "l": 50,
         "pad": 4,
         "r": 50,
         "t": 100
        },
        "paper_bgcolor": "LightSteelBlue",
        "showlegend": true,
        "template": {
         "data": {
          "bar": [
           {
            "error_x": {
             "color": "#2a3f5f"
            },
            "error_y": {
             "color": "#2a3f5f"
            },
            "marker": {
             "line": {
              "color": "#E5ECF6",
              "width": 0.5
             },
             "pattern": {
              "fillmode": "overlay",
              "size": 10,
              "solidity": 0.2
             }
            },
            "type": "bar"
           }
          ],
          "barpolar": [
           {
            "marker": {
             "line": {
              "color": "#E5ECF6",
              "width": 0.5
             },
             "pattern": {
              "fillmode": "overlay",
              "size": 10,
              "solidity": 0.2
             }
            },
            "type": "barpolar"
           }
          ],
          "carpet": [
           {
            "aaxis": {
             "endlinecolor": "#2a3f5f",
             "gridcolor": "white",
             "linecolor": "white",
             "minorgridcolor": "white",
             "startlinecolor": "#2a3f5f"
            },
            "baxis": {
             "endlinecolor": "#2a3f5f",
             "gridcolor": "white",
             "linecolor": "white",
             "minorgridcolor": "white",
             "startlinecolor": "#2a3f5f"
            },
            "type": "carpet"
           }
          ],
          "choropleth": [
           {
            "colorbar": {
             "outlinewidth": 0,
             "ticks": ""
            },
            "type": "choropleth"
           }
          ],
          "contour": [
           {
            "colorbar": {
             "outlinewidth": 0,
             "ticks": ""
            },
            "colorscale": [
             [
              0,
              "#0d0887"
             ],
             [
              0.1111111111111111,
              "#46039f"
             ],
             [
              0.2222222222222222,
              "#7201a8"
             ],
             [
              0.3333333333333333,
              "#9c179e"
             ],
             [
              0.4444444444444444,
              "#bd3786"
             ],
             [
              0.5555555555555556,
              "#d8576b"
             ],
             [
              0.6666666666666666,
              "#ed7953"
             ],
             [
              0.7777777777777778,
              "#fb9f3a"
             ],
             [
              0.8888888888888888,
              "#fdca26"
             ],
             [
              1,
              "#f0f921"
             ]
            ],
            "type": "contour"
           }
          ],
          "contourcarpet": [
           {
            "colorbar": {
             "outlinewidth": 0,
             "ticks": ""
            },
            "type": "contourcarpet"
           }
          ],
          "heatmap": [
           {
            "colorbar": {
             "outlinewidth": 0,
             "ticks": ""
            },
            "colorscale": [
             [
              0,
              "#0d0887"
             ],
             [
              0.1111111111111111,
              "#46039f"
             ],
             [
              0.2222222222222222,
              "#7201a8"
             ],
             [
              0.3333333333333333,
              "#9c179e"
             ],
             [
              0.4444444444444444,
              "#bd3786"
             ],
             [
              0.5555555555555556,
              "#d8576b"
             ],
             [
              0.6666666666666666,
              "#ed7953"
             ],
             [
              0.7777777777777778,
              "#fb9f3a"
             ],
             [
              0.8888888888888888,
              "#fdca26"
             ],
             [
              1,
              "#f0f921"
             ]
            ],
            "type": "heatmap"
           }
          ],
          "heatmapgl": [
           {
            "colorbar": {
             "outlinewidth": 0,
             "ticks": ""
            },
            "colorscale": [
             [
              0,
              "#0d0887"
             ],
             [
              0.1111111111111111,
              "#46039f"
             ],
             [
              0.2222222222222222,
              "#7201a8"
             ],
             [
              0.3333333333333333,
              "#9c179e"
             ],
             [
              0.4444444444444444,
              "#bd3786"
             ],
             [
              0.5555555555555556,
              "#d8576b"
             ],
             [
              0.6666666666666666,
              "#ed7953"
             ],
             [
              0.7777777777777778,
              "#fb9f3a"
             ],
             [
              0.8888888888888888,
              "#fdca26"
             ],
             [
              1,
              "#f0f921"
             ]
            ],
            "type": "heatmapgl"
           }
          ],
          "histogram": [
           {
            "marker": {
             "pattern": {
              "fillmode": "overlay",
              "size": 10,
              "solidity": 0.2
             }
            },
            "type": "histogram"
           }
          ],
          "histogram2d": [
           {
            "colorbar": {
             "outlinewidth": 0,
             "ticks": ""
            },
            "colorscale": [
             [
              0,
              "#0d0887"
             ],
             [
              0.1111111111111111,
              "#46039f"
             ],
             [
              0.2222222222222222,
              "#7201a8"
             ],
             [
              0.3333333333333333,
              "#9c179e"
             ],
             [
              0.4444444444444444,
              "#bd3786"
             ],
             [
              0.5555555555555556,
              "#d8576b"
             ],
             [
              0.6666666666666666,
              "#ed7953"
             ],
             [
              0.7777777777777778,
              "#fb9f3a"
             ],
             [
              0.8888888888888888,
              "#fdca26"
             ],
             [
              1,
              "#f0f921"
             ]
            ],
            "type": "histogram2d"
           }
          ],
          "histogram2dcontour": [
           {
            "colorbar": {
             "outlinewidth": 0,
             "ticks": ""
            },
            "colorscale": [
             [
              0,
              "#0d0887"
             ],
             [
              0.1111111111111111,
              "#46039f"
             ],
             [
              0.2222222222222222,
              "#7201a8"
             ],
             [
              0.3333333333333333,
              "#9c179e"
             ],
             [
              0.4444444444444444,
              "#bd3786"
             ],
             [
              0.5555555555555556,
              "#d8576b"
             ],
             [
              0.6666666666666666,
              "#ed7953"
             ],
             [
              0.7777777777777778,
              "#fb9f3a"
             ],
             [
              0.8888888888888888,
              "#fdca26"
             ],
             [
              1,
              "#f0f921"
             ]
            ],
            "type": "histogram2dcontour"
           }
          ],
          "mesh3d": [
           {
            "colorbar": {
             "outlinewidth": 0,
             "ticks": ""
            },
            "type": "mesh3d"
           }
          ],
          "parcoords": [
           {
            "line": {
             "colorbar": {
              "outlinewidth": 0,
              "ticks": ""
             }
            },
            "type": "parcoords"
           }
          ],
          "pie": [
           {
            "automargin": true,
            "type": "pie"
           }
          ],
          "scatter": [
           {
            "fillpattern": {
             "fillmode": "overlay",
             "size": 10,
             "solidity": 0.2
            },
            "type": "scatter"
           }
          ],
          "scatter3d": [
           {
            "line": {
             "colorbar": {
              "outlinewidth": 0,
              "ticks": ""
             }
            },
            "marker": {
             "colorbar": {
              "outlinewidth": 0,
              "ticks": ""
             }
            },
            "type": "scatter3d"
           }
          ],
          "scattercarpet": [
           {
            "marker": {
             "colorbar": {
              "outlinewidth": 0,
              "ticks": ""
             }
            },
            "type": "scattercarpet"
           }
          ],
          "scattergeo": [
           {
            "marker": {
             "colorbar": {
              "outlinewidth": 0,
              "ticks": ""
             }
            },
            "type": "scattergeo"
           }
          ],
          "scattergl": [
           {
            "marker": {
             "colorbar": {
              "outlinewidth": 0,
              "ticks": ""
             }
            },
            "type": "scattergl"
           }
          ],
          "scattermapbox": [
           {
            "marker": {
             "colorbar": {
              "outlinewidth": 0,
              "ticks": ""
             }
            },
            "type": "scattermapbox"
           }
          ],
          "scatterpolar": [
           {
            "marker": {
             "colorbar": {
              "outlinewidth": 0,
              "ticks": ""
             }
            },
            "type": "scatterpolar"
           }
          ],
          "scatterpolargl": [
           {
            "marker": {
             "colorbar": {
              "outlinewidth": 0,
              "ticks": ""
             }
            },
            "type": "scatterpolargl"
           }
          ],
          "scatterternary": [
           {
            "marker": {
             "colorbar": {
              "outlinewidth": 0,
              "ticks": ""
             }
            },
            "type": "scatterternary"
           }
          ],
          "surface": [
           {
            "colorbar": {
             "outlinewidth": 0,
             "ticks": ""
            },
            "colorscale": [
             [
              0,
              "#0d0887"
             ],
             [
              0.1111111111111111,
              "#46039f"
             ],
             [
              0.2222222222222222,
              "#7201a8"
             ],
             [
              0.3333333333333333,
              "#9c179e"
             ],
             [
              0.4444444444444444,
              "#bd3786"
             ],
             [
              0.5555555555555556,
              "#d8576b"
             ],
             [
              0.6666666666666666,
              "#ed7953"
             ],
             [
              0.7777777777777778,
              "#fb9f3a"
             ],
             [
              0.8888888888888888,
              "#fdca26"
             ],
             [
              1,
              "#f0f921"
             ]
            ],
            "type": "surface"
           }
          ],
          "table": [
           {
            "cells": {
             "fill": {
              "color": "#EBF0F8"
             },
             "line": {
              "color": "white"
             }
            },
            "header": {
             "fill": {
              "color": "#C8D4E3"
             },
             "line": {
              "color": "white"
             }
            },
            "type": "table"
           }
          ]
         },
         "layout": {
          "annotationdefaults": {
           "arrowcolor": "#2a3f5f",
           "arrowhead": 0,
           "arrowwidth": 1
          },
          "autotypenumbers": "strict",
          "coloraxis": {
           "colorbar": {
            "outlinewidth": 0,
            "ticks": ""
           }
          },
          "colorscale": {
           "diverging": [
            [
             0,
             "#8e0152"
            ],
            [
             0.1,
             "#c51b7d"
            ],
            [
             0.2,
             "#de77ae"
            ],
            [
             0.3,
             "#f1b6da"
            ],
            [
             0.4,
             "#fde0ef"
            ],
            [
             0.5,
             "#f7f7f7"
            ],
            [
             0.6,
             "#e6f5d0"
            ],
            [
             0.7,
             "#b8e186"
            ],
            [
             0.8,
             "#7fbc41"
            ],
            [
             0.9,
             "#4d9221"
            ],
            [
             1,
             "#276419"
            ]
           ],
           "sequential": [
            [
             0,
             "#0d0887"
            ],
            [
             0.1111111111111111,
             "#46039f"
            ],
            [
             0.2222222222222222,
             "#7201a8"
            ],
            [
             0.3333333333333333,
             "#9c179e"
            ],
            [
             0.4444444444444444,
             "#bd3786"
            ],
            [
             0.5555555555555556,
             "#d8576b"
            ],
            [
             0.6666666666666666,
             "#ed7953"
            ],
            [
             0.7777777777777778,
             "#fb9f3a"
            ],
            [
             0.8888888888888888,
             "#fdca26"
            ],
            [
             1,
             "#f0f921"
            ]
           ],
           "sequentialminus": [
            [
             0,
             "#0d0887"
            ],
            [
             0.1111111111111111,
             "#46039f"
            ],
            [
             0.2222222222222222,
             "#7201a8"
            ],
            [
             0.3333333333333333,
             "#9c179e"
            ],
            [
             0.4444444444444444,
             "#bd3786"
            ],
            [
             0.5555555555555556,
             "#d8576b"
            ],
            [
             0.6666666666666666,
             "#ed7953"
            ],
            [
             0.7777777777777778,
             "#fb9f3a"
            ],
            [
             0.8888888888888888,
             "#fdca26"
            ],
            [
             1,
             "#f0f921"
            ]
           ]
          },
          "colorway": [
           "#636efa",
           "#EF553B",
           "#00cc96",
           "#ab63fa",
           "#FFA15A",
           "#19d3f3",
           "#FF6692",
           "#B6E880",
           "#FF97FF",
           "#FECB52"
          ],
          "font": {
           "color": "#2a3f5f"
          },
          "geo": {
           "bgcolor": "white",
           "lakecolor": "white",
           "landcolor": "#E5ECF6",
           "showlakes": true,
           "showland": true,
           "subunitcolor": "white"
          },
          "hoverlabel": {
           "align": "left"
          },
          "hovermode": "closest",
          "mapbox": {
           "style": "light"
          },
          "paper_bgcolor": "white",
          "plot_bgcolor": "#E5ECF6",
          "polar": {
           "angularaxis": {
            "gridcolor": "white",
            "linecolor": "white",
            "ticks": ""
           },
           "bgcolor": "#E5ECF6",
           "radialaxis": {
            "gridcolor": "white",
            "linecolor": "white",
            "ticks": ""
           }
          },
          "scene": {
           "xaxis": {
            "backgroundcolor": "#E5ECF6",
            "gridcolor": "white",
            "gridwidth": 2,
            "linecolor": "white",
            "showbackground": true,
            "ticks": "",
            "zerolinecolor": "white"
           },
           "yaxis": {
            "backgroundcolor": "#E5ECF6",
            "gridcolor": "white",
            "gridwidth": 2,
            "linecolor": "white",
            "showbackground": true,
            "ticks": "",
            "zerolinecolor": "white"
           },
           "zaxis": {
            "backgroundcolor": "#E5ECF6",
            "gridcolor": "white",
            "gridwidth": 2,
            "linecolor": "white",
            "showbackground": true,
            "ticks": "",
            "zerolinecolor": "white"
           }
          },
          "shapedefaults": {
           "line": {
            "color": "#2a3f5f"
           }
          },
          "ternary": {
           "aaxis": {
            "gridcolor": "white",
            "linecolor": "white",
            "ticks": ""
           },
           "baxis": {
            "gridcolor": "white",
            "linecolor": "white",
            "ticks": ""
           },
           "bgcolor": "#E5ECF6",
           "caxis": {
            "gridcolor": "white",
            "linecolor": "white",
            "ticks": ""
           }
          },
          "title": {
           "x": 0.05
          },
          "xaxis": {
           "automargin": true,
           "gridcolor": "white",
           "linecolor": "white",
           "ticks": "",
           "title": {
            "standoff": 15
           },
           "zerolinecolor": "white",
           "zerolinewidth": 2
          },
          "yaxis": {
           "automargin": true,
           "gridcolor": "white",
           "linecolor": "white",
           "ticks": "",
           "title": {
            "standoff": 15
           },
           "zerolinecolor": "white",
           "zerolinewidth": 2
          }
         }
        },
        "title": {
         "text": "Average Purchase Size for A and B groups"
        },
        "width": 800,
        "xaxis": {
         "tickformat": "%d %b <br>%Y",
         "title": {
          "text": "date"
         }
        },
        "yaxis": {
         "title": {
          "text": "average purchase size"
         }
        }
       }
      }
     },
     "metadata": {},
     "output_type": "display_data"
    }
   ],
   "source": [
    "# scatter plot average purchase size for groups A and B\n",
    "fig = go.Figure()\n",
    "fig.add_trace(go.Scatter(x = merged_A['date'], \n",
    "                        y = merged_A['average_order_sizeA'],\n",
    "                    mode = 'markers',\n",
    "                    name = 'A', line = dict(color = 'green', width = 2 )))\n",
    "fig.add_trace(go.Scatter(x = merged_B['date'], \n",
    "                        y = merged_B['average_order_sizeB'], \n",
    "                    mode = 'markers',\n",
    "                    name = 'B', line = dict(color = 'purple', width = 2 )))\n",
    "\n",
    "fig.update_layout(autosize = False, width = 800, height = 500, margin = dict(\n",
    "        l = 50, r = 50, b = 100, t = 100, pad = 4), paper_bgcolor = 'LightSteelBlue',\n",
    "                  xaxis_tickformat = '%d %b <br>%Y', \n",
    "                  xaxis_title = 'date')\n",
    "# Customize y-axis label\n",
    "fig.update_yaxes(title_text = 'average purchase size')  # Add y-axis label\n",
    "# Add title to the plot\n",
    "fig.update_layout(title_text = 'Average Purchase Size for A and B groups')\n",
    "fig.update_layout(\n",
    "    showlegend = True)\n",
    "fig.show()"
   ]
  },
  {
   "cell_type": "markdown",
   "metadata": {},
   "source": [
    "##### Thew scatter plot is comparing the average purchase size for group A and B.<br>\n",
    "\n",
    "> The x-axis represents dates from 1st August to 30th August 2019.<br>\n",
    "> The y-axis represents the average purchase size.<br>\n",
    "> Group A's average purchase sizes are represented by green dots, while Group B's are represented by purple dots.<br>\n",
    "\n",
    "> Most data points for both groups lie below 200 in average purchase size.<br>\n",
    "> There are some outliers, notably around August 18, where Group A has an average purchase size of over 1000, while all points for Group B seem to be under 200, indicating more consistent purchase sizes.<br>\n",
    "> Group A shows more extreme outliers compared to Group B.<br>\n",
    "\n",
    "> The scatter plot shows that both groups A and B typically have small average purchase sizes, with occasional high-value purchases.<br>\n",
    "\n",
    "> We can also infer the existence of some outliers for group A and B."
   ]
  },
  {
   "cell_type": "markdown",
   "metadata": {},
   "source": [
    "##### 6. Plot Cumulative Average Purchase Size for group A and B."
   ]
  },
  {
   "cell_type": "code",
   "execution_count": 702,
   "metadata": {},
   "outputs": [
    {
     "data": {
      "application/vnd.plotly.v1+json": {
       "config": {
        "plotlyServerURL": "https://plot.ly"
       },
       "data": [
        {
         "line": {
          "color": "green",
          "width": 2
         },
         "mode": "lines",
         "name": "A",
         "type": "scatter",
         "x": [
          "2019-08-01T00:00:00",
          "2019-08-02T00:00:00",
          "2019-08-03T00:00:00",
          "2019-08-04T00:00:00",
          "2019-08-05T00:00:00",
          "2019-08-06T00:00:00",
          "2019-08-07T00:00:00",
          "2019-08-08T00:00:00",
          "2019-08-09T00:00:00",
          "2019-08-10T00:00:00",
          "2019-08-11T00:00:00",
          "2019-08-12T00:00:00",
          "2019-08-13T00:00:00",
          "2019-08-14T00:00:00",
          "2019-08-15T00:00:00",
          "2019-08-16T00:00:00",
          "2019-08-17T00:00:00",
          "2019-08-18T00:00:00",
          "2019-08-19T00:00:00",
          "2019-08-20T00:00:00",
          "2019-08-21T00:00:00",
          "2019-08-22T00:00:00",
          "2019-08-23T00:00:00",
          "2019-08-24T00:00:00",
          "2019-08-25T00:00:00",
          "2019-08-26T00:00:00",
          "2019-08-27T00:00:00",
          "2019-08-28T00:00:00",
          "2019-08-29T00:00:00",
          "2019-08-30T00:00:00",
          "2019-08-31T00:00:00"
         ],
         "y": [
          98.54782608695652,
          175.82677345537758,
          251.4601067887109,
          312.86919769780184,
          376.4146522432564,
          420.9746522432564,
          542.3496522432564,
          642.6925093861136,
          833.1652366588409,
          992.3319033255075,
          1079.9137215073256,
          1261.4295109810098,
          1554.0652252667242,
          1596.2181664431948,
          1723.7481664431948,
          1812.5870553320838,
          1904.0037219987505,
          1978.2806450756736,
          2104.6425498375784,
          2198.2425498375783,
          2332.1875498375784,
          2477.2775498375786,
          2524.9825498375785,
          2672.067165222194,
          2774.342165222194,
          2928.3921652221943,
          3055.9878173961074,
          3157.781150729441,
          3338.3046801412056,
          3474.84912458565,
          3580.8866245856498
         ]
        },
        {
         "line": {
          "color": "purple",
          "width": 2
         },
         "mode": "lines",
         "name": "B",
         "type": "scatter",
         "x": [
          "2019-08-01T00:00:00",
          "2019-08-02T00:00:00",
          "2019-08-03T00:00:00",
          "2019-08-04T00:00:00",
          "2019-08-05T00:00:00",
          "2019-08-06T00:00:00",
          "2019-08-07T00:00:00",
          "2019-08-08T00:00:00",
          "2019-08-09T00:00:00",
          "2019-08-10T00:00:00",
          "2019-08-11T00:00:00",
          "2019-08-12T00:00:00",
          "2019-08-13T00:00:00",
          "2019-08-14T00:00:00",
          "2019-08-15T00:00:00",
          "2019-08-16T00:00:00",
          "2019-08-17T00:00:00",
          "2019-08-18T00:00:00",
          "2019-08-19T00:00:00",
          "2019-08-20T00:00:00",
          "2019-08-21T00:00:00",
          "2019-08-22T00:00:00",
          "2019-08-23T00:00:00",
          "2019-08-24T00:00:00",
          "2019-08-25T00:00:00",
          "2019-08-26T00:00:00",
          "2019-08-27T00:00:00",
          "2019-08-28T00:00:00",
          "2019-08-29T00:00:00",
          "2019-08-30T00:00:00",
          "2019-08-31T00:00:00"
         ],
         "y": [
          56.89411764705883,
          168.55063938618926,
          245.09349652904643,
          354.4934965290464,
          423.50778224333214,
          569.9990865911582,
          719.3729996346365,
          827.5502723619093,
          914.7186934145409,
          990.8459661418136,
          1062.129299475147,
          1149.3819310540944,
          1243.1069310540943,
          1363.9926453398086,
          1550.5118761090393,
          1650.9007649979283,
          1749.0546111517745,
          1830.2688968660602,
          2880.978420675584,
          2997.208420675584,
          3180.558420675584,
          3286.7250873422504,
          3381.2558565730196,
          3481.6629994301625,
          3586.2713327634956,
          3711.0122418544047,
          3869.821332763496,
          3915.753150945314,
          4027.8331509453137,
          4184.347436659599,
          4289.506260189011
         ]
        }
       ],
       "layout": {
        "autosize": false,
        "height": 500,
        "margin": {
         "b": 100,
         "l": 50,
         "pad": 4,
         "r": 50,
         "t": 100
        },
        "paper_bgcolor": "LightSteelBlue",
        "showlegend": true,
        "template": {
         "data": {
          "bar": [
           {
            "error_x": {
             "color": "#2a3f5f"
            },
            "error_y": {
             "color": "#2a3f5f"
            },
            "marker": {
             "line": {
              "color": "#E5ECF6",
              "width": 0.5
             },
             "pattern": {
              "fillmode": "overlay",
              "size": 10,
              "solidity": 0.2
             }
            },
            "type": "bar"
           }
          ],
          "barpolar": [
           {
            "marker": {
             "line": {
              "color": "#E5ECF6",
              "width": 0.5
             },
             "pattern": {
              "fillmode": "overlay",
              "size": 10,
              "solidity": 0.2
             }
            },
            "type": "barpolar"
           }
          ],
          "carpet": [
           {
            "aaxis": {
             "endlinecolor": "#2a3f5f",
             "gridcolor": "white",
             "linecolor": "white",
             "minorgridcolor": "white",
             "startlinecolor": "#2a3f5f"
            },
            "baxis": {
             "endlinecolor": "#2a3f5f",
             "gridcolor": "white",
             "linecolor": "white",
             "minorgridcolor": "white",
             "startlinecolor": "#2a3f5f"
            },
            "type": "carpet"
           }
          ],
          "choropleth": [
           {
            "colorbar": {
             "outlinewidth": 0,
             "ticks": ""
            },
            "type": "choropleth"
           }
          ],
          "contour": [
           {
            "colorbar": {
             "outlinewidth": 0,
             "ticks": ""
            },
            "colorscale": [
             [
              0,
              "#0d0887"
             ],
             [
              0.1111111111111111,
              "#46039f"
             ],
             [
              0.2222222222222222,
              "#7201a8"
             ],
             [
              0.3333333333333333,
              "#9c179e"
             ],
             [
              0.4444444444444444,
              "#bd3786"
             ],
             [
              0.5555555555555556,
              "#d8576b"
             ],
             [
              0.6666666666666666,
              "#ed7953"
             ],
             [
              0.7777777777777778,
              "#fb9f3a"
             ],
             [
              0.8888888888888888,
              "#fdca26"
             ],
             [
              1,
              "#f0f921"
             ]
            ],
            "type": "contour"
           }
          ],
          "contourcarpet": [
           {
            "colorbar": {
             "outlinewidth": 0,
             "ticks": ""
            },
            "type": "contourcarpet"
           }
          ],
          "heatmap": [
           {
            "colorbar": {
             "outlinewidth": 0,
             "ticks": ""
            },
            "colorscale": [
             [
              0,
              "#0d0887"
             ],
             [
              0.1111111111111111,
              "#46039f"
             ],
             [
              0.2222222222222222,
              "#7201a8"
             ],
             [
              0.3333333333333333,
              "#9c179e"
             ],
             [
              0.4444444444444444,
              "#bd3786"
             ],
             [
              0.5555555555555556,
              "#d8576b"
             ],
             [
              0.6666666666666666,
              "#ed7953"
             ],
             [
              0.7777777777777778,
              "#fb9f3a"
             ],
             [
              0.8888888888888888,
              "#fdca26"
             ],
             [
              1,
              "#f0f921"
             ]
            ],
            "type": "heatmap"
           }
          ],
          "heatmapgl": [
           {
            "colorbar": {
             "outlinewidth": 0,
             "ticks": ""
            },
            "colorscale": [
             [
              0,
              "#0d0887"
             ],
             [
              0.1111111111111111,
              "#46039f"
             ],
             [
              0.2222222222222222,
              "#7201a8"
             ],
             [
              0.3333333333333333,
              "#9c179e"
             ],
             [
              0.4444444444444444,
              "#bd3786"
             ],
             [
              0.5555555555555556,
              "#d8576b"
             ],
             [
              0.6666666666666666,
              "#ed7953"
             ],
             [
              0.7777777777777778,
              "#fb9f3a"
             ],
             [
              0.8888888888888888,
              "#fdca26"
             ],
             [
              1,
              "#f0f921"
             ]
            ],
            "type": "heatmapgl"
           }
          ],
          "histogram": [
           {
            "marker": {
             "pattern": {
              "fillmode": "overlay",
              "size": 10,
              "solidity": 0.2
             }
            },
            "type": "histogram"
           }
          ],
          "histogram2d": [
           {
            "colorbar": {
             "outlinewidth": 0,
             "ticks": ""
            },
            "colorscale": [
             [
              0,
              "#0d0887"
             ],
             [
              0.1111111111111111,
              "#46039f"
             ],
             [
              0.2222222222222222,
              "#7201a8"
             ],
             [
              0.3333333333333333,
              "#9c179e"
             ],
             [
              0.4444444444444444,
              "#bd3786"
             ],
             [
              0.5555555555555556,
              "#d8576b"
             ],
             [
              0.6666666666666666,
              "#ed7953"
             ],
             [
              0.7777777777777778,
              "#fb9f3a"
             ],
             [
              0.8888888888888888,
              "#fdca26"
             ],
             [
              1,
              "#f0f921"
             ]
            ],
            "type": "histogram2d"
           }
          ],
          "histogram2dcontour": [
           {
            "colorbar": {
             "outlinewidth": 0,
             "ticks": ""
            },
            "colorscale": [
             [
              0,
              "#0d0887"
             ],
             [
              0.1111111111111111,
              "#46039f"
             ],
             [
              0.2222222222222222,
              "#7201a8"
             ],
             [
              0.3333333333333333,
              "#9c179e"
             ],
             [
              0.4444444444444444,
              "#bd3786"
             ],
             [
              0.5555555555555556,
              "#d8576b"
             ],
             [
              0.6666666666666666,
              "#ed7953"
             ],
             [
              0.7777777777777778,
              "#fb9f3a"
             ],
             [
              0.8888888888888888,
              "#fdca26"
             ],
             [
              1,
              "#f0f921"
             ]
            ],
            "type": "histogram2dcontour"
           }
          ],
          "mesh3d": [
           {
            "colorbar": {
             "outlinewidth": 0,
             "ticks": ""
            },
            "type": "mesh3d"
           }
          ],
          "parcoords": [
           {
            "line": {
             "colorbar": {
              "outlinewidth": 0,
              "ticks": ""
             }
            },
            "type": "parcoords"
           }
          ],
          "pie": [
           {
            "automargin": true,
            "type": "pie"
           }
          ],
          "scatter": [
           {
            "fillpattern": {
             "fillmode": "overlay",
             "size": 10,
             "solidity": 0.2
            },
            "type": "scatter"
           }
          ],
          "scatter3d": [
           {
            "line": {
             "colorbar": {
              "outlinewidth": 0,
              "ticks": ""
             }
            },
            "marker": {
             "colorbar": {
              "outlinewidth": 0,
              "ticks": ""
             }
            },
            "type": "scatter3d"
           }
          ],
          "scattercarpet": [
           {
            "marker": {
             "colorbar": {
              "outlinewidth": 0,
              "ticks": ""
             }
            },
            "type": "scattercarpet"
           }
          ],
          "scattergeo": [
           {
            "marker": {
             "colorbar": {
              "outlinewidth": 0,
              "ticks": ""
             }
            },
            "type": "scattergeo"
           }
          ],
          "scattergl": [
           {
            "marker": {
             "colorbar": {
              "outlinewidth": 0,
              "ticks": ""
             }
            },
            "type": "scattergl"
           }
          ],
          "scattermapbox": [
           {
            "marker": {
             "colorbar": {
              "outlinewidth": 0,
              "ticks": ""
             }
            },
            "type": "scattermapbox"
           }
          ],
          "scatterpolar": [
           {
            "marker": {
             "colorbar": {
              "outlinewidth": 0,
              "ticks": ""
             }
            },
            "type": "scatterpolar"
           }
          ],
          "scatterpolargl": [
           {
            "marker": {
             "colorbar": {
              "outlinewidth": 0,
              "ticks": ""
             }
            },
            "type": "scatterpolargl"
           }
          ],
          "scatterternary": [
           {
            "marker": {
             "colorbar": {
              "outlinewidth": 0,
              "ticks": ""
             }
            },
            "type": "scatterternary"
           }
          ],
          "surface": [
           {
            "colorbar": {
             "outlinewidth": 0,
             "ticks": ""
            },
            "colorscale": [
             [
              0,
              "#0d0887"
             ],
             [
              0.1111111111111111,
              "#46039f"
             ],
             [
              0.2222222222222222,
              "#7201a8"
             ],
             [
              0.3333333333333333,
              "#9c179e"
             ],
             [
              0.4444444444444444,
              "#bd3786"
             ],
             [
              0.5555555555555556,
              "#d8576b"
             ],
             [
              0.6666666666666666,
              "#ed7953"
             ],
             [
              0.7777777777777778,
              "#fb9f3a"
             ],
             [
              0.8888888888888888,
              "#fdca26"
             ],
             [
              1,
              "#f0f921"
             ]
            ],
            "type": "surface"
           }
          ],
          "table": [
           {
            "cells": {
             "fill": {
              "color": "#EBF0F8"
             },
             "line": {
              "color": "white"
             }
            },
            "header": {
             "fill": {
              "color": "#C8D4E3"
             },
             "line": {
              "color": "white"
             }
            },
            "type": "table"
           }
          ]
         },
         "layout": {
          "annotationdefaults": {
           "arrowcolor": "#2a3f5f",
           "arrowhead": 0,
           "arrowwidth": 1
          },
          "autotypenumbers": "strict",
          "coloraxis": {
           "colorbar": {
            "outlinewidth": 0,
            "ticks": ""
           }
          },
          "colorscale": {
           "diverging": [
            [
             0,
             "#8e0152"
            ],
            [
             0.1,
             "#c51b7d"
            ],
            [
             0.2,
             "#de77ae"
            ],
            [
             0.3,
             "#f1b6da"
            ],
            [
             0.4,
             "#fde0ef"
            ],
            [
             0.5,
             "#f7f7f7"
            ],
            [
             0.6,
             "#e6f5d0"
            ],
            [
             0.7,
             "#b8e186"
            ],
            [
             0.8,
             "#7fbc41"
            ],
            [
             0.9,
             "#4d9221"
            ],
            [
             1,
             "#276419"
            ]
           ],
           "sequential": [
            [
             0,
             "#0d0887"
            ],
            [
             0.1111111111111111,
             "#46039f"
            ],
            [
             0.2222222222222222,
             "#7201a8"
            ],
            [
             0.3333333333333333,
             "#9c179e"
            ],
            [
             0.4444444444444444,
             "#bd3786"
            ],
            [
             0.5555555555555556,
             "#d8576b"
            ],
            [
             0.6666666666666666,
             "#ed7953"
            ],
            [
             0.7777777777777778,
             "#fb9f3a"
            ],
            [
             0.8888888888888888,
             "#fdca26"
            ],
            [
             1,
             "#f0f921"
            ]
           ],
           "sequentialminus": [
            [
             0,
             "#0d0887"
            ],
            [
             0.1111111111111111,
             "#46039f"
            ],
            [
             0.2222222222222222,
             "#7201a8"
            ],
            [
             0.3333333333333333,
             "#9c179e"
            ],
            [
             0.4444444444444444,
             "#bd3786"
            ],
            [
             0.5555555555555556,
             "#d8576b"
            ],
            [
             0.6666666666666666,
             "#ed7953"
            ],
            [
             0.7777777777777778,
             "#fb9f3a"
            ],
            [
             0.8888888888888888,
             "#fdca26"
            ],
            [
             1,
             "#f0f921"
            ]
           ]
          },
          "colorway": [
           "#636efa",
           "#EF553B",
           "#00cc96",
           "#ab63fa",
           "#FFA15A",
           "#19d3f3",
           "#FF6692",
           "#B6E880",
           "#FF97FF",
           "#FECB52"
          ],
          "font": {
           "color": "#2a3f5f"
          },
          "geo": {
           "bgcolor": "white",
           "lakecolor": "white",
           "landcolor": "#E5ECF6",
           "showlakes": true,
           "showland": true,
           "subunitcolor": "white"
          },
          "hoverlabel": {
           "align": "left"
          },
          "hovermode": "closest",
          "mapbox": {
           "style": "light"
          },
          "paper_bgcolor": "white",
          "plot_bgcolor": "#E5ECF6",
          "polar": {
           "angularaxis": {
            "gridcolor": "white",
            "linecolor": "white",
            "ticks": ""
           },
           "bgcolor": "#E5ECF6",
           "radialaxis": {
            "gridcolor": "white",
            "linecolor": "white",
            "ticks": ""
           }
          },
          "scene": {
           "xaxis": {
            "backgroundcolor": "#E5ECF6",
            "gridcolor": "white",
            "gridwidth": 2,
            "linecolor": "white",
            "showbackground": true,
            "ticks": "",
            "zerolinecolor": "white"
           },
           "yaxis": {
            "backgroundcolor": "#E5ECF6",
            "gridcolor": "white",
            "gridwidth": 2,
            "linecolor": "white",
            "showbackground": true,
            "ticks": "",
            "zerolinecolor": "white"
           },
           "zaxis": {
            "backgroundcolor": "#E5ECF6",
            "gridcolor": "white",
            "gridwidth": 2,
            "linecolor": "white",
            "showbackground": true,
            "ticks": "",
            "zerolinecolor": "white"
           }
          },
          "shapedefaults": {
           "line": {
            "color": "#2a3f5f"
           }
          },
          "ternary": {
           "aaxis": {
            "gridcolor": "white",
            "linecolor": "white",
            "ticks": ""
           },
           "baxis": {
            "gridcolor": "white",
            "linecolor": "white",
            "ticks": ""
           },
           "bgcolor": "#E5ECF6",
           "caxis": {
            "gridcolor": "white",
            "linecolor": "white",
            "ticks": ""
           }
          },
          "title": {
           "x": 0.05
          },
          "xaxis": {
           "automargin": true,
           "gridcolor": "white",
           "linecolor": "white",
           "ticks": "",
           "title": {
            "standoff": 15
           },
           "zerolinecolor": "white",
           "zerolinewidth": 2
          },
          "yaxis": {
           "automargin": true,
           "gridcolor": "white",
           "linecolor": "white",
           "ticks": "",
           "title": {
            "standoff": 15
           },
           "zerolinecolor": "white",
           "zerolinewidth": 2
          }
         }
        },
        "title": {
         "text": "Cumulative Average Purchase Size for A and B groups"
        },
        "width": 800,
        "xaxis": {
         "tickformat": "%d %b <br>%Y",
         "title": {
          "text": "date"
         }
        },
        "yaxis": {
         "title": {
          "text": "cumulative average purchase size"
         }
        }
       }
      }
     },
     "metadata": {},
     "output_type": "display_data"
    }
   ],
   "source": [
    "# pylint: disable=undefined-variable\n",
    "fig = go.Figure()\n",
    "fig.add_trace(go.Scatter(x = merged_A['date'], \n",
    "                        y = merged_A['cum_avg_order_sizeA'],\n",
    "                    mode = 'lines',\n",
    "                    name = 'A', line = dict(color = 'green', width = 2 )))\n",
    "fig.add_trace(go.Scatter(x = merged_B['date'], \n",
    "                        y = merged_B['cum_avg_order_sizeB'], \n",
    "                    mode = 'lines',\n",
    "                    name = 'B', line = dict(color = 'purple', width = 2 )))\n",
    "\n",
    "fig.update_layout(autosize = False, width = 800, height = 500, margin = dict(\n",
    "        l = 50, r = 50, b = 100, t = 100, pad = 4), paper_bgcolor = 'LightSteelBlue',\n",
    "                  xaxis_tickformat = '%d %b <br>%Y', \n",
    "                  xaxis_title = 'date')\n",
    "# Customize y-axis label\n",
    "fig.update_yaxes(title_text = 'cumulative average purchase size')  # Add y-axis label\n",
    "# Add title to the plot\n",
    "fig.update_layout(title_text = 'Cumulative Average Purchase Size for A and B groups')\n",
    "fig.update_layout(\n",
    "    showlegend = True)\n",
    "fig.show()"
   ]
  },
  {
   "cell_type": "markdown",
   "metadata": {},
   "source": [
    "#### The plot is comparing the average purchase size of two different groups (A and B) over time.\n",
    "\n",
    "> The x-axis represents the dates, ranging from 1st August 2019 to 30th August 2019.<br>\n",
    "> The y-axis represents the average purchase size, with values ranging from 60 to 160.<br>\n",
    "> There are two lines on the plot:<br>\n",
    "> - A green line representing group A.<br>\n",
    "> - A purple line representing group B.<br>\n",
    "\n",
    "#### Trends:<br>\n",
    "\n",
    ">Until mid-August, both groups follow a similar trajectory, with Group A slightly higher at some points and Group B at others.<br>\n",
    "> Around August 18, there is a noticeable divergence where Group B's cumulative average purchase size increases sharply compared to Group A.<br>\n",
    "> After this divergence, Group B maintains a higher cumulative average purchase size than Group A for the rest of the period.<br>\n",
    "\n",
    "#### Comparison:<br>\n",
    "\n",
    "> The sustained higher cumulative average for Group B post-divergence indicates a potentially more effective strategy or more engaged user base compared to Group A.<br>\n",
    "\n",
    "#### Key Observations:<br>\n",
    "\n",
    "> The initial part of the month shows both groups with similar average purchase sizes, hovering around the 80-100 range.<br>\n",
    "> Group B’s sudden increase in mid-August suggests an impactful event or strategy that significantly boosted their average purchase size.<b.>"
   ]
  },
  {
   "cell_type": "markdown",
   "metadata": {},
   "source": [
    "***"
   ]
  },
  {
   "cell_type": "markdown",
   "metadata": {},
   "source": [
    "##### 7. Plot Relative Difference for Cumulative Average Purchase Size."
   ]
  },
  {
   "cell_type": "code",
   "execution_count": 703,
   "metadata": {},
   "outputs": [
    {
     "name": "stderr",
     "output_type": "stream",
     "text": [
      "/Users/cesarchaparro/opt/anaconda3/lib/python3.11/site-packages/_plotly_utils/basevalidators.py:106: FutureWarning:\n",
      "\n",
      "The behavior of DatetimeProperties.to_pydatetime is deprecated, in a future version this will return a Series containing python datetime objects instead of an ndarray. To retain the old behavior, call `np.array` on the result\n",
      "\n"
     ]
    },
    {
     "data": {
      "application/vnd.plotly.v1+json": {
       "config": {
        "plotlyServerURL": "https://plot.ly"
       },
       "data": [
        {
         "hovertemplate": "date=%{x}<br>rel_diff_cum_avg_size=%{y}<extra></extra>",
         "legendgroup": "",
         "line": {
          "color": "#636efa",
          "dash": "solid"
         },
         "marker": {
          "symbol": "circle"
         },
         "mode": "lines",
         "name": "",
         "orientation": "v",
         "showlegend": false,
         "type": "scatter",
         "x": [
          "2019-08-01T00:00:00",
          "2019-08-02T00:00:00",
          "2019-08-03T00:00:00",
          "2019-08-04T00:00:00",
          "2019-08-05T00:00:00",
          "2019-08-06T00:00:00",
          "2019-08-07T00:00:00",
          "2019-08-08T00:00:00",
          "2019-08-09T00:00:00",
          "2019-08-10T00:00:00",
          "2019-08-11T00:00:00",
          "2019-08-12T00:00:00",
          "2019-08-13T00:00:00",
          "2019-08-14T00:00:00",
          "2019-08-15T00:00:00",
          "2019-08-16T00:00:00",
          "2019-08-17T00:00:00",
          "2019-08-18T00:00:00",
          "2019-08-19T00:00:00",
          "2019-08-20T00:00:00",
          "2019-08-21T00:00:00",
          "2019-08-22T00:00:00",
          "2019-08-23T00:00:00",
          "2019-08-24T00:00:00",
          "2019-08-25T00:00:00",
          "2019-08-26T00:00:00",
          "2019-08-27T00:00:00",
          "2019-08-28T00:00:00",
          "2019-08-29T00:00:00",
          "2019-08-30T00:00:00",
          "2019-08-31T00:00:00"
         ],
         "xaxis": "x",
         "y": [
          -0.42267506137723765,
          -0.04138240113377789,
          -0.02531856977621505,
          0.13304057777988487,
          0.12510971536156368,
          0.3539985924420679,
          0.3264007760661032,
          0.28763018127030615,
          0.09788389285509047,
          -0.0014974195415004,
          -0.01646837305424298,
          -0.08882587489155569,
          -0.20009346400454986,
          -0.14548482531109608,
          -0.10049976771932612,
          -0.08920194473337062,
          -0.08138067644338232,
          -0.07481837755327769,
          0.3688682768947713,
          0.3634566489930964,
          0.3637661434635002,
          0.3267488285911859,
          0.33912048492791436,
          0.30298483688775346,
          0.29265646383465294,
          0.2672524827537326,
          0.26630784021280074,
          0.24003310047017767,
          0.20655049100399725,
          0.204181041143348,
          0.1978894363027639
         ],
         "yaxis": "y"
        }
       ],
       "layout": {
        "autosize": false,
        "height": 500,
        "legend": {
         "tracegroupgap": 0
        },
        "margin": {
         "b": 100,
         "l": 50,
         "pad": 4,
         "r": 50,
         "t": 100
        },
        "paper_bgcolor": "LightSteelBlue",
        "shapes": [
         {
          "line": {
           "color": "purple",
           "dash": "dash"
          },
          "type": "line",
          "x0": 0,
          "x1": 1,
          "xref": "x domain",
          "y0": 0,
          "y1": 0,
          "yref": "y"
         }
        ],
        "template": {
         "data": {
          "bar": [
           {
            "error_x": {
             "color": "#2a3f5f"
            },
            "error_y": {
             "color": "#2a3f5f"
            },
            "marker": {
             "line": {
              "color": "#E5ECF6",
              "width": 0.5
             },
             "pattern": {
              "fillmode": "overlay",
              "size": 10,
              "solidity": 0.2
             }
            },
            "type": "bar"
           }
          ],
          "barpolar": [
           {
            "marker": {
             "line": {
              "color": "#E5ECF6",
              "width": 0.5
             },
             "pattern": {
              "fillmode": "overlay",
              "size": 10,
              "solidity": 0.2
             }
            },
            "type": "barpolar"
           }
          ],
          "carpet": [
           {
            "aaxis": {
             "endlinecolor": "#2a3f5f",
             "gridcolor": "white",
             "linecolor": "white",
             "minorgridcolor": "white",
             "startlinecolor": "#2a3f5f"
            },
            "baxis": {
             "endlinecolor": "#2a3f5f",
             "gridcolor": "white",
             "linecolor": "white",
             "minorgridcolor": "white",
             "startlinecolor": "#2a3f5f"
            },
            "type": "carpet"
           }
          ],
          "choropleth": [
           {
            "colorbar": {
             "outlinewidth": 0,
             "ticks": ""
            },
            "type": "choropleth"
           }
          ],
          "contour": [
           {
            "colorbar": {
             "outlinewidth": 0,
             "ticks": ""
            },
            "colorscale": [
             [
              0,
              "#0d0887"
             ],
             [
              0.1111111111111111,
              "#46039f"
             ],
             [
              0.2222222222222222,
              "#7201a8"
             ],
             [
              0.3333333333333333,
              "#9c179e"
             ],
             [
              0.4444444444444444,
              "#bd3786"
             ],
             [
              0.5555555555555556,
              "#d8576b"
             ],
             [
              0.6666666666666666,
              "#ed7953"
             ],
             [
              0.7777777777777778,
              "#fb9f3a"
             ],
             [
              0.8888888888888888,
              "#fdca26"
             ],
             [
              1,
              "#f0f921"
             ]
            ],
            "type": "contour"
           }
          ],
          "contourcarpet": [
           {
            "colorbar": {
             "outlinewidth": 0,
             "ticks": ""
            },
            "type": "contourcarpet"
           }
          ],
          "heatmap": [
           {
            "colorbar": {
             "outlinewidth": 0,
             "ticks": ""
            },
            "colorscale": [
             [
              0,
              "#0d0887"
             ],
             [
              0.1111111111111111,
              "#46039f"
             ],
             [
              0.2222222222222222,
              "#7201a8"
             ],
             [
              0.3333333333333333,
              "#9c179e"
             ],
             [
              0.4444444444444444,
              "#bd3786"
             ],
             [
              0.5555555555555556,
              "#d8576b"
             ],
             [
              0.6666666666666666,
              "#ed7953"
             ],
             [
              0.7777777777777778,
              "#fb9f3a"
             ],
             [
              0.8888888888888888,
              "#fdca26"
             ],
             [
              1,
              "#f0f921"
             ]
            ],
            "type": "heatmap"
           }
          ],
          "heatmapgl": [
           {
            "colorbar": {
             "outlinewidth": 0,
             "ticks": ""
            },
            "colorscale": [
             [
              0,
              "#0d0887"
             ],
             [
              0.1111111111111111,
              "#46039f"
             ],
             [
              0.2222222222222222,
              "#7201a8"
             ],
             [
              0.3333333333333333,
              "#9c179e"
             ],
             [
              0.4444444444444444,
              "#bd3786"
             ],
             [
              0.5555555555555556,
              "#d8576b"
             ],
             [
              0.6666666666666666,
              "#ed7953"
             ],
             [
              0.7777777777777778,
              "#fb9f3a"
             ],
             [
              0.8888888888888888,
              "#fdca26"
             ],
             [
              1,
              "#f0f921"
             ]
            ],
            "type": "heatmapgl"
           }
          ],
          "histogram": [
           {
            "marker": {
             "pattern": {
              "fillmode": "overlay",
              "size": 10,
              "solidity": 0.2
             }
            },
            "type": "histogram"
           }
          ],
          "histogram2d": [
           {
            "colorbar": {
             "outlinewidth": 0,
             "ticks": ""
            },
            "colorscale": [
             [
              0,
              "#0d0887"
             ],
             [
              0.1111111111111111,
              "#46039f"
             ],
             [
              0.2222222222222222,
              "#7201a8"
             ],
             [
              0.3333333333333333,
              "#9c179e"
             ],
             [
              0.4444444444444444,
              "#bd3786"
             ],
             [
              0.5555555555555556,
              "#d8576b"
             ],
             [
              0.6666666666666666,
              "#ed7953"
             ],
             [
              0.7777777777777778,
              "#fb9f3a"
             ],
             [
              0.8888888888888888,
              "#fdca26"
             ],
             [
              1,
              "#f0f921"
             ]
            ],
            "type": "histogram2d"
           }
          ],
          "histogram2dcontour": [
           {
            "colorbar": {
             "outlinewidth": 0,
             "ticks": ""
            },
            "colorscale": [
             [
              0,
              "#0d0887"
             ],
             [
              0.1111111111111111,
              "#46039f"
             ],
             [
              0.2222222222222222,
              "#7201a8"
             ],
             [
              0.3333333333333333,
              "#9c179e"
             ],
             [
              0.4444444444444444,
              "#bd3786"
             ],
             [
              0.5555555555555556,
              "#d8576b"
             ],
             [
              0.6666666666666666,
              "#ed7953"
             ],
             [
              0.7777777777777778,
              "#fb9f3a"
             ],
             [
              0.8888888888888888,
              "#fdca26"
             ],
             [
              1,
              "#f0f921"
             ]
            ],
            "type": "histogram2dcontour"
           }
          ],
          "mesh3d": [
           {
            "colorbar": {
             "outlinewidth": 0,
             "ticks": ""
            },
            "type": "mesh3d"
           }
          ],
          "parcoords": [
           {
            "line": {
             "colorbar": {
              "outlinewidth": 0,
              "ticks": ""
             }
            },
            "type": "parcoords"
           }
          ],
          "pie": [
           {
            "automargin": true,
            "type": "pie"
           }
          ],
          "scatter": [
           {
            "fillpattern": {
             "fillmode": "overlay",
             "size": 10,
             "solidity": 0.2
            },
            "type": "scatter"
           }
          ],
          "scatter3d": [
           {
            "line": {
             "colorbar": {
              "outlinewidth": 0,
              "ticks": ""
             }
            },
            "marker": {
             "colorbar": {
              "outlinewidth": 0,
              "ticks": ""
             }
            },
            "type": "scatter3d"
           }
          ],
          "scattercarpet": [
           {
            "marker": {
             "colorbar": {
              "outlinewidth": 0,
              "ticks": ""
             }
            },
            "type": "scattercarpet"
           }
          ],
          "scattergeo": [
           {
            "marker": {
             "colorbar": {
              "outlinewidth": 0,
              "ticks": ""
             }
            },
            "type": "scattergeo"
           }
          ],
          "scattergl": [
           {
            "marker": {
             "colorbar": {
              "outlinewidth": 0,
              "ticks": ""
             }
            },
            "type": "scattergl"
           }
          ],
          "scattermapbox": [
           {
            "marker": {
             "colorbar": {
              "outlinewidth": 0,
              "ticks": ""
             }
            },
            "type": "scattermapbox"
           }
          ],
          "scatterpolar": [
           {
            "marker": {
             "colorbar": {
              "outlinewidth": 0,
              "ticks": ""
             }
            },
            "type": "scatterpolar"
           }
          ],
          "scatterpolargl": [
           {
            "marker": {
             "colorbar": {
              "outlinewidth": 0,
              "ticks": ""
             }
            },
            "type": "scatterpolargl"
           }
          ],
          "scatterternary": [
           {
            "marker": {
             "colorbar": {
              "outlinewidth": 0,
              "ticks": ""
             }
            },
            "type": "scatterternary"
           }
          ],
          "surface": [
           {
            "colorbar": {
             "outlinewidth": 0,
             "ticks": ""
            },
            "colorscale": [
             [
              0,
              "#0d0887"
             ],
             [
              0.1111111111111111,
              "#46039f"
             ],
             [
              0.2222222222222222,
              "#7201a8"
             ],
             [
              0.3333333333333333,
              "#9c179e"
             ],
             [
              0.4444444444444444,
              "#bd3786"
             ],
             [
              0.5555555555555556,
              "#d8576b"
             ],
             [
              0.6666666666666666,
              "#ed7953"
             ],
             [
              0.7777777777777778,
              "#fb9f3a"
             ],
             [
              0.8888888888888888,
              "#fdca26"
             ],
             [
              1,
              "#f0f921"
             ]
            ],
            "type": "surface"
           }
          ],
          "table": [
           {
            "cells": {
             "fill": {
              "color": "#EBF0F8"
             },
             "line": {
              "color": "white"
             }
            },
            "header": {
             "fill": {
              "color": "#C8D4E3"
             },
             "line": {
              "color": "white"
             }
            },
            "type": "table"
           }
          ]
         },
         "layout": {
          "annotationdefaults": {
           "arrowcolor": "#2a3f5f",
           "arrowhead": 0,
           "arrowwidth": 1
          },
          "autotypenumbers": "strict",
          "coloraxis": {
           "colorbar": {
            "outlinewidth": 0,
            "ticks": ""
           }
          },
          "colorscale": {
           "diverging": [
            [
             0,
             "#8e0152"
            ],
            [
             0.1,
             "#c51b7d"
            ],
            [
             0.2,
             "#de77ae"
            ],
            [
             0.3,
             "#f1b6da"
            ],
            [
             0.4,
             "#fde0ef"
            ],
            [
             0.5,
             "#f7f7f7"
            ],
            [
             0.6,
             "#e6f5d0"
            ],
            [
             0.7,
             "#b8e186"
            ],
            [
             0.8,
             "#7fbc41"
            ],
            [
             0.9,
             "#4d9221"
            ],
            [
             1,
             "#276419"
            ]
           ],
           "sequential": [
            [
             0,
             "#0d0887"
            ],
            [
             0.1111111111111111,
             "#46039f"
            ],
            [
             0.2222222222222222,
             "#7201a8"
            ],
            [
             0.3333333333333333,
             "#9c179e"
            ],
            [
             0.4444444444444444,
             "#bd3786"
            ],
            [
             0.5555555555555556,
             "#d8576b"
            ],
            [
             0.6666666666666666,
             "#ed7953"
            ],
            [
             0.7777777777777778,
             "#fb9f3a"
            ],
            [
             0.8888888888888888,
             "#fdca26"
            ],
            [
             1,
             "#f0f921"
            ]
           ],
           "sequentialminus": [
            [
             0,
             "#0d0887"
            ],
            [
             0.1111111111111111,
             "#46039f"
            ],
            [
             0.2222222222222222,
             "#7201a8"
            ],
            [
             0.3333333333333333,
             "#9c179e"
            ],
            [
             0.4444444444444444,
             "#bd3786"
            ],
            [
             0.5555555555555556,
             "#d8576b"
            ],
            [
             0.6666666666666666,
             "#ed7953"
            ],
            [
             0.7777777777777778,
             "#fb9f3a"
            ],
            [
             0.8888888888888888,
             "#fdca26"
            ],
            [
             1,
             "#f0f921"
            ]
           ]
          },
          "colorway": [
           "#636efa",
           "#EF553B",
           "#00cc96",
           "#ab63fa",
           "#FFA15A",
           "#19d3f3",
           "#FF6692",
           "#B6E880",
           "#FF97FF",
           "#FECB52"
          ],
          "font": {
           "color": "#2a3f5f"
          },
          "geo": {
           "bgcolor": "white",
           "lakecolor": "white",
           "landcolor": "#E5ECF6",
           "showlakes": true,
           "showland": true,
           "subunitcolor": "white"
          },
          "hoverlabel": {
           "align": "left"
          },
          "hovermode": "closest",
          "mapbox": {
           "style": "light"
          },
          "paper_bgcolor": "white",
          "plot_bgcolor": "#E5ECF6",
          "polar": {
           "angularaxis": {
            "gridcolor": "white",
            "linecolor": "white",
            "ticks": ""
           },
           "bgcolor": "#E5ECF6",
           "radialaxis": {
            "gridcolor": "white",
            "linecolor": "white",
            "ticks": ""
           }
          },
          "scene": {
           "xaxis": {
            "backgroundcolor": "#E5ECF6",
            "gridcolor": "white",
            "gridwidth": 2,
            "linecolor": "white",
            "showbackground": true,
            "ticks": "",
            "zerolinecolor": "white"
           },
           "yaxis": {
            "backgroundcolor": "#E5ECF6",
            "gridcolor": "white",
            "gridwidth": 2,
            "linecolor": "white",
            "showbackground": true,
            "ticks": "",
            "zerolinecolor": "white"
           },
           "zaxis": {
            "backgroundcolor": "#E5ECF6",
            "gridcolor": "white",
            "gridwidth": 2,
            "linecolor": "white",
            "showbackground": true,
            "ticks": "",
            "zerolinecolor": "white"
           }
          },
          "shapedefaults": {
           "line": {
            "color": "#2a3f5f"
           }
          },
          "ternary": {
           "aaxis": {
            "gridcolor": "white",
            "linecolor": "white",
            "ticks": ""
           },
           "baxis": {
            "gridcolor": "white",
            "linecolor": "white",
            "ticks": ""
           },
           "bgcolor": "#E5ECF6",
           "caxis": {
            "gridcolor": "white",
            "linecolor": "white",
            "ticks": ""
           }
          },
          "title": {
           "x": 0.05
          },
          "xaxis": {
           "automargin": true,
           "gridcolor": "white",
           "linecolor": "white",
           "ticks": "",
           "title": {
            "standoff": 15
           },
           "zerolinecolor": "white",
           "zerolinewidth": 2
          },
          "yaxis": {
           "automargin": true,
           "gridcolor": "white",
           "linecolor": "white",
           "ticks": "",
           "title": {
            "standoff": 15
           },
           "zerolinecolor": "white",
           "zerolinewidth": 2
          }
         }
        },
        "title": {
         "text": "Relative Difference for Cumulative Average Purchase Size"
        },
        "width": 800,
        "xaxis": {
         "anchor": "y",
         "domain": [
          0,
          1
         ],
         "tickformat": "%d %b <br>%Y",
         "title": {
          "text": "date"
         }
        },
        "yaxis": {
         "anchor": "x",
         "domain": [
          0,
          1
         ],
         "title": {
          "text": "rel_diff_cum_avg_size"
         }
        }
       }
      }
     },
     "metadata": {},
     "output_type": "display_data"
    }
   ],
   "source": [
    "# plotting relative difference for the average purchase sizes\n",
    "fig = px.line(rel_diff_cum_avg_size,\n",
    "              x = rel_diff_cum_avg_size['date'],\n",
    "              y = rel_diff_cum_avg_size['rel_diff_cum_avg_size'],\n",
    "              title = 'Relative Difference for Cumulative Average Purchase Size')\n",
    "#adding reference line\n",
    "fig.add_hline(y = 0,\n",
    "              line_dash = 'dash',\n",
    "              line_color = 'purple')\n",
    "fig.update_layout(autosize = False, width = 800, height = 500, margin = dict(\n",
    "        l = 50, r = 50, b = 100, t = 100, pad = 4), paper_bgcolor = 'LightSteelBlue',\n",
    "                  xaxis_tickformat = '%d %b <br>%Y')\n",
    "fig.show()"
   ]
  },
  {
   "cell_type": "markdown",
   "metadata": {},
   "source": [
    "#### The plot is comparing the relative difference between two groups (A and B) over time in terms of their cumulative average purchase size.<br>\n",
    "\n",
    "> The x-axis represents the dates, ranging from 1st August 2019 to 30th August 2019.<br>\n",
    "> The y-axis represents the relative difference, with values ranging from approximately -0.4 to 0.4.<br>\n",
    "> There is a single blue line representing the relative difference over time.<br>\n",
    "> The horizontal dashed purple line represents the zero line, which serves as a reference point where the relative difference is zero.<br>\n",
    "\n",
    "#### Trends:<br>\n",
    "\n",
    "> At the beginning of the period, the relative difference starts below zero, indicating that the average purchase size for group A was lower than that for group B.<br>\n",
    "> The relative difference increases rapidly, crosses the zero line, and goes positive, indicating that at some point, the average purchase size for group A was higher than that for group B.<br>\n",
    "> The relative difference then shows fluctuations, going above and below the zero line, indicating changes in which group had a higher average purchase size.<br>\n",
    "> Around mid-August, there's a sharp increase in the relative difference, indicating a significant event that caused group B’s average purchase size to exceed group A’s substantially.<br>\n",
    "> Post mid-August, the relative difference remains positive but shows a gradual decrease, indicating that while group B maintained a higher average purchase size, the difference between the two groups started to diminish slightly towards the end of August.<br>\n",
    "\n",
    "#### Key Observations:<br>\n",
    "\n",
    "> The sharp increase around mid-August corresponds to the significant spike observed in the average purchase size plot for group B.<br>\n",
    "> The fluctuations around the zero line indicate a competitive interaction between the two groups' average purchase sizes before the mid-August spike.<br>\n",
    ">After the spike, group B consistently has a higher average purchase size than group A, as indicated by the relative difference staying positive.\n"
   ]
  },
  {
   "cell_type": "markdown",
   "metadata": {},
   "source": [
    "##### 8. Statistical Significance of difference in conversion."
   ]
  },
  {
   "cell_type": "code",
   "execution_count": 704,
   "metadata": {},
   "outputs": [],
   "source": [
    "# create the variables ordersByUsersA to store the columns ['userId', 'orders']\n",
    "ordersByUsersA = clean_orders[clean_orders['group'] == 'A'].groupby('visitorId', as_index = False).agg({'transactionId' : pd.Series.nunique})\n",
    "ordersByUsersA.columns = ['visitorId', 'transactions']\n",
    "# create the variables ordersByUsersB to store the columns ['userId', 'orders']\n",
    "ordersByUsersB = clean_orders[clean_orders['group'] == 'B'].groupby('visitorId', as_index = False).agg({'transactionId' : pd.Series.nunique})\n",
    "ordersByUsersB.columns = ['visitorId', 'transactions']"
   ]
  },
  {
   "cell_type": "code",
   "execution_count": 705,
   "metadata": {},
   "outputs": [
    {
     "name": "stdout",
     "output_type": "stream",
     "text": [
      "0.011\n",
      "0.160\n"
     ]
    }
   ],
   "source": [
    "# declare the variables sampleA and sampleB, with users from different groups and corresponding numbers of orders\n",
    "# used the np.arange() function to create a list of indices\n",
    "# pass the argument that specifies that Series objects are to be concatenated by row\n",
    "# using the mean() method, we'll find the mean for sampleA and sampleB\n",
    "sampleA = pd.concat([ordersByUsersA['transactions'],pd.Series(0, index = np.arange(visits[visits['group']=='A']['visits'].sum() - len(ordersByUsersA['transactions'])), name = 'transactions')],axis = 0)\n",
    "\n",
    "sampleB = pd.concat([ordersByUsersB['transactions'],pd.Series(0, index = np.arange(visits[visits['group']=='B']['visits'].sum() - len(ordersByUsersB['transactions'])), name = 'transactions')],axis = 0)\n",
    "\n",
    "print('{0:.3f}'.format(stats.mannwhitneyu(sampleA, sampleB)[1]))\n",
    "# print the relative conversion gain for group B\n",
    "print('{0:.3f}'.format(sampleB.mean() / sampleA.mean() - 1))"
   ]
  },
  {
   "cell_type": "markdown",
   "metadata": {},
   "source": [
    "##### p-value: 0.011:<br>\n",
    "\n",
    "> A p-value of 0.011 is relatively low. It indicates that there's only a 1.1% chance of observing such results if there truly were no underlying effects. This suggests we can reject the null hypothesis with a high degree of confidence (98.9%).<br>\n",
    "\n",
    "##### Relative Conversion Gain: 16%<br>\n",
    "\n",
    "> This indicates that Group B's conversion rate is 16% higher than Group A's conversion rate.<br>\n",
    "> This relative gain is substantial and suggests that whatever changes or interventions were applied to Group B had a positive impact on conversion rates compared to Group A."
   ]
  },
  {
   "cell_type": "markdown",
   "metadata": {},
   "source": [
    "##### 9. Statistical Significance of difference in average purchase size. "
   ]
  },
  {
   "cell_type": "code",
   "execution_count": 706,
   "metadata": {},
   "outputs": [
    {
     "name": "stdout",
     "output_type": "stream",
     "text": [
      "0.736\n",
      "0.278\n"
     ]
    }
   ],
   "source": [
    "# pass the data on revenue to the mannwhitneyu() criterion\n",
    "print('{0:.3f}'.format(stats.mannwhitneyu(clean_orders[clean_orders['group'] == 'A']['revenue'], orders[orders['group'] == 'B']['revenue'])[1]))\n",
    "print('{0:.3f}'.format(clean_orders[clean_orders['group']=='B']['revenue'].mean() / clean_orders[clean_orders['group'] == 'A']['revenue'].mean() - 1))"
   ]
  },
  {
   "cell_type": "markdown",
   "metadata": {},
   "source": [
    "##### P-value: 0.736<br>\n",
    "\n",
    "> This p-value is much greater than the typical significance level of 0.05.<br>\n",
    "> A high p-value indicates that there is no statistically significant difference in average order sizes between Group A and Group B.<br>\n",
    "> In other words, the observed difference in average order sizes is likely due to random chance, and we fail to reject the null hypothesis.<br>\n",
    "\n",
    "##### Relative Difference in Average Order Size: 27.8%<br>\n",
    "\n",
    "> This value suggests that the average order size for Group B is 27.8% higher than that for Group A.<br>\n",
    "> Although this seems like a substantial increase, it is not statistically significant according to the Mann-Whitney U test."
   ]
  },
  {
   "cell_type": "markdown",
   "metadata": {},
   "source": [
    "***"
   ]
  },
  {
   "cell_type": "markdown",
   "metadata": {},
   "source": [
    "##### Filtered Data without outliers on orders by user."
   ]
  },
  {
   "cell_type": "markdown",
   "metadata": {},
   "source": [
    "#### Since there is some anomalie in group A and group B, users with more than 2.56 orders in group A and users with 3 orders in group B, I will filter the data removing these outliers."
   ]
  },
  {
   "cell_type": "code",
   "execution_count": 707,
   "metadata": {},
   "outputs": [
    {
     "name": "stdout",
     "output_type": "stream",
     "text": [
      "33      249864742\n",
      "58      611059232\n",
      "211    2108163459\n",
      "347    2742574263\n",
      "310    2988190573\n",
      "409    3908431265\n",
      "416    3967698036\n",
      "Name: visitorId, dtype: int64\n",
      "(7,)\n"
     ]
    }
   ],
   "source": [
    "# find the total number of anomalous users using the shape() method\n",
    "outliers_users = pd.concat([ordersByUsersA[ordersByUsersA['transactions'] > 2.56]['visitorId'], ordersByUsersB[ordersByUsersB['transactions'] >= 3]['visitorId']], axis = 0)\n",
    "filtered_outliers_users = outliers_users.drop_duplicates().sort_values()\n",
    "print(filtered_outliers_users.head(10))\n",
    "print(filtered_outliers_users.shape)"
   ]
  },
  {
   "cell_type": "markdown",
   "metadata": {},
   "source": [
    "##### We found 7 users with some anomalie data on the orders that may jeopardize the analysis of usual behavior of users in general."
   ]
  },
  {
   "cell_type": "markdown",
   "metadata": {},
   "source": [
    "##### 10. Statistical significance of the differences in conversion between the groups, using filtered data."
   ]
  },
  {
   "cell_type": "code",
   "execution_count": 708,
   "metadata": {},
   "outputs": [],
   "source": [
    "# calculate the statistical significance of the differences in conversion for group A, using filtered data\n",
    "sampleAFiltered = pd.concat([ordersByUsersA[np.logical_not(ordersByUsersA['visitorId'].isin(filtered_outliers_users))]['transactions'],pd.Series(0, index = np.arange(visits[visits['group'] == 'A']['visits'].sum() - len(ordersByUsersA['transactions'])), name = 'transactions')], axis = 0)\n",
    "# calculate the statistical significance of the differences in conversion for group B, using filtered data\n",
    "sampleBFiltered = pd.concat([ordersByUsersB[np.logical_not(ordersByUsersB['visitorId'].isin(filtered_outliers_users))]['transactions'],pd.Series(0, index = np.arange(visits[visits['group'] == 'B']['visits'].sum() - len(ordersByUsersB['transactions'])), name = 'transactions')], axis = 0)"
   ]
  },
  {
   "cell_type": "code",
   "execution_count": 709,
   "metadata": {},
   "outputs": [
    {
     "name": "stdout",
     "output_type": "stream",
     "text": [
      "0.008\n",
      "0.185\n"
     ]
    }
   ],
   "source": [
    "# apply the statistical Mann-Whitney criterion to the resulting samples\n",
    "print('{0:.3f}'.format(stats.mannwhitneyu(sampleAFiltered, sampleBFiltered)[1]))\n",
    "print('{0:.3f}'.format(sampleBFiltered.mean() / sampleAFiltered.mean() - 1))"
   ]
  },
  {
   "cell_type": "markdown",
   "metadata": {},
   "source": [
    "##### P-value: 0.08<br>\n",
    "\n",
    "> A p-value of 0.08 indicates that the difference in conversion rates between Group A and Group B is not statistically significant at the 5% significance level.<br>\n",
    "> Since the p-value is greater than 0.05, we fail to reject the null hypothesis. This means we do not have strong enough evidence to claim that the conversion rates of the two groups are significantly different when outliers are filtered out.<br>\n",
    "\n",
    "##### Relative Conversion Gain: 18.5%<br>\n",
    "\n",
    "> This indicates that, even after filtering outliers, Group B's conversion rate is 18.5% higher than Group A's conversion rate.<br>\n",
    "> The practical significance is even higher than with the raw data, suggesting that the observed effect is robust and consistent even after removing outliers.<br>"
   ]
  },
  {
   "cell_type": "markdown",
   "metadata": {},
   "source": [
    "##### 11. Statistical Significance of difference in average purchase size, using filtered data. "
   ]
  },
  {
   "cell_type": "code",
   "execution_count": 710,
   "metadata": {},
   "outputs": [
    {
     "name": "stdout",
     "output_type": "stream",
     "text": [
      "0.749\n",
      "0.279\n"
     ]
    }
   ],
   "source": [
    "print('{0:.3f}'.format(stats.mannwhitneyu(\n",
    "    clean_orders[np.logical_and(\n",
    "        clean_orders['group'] == 'A',\n",
    "        np.logical_not(clean_orders['visitorId'].isin(filtered_outliers_users)))]['revenue'],\n",
    "    clean_orders[np.logical_and(\n",
    "        clean_orders['group'] == 'B',\n",
    "        np.logical_not(clean_orders['visitorId'].isin(filtered_outliers_users)))]['revenue'])[1]))\n",
    "\n",
    "print('{0:.3f}'.format(\n",
    "    clean_orders[np.logical_and(clean_orders['group'] == 'B',np.logical_not(clean_orders['visitorId'].isin(filtered_outliers_users)))]['revenue'].mean() / \n",
    "    clean_orders[np.logical_and(\n",
    "        clean_orders['group'] == 'A',\n",
    "        np.logical_not(clean_orders['visitorId'].isin(filtered_outliers_users)))]['revenue'].mean() - 1))"
   ]
  },
  {
   "cell_type": "markdown",
   "metadata": {},
   "source": [
    "##### The p-value: 0.749<br>\n",
    "\n",
    "> After filtering out outliers, indicates no statistically significant difference between the groups. The slight increase in the p-value further confirms the lack of a significant difference.<br>\n",
    "\n",
    "> Conclusion: Both p-values are well above the common significance threshold of 0.05, meaning we fail to reject the null hypothesis in both cases. The filtering of outliers does not significantly change the conclusion regarding the statistical significance.\n",
    "\n",
    "##### The relative conversion gain: 0.279<br> \n",
    "\n",
    "> After filtering out outliers suggests a similar difference, with Group B having an average purchase size that is 27.9% higher than Group A.<br>\n",
    "\n",
    "> Conclusion: The relative conversion gain is nearly identical before and after filtering outliers, indicating that the outliers had a minimal impact on the average purchase size difference between the groups.<br>\n",
    "> The analysis shows consistent findings before and after filtering outliers. Both p-values are high, indicating no statistical significance, and the relative conversion gains are similar, indicating a practical difference in average purchase size.<br>\n",
    "> Filtering outliers did not materially change the results, suggesting that the outliers were not significantly skewing the data.<br>\n",
    "\n"
   ]
  },
  {
   "cell_type": "markdown",
   "metadata": {},
   "source": [
    "***"
   ]
  },
  {
   "cell_type": "markdown",
   "metadata": {},
   "source": [
    "### Final Conclusion:<br>\n",
    "\n",
    "### Recommendation<br>\n",
    "\n",
    "### Option 3: Continue the test.<br>\n",
    "\n",
    "> Statistical Significance: The current p-values suggest no significant difference, but the practical differences observed warrant further investigation.<br>\n",
    "> Practical Significance: Group B shows higher average order sizes and a significant revenue spike, indicating potential for better performance.<br>\n",
    "\n",
    "> Consistency and Trends: Group B's more stable order behavior and significant events around mid-August need further exploration to confirm their long-term impact.<br>\n",
    "\n",
    "> Extended Monitoring: Continue collecting data to see if trends persist or if the observed differences become statistically significant.<br>\n",
    "\n",
    "> By continuing the test, we can make a more informed decision with greater confidence in the results, considering both statistical and practical implications."
   ]
  },
  {
   "cell_type": "markdown",
   "metadata": {},
   "source": [
    "***"
   ]
  },
  {
   "cell_type": "markdown",
   "metadata": {},
   "source": [
    "## END OF PROJECT"
   ]
  }
 ],
 "metadata": {
  "kernelspec": {
   "display_name": "base",
   "language": "python",
   "name": "python3"
  },
  "language_info": {
   "codemirror_mode": {
    "name": "ipython",
    "version": 3
   },
   "file_extension": ".py",
   "mimetype": "text/x-python",
   "name": "python",
   "nbconvert_exporter": "python",
   "pygments_lexer": "ipython3",
   "version": "3.11.7"
  }
 },
 "nbformat": 4,
 "nbformat_minor": 2
}
